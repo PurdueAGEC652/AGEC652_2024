{
 "cells": [
  {
   "cell_type": "code",
   "execution_count": 1,
   "id": "0c182d8b",
   "metadata": {},
   "outputs": [],
   "source": [
    "import IJulia\n",
    "\n",
    "# The julia kernel has built in support for Revise.jl, so this is the \n",
    "# recommended approach for long-running sessions:\n",
    "# https://github.com/JuliaLang/IJulia.jl/blob/9b10fa9b879574bbf720f5285029e07758e50a5e/src/kernel.jl#L46-L51\n",
    "\n",
    "# Users should enable revise within .julia/config/startup_ijulia.jl:\n",
    "# https://timholy.github.io/Revise.jl/stable/config/#Using-Revise-automatically-within-Jupyter/IJulia-1\n",
    "\n",
    "# clear console history\n",
    "IJulia.clear_history()\n",
    "\n",
    "fig_width = 8\n",
    "fig_height = 4\n",
    "fig_format = :retina\n",
    "fig_dpi = 96\n",
    "\n",
    "# no retina format type, use svg for high quality type/marks\n",
    "if fig_format == :retina\n",
    "  fig_format = :svg\n",
    "elseif fig_format == :pdf\n",
    "  fig_dpi = 96\n",
    "  # Enable PDF support for IJulia\n",
    "  IJulia.register_mime(MIME(\"application/pdf\"))\n",
    "end\n",
    "\n",
    "# convert inches to pixels\n",
    "fig_width = fig_width * fig_dpi\n",
    "fig_height = fig_height * fig_dpi\n",
    "\n",
    "# Intialize Plots w/ default fig width/height\n",
    "try\n",
    "  import Plots\n",
    "\n",
    "  # Plots.jl doesn't support PDF output for versions < 1.28.1\n",
    "  # so use png (if the DPI remains the default of 300 then set to 96)\n",
    "  if (Plots._current_plots_version < v\"1.28.1\") & (fig_format == :pdf)\n",
    "    Plots.gr(size=(fig_width, fig_height), fmt = :png, dpi = fig_dpi)\n",
    "  else\n",
    "    Plots.gr(size=(fig_width, fig_height), fmt = fig_format, dpi = fig_dpi)\n",
    "  end\n",
    "catch e\n",
    "  # @warn \"Plots init\" exception=(e, catch_backtrace())\n",
    "end\n",
    "\n",
    "# Initialize CairoMakie with default fig width/height\n",
    "try\n",
    "  import CairoMakie\n",
    "  \n",
    "  CairoMakie.activate!(type = string(fig_format))\n",
    "  CairoMakie.update_theme!(resolution=(fig_width, fig_height))\n",
    "catch e\n",
    "    # @warn \"CairoMakie init\" exception=(e, catch_backtrace())\n",
    "end\n",
    "  \n",
    "# Set run_path if specified\n",
    "try\n",
    "  run_path = raw\"/home/diego/local_repos/AGEC652_2024/slides/lecture_4_4\"\n",
    "  if !isempty(run_path)\n",
    "    cd(run_path)\n",
    "  end\n",
    "catch e\n",
    "  @warn \"Run path init:\" exception=(e, catch_backtrace())\n",
    "end\n",
    "\n",
    "\n",
    "# emulate old Pkg.installed beahvior, see\n",
    "# https://discourse.julialang.org/t/how-to-use-pkg-dependencies-instead-of-pkg-installed/36416/9\n",
    "import Pkg\n",
    "function isinstalled(pkg::String)\n",
    "  any(x -> x.name == pkg && x.is_direct_dep, values(Pkg.dependencies()))\n",
    "end\n",
    "\n",
    "# ojs_define\n",
    "if isinstalled(\"JSON\") && isinstalled(\"DataFrames\")\n",
    "  import JSON, DataFrames\n",
    "  global function ojs_define(; kwargs...)\n",
    "    convert(x) = x\n",
    "    convert(x::DataFrames.AbstractDataFrame) = Tables.rows(x)\n",
    "    content = Dict(\"contents\" => [Dict(\"name\" => k, \"value\" => convert(v)) for (k, v) in kwargs])\n",
    "    tag = \"<script type='ojs-define'>$(JSON.json(content))</script>\"\n",
    "    IJulia.display(MIME(\"text/html\"), tag)\n",
    "  end\n",
    "elseif isinstalled(\"JSON\")\n",
    "  import JSON\n",
    "  global function ojs_define(; kwargs...)\n",
    "    content = Dict(\"contents\" => [Dict(\"name\" => k, \"value\" => v) for (k, v) in kwargs])\n",
    "    tag = \"<script type='ojs-define'>$(JSON.json(content))</script>\"\n",
    "    IJulia.display(MIME(\"text/html\"), tag)\n",
    "  end\n",
    "else\n",
    "  global function ojs_define(; kwargs...)\n",
    "    @warn \"JSON package not available. Please install the JSON.jl package to use ojs_define.\"\n",
    "  end\n",
    "end\n",
    "\n",
    "\n",
    "# don't return kernel dependencies (b/c Revise should take care of dependencies)\n",
    "nothing\n"
   ]
  },
  {
   "cell_type": "code",
   "execution_count": 2,
   "id": "b5831ab2",
   "metadata": {},
   "outputs": [
    {
     "name": "stderr",
     "output_type": "stream",
     "text": [
      "\u001b[32m\u001b[1m  Activating\u001b[22m\u001b[39m project at `~/local_repos/AGEC652_2024/slides/lecture_4_4`\n"
     ]
    }
   ],
   "source": [
    "#| include: false\n",
    "using Pkg\n",
    "Pkg.activate(\".\")\n",
    "Pkg.instantiate()\n",
    "#Pkg.add(\"JuMP\")\n",
    "#Pkg.add(\"Ipopt\")"
   ]
  },
  {
   "cell_type": "code",
   "execution_count": 3,
   "id": "ceb32d15",
   "metadata": {},
   "outputs": [],
   "source": [
    "using JuMP, Ipopt;"
   ]
  },
  {
   "cell_type": "code",
   "execution_count": 4,
   "id": "e5fe29aa",
   "metadata": {},
   "outputs": [],
   "source": [
    "f(x_1,x_2) = -exp(-(x_1*x_2 - 3/2)^2 - (x_2-3/2)^2);"
   ]
  },
  {
   "cell_type": "code",
   "execution_count": 5,
   "id": "e1d67d19",
   "metadata": {},
   "outputs": [
    {
     "data": {
      "text/plain": [
       "A JuMP Model\n",
       "Feasibility problem with:\n",
       "Variables: 0\n",
       "Model mode: AUTOMATIC\n",
       "CachingOptimizer state: EMPTY_OPTIMIZER\n",
       "Solver name: Ipopt"
      ]
     },
     "execution_count": 5,
     "metadata": {},
     "output_type": "execute_result"
    }
   ],
   "source": [
    "my_first_model = Model(Ipopt.Optimizer)"
   ]
  },
  {
   "cell_type": "code",
   "execution_count": 6,
   "id": "c5749519",
   "metadata": {},
   "outputs": [],
   "source": [
    "# This is relative tol. Default is 1e-8\n",
    "set_optimizer_attribute(my_first_model, \"tol\", 1e-9) "
   ]
  },
  {
   "cell_type": "code",
   "execution_count": 7,
   "id": "19f31341",
   "metadata": {},
   "outputs": [
    {
     "data": {
      "text/latex": [
       "$ x\\_1 $"
      ],
      "text/plain": [
       "x_1"
      ]
     },
     "execution_count": 7,
     "metadata": {},
     "output_type": "execute_result"
    }
   ],
   "source": [
    "#| output: true\n",
    "@variable(my_first_model, x_1 >=0)"
   ]
  },
  {
   "cell_type": "code",
   "execution_count": 8,
   "id": "ffaffe3b",
   "metadata": {},
   "outputs": [
    {
     "data": {
      "text/latex": [
       "$ x\\_2 $"
      ],
      "text/plain": [
       "x_2"
      ]
     },
     "execution_count": 8,
     "metadata": {},
     "output_type": "execute_result"
    }
   ],
   "source": [
    "#| output: true\n",
    "@variable(my_first_model, x_2 >=0)"
   ]
  },
  {
   "cell_type": "code",
   "execution_count": 9,
   "id": "20d9ecba",
   "metadata": {},
   "outputs": [
    {
     "data": {
      "text/latex": [
       "$ \\textsf{-}\\left({\\textsf{exp}\\left({{\\textsf{-}\\left({{\\left(x\\_1\\times x\\_2 - 1.5\\right)} ^ {2.0}}\\right)} - {\\left(x\\_2^2 - 3 x\\_2 + 2.25\\right)}}\\right)}\\right) $"
      ],
      "text/plain": [
       "-(exp(-((x_1*x_2 - 1.5) ^ 2.0) - (x_2² - 3 x_2 + 2.25)))"
      ]
     },
     "execution_count": 9,
     "metadata": {},
     "output_type": "execute_result"
    }
   ],
   "source": [
    "@objective(my_first_model, Min, f(x_1,x_2))"
   ]
  },
  {
   "cell_type": "code",
   "execution_count": 10,
   "id": "e0c91c7e",
   "metadata": {},
   "outputs": [
    {
     "data": {
      "text/latex": [
       "$$ \\begin{aligned}\n",
       "\\min\\quad & \\textsf{-}\\left({\\textsf{exp}\\left({{\\textsf{-}\\left({{\\left(x\\_1\\times x\\_2 - 1.5\\right)} ^ {2.0}}\\right)} - {\\left(x\\_2^2 - 3 x\\_2 + 2.25\\right)}}\\right)}\\right)\\\\\n",
       "\\text{Subject to} \\quad & x\\_1 \\geq 0\\\\\n",
       " & x\\_2 \\geq 0\\\\\n",
       "\\end{aligned} $$"
      ]
     },
     "metadata": {},
     "output_type": "display_data"
    }
   ],
   "source": [
    "print(my_first_model)"
   ]
  },
  {
   "cell_type": "code",
   "execution_count": 11,
   "id": "c433b652",
   "metadata": {},
   "outputs": [
    {
     "name": "stdout",
     "output_type": "stream",
     "text": [
      "\n",
      "******************************************************************************\n",
      "This program contains Ipopt, a library for large-scale nonlinear optimization.\n",
      " Ipopt is released as open source code under the Eclipse Public License (EPL).\n",
      "         For more information visit https://github.com/coin-or/Ipopt\n",
      "******************************************************************************\n",
      "\n",
      "This is Ipopt version 3.14.14, running with linear solver MUMPS 5.6.2.\n",
      "\n",
      "Number of nonzeros in equality constraint Jacobian...:        0\n",
      "Number of nonzeros in inequality constraint Jacobian.:        0\n",
      "Number of nonzeros in Lagrangian Hessian.............:        3\n",
      "\n",
      "Total number of variables............................:        2\n",
      "                     variables with only lower bounds:        2\n",
      "                variables with lower and upper bounds:        0\n",
      "                     variables with only upper bounds:        0\n",
      "Total number of equality constraints.................:        0\n",
      "Total number of inequality constraints...............:        0\n",
      "        inequality constraints with only lower bounds:        0\n",
      "   inequality constraints with lower and upper bounds:        0\n",
      "        inequality constraints with only upper bounds:        0\n",
      "\n",
      "iter    objective    inf_pr   inf_du lg(mu)  ||d||  lg(rg) alpha_du alpha_pr  ls\n",
      "   0 -1.1449605e-02 0.00e+00 1.03e+00  -1.0 0.00e+00    -  0.00e+00 0.00e+00   0\n",
      "   1 -1.5851349e-02 0.00e+00 5.92e-02  -1.0 1.00e-01    -  9.46e-01 1.00e+00f  1\n",
      "   2 -2.0400403e-02 0.00e+00 8.01e-02  -2.5 7.88e-02   0.0 1.00e+00 1.00e+00f  1\n",
      "   3 -5.7955817e-02 0.00e+00 1.59e-01  -2.5 3.13e-01  -0.5 5.40e-01 1.00e+00f  1\n",
      "   4 -3.2486363e-01 0.00e+00 6.94e-01  -2.5 4.79e-01  -0.1 9.28e-01 1.00e+00f  1\n",
      "   5 -9.8805653e-01 0.00e+00 3.06e-01  -2.5 1.76e+00   0.4 4.46e-01 2.50e-01f  3\n",
      "   6 -9.9994167e-01 0.00e+00 1.94e-02  -2.5 7.65e-02    -  1.00e+00 1.00e+00f  1\n",
      "   7 -1.0000000e+00 0.00e+00 6.69e-05  -3.8 6.16e-03    -  1.00e+00 1.00e+00f  1\n",
      "   8 -1.0000000e+00 0.00e+00 1.83e-09  -5.7 4.81e-05    -  1.00e+00 1.00e+00f  1\n",
      "   9 -1.0000000e+00 0.00e+00 4.78e-13  -8.6 4.09e-07    -  1.00e+00 1.00e+00f  1\n",
      "iter    objective    inf_pr   inf_du lg(mu)  ||d||  lg(rg) alpha_du alpha_pr  ls\n",
      "  10 -1.0000000e+00 0.00e+00 1.65e-15 -10.0 5.37e-10    -  1.00e+00 1.00e+00f  1\n",
      "\n",
      "Number of Iterations....: 10\n",
      "\n",
      "                                   (scaled)                 (unscaled)\n",
      "Objective...............:  -9.9999999999999956e-01   -9.9999999999999956e-01\n",
      "Dual infeasibility......:   1.6498229875971990e-15    1.6498229875971990e-15\n",
      "Constraint violation....:   0.0000000000000000e+00    0.0000000000000000e+00\n",
      "Variable bound violation:   0.0000000000000000e+00    0.0000000000000000e+00\n",
      "Complementarity.........:   9.0909092205937359e-11    9.0909092205937359e-11\n",
      "Overall NLP error.......:   9.0909092205937359e-11    9.0909092205937359e-11\n",
      "\n",
      "\n",
      "Number of objective function evaluations             = 17\n",
      "Number of objective gradient evaluations             = 11\n",
      "Number of equality constraint evaluations            = 0\n",
      "Number of inequality constraint evaluations          = 0\n",
      "Number of equality constraint Jacobian evaluations   = 0\n",
      "Number of inequality constraint Jacobian evaluations = 0\n",
      "Number of Lagrangian Hessian evaluations             = 10\n",
      "Total seconds in IPOPT                               = 0.006\n",
      "\n",
      "EXIT: Optimal Solution Found.\n"
     ]
    }
   ],
   "source": [
    "optimize!(my_first_model)"
   ]
  },
  {
   "cell_type": "code",
   "execution_count": 12,
   "id": "88bdf347",
   "metadata": {},
   "outputs": [],
   "source": [
    "set_silent(my_first_model);"
   ]
  },
  {
   "cell_type": "code",
   "execution_count": 13,
   "id": "3a4b31a9",
   "metadata": {},
   "outputs": [],
   "source": [
    "#|include: false\n",
    "optimize!(my_first_model);"
   ]
  },
  {
   "cell_type": "code",
   "execution_count": 14,
   "id": "9de30eff",
   "metadata": {},
   "outputs": [
    {
     "data": {
      "text/plain": [
       "1.000000000020202"
      ]
     },
     "execution_count": 14,
     "metadata": {},
     "output_type": "execute_result"
    }
   ],
   "source": [
    "unc_x_1 = value(x_1)"
   ]
  },
  {
   "cell_type": "code",
   "execution_count": 15,
   "id": "459a567f",
   "metadata": {},
   "outputs": [
    {
     "data": {
      "text/plain": [
       "1.4999999999999996"
      ]
     },
     "execution_count": 15,
     "metadata": {},
     "output_type": "execute_result"
    }
   ],
   "source": [
    "unc_x_2 = value(x_2)"
   ]
  },
  {
   "cell_type": "code",
   "execution_count": 16,
   "id": "8da2056e",
   "metadata": {},
   "outputs": [
    {
     "data": {
      "text/plain": [
       "-0.9999999999999996"
      ]
     },
     "execution_count": 16,
     "metadata": {},
     "output_type": "execute_result"
    }
   ],
   "source": [
    "unc_obj = objective_value(my_first_model)"
   ]
  },
  {
   "cell_type": "code",
   "execution_count": 17,
   "id": "db6041b0",
   "metadata": {},
   "outputs": [],
   "source": [
    "#| output: asis\n",
    "my_model_eqcon = Model(Ipopt.Optimizer);\n",
    "@variable(my_model_eqcon, x_1 >=0, start = 1.0);\n",
    "@variable(my_model_eqcon, x_2 >=0, start = 1.0);\n",
    "@objective(my_model_eqcon, Min, f(x_1, x_2));\n",
    "@constraint(my_model_eqcon, -x_1 + x_2^2 == 0);"
   ]
  },
  {
   "cell_type": "code",
   "execution_count": 18,
   "id": "0ece9f9a",
   "metadata": {},
   "outputs": [
    {
     "data": {
      "text/latex": [
       "$$ \\begin{aligned}\n",
       "\\min\\quad & \\textsf{-}\\left({\\textsf{exp}\\left({{\\textsf{-}\\left({{\\left(x\\_1\\times x\\_2 - 1.5\\right)} ^ {2.0}}\\right)} - {\\left(x\\_2^2 - 3 x\\_2 + 2.25\\right)}}\\right)}\\right)\\\\\n",
       "\\text{Subject to} \\quad & x\\_2^2 - x\\_1 = 0\\\\\n",
       " & x\\_1 \\geq 0\\\\\n",
       " & x\\_2 \\geq 0\\\\\n",
       "\\end{aligned} $$"
      ]
     },
     "metadata": {},
     "output_type": "display_data"
    }
   ],
   "source": [
    "#| output: asis\n",
    "print(my_model_eqcon)"
   ]
  },
  {
   "cell_type": "code",
   "execution_count": 19,
   "id": "2bb113eb",
   "metadata": {},
   "outputs": [
    {
     "name": "stdout",
     "output_type": "stream",
     "text": [
      "This is Ipopt version 3.14.14, running with linear solver MUMPS 5.6.2.\n",
      "\n",
      "Number of nonzeros in equality constraint Jacobian...:        2\n",
      "Number of nonzeros in inequality constraint Jacobian.:        0\n",
      "Number of nonzeros in Lagrangian Hessian.............:        4\n",
      "\n",
      "Total number of variables............................:        2\n",
      "                     variables with only lower bounds:        2\n",
      "                variables with lower and upper bounds:        0\n",
      "                     variables with only upper bounds:        0\n",
      "Total number of equality constraints.................:        1\n",
      "Total number of inequality constraints...............:        0\n",
      "        inequality constraints with only lower bounds:        0\n",
      "   inequality constraints with lower and upper bounds:        0\n",
      "        inequality constraints with only upper bounds:        0\n",
      "\n",
      "iter    objective    inf_pr   inf_du lg(mu)  ||d||  lg(rg) alpha_du alpha_pr  ls\n",
      "   0 -6.0653066e-01 0.00e+00 2.17e+00  -1.0 0.00e+00    -  0.00e+00 0.00e+00   0\n",
      "   1 -8.6248277e-01 4.95e-02 1.17e+00  -1.0 8.90e-01    -  5.53e-01 5.00e-01f  2\n",
      "   2 -8.8715068e-01 2.30e-03 3.89e-02  -1.0 6.78e-02    -  1.00e+00 1.00e+00h  1\n",
      "   3 -8.8798525e-01 7.75e-05 1.92e-03  -2.5 1.84e-02    -  1.00e+00 1.00e+00h  1\n",
      "   4 -8.8797477e-01 1.72e-07 4.56e-06  -3.8 8.88e-04    -  1.00e+00 1.00e+00h  1\n",
      "   5 -8.8797474e-01 1.52e-10 4.25e-09  -5.7 2.85e-05    -  1.00e+00 1.00e+00h  1\n",
      "   6 -8.8797474e-01 2.18e-14 5.90e-13  -8.6 3.44e-07    -  1.00e+00 1.00e+00h  1\n",
      "\n",
      "Number of Iterations....: 6\n",
      "\n",
      "                                   (scaled)                 (unscaled)\n",
      "Objective...............:  -8.8797474226644857e-01   -8.8797474226644857e-01\n",
      "Dual infeasibility......:   5.8984122094381903e-13    5.8984122094381903e-13\n",
      "Constraint violation....:   2.1760371282653068e-14    2.1760371282653068e-14\n",
      "Variable bound violation:   0.0000000000000000e+00    0.0000000000000000e+00\n",
      "Complementarity.........:   2.5063705829537176e-09    2.5063705829537176e-09\n",
      "Overall NLP error.......:   2.5063705829537176e-09    2.5063705829537176e-09\n",
      "\n",
      "\n",
      "Number of objective function evaluations             = 12\n",
      "Number of objective gradient evaluations             = 7\n",
      "Number of equality constraint evaluations            = 12\n",
      "Number of inequality constraint evaluations          = 0\n",
      "Number of equality constraint Jacobian evaluations   = 7\n",
      "Number of inequality constraint Jacobian evaluations = 0\n",
      "Number of Lagrangian Hessian evaluations             = 6\n",
      "Total seconds in IPOPT                               = 0.002\n",
      "\n",
      "EXIT: Optimal Solution Found.\n"
     ]
    }
   ],
   "source": [
    "#| output: asis\n",
    "optimize!(my_model_eqcon)"
   ]
  },
  {
   "cell_type": "code",
   "execution_count": 20,
   "id": "250a8abf",
   "metadata": {},
   "outputs": [
    {
     "data": {
      "text/plain": [
       "1.3578043159950384"
      ]
     },
     "execution_count": 20,
     "metadata": {},
     "output_type": "execute_result"
    }
   ],
   "source": [
    "eqcon_x_1 = value(x_1)"
   ]
  },
  {
   "cell_type": "code",
   "execution_count": 21,
   "id": "3997570d",
   "metadata": {},
   "outputs": [
    {
     "data": {
      "text/plain": [
       "1.1652486069483456"
      ]
     },
     "execution_count": 21,
     "metadata": {},
     "output_type": "execute_result"
    }
   ],
   "source": [
    "eqcon_x_2 = value(x_2)"
   ]
  },
  {
   "cell_type": "code",
   "execution_count": 22,
   "id": "0434a496",
   "metadata": {},
   "outputs": [
    {
     "data": {
      "text/plain": [
       "2.1760371282653068e-14"
      ]
     },
     "execution_count": 22,
     "metadata": {},
     "output_type": "execute_result"
    }
   ],
   "source": [
    "value(-x_1 + x_2^2) # We can evaluate expressions too"
   ]
  },
  {
   "cell_type": "code",
   "execution_count": 23,
   "id": "04a31277",
   "metadata": {},
   "outputs": [
    {
     "data": {
      "text/plain": [
       "-0.8879747422664486"
      ]
     },
     "execution_count": 23,
     "metadata": {},
     "output_type": "execute_result"
    }
   ],
   "source": [
    "eqcon_obj = objective_value(my_model_eqcon)"
   ]
  },
  {
   "cell_type": "code",
   "execution_count": 24,
   "id": "991442d0",
   "metadata": {},
   "outputs": [
    {
     "name": "stdout",
     "output_type": "stream",
     "text": [
      "This is Ipopt version 3.14.14, running with linear solver MUMPS 5.6.2.\n",
      "\n",
      "Number of nonzeros in equality constraint Jacobian...:        0\n",
      "Number of nonzeros in inequality constraint Jacobian.:        2\n",
      "Number of nonzeros in Lagrangian Hessian.............:        4\n",
      "\n",
      "Total number of variables............................:        2\n",
      "                     variables with only lower bounds:        2\n",
      "                variables with lower and upper bounds:        0\n",
      "                     variables with only upper bounds:        0\n",
      "Total number of equality constraints.................:        0\n",
      "Total number of inequality constraints...............:        1\n",
      "        inequality constraints with only lower bounds:        0\n",
      "   inequality constraints with lower and upper bounds:        0\n",
      "        inequality constraints with only upper bounds:        1\n",
      "\n",
      "iter    objective    inf_pr   inf_du lg(mu)  ||d||  lg(rg) alpha_du alpha_pr  ls\n",
      "   0 -1.1449605e-02 0.00e+00 1.03e+00  -1.0 0.00e+00    -  0.00e+00 0.00e+00   0\n",
      "   1 -1.5854730e-02 0.00e+00 1.19e-01  -1.0 1.01e-01    -  8.94e-01 1.00e+00f  1\n",
      "   2 -2.3961281e-02 0.00e+00 9.81e-02  -2.5 1.23e-01    -  5.75e-01 1.00e+00h  1\n",
      "   3 -3.5003934e-02 0.00e+00 1.02e-01  -2.5 1.08e-01   0.0 1.00e+00 1.00e+00h  1\n",
      "   4 -9.4823477e-01 9.72e-01 5.53e-01  -2.5 2.08e+00  -0.5 1.55e-01 5.00e-01f  2\n",
      "   5 -9.6090312e-01 8.92e-01 4.52e-01  -2.5 6.55e-01    -  1.00e+00 1.83e-01h  1\n",
      "   6 -8.8648990e-01 2.74e-02 2.41e-01  -2.5 3.17e-01    -  1.00e+00 1.00e+00h  1\n",
      "   7 -8.8504642e-01 0.00e+00 1.42e-02  -2.5 6.45e-02    -  1.00e+00 1.00e+00h  1\n",
      "   8 -8.8775756e-01 0.00e+00 1.15e-04  -3.8 1.59e-02    -  1.00e+00 1.00e+00h  1\n",
      "   9 -8.8797273e-01 0.00e+00 4.64e-07  -5.7 1.28e-03    -  1.00e+00 1.00e+00h  1\n",
      "iter    objective    inf_pr   inf_du lg(mu)  ||d||  lg(rg) alpha_du alpha_pr  ls\n",
      "  10 -8.8797474e-01 0.00e+00 4.40e-11  -8.6 1.19e-05    -  1.00e+00 1.00e+00h  1\n",
      "\n",
      "Number of Iterations....: 10\n",
      "\n",
      "                                   (scaled)                 (unscaled)\n",
      "Objective...............:  -8.8797474144904420e-01   -8.8797474144904420e-01\n",
      "Dual infeasibility......:   4.4034561945229721e-11    4.4034561945229721e-11\n",
      "Constraint violation....:   0.0000000000000000e+00    0.0000000000000000e+00\n",
      "Variable bound violation:   0.0000000000000000e+00    0.0000000000000000e+00\n",
      "Complementarity.........:   2.5196089194342299e-09    2.5196089194342299e-09\n",
      "Overall NLP error.......:   2.5196089194342299e-09    2.5196089194342299e-09\n",
      "\n",
      "\n",
      "Number of objective function evaluations             = 14\n",
      "Number of objective gradient evaluations             = 11\n",
      "Number of equality constraint evaluations            = 0\n",
      "Number of inequality constraint evaluations          = 14\n",
      "Number of equality constraint Jacobian evaluations   = 0\n",
      "Number of inequality constraint Jacobian evaluations = 11\n",
      "Number of Lagrangian Hessian evaluations             = 10\n",
      "Total seconds in IPOPT                               = 0.003\n",
      "\n",
      "EXIT: Optimal Solution Found.\n"
     ]
    }
   ],
   "source": [
    "my_model_ineqcon = Model(Ipopt.Optimizer);\n",
    "@variable(my_model_ineqcon, x_1 >=0);\n",
    "@variable(my_model_ineqcon, x_2 >=0);\n",
    "@objective(my_model_ineqcon, Min, f(x_1, x_2));\n",
    "@constraint(my_model_ineqcon, -x_1 + x_2^2 <= 0);\n",
    "optimize!(my_model_ineqcon);"
   ]
  },
  {
   "cell_type": "code",
   "execution_count": 25,
   "id": "852e228e",
   "metadata": {},
   "outputs": [
    {
     "data": {
      "text/plain": [
       "1.3578043178154473"
      ]
     },
     "execution_count": 25,
     "metadata": {},
     "output_type": "execute_result"
    }
   ],
   "source": [
    "ineqcon_x_1 = value(x_1)"
   ]
  },
  {
   "cell_type": "code",
   "execution_count": 26,
   "id": "f3fb72dd",
   "metadata": {},
   "outputs": [
    {
     "data": {
      "text/plain": [
       "1.1652486056670581"
      ]
     },
     "execution_count": 26,
     "metadata": {},
     "output_type": "execute_result"
    }
   ],
   "source": [
    "ineqcon_x_2 = value(x_2)"
   ]
  },
  {
   "cell_type": "code",
   "execution_count": 27,
   "id": "d55603e6",
   "metadata": {},
   "outputs": [
    {
     "data": {
      "text/plain": [
       "-0.8879747414490442"
      ]
     },
     "execution_count": 27,
     "metadata": {},
     "output_type": "execute_result"
    }
   ],
   "source": [
    "ineqcon_obj = objective_value(my_model_ineqcon)"
   ]
  },
  {
   "cell_type": "code",
   "execution_count": 28,
   "id": "8287fe34",
   "metadata": {},
   "outputs": [
    {
     "name": "stdout",
     "output_type": "stream",
     "text": [
      "This is Ipopt version 3.14.14, running with linear solver MUMPS 5.6.2.\n",
      "\n",
      "Number of nonzeros in equality constraint Jacobian...:        0\n",
      "Number of nonzeros in inequality constraint Jacobian.:        2\n",
      "Number of nonzeros in Lagrangian Hessian.............:        4\n",
      "\n",
      "Total number of variables............................:        2\n",
      "                     variables with only lower bounds:        2\n",
      "                variables with lower and upper bounds:        0\n",
      "                     variables with only upper bounds:        0\n",
      "Total number of equality constraints.................:        0\n",
      "Total number of inequality constraints...............:        1\n",
      "        inequality constraints with only lower bounds:        0\n",
      "   inequality constraints with lower and upper bounds:        0\n",
      "        inequality constraints with only upper bounds:        1\n",
      "\n",
      "iter    objective    inf_pr   inf_du lg(mu)  ||d||  lg(rg) alpha_du alpha_pr  ls\n",
      "   0 -1.1449605e-02 0.00e+00 1.03e+00  -1.0 0.00e+00    -  0.00e+00 0.00e+00   0\n",
      "   1 -1.5850397e-02 0.00e+00 5.90e-02  -1.0 1.00e-01    -  9.48e-01 1.00e+00f  1\n",
      "   2 -2.0385980e-02 0.00e+00 7.93e-02  -2.5 7.82e-02   0.0 1.00e+00 1.00e+00h  1\n",
      "   3 -5.7025390e-02 0.00e+00 1.59e-01  -2.5 3.10e-01  -0.5 5.44e-01 1.00e+00h  1\n",
      "   4 -2.5193623e-01 0.00e+00 5.01e-01  -2.5 3.49e-01  -0.1 7.98e-01 1.00e+00h  1\n",
      "   5 -8.9618378e-01 0.00e+00 1.57e+00  -2.5 7.27e-01   0.4 1.00e+00 1.00e+00f  1\n",
      "   6 -9.6541187e-01 1.22e-01 6.65e-01  -2.5 1.84e+00    -  1.00e+00 7.20e-01h  1\n",
      "   7 -9.9523888e-01 0.00e+00 8.42e-02  -2.5 5.13e-01    -  1.00e+00 1.00e+00f  1\n",
      "   8 -9.9837590e-01 0.00e+00 3.44e-03  -2.5 1.16e-01    -  1.00e+00 1.00e+00h  1\n",
      "   9 -9.9987546e-01 0.00e+00 2.44e-03  -3.8 1.08e-01    -  1.00e+00 1.00e+00h  1\n",
      "iter    objective    inf_pr   inf_du lg(mu)  ||d||  lg(rg) alpha_du alpha_pr  ls\n",
      "  10 -9.9999483e-01 0.00e+00 1.88e-04  -3.8 3.37e-02    -  1.00e+00 1.00e+00h  1\n",
      "  11 -9.9999999e-01 0.00e+00 1.26e-05  -5.7 8.23e-03    -  1.00e+00 1.00e+00h  1\n",
      "  12 -1.0000000e+00 0.00e+00 1.83e-08  -8.6 3.23e-04    -  1.00e+00 1.00e+00h  1\n",
      "  13 -1.0000000e+00 0.00e+00 4.65e-14  -9.0 4.66e-07    -  1.00e+00 1.00e+00h  1\n",
      "\n",
      "Number of Iterations....: 13\n",
      "\n",
      "                                   (scaled)                 (unscaled)\n",
      "Objective...............:  -1.0000000000000000e+00   -1.0000000000000000e+00\n",
      "Dual infeasibility......:   4.6486804967210195e-14    4.6486804967210195e-14\n",
      "Constraint violation....:   0.0000000000000000e+00    0.0000000000000000e+00\n",
      "Variable bound violation:   0.0000000000000000e+00    0.0000000000000000e+00\n",
      "Complementarity.........:   9.0912126294342428e-10    9.0912126294342428e-10\n",
      "Overall NLP error.......:   9.0912126294342428e-10    9.0912126294342428e-10\n",
      "\n",
      "\n",
      "Number of objective function evaluations             = 14\n",
      "Number of objective gradient evaluations             = 14\n",
      "Number of equality constraint evaluations            = 0\n",
      "Number of inequality constraint evaluations          = 14\n",
      "Number of equality constraint Jacobian evaluations   = 0\n",
      "Number of inequality constraint Jacobian evaluations = 14\n",
      "Number of Lagrangian Hessian evaluations             = 13\n",
      "Total seconds in IPOPT                               = 0.003\n",
      "\n",
      "EXIT: Optimal Solution Found.\n"
     ]
    }
   ],
   "source": [
    "my_model_ineqcon_2 = Model(Ipopt.Optimizer);\n",
    "@variable(my_model_ineqcon_2, x_1 >=0);\n",
    "@variable(my_model_ineqcon_2, x_2 >=0);\n",
    "@objective(my_model_ineqcon_2, Min, f(x_1, x_2));\n",
    "@constraint(my_model_ineqcon_2, c1, -x_1 + x_2^2 <= 1.5);\n",
    "optimize!(my_model_ineqcon_2);"
   ]
  },
  {
   "cell_type": "code",
   "execution_count": 29,
   "id": "5532d9e8",
   "metadata": {},
   "outputs": [
    {
     "data": {
      "text/plain": [
       "-1.0"
      ]
     },
     "execution_count": 29,
     "metadata": {},
     "output_type": "execute_result"
    }
   ],
   "source": [
    "ineqcon2_obj = objective_value(my_model_ineqcon_2)"
   ]
  },
  {
   "cell_type": "code",
   "execution_count": 30,
   "id": "691755e0",
   "metadata": {},
   "outputs": [
    {
     "data": {
      "text/plain": [
       "1.0000000054547011"
      ]
     },
     "execution_count": 30,
     "metadata": {},
     "output_type": "execute_result"
    }
   ],
   "source": [
    "ineqcon2_x_1 = value(x_1)"
   ]
  },
  {
   "cell_type": "code",
   "execution_count": 31,
   "id": "28c4729d",
   "metadata": {},
   "outputs": [
    {
     "data": {
      "text/plain": [
       "1.4999999933331216"
      ]
     },
     "execution_count": 31,
     "metadata": {},
     "output_type": "execute_result"
    }
   ],
   "source": [
    "ineqcon2_x_2 = value(x_2)"
   ]
  }
 ],
 "metadata": {
  "kernelspec": {
   "display_name": "Julia 1.9.4",
   "language": "julia",
   "name": "julia-1.9"
  },
  "language_info": {
   "file_extension": ".jl",
   "mimetype": "application/julia",
   "name": "julia",
   "version": "1.9.4"
  }
 },
 "nbformat": 4,
 "nbformat_minor": 5
}