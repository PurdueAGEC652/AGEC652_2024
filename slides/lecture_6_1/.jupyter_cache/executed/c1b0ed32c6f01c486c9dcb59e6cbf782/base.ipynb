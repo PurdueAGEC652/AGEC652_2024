{
 "cells": [
  {
   "cell_type": "code",
   "execution_count": 1,
   "id": "a4effd9b",
   "metadata": {},
   "outputs": [
    {
     "name": "stderr",
     "output_type": "stream",
     "text": [
      "\u001b[36m\u001b[1m[ \u001b[22m\u001b[39m\u001b[36m\u001b[1mInfo: \u001b[22m\u001b[39mPrecompiling Plots [91a5bcdd-55d7-5caf-9e0b-520d859cae80]\n"
     ]
    },
    {
     "name": "stderr",
     "output_type": "stream",
     "text": [
      "\u001b[36m\u001b[1m[ \u001b[22m\u001b[39m\u001b[36m\u001b[1mInfo: \u001b[22m\u001b[39mPrecompiling IJuliaExt [2f4121a4-3b3a-5ce6-9c5e-1f2673ce168a]\n"
     ]
    }
   ],
   "source": [
    "import IJulia\n",
    "\n",
    "# The julia kernel has built in support for Revise.jl, so this is the \n",
    "# recommended approach for long-running sessions:\n",
    "# https://github.com/JuliaLang/IJulia.jl/blob/9b10fa9b879574bbf720f5285029e07758e50a5e/src/kernel.jl#L46-L51\n",
    "\n",
    "# Users should enable revise within .julia/config/startup_ijulia.jl:\n",
    "# https://timholy.github.io/Revise.jl/stable/config/#Using-Revise-automatically-within-Jupyter/IJulia-1\n",
    "\n",
    "# clear console history\n",
    "IJulia.clear_history()\n",
    "\n",
    "fig_width = 8\n",
    "fig_height = 4\n",
    "fig_format = :retina\n",
    "fig_dpi = 96\n",
    "\n",
    "# no retina format type, use svg for high quality type/marks\n",
    "if fig_format == :retina\n",
    "  fig_format = :svg\n",
    "elseif fig_format == :pdf\n",
    "  fig_dpi = 96\n",
    "  # Enable PDF support for IJulia\n",
    "  IJulia.register_mime(MIME(\"application/pdf\"))\n",
    "end\n",
    "\n",
    "# convert inches to pixels\n",
    "fig_width = fig_width * fig_dpi\n",
    "fig_height = fig_height * fig_dpi\n",
    "\n",
    "# Intialize Plots w/ default fig width/height\n",
    "try\n",
    "  import Plots\n",
    "\n",
    "  # Plots.jl doesn't support PDF output for versions < 1.28.1\n",
    "  # so use png (if the DPI remains the default of 300 then set to 96)\n",
    "  if (Plots._current_plots_version < v\"1.28.1\") & (fig_format == :pdf)\n",
    "    Plots.gr(size=(fig_width, fig_height), fmt = :png, dpi = fig_dpi)\n",
    "  else\n",
    "    Plots.gr(size=(fig_width, fig_height), fmt = fig_format, dpi = fig_dpi)\n",
    "  end\n",
    "catch e\n",
    "  # @warn \"Plots init\" exception=(e, catch_backtrace())\n",
    "end\n",
    "\n",
    "# Initialize CairoMakie with default fig width/height\n",
    "try\n",
    "  import CairoMakie\n",
    "  \n",
    "  CairoMakie.activate!(type = string(fig_format))\n",
    "  CairoMakie.update_theme!(resolution=(fig_width, fig_height))\n",
    "catch e\n",
    "    # @warn \"CairoMakie init\" exception=(e, catch_backtrace())\n",
    "end\n",
    "  \n",
    "# Set run_path if specified\n",
    "try\n",
    "  run_path = raw\"/home/diego/local_repos/AGEC652_2024/slides/lecture_6_1\"\n",
    "  if !isempty(run_path)\n",
    "    cd(run_path)\n",
    "  end\n",
    "catch e\n",
    "  @warn \"Run path init:\" exception=(e, catch_backtrace())\n",
    "end\n",
    "\n",
    "\n",
    "# emulate old Pkg.installed beahvior, see\n",
    "# https://discourse.julialang.org/t/how-to-use-pkg-dependencies-instead-of-pkg-installed/36416/9\n",
    "import Pkg\n",
    "function isinstalled(pkg::String)\n",
    "  any(x -> x.name == pkg && x.is_direct_dep, values(Pkg.dependencies()))\n",
    "end\n",
    "\n",
    "# ojs_define\n",
    "if isinstalled(\"JSON\") && isinstalled(\"DataFrames\")\n",
    "  import JSON, DataFrames\n",
    "  global function ojs_define(; kwargs...)\n",
    "    convert(x) = x\n",
    "    convert(x::DataFrames.AbstractDataFrame) = Tables.rows(x)\n",
    "    content = Dict(\"contents\" => [Dict(\"name\" => k, \"value\" => convert(v)) for (k, v) in kwargs])\n",
    "    tag = \"<script type='ojs-define'>$(JSON.json(content))</script>\"\n",
    "    IJulia.display(MIME(\"text/html\"), tag)\n",
    "  end\n",
    "elseif isinstalled(\"JSON\")\n",
    "  import JSON\n",
    "  global function ojs_define(; kwargs...)\n",
    "    content = Dict(\"contents\" => [Dict(\"name\" => k, \"value\" => v) for (k, v) in kwargs])\n",
    "    tag = \"<script type='ojs-define'>$(JSON.json(content))</script>\"\n",
    "    IJulia.display(MIME(\"text/html\"), tag)\n",
    "  end\n",
    "else\n",
    "  global function ojs_define(; kwargs...)\n",
    "    @warn \"JSON package not available. Please install the JSON.jl package to use ojs_define.\"\n",
    "  end\n",
    "end\n",
    "\n",
    "\n",
    "# don't return kernel dependencies (b/c Revise should take care of dependencies)\n",
    "nothing\n"
   ]
  },
  {
   "cell_type": "code",
   "execution_count": 2,
   "id": "48cffbe1",
   "metadata": {},
   "outputs": [
    {
     "name": "stderr",
     "output_type": "stream",
     "text": [
      "\u001b[32m\u001b[1m  Activating\u001b[22m\u001b[39m new project at `~/local_repos/AGEC652_2024/slides/lecture_6_1`\n"
     ]
    },
    {
     "name": "stderr",
     "output_type": "stream",
     "text": [
      "\u001b[32m\u001b[1m  No Changes\u001b[22m\u001b[39m to `~/local_repos/AGEC652_2024/slides/lecture_6_1/Project.toml`\n",
      "\u001b[32m\u001b[1m  No Changes\u001b[22m\u001b[39m to `~/local_repos/AGEC652_2024/slides/lecture_6_1/Manifest.toml`\n"
     ]
    }
   ],
   "source": [
    "#| include: false\n",
    "using Pkg\n",
    "Pkg.activate(\".\")\n",
    "Pkg.instantiate()\n",
    "# Pkg.add(\"JuMP\")\n",
    "# Pkg.add(\"Ipopt\")\n",
    "# Pkg.add(\"Statistics\")\n",
    "# Pkg.add(\"Plots\")\n",
    "# Pkg.add(\"ForwardDiff\")\n",
    "# Pkg.add(\"LinearAlgebra\")"
   ]
  },
  {
   "cell_type": "code",
   "execution_count": 3,
   "id": "ecf10419",
   "metadata": {},
   "outputs": [
    {
     "data": {
      "text/plain": [
       "log_likelihood (generic function with 1 method)"
      ]
     },
     "execution_count": 3,
     "metadata": {},
     "output_type": "execute_result"
    }
   ],
   "source": [
    "function log_likelihood(θ) \n",
    "  β0, β1, σ = θ # Unpack parameters\n",
    "  return -n/2*log(2*pi) - n/2*log(σ^2) - (1/(2*σ^2)) * sum((y .- β0 .- β1 .* x).^2)\n",
    "end"
   ]
  },
  {
   "cell_type": "code",
   "execution_count": 4,
   "id": "bb2fa8c6",
   "metadata": {},
   "outputs": [
    {
     "name": "stderr",
     "output_type": "stream",
     "text": [
      "\u001b[36m\u001b[1m[ \u001b[22m\u001b[39m\u001b[36m\u001b[1mInfo: \u001b[22m\u001b[39mPrecompiling JuMP [4076af6c-e467-56ae-b986-b466b2749572]\n"
     ]
    },
    {
     "name": "stderr",
     "output_type": "stream",
     "text": [
      "\u001b[36m\u001b[1m[ \u001b[22m\u001b[39m\u001b[36m\u001b[1mInfo: \u001b[22m\u001b[39mPrecompiling Ipopt [b6b21f68-93f8-5de0-b562-5493be1d77c9]\n"
     ]
    },
    {
     "data": {
      "text/plain": [
       "1000-element Vector{Float64}:\n",
       "  3.709130909626828\n",
       "  4.358157418145898\n",
       " 22.719839584280113\n",
       "  7.207996637417205\n",
       " 25.627616295122998\n",
       "  8.195313133149636\n",
       " 19.708693736146433\n",
       "  2.251019401377114\n",
       " 16.807801515978028\n",
       " 11.787769533281057\n",
       "  8.014130941988618\n",
       " 25.307247717114297\n",
       " 14.176323946466058\n",
       "  ⋮\n",
       " 12.298406774933483\n",
       " 13.750613022987906\n",
       " 30.256221684296833\n",
       " 26.04527755565141\n",
       " 16.318591269235245\n",
       " 14.040926024896885\n",
       " 29.22609478051674\n",
       " 11.105921708667193\n",
       "  4.161973917714973\n",
       "  4.792055871882438\n",
       " 26.081272486275004\n",
       "  3.1345723071247478"
      ]
     },
     "execution_count": 4,
     "metadata": {},
     "output_type": "execute_result"
    }
   ],
   "source": [
    "using JuMP, Ipopt, Statistics\n",
    "\n",
    "# Generate some synthetic data for illustration\n",
    "n = 1000  # Number of observations\n",
    "x = rand(n) * 10  # Independent variable: random uniform [0,10]\n",
    "β0_true = 2.0  # True intercept\n",
    "β1_true = 3.0  # True slope\n",
    "σ_true = 1.5  # True standard deviation of the errors\n",
    "ε = randn(n) * σ_true  # Normally distributed errors\n",
    "y = β0_true .+ β1_true .* x .+ ε  # Dependent variable"
   ]
  },
  {
   "cell_type": "code",
   "execution_count": 5,
   "id": "922b230c",
   "metadata": {},
   "outputs": [
    {
     "data": {
      "text/latex": [
       "$ {\\left({-918.9385332046727} - {\\left({500.0} * {\\textsf{log}\\left({σ²}\\right)}\\right)}\\right)} - {\\left({\\left({1.0} / {\\left(2 σ²\\right)}\\right)} * {\\left(1000 β0² + 10317.789033264782 β1*β0 + 34614.43894282611 β1² - 35032.88593005477 β0 - 229034.2838654797 β1 + 381923.42476662307\\right)}\\right)} $"
      ],
      "text/plain": [
       "(-918.9385332046727 - (500.0 * log(σ²))) - ((1.0 / (2 σ²)) * (1000 β0² + 10317.789033264782 β1*β0 + 34614.43894282611 β1² - 35032.88593005477 β0 - 229034.2838654797 β1 + 381923.42476662307))"
      ]
     },
     "execution_count": 5,
     "metadata": {},
     "output_type": "execute_result"
    }
   ],
   "source": [
    "# Define the model\n",
    "mle_model = Model(Ipopt.Optimizer);\n",
    "@variable(mle_model, β0);\n",
    "@variable(mle_model, β1);\n",
    "@variable(mle_model, σ >= 0.0001);  # Avoid division by zero in the log-likelihood\n",
    "\n",
    "# Set the objective to maximize the log-likelihood\n",
    "@objective(mle_model, Max, log_likelihood([β0, β1, σ]))"
   ]
  },
  {
   "cell_type": "code",
   "execution_count": 6,
   "id": "86851943",
   "metadata": {},
   "outputs": [
    {
     "name": "stdout",
     "output_type": "stream",
     "text": [
      "\n",
      "******************************************************************************\n",
      "This program contains Ipopt, a library for large-scale nonlinear optimization.\n",
      " Ipopt is released as open source code under the Eclipse Public License (EPL).\n",
      "         For more information visit https://github.com/coin-or/Ipopt\n",
      "******************************************************************************\n",
      "\n",
      "This is Ipopt version 3.14.13, running with linear solver MUMPS 5.6.1.\n",
      "\n",
      "Number of nonzeros in equality constraint Jacobian...:        0\n",
      "Number of nonzeros in inequality constraint Jacobian.:        0\n",
      "Number of nonzeros in Lagrangian Hessian.............:        6\n",
      "\n",
      "Total number of variables............................:        3\n",
      "                     variables with only lower bounds:        1\n",
      "                variables with lower and upper bounds:        0\n",
      "                     variables with only upper bounds:        0\n",
      "Total number of equality constraints.................:        0\n",
      "Total number of inequality constraints...............:        0\n",
      "        inequality constraints with only lower bounds:        0\n",
      "   inequality constraints with lower and upper bounds:        0\n",
      "        inequality constraints with only upper bounds:        0\n",
      "\n",
      "iter    objective    inf_pr   inf_du lg(mu)  ||d||  lg(rg) alpha_du alpha_pr  ls\n",
      "   0 -1.8719902e+09 0.00e+00 3.71e+03  -1.0 0.00e+00    -  0.00e+00 0.00e+00   0\n",
      "   1 -1.0394743e+09 0.00e+00 1.56e+03  -1.0 3.77e-02   2.0 1.00e+00 1.00e+00f  1\n",
      "   2 -5.7225051e+08 0.00e+00 6.51e+02  -1.0 6.39e-02   1.5 1.00e+00 1.00e+00f  1\n",
      "   3 -3.0971374e+08 0.00e+00 2.71e+02  -1.0 1.08e-01   1.0 1.00e+00 1.00e+00f  1\n",
      "   4 -1.6253646e+08 0.00e+00 1.11e+02  -1.0 1.85e-01   0.6 1.00e+00 1.00e+00f  1\n",
      "   5 -8.0046280e+07 0.00e+00 4.45e+01  -1.0 3.17e-01   0.1 1.00e+00 1.00e+00f  1\n",
      "   6 -3.3883291e+07 0.00e+00 1.68e+01  -1.0 5.50e-01  -0.4 1.00e+00 1.00e+00f  1\n",
      "   7 -8.6690436e+06 0.00e+00 5.54e+00  -1.0 9.28e-01  -0.9 1.00e+00 1.00e+00f  1\n",
      "   8 -2.0982147e+06 0.00e+00 2.31e+00  -1.0 4.60e-01  -1.3 1.00e+00 1.00e+00f  1\n",
      "   9 -1.6870206e+06 0.00e+00 5.34e-01  -1.0 1.20e+00    -  1.00e+00 1.00e+00f  1\n",
      "iter    objective    inf_pr   inf_du lg(mu)  ||d||  lg(rg) alpha_du alpha_pr  ls\n",
      "  10 -5.7633430e+05 0.00e+00 1.88e-01  -1.7 2.85e-01  -1.8 1.00e+00 1.00e+00f  1\n",
      "  11 -2.5725895e+05 0.00e+00 1.64e-01  -2.5 6.84e+00    -  1.00e+00 5.00e-01f  2\n",
      "  12 -1.0869523e+05 0.00e+00 3.01e-02  -2.5 4.40e-01    -  1.00e+00 1.00e+00f  1\n",
      "  13 -4.2399145e+04 0.00e+00 2.45e-02  -2.5 1.21e-01    -  1.00e+00 1.00e+00f  1\n",
      "  14 -2.6723939e+04 0.00e+00 2.68e-03  -3.8 3.43e-01    -  9.32e-01 1.00e+00f  1\n",
      "  15 -1.3206954e+04 0.00e+00 1.66e-03  -3.8 8.44e-02    -  1.00e+00 1.00e+00f  1\n",
      "  16 -6.8512187e+03 0.00e+00 5.42e-04  -3.8 1.15e-01    -  1.00e+00 1.00e+00f  1\n",
      "  17 -4.5246139e+03 0.00e+00 1.50e-04  -5.7 1.04e-01    -  8.06e-01 1.00e+00f  1\n",
      "  18 -2.9923471e+03 0.00e+00 6.34e-05  -5.7 1.58e-01    -  1.00e+00 1.00e+00f  1\n",
      "  19 -2.2502690e+03 0.00e+00 2.46e-05  -5.7 1.95e-01    -  1.00e+00 1.00e+00f  1\n",
      "iter    objective    inf_pr   inf_du lg(mu)  ||d||  lg(rg) alpha_du alpha_pr  ls\n",
      "  20 -1.9270897e+03 0.00e+00 9.48e-06  -5.7 2.29e-01    -  1.00e+00 1.00e+00f  1\n",
      "  21 -1.8324220e+03 0.00e+00 2.56e-06  -8.6 1.95e-01    -  8.49e-01 1.00e+00f  1\n",
      "  22 -1.8116616e+03 0.00e+00 5.49e-07  -8.6 1.41e-01    -  1.00e+00 1.00e+00f  1\n",
      "  23 -1.8102270e+03 0.00e+00 4.42e-08  -8.6 4.99e-02    -  1.00e+00 1.00e+00f  1\n",
      "  24 -1.8102172e+03 0.00e+00 3.55e-10  -8.6 4.76e-03    -  1.00e+00 1.00e+00f  1\n",
      "  25 -1.8102172e+03 0.00e+00 3.32e-13 -12.9 1.47e-04    -  1.00e+00 1.00e+00f  1\n",
      "\n",
      "Number of Iterations....: 25\n",
      "\n",
      "                                   (scaled)                 (unscaled)\n",
      "Objective...............:   1.8102171895284137e-05   -1.8102171895284137e+03\n",
      "Dual infeasibility......:   3.3194657626133649e-13    3.3194657626133651e-05\n",
      "Constraint violation....:   0.0000000000000000e+00    0.0000000000000000e+00\n",
      "Variable bound violation:   0.0000000000000000e+00    0.0000000000000000e+00\n",
      "Complementarity.........:   3.7374456105878388e-13    3.7374456105878386e-05\n",
      "Overall NLP error.......:   3.7374456105878388e-13    3.7374456105878386e-05\n",
      "\n",
      "\n",
      "Number of objective function evaluations             = 31\n",
      "Number of objective gradient evaluations             = 26\n",
      "Number of equality constraint evaluations            = 0\n",
      "Number of inequality constraint evaluations          = 0\n",
      "Number of equality constraint Jacobian evaluations   = 0\n",
      "Number of inequality constraint Jacobian evaluations = 0\n",
      "Number of Lagrangian Hessian evaluations             = 25\n",
      "Total seconds in IPOPT                               = 0.546\n",
      "\n",
      "EXIT: Optimal Solution Found.\n"
     ]
    }
   ],
   "source": [
    "# Solve the model\n",
    "optimize!(mle_model)"
   ]
  },
  {
   "cell_type": "code",
   "execution_count": 7,
   "id": "d403ae6b",
   "metadata": {},
   "outputs": [
    {
     "name": "stdout",
     "output_type": "stream",
     "text": [
      "Estimated parameters:\n"
     ]
    },
    {
     "name": "stdout",
     "output_type": "stream",
     "text": [
      "β0: 1.9424389363062382\n",
      "β1: 3.0188645994647034\n",
      "σ: 1.478870543971837\n"
     ]
    }
   ],
   "source": [
    "# Retrieve the estimated parameters\n",
    "β0_hat = value(β0);\n",
    "β1_hat = value(β1);\n",
    "σ_hat = value(σ);\n",
    "\n",
    "println(\"Estimated parameters:\")\n",
    "println(\"β0: \", β0_hat)\n",
    "println(\"β1: \", β1_hat)\n",
    "println(\"σ: \", σ_hat)"
   ]
  },
  {
   "cell_type": "code",
   "execution_count": 8,
   "id": "9318d6f6",
   "metadata": {},
   "outputs": [
    {
     "data": {
      "text/plain": [
       "3×3 Matrix{Float64}:\n",
       "  -457.235        -2358.83          -5.38376e-8\n",
       " -2358.83        -15826.9           -3.12965e-7\n",
       "    -5.38376e-8      -3.12965e-7  -914.47"
      ]
     },
     "execution_count": 8,
     "metadata": {},
     "output_type": "execute_result"
    }
   ],
   "source": [
    "using ForwardDiff, LinearAlgebra\n",
    "θ_hat = [β0_hat, β1_hat, σ_hat]\n",
    "Im = ForwardDiff.hessian(log_likelihood, θ_hat)"
   ]
  },
  {
   "cell_type": "code",
   "execution_count": 9,
   "id": "ad3db602",
   "metadata": {},
   "outputs": [
    {
     "data": {
      "text/plain": [
       "3-element Vector{Float64}:\n",
       " 0.09727631895255799\n",
       " 0.016534020803202425\n",
       " 0.03306855037191697"
      ]
     },
     "execution_count": 9,
     "metadata": {},
     "output_type": "execute_result"
    }
   ],
   "source": [
    "V = inv(Im);\n",
    "SEs = sqrt.(diag(-V))"
   ]
  },
  {
   "cell_type": "code",
   "execution_count": 10,
   "id": "dd4dac00",
   "metadata": {},
   "outputs": [
    {
     "name": "stderr",
     "output_type": "stream",
     "text": [
      "\u001b[36m\u001b[1m[ \u001b[22m\u001b[39m\u001b[36m\u001b[1mInfo: \u001b[22m\u001b[39mPrecompiling Distributions [31c24e10-a181-5473-b8eb-7969acd0382f]\n"
     ]
    },
    {
     "name": "stderr",
     "output_type": "stream",
     "text": [
      "\u001b[36m\u001b[1m[ \u001b[22m\u001b[39m\u001b[36m\u001b[1mInfo: \u001b[22m\u001b[39mPrecompiling DistributionsTestExt [ffbe0ea5-a612-5ff7-aaf5-cac02eef3019]\n"
     ]
    },
    {
     "name": "stdout",
     "output_type": "stream",
     "text": [
      "\u001b[1m3×5 DataFrame\u001b[0m\n",
      "\u001b[1m Row \u001b[0m│\u001b[1m Coefficient \u001b[0m\u001b[1m Estimate \u001b[0m\u001b[1m StdError  \u001b[0m\u001b[1m CI_lower \u001b[0m\u001b[1m CI_upper \u001b[0m\n",
      "     │\u001b[90m String      \u001b[0m\u001b[90m Float64  \u001b[0m\u001b[90m Float64   \u001b[0m\u001b[90m Float64  \u001b[0m\u001b[90m Float64  \u001b[0m\n",
      "─────┼──────────────────────────────────────────────────────\n",
      "   1 │ beta_0        1.94244  0.0972763   1.75178   2.1331\n",
      "   2 │ beta_1        3.01886  0.016534    2.98646   3.05127\n",
      "   3 │ sigma         1.47887  0.0330686   1.41406   1.54368\n"
     ]
    }
   ],
   "source": [
    "using DataFrames, Distributions\n",
    "df = DataFrame(\n",
    "  Coefficient = [\"beta_0\", \"beta_1\", \"sigma\"],\n",
    "  Estimate = θ_hat,\n",
    "  StdError = SEs,\n",
    "  CI_lower = θ_hat .+ quantile(Normal(), 0.025) .* SEs,\n",
    "  CI_upper = θ_hat .+ quantile(Normal(), 0.975) .* SEs\n",
    ")\n",
    "\n",
    "println(df)"
   ]
  },
  {
   "cell_type": "code",
   "execution_count": 11,
   "id": "321c6b08",
   "metadata": {},
   "outputs": [],
   "source": [
    "# Define the model\n",
    "mle_model_restr = Model(Ipopt.Optimizer);\n",
    "set_silent(mle_model_restr)\n",
    "@variable(mle_model_restr, β0);\n",
    "@variable(mle_model_restr, σ >= 0.0001);  # Avoid division by zero in the log-likelihood\n",
    "\n",
    "# Note β0 being used twice!\n",
    "@objective(mle_model_restr, Max, log_likelihood([β0, β0, σ]));\n",
    "\n",
    "optimize!(mle_model_restr);"
   ]
  },
  {
   "cell_type": "code",
   "execution_count": 12,
   "id": "48e712ee",
   "metadata": {},
   "outputs": [
    {
     "name": "stdout",
     "output_type": "stream",
     "text": [
      "Estimated parameters:\n",
      "β0=β1: 1.9424389363062382\n",
      "σ: 1.478870543971837\n"
     ]
    }
   ],
   "source": [
    "β0_hat_R = value(β0);\n",
    "σ_hat_R = value(σ);\n",
    "\n",
    "println(\"Estimated parameters:\")\n",
    "println(\"β0=β1: \", β0_hat)\n",
    "println(\"σ: \", σ_hat)"
   ]
  },
  {
   "cell_type": "code",
   "execution_count": 13,
   "id": "6ff77fc0",
   "metadata": {},
   "outputs": [],
   "source": [
    "l_U = log_likelihood([β0_hat, β1_hat, σ_hat]);\n",
    "l_R = log_likelihood([β0_hat_R, β0_hat_R, σ_hat_R]);"
   ]
  },
  {
   "cell_type": "code",
   "execution_count": 14,
   "id": "00289424",
   "metadata": {},
   "outputs": [
    {
     "data": {
      "text/plain": [
       "88.26453606487894"
      ]
     },
     "execution_count": 14,
     "metadata": {},
     "output_type": "execute_result"
    }
   ],
   "source": [
    "LR_stat = 2 * (l_U - l_R)"
   ]
  },
  {
   "cell_type": "code",
   "execution_count": 15,
   "id": "62461c2a",
   "metadata": {},
   "outputs": [
    {
     "name": "stdout",
     "output_type": "stream",
     "text": [
      "Test interval: 0.0009820691171752564 -- 5.023886187314887 . Test statistic: 88.26453606487894\n"
     ]
    }
   ],
   "source": [
    "crit_value_lower = quantile(Chisq(1), 0.025);\n",
    "crit_value_upper = quantile(Chisq(1), 0.975);\n",
    "println(\"Test interval: $crit_value_lower -- $crit_value_upper . Test statistic: $LR_stat\")"
   ]
  },
  {
   "cell_type": "code",
   "execution_count": 16,
   "id": "693b8de3",
   "metadata": {},
   "outputs": [
    {
     "data": {
      "text/plain": [
       "0.0"
      ]
     },
     "execution_count": 16,
     "metadata": {},
     "output_type": "execute_result"
    }
   ],
   "source": [
    "p_value = 1 - cdf(Chisq(1), LR_stat)"
   ]
  }
 ],
 "metadata": {
  "kernelspec": {
   "display_name": "Julia 1.9.4",
   "language": "julia",
   "name": "julia-1.9"
  },
  "language_info": {
   "file_extension": ".jl",
   "mimetype": "application/julia",
   "name": "julia",
   "version": "1.9.4"
  }
 },
 "nbformat": 4,
 "nbformat_minor": 5
}