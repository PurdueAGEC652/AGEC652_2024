{
 "cells": [
  {
   "cell_type": "code",
   "execution_count": 1,
   "id": "79e3be4d",
   "metadata": {},
   "outputs": [],
   "source": [
    "import IJulia\n",
    "\n",
    "# The julia kernel has built in support for Revise.jl, so this is the \n",
    "# recommended approach for long-running sessions:\n",
    "# https://github.com/JuliaLang/IJulia.jl/blob/9b10fa9b879574bbf720f5285029e07758e50a5e/src/kernel.jl#L46-L51\n",
    "\n",
    "# Users should enable revise within .julia/config/startup_ijulia.jl:\n",
    "# https://timholy.github.io/Revise.jl/stable/config/#Using-Revise-automatically-within-Jupyter/IJulia-1\n",
    "\n",
    "# clear console history\n",
    "IJulia.clear_history()\n",
    "\n",
    "fig_width = 8\n",
    "fig_height = 4\n",
    "fig_format = :retina\n",
    "fig_dpi = 96\n",
    "\n",
    "# no retina format type, use svg for high quality type/marks\n",
    "if fig_format == :retina\n",
    "  fig_format = :svg\n",
    "elseif fig_format == :pdf\n",
    "  fig_dpi = 96\n",
    "  # Enable PDF support for IJulia\n",
    "  IJulia.register_mime(MIME(\"application/pdf\"))\n",
    "end\n",
    "\n",
    "# convert inches to pixels\n",
    "fig_width = fig_width * fig_dpi\n",
    "fig_height = fig_height * fig_dpi\n",
    "\n",
    "# Intialize Plots w/ default fig width/height\n",
    "try\n",
    "  import Plots\n",
    "\n",
    "  # Plots.jl doesn't support PDF output for versions < 1.28.1\n",
    "  # so use png (if the DPI remains the default of 300 then set to 96)\n",
    "  if (Plots._current_plots_version < v\"1.28.1\") & (fig_format == :pdf)\n",
    "    Plots.gr(size=(fig_width, fig_height), fmt = :png, dpi = fig_dpi)\n",
    "  else\n",
    "    Plots.gr(size=(fig_width, fig_height), fmt = fig_format, dpi = fig_dpi)\n",
    "  end\n",
    "catch e\n",
    "  # @warn \"Plots init\" exception=(e, catch_backtrace())\n",
    "end\n",
    "\n",
    "# Initialize CairoMakie with default fig width/height\n",
    "try\n",
    "  import CairoMakie\n",
    "  \n",
    "  CairoMakie.activate!(type = string(fig_format))\n",
    "  CairoMakie.update_theme!(resolution=(fig_width, fig_height))\n",
    "catch e\n",
    "    # @warn \"CairoMakie init\" exception=(e, catch_backtrace())\n",
    "end\n",
    "  \n",
    "# Set run_path if specified\n",
    "try\n",
    "  run_path = raw\"/home/diego/local_repos/AGEC652_2024/slides/lecture_7_1\"\n",
    "  if !isempty(run_path)\n",
    "    cd(run_path)\n",
    "  end\n",
    "catch e\n",
    "  @warn \"Run path init:\" exception=(e, catch_backtrace())\n",
    "end\n",
    "\n",
    "\n",
    "# emulate old Pkg.installed beahvior, see\n",
    "# https://discourse.julialang.org/t/how-to-use-pkg-dependencies-instead-of-pkg-installed/36416/9\n",
    "import Pkg\n",
    "function isinstalled(pkg::String)\n",
    "  any(x -> x.name == pkg && x.is_direct_dep, values(Pkg.dependencies()))\n",
    "end\n",
    "\n",
    "# ojs_define\n",
    "if isinstalled(\"JSON\") && isinstalled(\"DataFrames\")\n",
    "  import JSON, DataFrames\n",
    "  global function ojs_define(; kwargs...)\n",
    "    convert(x) = x\n",
    "    convert(x::DataFrames.AbstractDataFrame) = Tables.rows(x)\n",
    "    content = Dict(\"contents\" => [Dict(\"name\" => k, \"value\" => convert(v)) for (k, v) in kwargs])\n",
    "    tag = \"<script type='ojs-define'>$(JSON.json(content))</script>\"\n",
    "    IJulia.display(MIME(\"text/html\"), tag)\n",
    "  end\n",
    "elseif isinstalled(\"JSON\")\n",
    "  import JSON\n",
    "  global function ojs_define(; kwargs...)\n",
    "    content = Dict(\"contents\" => [Dict(\"name\" => k, \"value\" => v) for (k, v) in kwargs])\n",
    "    tag = \"<script type='ojs-define'>$(JSON.json(content))</script>\"\n",
    "    IJulia.display(MIME(\"text/html\"), tag)\n",
    "  end\n",
    "else\n",
    "  global function ojs_define(; kwargs...)\n",
    "    @warn \"JSON package not available. Please install the JSON.jl package to use ojs_define.\"\n",
    "  end\n",
    "end\n",
    "\n",
    "\n",
    "# don't return kernel dependencies (b/c Revise should take care of dependencies)\n",
    "nothing\n"
   ]
  },
  {
   "cell_type": "code",
   "execution_count": 2,
   "id": "1debdcf9",
   "metadata": {},
   "outputs": [
    {
     "name": "stderr",
     "output_type": "stream",
     "text": [
      "\u001b[32m\u001b[1m  Activating\u001b[22m\u001b[39m project at `~/local_repos/AGEC652_2024/slides/lecture_7_1`\n"
     ]
    }
   ],
   "source": [
    "#| include: false\n",
    "using Pkg\n",
    "Pkg.activate(\".\")\n",
    "Pkg.instantiate()\n",
    "# Pkg.add(\"JuMP\")\n",
    "# Pkg.add(\"Ipopt\")\n",
    "# Pkg.add(\"Statistics\")\n",
    "# Pkg.add(\"Plots\")\n",
    "# Pkg.add(\"ForwardDiff\")\n",
    "# Pkg.add(\"LinearAlgebra\")"
   ]
  },
  {
   "cell_type": "code",
   "execution_count": 3,
   "id": "3514ad72",
   "metadata": {},
   "outputs": [
    {
     "data": {
      "text/plain": [
       "1000-element Vector{Float64}:\n",
       " 21.67019447290482\n",
       " 28.90711926428413\n",
       " 16.442940381636067\n",
       " 22.364903307770113\n",
       " 16.223008723288245\n",
       "  9.150914155735176\n",
       "  6.494370868789826\n",
       " 29.190769080962113\n",
       "  8.845913560652406\n",
       " 19.768418811032205\n",
       "  8.768806341579456\n",
       " 28.905029646813723\n",
       " 12.30335776513745\n",
       "  ⋮\n",
       " 11.360611536318569\n",
       " 19.1496946598927\n",
       " 25.457203383492395\n",
       "  1.4494239993093165\n",
       "  9.673970881293892\n",
       " 20.211214574506702\n",
       "  9.796687093954356\n",
       " 24.24916530921735\n",
       " 17.096168925423544\n",
       "  5.155534028613376\n",
       " 17.977179360988384\n",
       " 16.455682148662746"
      ]
     },
     "execution_count": 3,
     "metadata": {},
     "output_type": "execute_result"
    }
   ],
   "source": [
    "using Statistics, Random\n",
    "# Generate some synthetic data for illustration\n",
    "Random.seed!(652) # Set random seed for reproducibility\n",
    "N = 1000  # Number of observations\n",
    "X = rand(N) * 10  # Independent variable: random uniform [0,10]\n",
    "β0_true = 2.0  # True intercept\n",
    "β1_true = 3.0  # True slope\n",
    "σ_true = 1.5  # True standard deviation of the errors\n",
    "ε = randn(N) * σ_true  # Normally distributed errors\n",
    "Y = β0_true .+ β1_true .* X .+ ε  # Dependent variable"
   ]
  },
  {
   "cell_type": "code",
   "execution_count": 4,
   "id": "adb254b0",
   "metadata": {},
   "outputs": [],
   "source": [
    "function g_i(θ; Y = Y, X = X)\n",
    "  β_0, β_1 = θ # Unpack parameters\n",
    "  ϵ = Y .- β_0 .- β_1 .* X\n",
    "  return hcat(ϵ, X.*ϵ) # Concatenate horizontally\n",
    "end;"
   ]
  },
  {
   "cell_type": "code",
   "execution_count": 5,
   "id": "cdbd9e2f",
   "metadata": {},
   "outputs": [
    {
     "data": {
      "text/plain": [
       "6×2 Matrix{Float64}:\n",
       " 21.6702   133.22\n",
       " 28.9071   276.875\n",
       " 16.4429    78.751\n",
       " 22.3649   169.115\n",
       " 16.223     71.2158\n",
       "  9.15091   18.6789"
      ]
     },
     "execution_count": 5,
     "metadata": {},
     "output_type": "execute_result"
    }
   ],
   "source": [
    "G = g_i([0.0, 0.0], Y=Y, X=X);\n",
    "G[1:6,:] # See the first few lines"
   ]
  },
  {
   "cell_type": "code",
   "execution_count": 6,
   "id": "90cb8caa",
   "metadata": {},
   "outputs": [],
   "source": [
    "function g_N(θ; Y = Y, X = X)\n",
    "  N = length(Y) # Number of obs\n",
    "  # Get moment vectors\n",
    "  g_Ns = g_i(θ; Y = Y, X = X)\n",
    "  # Take means of each column and return\n",
    "  return [sum(g_Ns[:, k]) for k in 1:2] ./ N\n",
    "end;"
   ]
  },
  {
   "cell_type": "code",
   "execution_count": 7,
   "id": "8ec6cba8",
   "metadata": {},
   "outputs": [
    {
     "data": {
      "text/plain": [
       "2-element Vector{Float64}:\n",
       "  16.91885348772398\n",
       " 109.2561898066229"
      ]
     },
     "execution_count": 7,
     "metadata": {},
     "output_type": "execute_result"
    }
   ],
   "source": [
    "g_N([0.0, 0.0], Y=Y, X=X)"
   ]
  },
  {
   "cell_type": "code",
   "execution_count": 8,
   "id": "69316b2e",
   "metadata": {},
   "outputs": [],
   "source": [
    "using LinearAlgebra\n",
    "function Q_N(θ; W = I(2), Y = Y, X = X)\n",
    "    return g_N(θ; Y=Y, X=X)' * W * g_N(θ; Y=Y, X=X)\n",
    "end;"
   ]
  },
  {
   "cell_type": "code",
   "execution_count": 9,
   "id": "52dd618e",
   "metadata": {},
   "outputs": [
    {
     "data": {
      "text/plain": [
       "12223.16261439988"
      ]
     },
     "execution_count": 9,
     "metadata": {},
     "output_type": "execute_result"
    }
   ],
   "source": [
    "θ_0 = [0.0, 0.0] # Initial guess\n",
    "W_0 = I(2) # 2x2 identity matrix\n",
    "Q_N([0.0, 0.0], W=W_0, Y=Y, X=X)"
   ]
  },
  {
   "cell_type": "code",
   "execution_count": 10,
   "id": "cae86015",
   "metadata": {},
   "outputs": [
    {
     "data": {
      "text/plain": [
       "2-element Vector{Float64}:\n",
       " 2.115784665111538\n",
       " 2.971465985897643"
      ]
     },
     "execution_count": 10,
     "metadata": {},
     "output_type": "execute_result"
    }
   ],
   "source": [
    "using Optim\n",
    "res_step_1 = Optim.optimize(θ -> Q_N(θ; W = W_0), θ_0, Newton())\n",
    "θ_1 = res_step_1.minimizer # Step 1 estimate"
   ]
  },
  {
   "cell_type": "code",
   "execution_count": 11,
   "id": "db6c2abf",
   "metadata": {},
   "outputs": [
    {
     "data": {
      "text/plain": [
       "2×2 Matrix{Float64}:\n",
       "  1.78631  -0.2701\n",
       " -0.2701    0.054656"
      ]
     },
     "execution_count": 11,
     "metadata": {},
     "output_type": "execute_result"
    }
   ],
   "source": [
    "W_hat = inv(g_i(θ_1)'  * g_i(θ_1) ./N)"
   ]
  },
  {
   "cell_type": "code",
   "execution_count": 12,
   "id": "ba1f7904",
   "metadata": {},
   "outputs": [
    {
     "data": {
      "text/plain": [
       "2-element Vector{Float64}:\n",
       " 2.115784665111508\n",
       " 2.9714659858976464"
      ]
     },
     "execution_count": 12,
     "metadata": {},
     "output_type": "execute_result"
    }
   ],
   "source": [
    "res_step_2 = Optim.optimize(θ -> Q_N(θ; W = W_hat), θ_0, Newton())\n",
    "θ_2 = res_step_2.minimizer # Step 2 estimate"
   ]
  },
  {
   "cell_type": "code",
   "execution_count": 13,
   "id": "fb1324ba",
   "metadata": {},
   "outputs": [
    {
     "data": {
      "text/plain": [
       "2×2 Matrix{Float64}:\n",
       " -1.0       -4.98174\n",
       " -4.98174  -33.2213"
      ]
     },
     "execution_count": 13,
     "metadata": {},
     "output_type": "execute_result"
    }
   ],
   "source": [
    "using ForwardDiff\n",
    "D_hat = ForwardDiff.jacobian(g_N, θ_2)"
   ]
  },
  {
   "cell_type": "code",
   "execution_count": 14,
   "id": "79512f55",
   "metadata": {},
   "outputs": [
    {
     "data": {
      "text/plain": [
       "2×2 Matrix{Float64}:\n",
       "  2.21471  10.9447\n",
       " 10.9447   72.3829"
      ]
     },
     "execution_count": 14,
     "metadata": {},
     "output_type": "execute_result"
    }
   ],
   "source": [
    "S_hat = g_i(θ_2)'  * g_i(θ_2) ./N"
   ]
  },
  {
   "cell_type": "code",
   "execution_count": 15,
   "id": "1c4e6a1c",
   "metadata": {},
   "outputs": [
    {
     "data": {
      "text/plain": [
       "2×2 Matrix{Float64}:\n",
       "  0.00875061  -0.00130145\n",
       " -0.00130145   0.000259132"
      ]
     },
     "execution_count": 15,
     "metadata": {},
     "output_type": "execute_result"
    }
   ],
   "source": [
    "V_hat = inv(D_hat' * inv(S_hat) * D_hat) ./N"
   ]
  },
  {
   "cell_type": "code",
   "execution_count": 16,
   "id": "33768425",
   "metadata": {},
   "outputs": [
    {
     "data": {
      "text/plain": [
       "2-element Vector{Float64}:\n",
       " 0.09354468036028733\n",
       " 0.016097563221981737"
      ]
     },
     "execution_count": 16,
     "metadata": {},
     "output_type": "execute_result"
    }
   ],
   "source": [
    "SEs = sqrt.(diag(V_hat))"
   ]
  },
  {
   "cell_type": "code",
   "execution_count": 17,
   "id": "35f79e2c",
   "metadata": {},
   "outputs": [
    {
     "name": "stdout",
     "output_type": "stream",
     "text": [
      "\u001b[1m2×5 DataFrame\u001b[0m\n",
      "\u001b[1m Row \u001b[0m│\u001b[1m Coefficient \u001b[0m\u001b[1m Estimate \u001b[0m\u001b[1m StdError  \u001b[0m\u001b[1m CI_lower \u001b[0m\u001b[1m CI_upper \u001b[0m\n",
      "     │\u001b[90m String      \u001b[0m\u001b[90m Float64  \u001b[0m\u001b[90m Float64   \u001b[0m\u001b[90m Float64  \u001b[0m\u001b[90m Float64  \u001b[0m\n",
      "─────┼──────────────────────────────────────────────────────\n",
      "   1 │ beta_0        2.11578  0.0935447   1.93244   2.29913\n",
      "   2 │ beta_1        2.97147  0.0160976   2.93992   3.00302\n"
     ]
    }
   ],
   "source": [
    "using DataFrames, Distributions\n",
    "df = DataFrame(\n",
    "  Coefficient = [\"beta_0\", \"beta_1\"],\n",
    "  Estimate = θ_2,\n",
    "  StdError = SEs,\n",
    "  CI_lower = θ_2 .+ quantile(Normal(), 0.025) .* SEs,\n",
    "  CI_upper = θ_2 .+ quantile(Normal(), 0.975) .* SEs\n",
    ")\n",
    "\n",
    "println(df)"
   ]
  }
 ],
 "metadata": {
  "kernelspec": {
   "display_name": "Julia 1.9.4",
   "language": "julia",
   "name": "julia-1.9"
  },
  "language_info": {
   "file_extension": ".jl",
   "mimetype": "application/julia",
   "name": "julia",
   "version": "1.9.4"
  }
 },
 "nbformat": 4,
 "nbformat_minor": 5
}