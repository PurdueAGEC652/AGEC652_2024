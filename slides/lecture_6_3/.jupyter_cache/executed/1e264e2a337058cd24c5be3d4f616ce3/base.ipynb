{
 "cells": [
  {
   "cell_type": "code",
   "execution_count": 1,
   "id": "80af23a0",
   "metadata": {},
   "outputs": [],
   "source": [
    "import IJulia\n",
    "\n",
    "# The julia kernel has built in support for Revise.jl, so this is the \n",
    "# recommended approach for long-running sessions:\n",
    "# https://github.com/JuliaLang/IJulia.jl/blob/9b10fa9b879574bbf720f5285029e07758e50a5e/src/kernel.jl#L46-L51\n",
    "\n",
    "# Users should enable revise within .julia/config/startup_ijulia.jl:\n",
    "# https://timholy.github.io/Revise.jl/stable/config/#Using-Revise-automatically-within-Jupyter/IJulia-1\n",
    "\n",
    "# clear console history\n",
    "IJulia.clear_history()\n",
    "\n",
    "fig_width = 7\n",
    "fig_height = 5\n",
    "fig_format = :retina\n",
    "fig_dpi = 96\n",
    "\n",
    "# no retina format type, use svg for high quality type/marks\n",
    "if fig_format == :retina\n",
    "  fig_format = :svg\n",
    "elseif fig_format == :pdf\n",
    "  fig_dpi = 96\n",
    "  # Enable PDF support for IJulia\n",
    "  IJulia.register_mime(MIME(\"application/pdf\"))\n",
    "end\n",
    "\n",
    "# convert inches to pixels\n",
    "fig_width = fig_width * fig_dpi\n",
    "fig_height = fig_height * fig_dpi\n",
    "\n",
    "# Intialize Plots w/ default fig width/height\n",
    "try\n",
    "  import Plots\n",
    "\n",
    "  # Plots.jl doesn't support PDF output for versions < 1.28.1\n",
    "  # so use png (if the DPI remains the default of 300 then set to 96)\n",
    "  if (Plots._current_plots_version < v\"1.28.1\") & (fig_format == :pdf)\n",
    "    Plots.gr(size=(fig_width, fig_height), fmt = :png, dpi = fig_dpi)\n",
    "  else\n",
    "    Plots.gr(size=(fig_width, fig_height), fmt = fig_format, dpi = fig_dpi)\n",
    "  end\n",
    "catch e\n",
    "  # @warn \"Plots init\" exception=(e, catch_backtrace())\n",
    "end\n",
    "\n",
    "# Initialize CairoMakie with default fig width/height\n",
    "try\n",
    "  import CairoMakie\n",
    "  \n",
    "  CairoMakie.activate!(type = string(fig_format))\n",
    "  CairoMakie.update_theme!(resolution=(fig_width, fig_height))\n",
    "catch e\n",
    "    # @warn \"CairoMakie init\" exception=(e, catch_backtrace())\n",
    "end\n",
    "  \n",
    "# Set run_path if specified\n",
    "try\n",
    "  run_path = raw\"/home/diego/local_repos/AGEC652_2024/AGEC652_2024/slides/lecture_6_3\"\n",
    "  if !isempty(run_path)\n",
    "    cd(run_path)\n",
    "  end\n",
    "catch e\n",
    "  @warn \"Run path init:\" exception=(e, catch_backtrace())\n",
    "end\n",
    "\n",
    "\n",
    "# emulate old Pkg.installed beahvior, see\n",
    "# https://discourse.julialang.org/t/how-to-use-pkg-dependencies-instead-of-pkg-installed/36416/9\n",
    "import Pkg\n",
    "function isinstalled(pkg::String)\n",
    "  any(x -> x.name == pkg && x.is_direct_dep, values(Pkg.dependencies()))\n",
    "end\n",
    "\n",
    "# ojs_define\n",
    "if isinstalled(\"JSON\") && isinstalled(\"DataFrames\")\n",
    "  import JSON, DataFrames\n",
    "  global function ojs_define(; kwargs...)\n",
    "    convert(x) = x\n",
    "    convert(x::DataFrames.AbstractDataFrame) = Tables.rows(x)\n",
    "    content = Dict(\"contents\" => [Dict(\"name\" => k, \"value\" => convert(v)) for (k, v) in kwargs])\n",
    "    tag = \"<script type='ojs-define'>$(JSON.json(content))</script>\"\n",
    "    IJulia.display(MIME(\"text/html\"), tag)\n",
    "  end\n",
    "elseif isinstalled(\"JSON\")\n",
    "  import JSON\n",
    "  global function ojs_define(; kwargs...)\n",
    "    content = Dict(\"contents\" => [Dict(\"name\" => k, \"value\" => v) for (k, v) in kwargs])\n",
    "    tag = \"<script type='ojs-define'>$(JSON.json(content))</script>\"\n",
    "    IJulia.display(MIME(\"text/html\"), tag)\n",
    "  end\n",
    "else\n",
    "  global function ojs_define(; kwargs...)\n",
    "    @warn \"JSON package not available. Please install the JSON.jl package to use ojs_define.\"\n",
    "  end\n",
    "end\n",
    "\n",
    "\n",
    "# don't return kernel dependencies (b/c Revise should take care of dependencies)\n",
    "nothing\n"
   ]
  },
  {
   "cell_type": "code",
   "execution_count": 2,
   "id": "4af65912",
   "metadata": {},
   "outputs": [
    {
     "name": "stderr",
     "output_type": "stream",
     "text": [
      "\u001b[32m\u001b[1m  Activating\u001b[22m\u001b[39m project at `~/local_repos/AGEC652_2024/AGEC652_2024/slides/lecture_6_3`\n"
     ]
    }
   ],
   "source": [
    "#| include: false\n",
    "using Pkg\n",
    "Pkg.activate(\".\")\n",
    "Pkg.instantiate()\n",
    "# Pkg.add(\"JuMP\")\n",
    "# Pkg.add(\"Ipopt\")\n",
    "# Pkg.add(\"Statistics\")\n",
    "# Pkg.add(\"Plots\")\n",
    "# Pkg.add(\"ForwardDiff\")\n",
    "# Pkg.add(\"LinearAlgebra\")\n",
    "# Pkg.add(\"LaTeXStrings\")\n",
    "# Pkg.add(\"GLM\")\n",
    "# Pkg.add(\"DataFrames\")\n",
    "# Pkg.add(\"Distributions\")"
   ]
  },
  {
   "cell_type": "code",
   "execution_count": 3,
   "id": "1389427f",
   "metadata": {},
   "outputs": [
    {
     "data": {
      "text/plain": [
       "7-element Vector{Float64}:\n",
       " -1.0\n",
       " -1.2\n",
       " -0.1\n",
       "  0.3\n",
       "  0.4\n",
       " -0.1\n",
       " -0.2"
      ]
     },
     "execution_count": 16,
     "metadata": {},
     "output_type": "execute_result"
    }
   ],
   "source": [
    "β_b = [-2.5, -1.2,  0.2, -0.1,  0.2,  0.0, -0.6]\n",
    "β_t = [-1.0, -1.2, -0.1,  0.3,  0.4, -0.1, -0.2] "
   ]
  },
  {
   "cell_type": "code",
   "execution_count": 4,
   "id": "be1fad66",
   "metadata": {},
   "outputs": [
    {
     "data": {
      "text/plain": [
       "30"
      ]
     },
     "execution_count": 17,
     "metadata": {},
     "output_type": "execute_result"
    }
   ],
   "source": [
    "N_survey = 200 # Individuals surveyed per city\n",
    "N_nr_cities = 30 # Non-rail cities surveyed"
   ]
  },
  {
   "cell_type": "code",
   "execution_count": 5,
   "id": "9fe597ef",
   "metadata": {},
   "outputs": [],
   "source": [
    "using Random, Distributions, Statistics\n",
    "Random.seed!(652)\n",
    "density_nr = rand(Uniform(1, 8), N_nr_cities); # Thousands of people per square mile"
   ]
  },
  {
   "cell_type": "code",
   "execution_count": 6,
   "id": "1f873ce6",
   "metadata": {},
   "outputs": [],
   "source": [
    "busroutes_nr = 5 .+ density_nr .* 6 .+ rand(Uniform(-3, 3), N_nr_cities) # 6 x density plus random variation\n",
    "busroutes_nr = round.(busroutes_nr, digits = 0); # Make it an integer"
   ]
  },
  {
   "cell_type": "code",
   "execution_count": 7,
   "id": "73792726",
   "metadata": {},
   "outputs": [],
   "source": [
    "price_nr = busroutes_nr .* 20 .+ rand(Uniform(-50, 50), N_nr_cities); # 10 x routs plus random variation"
   ]
  },
  {
   "cell_type": "code",
   "execution_count": 8,
   "id": "556efd8f",
   "metadata": {},
   "outputs": [
    {
     "name": "stdout",
     "output_type": "stream",
     "text": [
      "\u001b[1m5×5 DataFrame\u001b[0m\n",
      "\u001b[1m Row \u001b[0m│\u001b[1m city   \u001b[0m\u001b[1m price   \u001b[0m\u001b[1m busroutes \u001b[0m\u001b[1m trainstops \u001b[0m\u001b[1m density \u001b[0m\n",
      "     │\u001b[90m String \u001b[0m\u001b[90m Float64 \u001b[0m\u001b[90m Float64   \u001b[0m\u001b[90m Float64    \u001b[0m\u001b[90m Float64 \u001b[0m\n",
      "─────┼─────────────────────────────────────────────────\n",
      "   1 │ nr_1    729.054       36.0         0.0  5.30334\n",
      "   2 │ nr_2    989.181       49.0         0.0  7.70467\n",
      "   3 │ nr_3    614.409       32.0         0.0  4.35255\n",
      "   4 │ nr_4    919.252       44.0         0.0  6.29315\n",
      "   5 │ nr_5    531.632       27.0         0.0  4.07286\n"
     ]
    }
   ],
   "source": [
    "using DataFrames\n",
    "cities_nr = DataFrame(\n",
    "  city = [\"nr_$(i)\" for i in 1:N_nr_cities], # Create an index\n",
    "  price = price_nr,\n",
    "  busroutes = busroutes_nr, \n",
    "  trainstops = zeros(N_nr_cities), # No trains\n",
    "  density = density_nr\n",
    ");\n",
    "println(cities_nr[1:5,:]) # Look at first 5 rows"
   ]
  },
  {
   "cell_type": "code",
   "execution_count": 9,
   "id": "81aa85f2",
   "metadata": {},
   "outputs": [],
   "source": [
    "homeown_nr = rand(Bernoulli(0.75), N_survey * N_nr_cities);"
   ]
  },
  {
   "cell_type": "code",
   "execution_count": 10,
   "id": "9d4c4783",
   "metadata": {},
   "outputs": [],
   "source": [
    "hhsize_nr = rand(Poisson(3.0), N_survey * N_nr_cities);"
   ]
  },
  {
   "cell_type": "code",
   "execution_count": 11,
   "id": "828ec744",
   "metadata": {},
   "outputs": [],
   "source": [
    "survey_nr = DataFrame(\n",
    "  city = repeat([\"nr_$(i)\" for i in 1:N_nr_cities], N_survey), # Create an index\n",
    "  hhsize = hhsize_nr,\n",
    "  homeown = homeown_nr\n",
    ");"
   ]
  },
  {
   "cell_type": "code",
   "execution_count": 12,
   "id": "70fd09ba",
   "metadata": {},
   "outputs": [
    {
     "name": "stdout",
     "output_type": "stream",
     "text": [
      "\u001b[1m10×7 DataFrame\u001b[0m\n",
      "\u001b[1m Row \u001b[0m│\u001b[1m city   \u001b[0m\u001b[1m hhsize \u001b[0m\u001b[1m homeown \u001b[0m\u001b[1m price    \u001b[0m\u001b[1m busroutes \u001b[0m\u001b[1m trainstops \u001b[0m\u001b[1m density  \u001b[0m\n",
      "     │\u001b[90m String \u001b[0m\u001b[90m Int64  \u001b[0m\u001b[90m Bool    \u001b[0m\u001b[90m Float64? \u001b[0m\u001b[90m Float64?  \u001b[0m\u001b[90m Float64?   \u001b[0m\u001b[90m Float64? \u001b[0m\n",
      "─────┼────────────────────────────────────────────────────────────────────\n",
      "   1 │ nr_1         7    false   729.054       36.0         0.0   5.30334\n",
      "   2 │ nr_2         5     true   989.181       49.0         0.0   7.70467\n",
      "   3 │ nr_3         4     true   614.409       32.0         0.0   4.35255\n",
      "   4 │ nr_4         3    false   919.252       44.0         0.0   6.29315\n",
      "   5 │ nr_5         2     true   531.632       27.0         0.0   4.07286\n",
      "   6 │ nr_6         3     true   313.068       18.0         0.0   2.42885\n",
      "   7 │ nr_7         3    false   356.792       17.0         0.0   1.87182\n",
      "   8 │ nr_8         2    false   966.212       50.0         0.0   7.32123\n",
      "   9 │ nr_9         5     true   477.805       22.0         0.0   2.33616\n",
      "  10 │ nr_10        1     true   781.698       39.0         0.0   5.5303\n"
     ]
    }
   ],
   "source": [
    "data_nr = leftjoin(survey_nr, cities_nr, on = :city);\n",
    "println(data_nr[1:10,:]) # Look at first 10 rows"
   ]
  }
 ],
 "metadata": {
  "kernelspec": {
   "display_name": "Julia 1.9.4",
   "language": "julia",
   "name": "julia-1.9"
  }
 },
 "nbformat": 4,
 "nbformat_minor": 5
}