{
 "cells": [
  {
   "cell_type": "code",
   "execution_count": 1,
   "id": "d2ab05b8",
   "metadata": {},
   "outputs": [],
   "source": [
    "import IJulia\n",
    "\n",
    "# The julia kernel has built in support for Revise.jl, so this is the \n",
    "# recommended approach for long-running sessions:\n",
    "# https://github.com/JuliaLang/IJulia.jl/blob/9b10fa9b879574bbf720f5285029e07758e50a5e/src/kernel.jl#L46-L51\n",
    "\n",
    "# Users should enable revise within .julia/config/startup_ijulia.jl:\n",
    "# https://timholy.github.io/Revise.jl/stable/config/#Using-Revise-automatically-within-Jupyter/IJulia-1\n",
    "\n",
    "# clear console history\n",
    "IJulia.clear_history()\n",
    "\n",
    "fig_width = 8\n",
    "fig_height = 4\n",
    "fig_format = :retina\n",
    "fig_dpi = 96\n",
    "\n",
    "# no retina format type, use svg for high quality type/marks\n",
    "if fig_format == :retina\n",
    "  fig_format = :svg\n",
    "elseif fig_format == :pdf\n",
    "  fig_dpi = 96\n",
    "  # Enable PDF support for IJulia\n",
    "  IJulia.register_mime(MIME(\"application/pdf\"))\n",
    "end\n",
    "\n",
    "# convert inches to pixels\n",
    "fig_width = fig_width * fig_dpi\n",
    "fig_height = fig_height * fig_dpi\n",
    "\n",
    "# Intialize Plots w/ default fig width/height\n",
    "try\n",
    "  import Plots\n",
    "\n",
    "  # Plots.jl doesn't support PDF output for versions < 1.28.1\n",
    "  # so use png (if the DPI remains the default of 300 then set to 96)\n",
    "  if (Plots._current_plots_version < v\"1.28.1\") & (fig_format == :pdf)\n",
    "    Plots.gr(size=(fig_width, fig_height), fmt = :png, dpi = fig_dpi)\n",
    "  else\n",
    "    Plots.gr(size=(fig_width, fig_height), fmt = fig_format, dpi = fig_dpi)\n",
    "  end\n",
    "catch e\n",
    "  # @warn \"Plots init\" exception=(e, catch_backtrace())\n",
    "end\n",
    "\n",
    "# Initialize CairoMakie with default fig width/height\n",
    "try\n",
    "  import CairoMakie\n",
    "  \n",
    "  CairoMakie.activate!(type = string(fig_format))\n",
    "  CairoMakie.update_theme!(resolution=(fig_width, fig_height))\n",
    "catch e\n",
    "    # @warn \"CairoMakie init\" exception=(e, catch_backtrace())\n",
    "end\n",
    "  \n",
    "# Set run_path if specified\n",
    "try\n",
    "  run_path = raw\"/home/diego/local_repos/AGEC652_2024/slides/lecture_7_1\"\n",
    "  if !isempty(run_path)\n",
    "    cd(run_path)\n",
    "  end\n",
    "catch e\n",
    "  @warn \"Run path init:\" exception=(e, catch_backtrace())\n",
    "end\n",
    "\n",
    "\n",
    "# emulate old Pkg.installed beahvior, see\n",
    "# https://discourse.julialang.org/t/how-to-use-pkg-dependencies-instead-of-pkg-installed/36416/9\n",
    "import Pkg\n",
    "function isinstalled(pkg::String)\n",
    "  any(x -> x.name == pkg && x.is_direct_dep, values(Pkg.dependencies()))\n",
    "end\n",
    "\n",
    "# ojs_define\n",
    "if isinstalled(\"JSON\") && isinstalled(\"DataFrames\")\n",
    "  import JSON, DataFrames\n",
    "  global function ojs_define(; kwargs...)\n",
    "    convert(x) = x\n",
    "    convert(x::DataFrames.AbstractDataFrame) = Tables.rows(x)\n",
    "    content = Dict(\"contents\" => [Dict(\"name\" => k, \"value\" => convert(v)) for (k, v) in kwargs])\n",
    "    tag = \"<script type='ojs-define'>$(JSON.json(content))</script>\"\n",
    "    IJulia.display(MIME(\"text/html\"), tag)\n",
    "  end\n",
    "elseif isinstalled(\"JSON\")\n",
    "  import JSON\n",
    "  global function ojs_define(; kwargs...)\n",
    "    content = Dict(\"contents\" => [Dict(\"name\" => k, \"value\" => v) for (k, v) in kwargs])\n",
    "    tag = \"<script type='ojs-define'>$(JSON.json(content))</script>\"\n",
    "    IJulia.display(MIME(\"text/html\"), tag)\n",
    "  end\n",
    "else\n",
    "  global function ojs_define(; kwargs...)\n",
    "    @warn \"JSON package not available. Please install the JSON.jl package to use ojs_define.\"\n",
    "  end\n",
    "end\n",
    "\n",
    "\n",
    "# don't return kernel dependencies (b/c Revise should take care of dependencies)\n",
    "nothing\n"
   ]
  },
  {
   "cell_type": "code",
   "execution_count": 2,
   "id": "1876b5e8",
   "metadata": {},
   "outputs": [
    {
     "name": "stderr",
     "output_type": "stream",
     "text": [
      "\u001b[32m\u001b[1m  Activating\u001b[22m\u001b[39m new project at `~/local_repos/AGEC652_2024/slides/lecture_7_1`\n"
     ]
    }
   ],
   "source": [
    "#| include: false\n",
    "using Pkg\n",
    "Pkg.activate(\".\")\n",
    "Pkg.instantiate()\n",
    "# Pkg.add(\"JuMP\")\n",
    "# Pkg.add(\"Ipopt\")\n",
    "# Pkg.add(\"Statistics\")\n",
    "# Pkg.add(\"Plots\")\n",
    "# Pkg.add(\"ForwardDiff\")\n",
    "# Pkg.add(\"LinearAlgebra\")"
   ]
  },
  {
   "cell_type": "code",
   "execution_count": 3,
   "id": "f47ac621",
   "metadata": {},
   "outputs": [
    {
     "data": {
      "text/plain": [
       "log_likelihood (generic function with 1 method)"
      ]
     },
     "execution_count": 3,
     "metadata": {},
     "output_type": "execute_result"
    }
   ],
   "source": [
    "function log_likelihood(θ) \n",
    "  β0, β1, σ = θ # Unpack parameters\n",
    "  return -n/2*log(2*pi) - n/2*log(σ^2) - (1/(2*σ^2)) * sum((y .- β0 .- β1 .* x).^2)\n",
    "end"
   ]
  },
  {
   "cell_type": "code",
   "execution_count": 4,
   "id": "56ca6b56",
   "metadata": {},
   "outputs": [
    {
     "name": "stderr",
     "output_type": "stream",
     "text": [
      "\u001b[36m\u001b[1m[ \u001b[22m\u001b[39m\u001b[36m\u001b[1mInfo: \u001b[22m\u001b[39mPrecompiling JuMP [4076af6c-e467-56ae-b986-b466b2749572]\n"
     ]
    },
    {
     "name": "stderr",
     "output_type": "stream",
     "text": [
      "\u001b[36m\u001b[1m[ \u001b[22m\u001b[39m\u001b[36m\u001b[1mInfo: \u001b[22m\u001b[39mPrecompiling Ipopt [b6b21f68-93f8-5de0-b562-5493be1d77c9]\n"
     ]
    },
    {
     "data": {
      "text/plain": [
       "1000-element Vector{Float64}:\n",
       " 21.67019447290482\n",
       " 28.90711926428413\n",
       " 16.442940381636067\n",
       " 22.364903307770113\n",
       " 16.223008723288245\n",
       "  9.150914155735176\n",
       "  6.494370868789826\n",
       " 29.190769080962113\n",
       "  8.845913560652406\n",
       " 19.768418811032205\n",
       "  8.768806341579456\n",
       " 28.905029646813723\n",
       " 12.30335776513745\n",
       "  ⋮\n",
       " 11.360611536318569\n",
       " 19.1496946598927\n",
       " 25.457203383492395\n",
       "  1.4494239993093165\n",
       "  9.673970881293892\n",
       " 20.211214574506702\n",
       "  9.796687093954356\n",
       " 24.24916530921735\n",
       " 17.096168925423544\n",
       "  5.155534028613376\n",
       " 17.977179360988384\n",
       " 16.455682148662746"
      ]
     },
     "execution_count": 4,
     "metadata": {},
     "output_type": "execute_result"
    }
   ],
   "source": [
    "using JuMP, Ipopt, Statistics, Random\n",
    "# Generate some synthetic data for illustration\n",
    "Random.seed!(652) # Set random seed for reproducibility\n",
    "n = 1000  # Number of observations\n",
    "x = rand(n) * 10  # Independent variable: random uniform [0,10]\n",
    "β0_true = 2.0  # True intercept\n",
    "β1_true = 3.0  # True slope\n",
    "σ_true = 1.5  # True standard deviation of the errors\n",
    "ε = randn(n) * σ_true  # Normally distributed errors\n",
    "y = β0_true .+ β1_true .* x .+ ε  # Dependent variable"
   ]
  },
  {
   "cell_type": "code",
   "execution_count": 5,
   "id": "ba6d8eed",
   "metadata": {},
   "outputs": [
    {
     "data": {
      "text/latex": [
       "$ {\\left({-918.9385332046727} - {\\left({500.0} * {\\textsf{log}\\left({σ^2}\\right)}\\right)}\\right)} - {\\left({\\left({1.0} / {\\left(2 σ^2\\right)}\\right)} * {\\left(1000 β0^2 + 9963.47856099766 β1\\times β0 + 33221.279563642376 β1^2 - 33837.70697544798 β0 - 218512.37961324598 β1 + 362662.4150397652\\right)}\\right)} $"
      ],
      "text/plain": [
       "(-918.9385332046727 - (500.0 * log(σ²))) - ((1.0 / (2 σ²)) * (1000 β0² + 9963.47856099766 β1*β0 + 33221.279563642376 β1² - 33837.70697544798 β0 - 218512.37961324598 β1 + 362662.4150397652))"
      ]
     },
     "execution_count": 5,
     "metadata": {},
     "output_type": "execute_result"
    }
   ],
   "source": [
    "# Define the model\n",
    "mle_model = Model(Ipopt.Optimizer);\n",
    "@variable(mle_model, β0);\n",
    "@variable(mle_model, β1);\n",
    "@variable(mle_model, σ >= 0.0001);  # Avoid division by zero in the log-likelihood\n",
    "\n",
    "# Set the objective to maximize the log-likelihood\n",
    "@objective(mle_model, Max, log_likelihood([β0, β1, σ]))"
   ]
  },
  {
   "cell_type": "code",
   "execution_count": 6,
   "id": "83e9c318",
   "metadata": {},
   "outputs": [
    {
     "name": "stdout",
     "output_type": "stream",
     "text": [
      "\n",
      "******************************************************************************\n",
      "This program contains Ipopt, a library for large-scale nonlinear optimization.\n",
      " Ipopt is released as open source code under the Eclipse Public License (EPL).\n",
      "         For more information visit https://github.com/coin-or/Ipopt\n",
      "******************************************************************************\n",
      "\n",
      "This is Ipopt version 3.14.13, running with linear solver MUMPS 5.6.1.\n",
      "\n",
      "Number of nonzeros in equality constraint Jacobian...:        0\n",
      "Number of nonzeros in inequality constraint Jacobian.:        0\n",
      "Number of nonzeros in Lagrangian Hessian.............:        6\n",
      "\n",
      "Total number of variables............................:        3\n",
      "                     variables with only lower bounds:        1\n",
      "                variables with lower and upper bounds:        0\n",
      "                     variables with only upper bounds:        0\n",
      "Total number of equality constraints.................:        0\n",
      "Total number of inequality constraints...............:        0\n",
      "        inequality constraints with only lower bounds:        0\n",
      "   inequality constraints with lower and upper bounds:        0\n",
      "        inequality constraints with only upper bounds:        0\n",
      "\n",
      "iter    objective    inf_pr   inf_du lg(mu)  ||d||  lg(rg) alpha_du alpha_pr  ls\n",
      "   0 -1.7775825e+09 0.00e+00 3.52e+03  -1.0 0.00e+00    -  0.00e+00 0.00e+00   0\n",
      "   1 -9.8746876e+08 0.00e+00 1.48e+03  -1.0 3.59e-02   2.0 1.00e+00 1.00e+00f  1\n",
      "   2 -5.4405516e+08 0.00e+00 6.19e+02  -1.0 6.09e-02   1.5 1.00e+00 1.00e+00f  1\n",
      "   3 -2.9487793e+08 0.00e+00 2.58e+02  -1.0 1.03e-01   1.0 1.00e+00 1.00e+00f  1\n",
      "   4 -1.5520191e+08 0.00e+00 1.06e+02  -1.0 1.76e-01   0.6 1.00e+00 1.00e+00f  1\n",
      "   5 -7.6946295e+07 0.00e+00 4.25e+01  -1.0 3.00e-01   0.1 1.00e+00 1.00e+00f  1\n",
      "   6 -3.3241426e+07 0.00e+00 1.63e+01  -1.0 5.15e-01  -0.4 1.00e+00 1.00e+00f  1\n",
      "   7 -9.4929137e+06 0.00e+00 5.61e+00  -1.0 8.53e-01  -0.9 1.00e+00 1.00e+00f  1\n",
      "   8 -2.2118764e+06 0.00e+00 2.31e+00  -1.0 5.40e-01  -1.3 1.00e+00 1.00e+00f  1\n",
      "   9 -1.7741562e+06 0.00e+00 5.41e-01  -1.0 1.30e+00    -  1.00e+00 1.00e+00f  1\n",
      "iter    objective    inf_pr   inf_du lg(mu)  ||d||  lg(rg) alpha_du alpha_pr  ls\n",
      "  10 -6.1757310e+05 0.00e+00 1.91e-01  -1.7 2.97e-01  -1.8 1.00e+00 1.00e+00f  1\n",
      "  11 -1.5213281e+05 0.00e+00 1.54e-01  -2.5 8.76e+00    -  1.00e+00 2.50e-01f  3\n",
      "  12 -6.8928999e+04 0.00e+00 1.28e-02  -2.5 4.66e-01    -  1.00e+00 1.00e+00f  1\n",
      "  13 -3.7074924e+04 0.00e+00 4.71e-03  -3.8 9.54e-02    -  1.00e+00 1.00e+00f  1\n",
      "  14 -1.9111867e+04 0.00e+00 2.30e-03  -3.8 6.60e-02    -  1.00e+00 1.00e+00f  1\n",
      "  15 -9.8098107e+03 0.00e+00 9.12e-04  -3.8 9.51e-02    -  1.00e+00 1.00e+00f  1\n",
      "  16 -6.2123160e+03 0.00e+00 2.66e-04  -5.7 8.98e-02    -  7.99e-01 1.00e+00f  1\n",
      "  17 -3.8667251e+03 0.00e+00 1.12e-04  -5.7 1.36e-01    -  1.00e+00 1.00e+00f  1\n",
      "  18 -2.6745081e+03 0.00e+00 4.48e-05  -5.7 1.71e-01    -  1.00e+00 1.00e+00f  1\n",
      "  19 -2.1067638e+03 0.00e+00 1.78e-05  -5.7 2.10e-01    -  1.00e+00 1.00e+00f  1\n",
      "iter    objective    inf_pr   inf_du lg(mu)  ||d||  lg(rg) alpha_du alpha_pr  ls\n",
      "  20 -1.8939939e+03 0.00e+00 5.76e-06  -8.6 2.11e-01    -  8.18e-01 1.00e+00f  1\n",
      "  21 -1.8273765e+03 0.00e+00 1.66e-06  -8.6 1.92e-01    -  1.00e+00 1.00e+00f  1\n",
      "  22 -1.8169208e+03 0.00e+00 2.87e-07  -8.6 1.13e-01    -  1.00e+00 1.00e+00f  1\n",
      "  23 -1.8165006e+03 0.00e+00 1.35e-08  -8.6 2.87e-02    -  1.00e+00 1.00e+00f  1\n",
      "  24 -1.8164998e+03 0.00e+00 2.71e-11 -12.9 1.30e-03    -  9.99e-01 1.00e+00f  1\n",
      "\n",
      "Number of Iterations....: 24\n",
      "\n",
      "                                   (scaled)                 (unscaled)\n",
      "Objective...............:   1.8164998368434539e-05   -1.8164998368434537e+03\n",
      "Dual infeasibility......:   2.7133122697689582e-11    2.7133122697689583e-03\n",
      "Constraint violation....:   0.0000000000000000e+00    0.0000000000000000e+00\n",
      "Variable bound violation:   0.0000000000000000e+00    0.0000000000000000e+00\n",
      "Complementarity.........:   3.1480716766242930e-22    3.1480716766242931e-14\n",
      "Overall NLP error.......:   2.7133122697689582e-11    2.7133122697689583e-03\n",
      "\n",
      "\n",
      "Number of objective function evaluations             = 31\n",
      "Number of objective gradient evaluations             = 25\n",
      "Number of equality constraint evaluations            = 0\n",
      "Number of inequality constraint evaluations          = 0\n",
      "Number of equality constraint Jacobian evaluations   = 0\n",
      "Number of inequality constraint Jacobian evaluations = 0\n",
      "Number of Lagrangian Hessian evaluations             = 24\n",
      "Total seconds in IPOPT                               = 1.045\n",
      "\n",
      "EXIT: Optimal Solution Found.\n"
     ]
    }
   ],
   "source": [
    "# Solve the model\n",
    "optimize!(mle_model)"
   ]
  },
  {
   "cell_type": "code",
   "execution_count": 7,
   "id": "1b751852",
   "metadata": {},
   "outputs": [
    {
     "name": "stdout",
     "output_type": "stream",
     "text": [
      "Estimated parameters:\n",
      "β0: 2.1157846433917067\n",
      "β1: 2.9714659830163095\n",
      "σ: 1.4881880181011236\n"
     ]
    }
   ],
   "source": [
    "# Retrieve the estimated parameters\n",
    "β0_hat = value(β0);\n",
    "β1_hat = value(β1);\n",
    "σ_hat = value(σ);\n",
    "\n",
    "println(\"Estimated parameters:\")\n",
    "println(\"β0: \", β0_hat)\n",
    "println(\"β1: \", β1_hat)\n",
    "println(\"σ: \", σ_hat)"
   ]
  },
  {
   "cell_type": "code",
   "execution_count": 8,
   "id": "65cd9407",
   "metadata": {},
   "outputs": [
    {
     "data": {
      "text/plain": [
       "3×3 Matrix{Float64}:\n",
       "  -451.528        -2249.39           -2.18902e-5\n",
       " -2249.39        -15000.3            -0.000123744\n",
       "    -2.18902e-5      -0.000123744  -903.061"
      ]
     },
     "execution_count": 8,
     "metadata": {},
     "output_type": "execute_result"
    }
   ],
   "source": [
    "using ForwardDiff, LinearAlgebra\n",
    "θ_hat = [β0_hat, β1_hat, σ_hat]\n",
    "Im = ForwardDiff.hessian(log_likelihood, θ_hat)"
   ]
  },
  {
   "cell_type": "code",
   "execution_count": 9,
   "id": "8f6a9e7f",
   "metadata": {},
   "outputs": [
    {
     "data": {
      "text/plain": [
       "3-element Vector{Float64}:\n",
       " 0.09356954161106933\n",
       " 0.016234029243829825\n",
       " 0.03327679494114926"
      ]
     },
     "execution_count": 9,
     "metadata": {},
     "output_type": "execute_result"
    }
   ],
   "source": [
    "V = inv(Im);\n",
    "SEs = sqrt.(diag(-V))"
   ]
  },
  {
   "cell_type": "code",
   "execution_count": 10,
   "id": "393d2995",
   "metadata": {},
   "outputs": [
    {
     "name": "stderr",
     "output_type": "stream",
     "text": [
      "\u001b[36m\u001b[1m[ \u001b[22m\u001b[39m\u001b[36m\u001b[1mInfo: \u001b[22m\u001b[39mPrecompiling DataFrames [a93c6f00-e57d-5684-b7b6-d8193f3e46c0]\n"
     ]
    },
    {
     "name": "stderr",
     "output_type": "stream",
     "text": [
      "\u001b[36m\u001b[1m[ \u001b[22m\u001b[39m\u001b[36m\u001b[1mInfo: \u001b[22m\u001b[39mPrecompiling Distributions [31c24e10-a181-5473-b8eb-7969acd0382f]\n"
     ]
    },
    {
     "name": "stderr",
     "output_type": "stream",
     "text": [
      "\u001b[36m\u001b[1m[ \u001b[22m\u001b[39m\u001b[36m\u001b[1mInfo: \u001b[22m\u001b[39mPrecompiling DistributionsTestExt [ffbe0ea5-a612-5ff7-aaf5-cac02eef3019]\n"
     ]
    },
    {
     "name": "stdout",
     "output_type": "stream",
     "text": [
      "\u001b[1m3×5 DataFrame\u001b[0m\n",
      "\u001b[1m Row \u001b[0m│\u001b[1m Coefficient \u001b[0m\u001b[1m Estimate \u001b[0m\u001b[1m StdError  \u001b[0m\u001b[1m CI_lower \u001b[0m\u001b[1m CI_upper \u001b[0m\n",
      "     │\u001b[90m String      \u001b[0m\u001b[90m Float64  \u001b[0m\u001b[90m Float64   \u001b[0m\u001b[90m Float64  \u001b[0m\u001b[90m Float64  \u001b[0m\n",
      "─────┼──────────────────────────────────────────────────────\n",
      "   1 │ beta_0        2.11578  0.0935695   1.93239   2.29918\n",
      "   2 │ beta_1        2.97147  0.016234    2.93965   3.00328\n",
      "   3 │ sigma         1.48819  0.0332768   1.42297   1.55341\n"
     ]
    }
   ],
   "source": [
    "using DataFrames, Distributions\n",
    "df = DataFrame(\n",
    "  Coefficient = [\"beta_0\", \"beta_1\", \"sigma\"],\n",
    "  Estimate = θ_hat,\n",
    "  StdError = SEs,\n",
    "  CI_lower = θ_hat .+ quantile(Normal(), 0.025) .* SEs,\n",
    "  CI_upper = θ_hat .+ quantile(Normal(), 0.975) .* SEs\n",
    ")\n",
    "\n",
    "println(df)"
   ]
  },
  {
   "cell_type": "code",
   "execution_count": 11,
   "id": "0e9c7298",
   "metadata": {},
   "outputs": [],
   "source": [
    "# Define the model\n",
    "mle_model_restr = Model(Ipopt.Optimizer);\n",
    "set_silent(mle_model_restr)\n",
    "@variable(mle_model_restr, β0);\n",
    "@variable(mle_model_restr, σ >= 0.0001);  # Avoid division by zero in the log-likelihood\n",
    "\n",
    "# Note β0 being used twice!\n",
    "@objective(mle_model_restr, Max, log_likelihood([β0, β0, σ]));\n",
    "\n",
    "optimize!(mle_model_restr);"
   ]
  },
  {
   "cell_type": "code",
   "execution_count": 12,
   "id": "8f80be9d",
   "metadata": {},
   "outputs": [
    {
     "name": "stdout",
     "output_type": "stream",
     "text": [
      "Estimated parameters:\n",
      "β0=β1: 2.1157846433917067\n",
      "σ: 1.4881880181011236\n"
     ]
    }
   ],
   "source": [
    "β0_hat_R = value(β0);\n",
    "σ_hat_R = value(σ);\n",
    "\n",
    "println(\"Estimated parameters:\")\n",
    "println(\"β0=β1: \", β0_hat)\n",
    "println(\"σ: \", σ_hat)"
   ]
  },
  {
   "cell_type": "code",
   "execution_count": 13,
   "id": "c1778567",
   "metadata": {},
   "outputs": [],
   "source": [
    "l_U = log_likelihood([β0_hat, β1_hat, σ_hat]);\n",
    "l_R = log_likelihood([β0_hat_R, β0_hat_R, σ_hat_R]);"
   ]
  },
  {
   "cell_type": "code",
   "execution_count": 14,
   "id": "007254c3",
   "metadata": {},
   "outputs": [
    {
     "data": {
      "text/plain": [
       "60.98011896416574"
      ]
     },
     "execution_count": 14,
     "metadata": {},
     "output_type": "execute_result"
    }
   ],
   "source": [
    "LR_stat = 2 * (l_U - l_R)"
   ]
  },
  {
   "cell_type": "code",
   "execution_count": 15,
   "id": "10d434c8",
   "metadata": {},
   "outputs": [
    {
     "name": "stdout",
     "output_type": "stream",
     "text": [
      "Critical value: 3.8414588206941245 . Test statistic: 60.98011896416574\n"
     ]
    }
   ],
   "source": [
    "crit_value = quantile(Chisq(1), 0.95);\n",
    "println(\"Critical value: $crit_value . Test statistic: $LR_stat\")"
   ]
  },
  {
   "cell_type": "code",
   "execution_count": 16,
   "id": "3af8be4c",
   "metadata": {},
   "outputs": [
    {
     "data": {
      "text/plain": [
       "5.773159728050814e-15"
      ]
     },
     "execution_count": 16,
     "metadata": {},
     "output_type": "execute_result"
    }
   ],
   "source": [
    "p_value = 1 - cdf(Chisq(1), LR_stat)"
   ]
  }
 ],
 "metadata": {
  "kernelspec": {
   "display_name": "Julia 1.9.4",
   "language": "julia",
   "name": "julia-1.9"
  },
  "language_info": {
   "file_extension": ".jl",
   "mimetype": "application/julia",
   "name": "julia",
   "version": "1.9.4"
  }
 },
 "nbformat": 4,
 "nbformat_minor": 5
}