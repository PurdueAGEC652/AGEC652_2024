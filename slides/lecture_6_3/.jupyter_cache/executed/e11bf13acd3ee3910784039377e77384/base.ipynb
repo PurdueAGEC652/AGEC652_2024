{
 "cells": [
  {
   "cell_type": "code",
   "execution_count": 1,
   "id": "f2b160db",
   "metadata": {},
   "outputs": [],
   "source": [
    "import IJulia\n",
    "\n",
    "# The julia kernel has built in support for Revise.jl, so this is the \n",
    "# recommended approach for long-running sessions:\n",
    "# https://github.com/JuliaLang/IJulia.jl/blob/9b10fa9b879574bbf720f5285029e07758e50a5e/src/kernel.jl#L46-L51\n",
    "\n",
    "# Users should enable revise within .julia/config/startup_ijulia.jl:\n",
    "# https://timholy.github.io/Revise.jl/stable/config/#Using-Revise-automatically-within-Jupyter/IJulia-1\n",
    "\n",
    "# clear console history\n",
    "IJulia.clear_history()\n",
    "\n",
    "fig_width = 7\n",
    "fig_height = 5\n",
    "fig_format = :retina\n",
    "fig_dpi = 96\n",
    "\n",
    "# no retina format type, use svg for high quality type/marks\n",
    "if fig_format == :retina\n",
    "  fig_format = :svg\n",
    "elseif fig_format == :pdf\n",
    "  fig_dpi = 96\n",
    "  # Enable PDF support for IJulia\n",
    "  IJulia.register_mime(MIME(\"application/pdf\"))\n",
    "end\n",
    "\n",
    "# convert inches to pixels\n",
    "fig_width = fig_width * fig_dpi\n",
    "fig_height = fig_height * fig_dpi\n",
    "\n",
    "# Intialize Plots w/ default fig width/height\n",
    "try\n",
    "  import Plots\n",
    "\n",
    "  # Plots.jl doesn't support PDF output for versions < 1.28.1\n",
    "  # so use png (if the DPI remains the default of 300 then set to 96)\n",
    "  if (Plots._current_plots_version < v\"1.28.1\") & (fig_format == :pdf)\n",
    "    Plots.gr(size=(fig_width, fig_height), fmt = :png, dpi = fig_dpi)\n",
    "  else\n",
    "    Plots.gr(size=(fig_width, fig_height), fmt = fig_format, dpi = fig_dpi)\n",
    "  end\n",
    "catch e\n",
    "  # @warn \"Plots init\" exception=(e, catch_backtrace())\n",
    "end\n",
    "\n",
    "# Initialize CairoMakie with default fig width/height\n",
    "try\n",
    "  import CairoMakie\n",
    "  \n",
    "  CairoMakie.activate!(type = string(fig_format))\n",
    "  CairoMakie.update_theme!(resolution=(fig_width, fig_height))\n",
    "catch e\n",
    "    # @warn \"CairoMakie init\" exception=(e, catch_backtrace())\n",
    "end\n",
    "  \n",
    "# Set run_path if specified\n",
    "try\n",
    "  run_path = raw\"/home/diego/local_repos/AGEC652_2024/AGEC652_2024/slides/lecture_6_3\"\n",
    "  if !isempty(run_path)\n",
    "    cd(run_path)\n",
    "  end\n",
    "catch e\n",
    "  @warn \"Run path init:\" exception=(e, catch_backtrace())\n",
    "end\n",
    "\n",
    "\n",
    "# emulate old Pkg.installed beahvior, see\n",
    "# https://discourse.julialang.org/t/how-to-use-pkg-dependencies-instead-of-pkg-installed/36416/9\n",
    "import Pkg\n",
    "function isinstalled(pkg::String)\n",
    "  any(x -> x.name == pkg && x.is_direct_dep, values(Pkg.dependencies()))\n",
    "end\n",
    "\n",
    "# ojs_define\n",
    "if isinstalled(\"JSON\") && isinstalled(\"DataFrames\")\n",
    "  import JSON, DataFrames\n",
    "  global function ojs_define(; kwargs...)\n",
    "    convert(x) = x\n",
    "    convert(x::DataFrames.AbstractDataFrame) = Tables.rows(x)\n",
    "    content = Dict(\"contents\" => [Dict(\"name\" => k, \"value\" => convert(v)) for (k, v) in kwargs])\n",
    "    tag = \"<script type='ojs-define'>$(JSON.json(content))</script>\"\n",
    "    IJulia.display(MIME(\"text/html\"), tag)\n",
    "  end\n",
    "elseif isinstalled(\"JSON\")\n",
    "  import JSON\n",
    "  global function ojs_define(; kwargs...)\n",
    "    content = Dict(\"contents\" => [Dict(\"name\" => k, \"value\" => v) for (k, v) in kwargs])\n",
    "    tag = \"<script type='ojs-define'>$(JSON.json(content))</script>\"\n",
    "    IJulia.display(MIME(\"text/html\"), tag)\n",
    "  end\n",
    "else\n",
    "  global function ojs_define(; kwargs...)\n",
    "    @warn \"JSON package not available. Please install the JSON.jl package to use ojs_define.\"\n",
    "  end\n",
    "end\n",
    "\n",
    "\n",
    "# don't return kernel dependencies (b/c Revise should take care of dependencies)\n",
    "nothing\n"
   ]
  },
  {
   "cell_type": "code",
   "execution_count": 2,
   "id": "643e329c",
   "metadata": {},
   "outputs": [
    {
     "name": "stderr",
     "output_type": "stream",
     "text": [
      "\u001b[32m\u001b[1m  Activating\u001b[22m\u001b[39m new project at `~/local_repos/AGEC652_2024/AGEC652_2024/slides/lecture_6_3`\n"
     ]
    }
   ],
   "source": [
    "#| include: false\n",
    "using Pkg\n",
    "Pkg.activate(\".\")\n",
    "Pkg.instantiate()\n",
    "# Pkg.add(\"JuMP\")\n",
    "# Pkg.add(\"Ipopt\")\n",
    "# Pkg.add(\"Statistics\")\n",
    "# Pkg.add(\"Plots\")\n",
    "# Pkg.add(\"ForwardDiff\")\n",
    "# Pkg.add(\"LinearAlgebra\")\n",
    "# Pkg.add(\"LaTeXStrings\")\n",
    "# Pkg.add(\"GLM\")\n",
    "# Pkg.add(\"DataFrames\")\n",
    "# Pkg.add(\"Distributions\")"
   ]
  },
  {
   "cell_type": "code",
   "execution_count": 3,
   "id": "d702c059",
   "metadata": {},
   "outputs": [
    {
     "data": {
      "text/plain": [
       "7-element Vector{Float64}:\n",
       " -1.0\n",
       " -1.2\n",
       " -0.1\n",
       "  0.3\n",
       "  0.4\n",
       " -0.1\n",
       " -0.2"
      ]
     },
     "execution_count": 3,
     "metadata": {},
     "output_type": "execute_result"
    }
   ],
   "source": [
    "β_b = [-2.5, -1.2,  0.2, -0.1,  0.2,  0.0, -0.6]\n",
    "β_t = [-1.0, -1.2, -0.1,  0.3,  0.4, -0.1, -0.2] "
   ]
  },
  {
   "cell_type": "code",
   "execution_count": 4,
   "id": "131e96c8",
   "metadata": {},
   "outputs": [
    {
     "data": {
      "text/plain": [
       "30"
      ]
     },
     "execution_count": 4,
     "metadata": {},
     "output_type": "execute_result"
    }
   ],
   "source": [
    "N_survey = 200 # Individuals surveyed per city\n",
    "N_nr_cities = 30 # Non-rail cities surveyed"
   ]
  },
  {
   "cell_type": "code",
   "execution_count": 5,
   "id": "186e9aa3",
   "metadata": {},
   "outputs": [],
   "source": [
    "using Random, Distributions, Statistics\n",
    "Random.seed!(652)\n",
    "density_nr = rand(Uniform(1, 8), N_nr_cities); # Thousands of people per square mile"
   ]
  },
  {
   "cell_type": "code",
   "execution_count": 6,
   "id": "fe95b047",
   "metadata": {},
   "outputs": [
    {
     "data": {
      "text/plain": [
       "30-element Vector{Float64}:\n",
       " 31.0\n",
       " 44.0\n",
       " 27.0\n",
       " 39.0\n",
       " 22.0\n",
       " 13.0\n",
       " 12.0\n",
       " 45.0\n",
       " 17.0\n",
       " 34.0\n",
       " 13.0\n",
       " 46.0\n",
       " 19.0\n",
       "  ⋮\n",
       "  7.0\n",
       " 11.0\n",
       " 40.0\n",
       " 11.0\n",
       " 22.0\n",
       " 11.0\n",
       " 45.0\n",
       " 20.0\n",
       " 25.0\n",
       " 13.0\n",
       " 28.0\n",
       " 15.0"
      ]
     },
     "execution_count": 6,
     "metadata": {},
     "output_type": "execute_result"
    }
   ],
   "source": [
    "busroutes_nr = density_nr .* 6 .+ rand(Uniform(-3, 3), N_nr_cities) # 6 x density plus random variation\n",
    "busroutes_nr = round.(busroutes_nr, digits = 0) # Make it an integer"
   ]
  },
  {
   "cell_type": "code",
   "execution_count": 7,
   "id": "31e2c375",
   "metadata": {},
   "outputs": [
    {
     "data": {
      "text/plain": [
       "30-element Vector{Float64}:\n",
       " 311.8107371553421\n",
       " 441.836191808295\n",
       " 264.8818539407205\n",
       " 397.85047467499123\n",
       " 218.32637536719224\n",
       " 120.61369295252364\n",
       " 123.35849260967757\n",
       " 443.24246154259276\n",
       " 177.56090263370731\n",
       " 340.33962792691113\n",
       " 131.65971058326127\n",
       " 462.91066811151245\n",
       " 185.64982357258796\n",
       "   ⋮\n",
       "  75.44694091698362\n",
       " 110.04883711504074\n",
       " 401.3601667879812\n",
       " 109.83944412710363\n",
       " 212.0424143311709\n",
       " 118.87771177995403\n",
       " 443.34874928624066\n",
       " 191.39724602370902\n",
       " 259.5257358178362\n",
       " 134.8663222628205\n",
       " 270.44782000854934\n",
       " 159.92212716326662"
      ]
     },
     "execution_count": 7,
     "metadata": {},
     "output_type": "execute_result"
    }
   ],
   "source": [
    "price_nr = busroutes_nr .* 10 .+ rand(Uniform(-10, 10), N_nr_cities) # 10 x routs plus random variation"
   ]
  },
  {
   "cell_type": "code",
   "execution_count": 8,
   "id": "ae745a60",
   "metadata": {},
   "outputs": [
    {
     "name": "stdout",
     "output_type": "stream",
     "text": [
      "\u001b[1m30×5 DataFrame\u001b[0m\n",
      "\u001b[1m Row \u001b[0m│\u001b[1m city   \u001b[0m\u001b[1m price    \u001b[0m\u001b[1m busroutes \u001b[0m\u001b[1m trainstops \u001b[0m\u001b[1m density \u001b[0m\n",
      "     │\u001b[90m String \u001b[0m\u001b[90m Float64  \u001b[0m\u001b[90m Float64   \u001b[0m\u001b[90m Float64    \u001b[0m\u001b[90m Float64 \u001b[0m\n",
      "─────┼──────────────────────────────────────────────────\n",
      "   1 │ nr_1    311.811        31.0         0.0  5.30334\n",
      "   2 │ nr_2    441.836        44.0         0.0  7.70467\n",
      "   3 │ nr_3    264.882        27.0         0.0  4.35255\n",
      "   4 │ nr_4    397.85         39.0         0.0  6.29315\n",
      "   5 │ nr_5    218.326        22.0         0.0  4.07286\n",
      "   6 │ nr_6    120.614        13.0         0.0  2.42885\n",
      "   7 │ nr_7    123.358        12.0         0.0  1.87182\n",
      "   8 │ nr_8    443.242        45.0         0.0  7.32123\n",
      "   9 │ nr_9    177.561        17.0         0.0  2.33616\n",
      "  10 │ nr_10   340.34         34.0         0.0  5.5303\n",
      "  11 │ nr_11   131.66         13.0         0.0  2.06674\n",
      "  12 │ nr_12   462.911        46.0         0.0  7.38693\n",
      "  13 │ nr_13   185.65         19.0         0.0  2.84135\n",
      "  14 │ nr_14   388.729        39.0         0.0  6.95232\n",
      "  15 │ nr_15   462.734        46.0         0.0  7.42497\n",
      "  16 │ nr_16   260.35         26.0         0.0  4.47263\n",
      "  17 │ nr_17   358.65         36.0         0.0  6.22879\n",
      "  18 │ nr_18   288.085        29.0         0.0  4.79072\n",
      "  19 │ nr_19    75.4469        7.0         0.0  1.15442\n",
      "  20 │ nr_20   110.049        11.0         0.0  1.47158\n",
      "  21 │ nr_21   401.36         40.0         0.0  6.14535\n",
      "  22 │ nr_22   109.839        11.0         0.0  1.44807\n",
      "  23 │ nr_23   212.042        22.0         0.0  3.9349\n",
      "  24 │ nr_24   118.878        11.0         0.0  1.95458\n",
      "  25 │ nr_25   443.349        45.0         0.0  7.1436\n",
      "  26 │ nr_26   191.397        20.0         0.0  2.99519\n",
      "  27 │ nr_27   259.526        25.0         0.0  4.37517\n",
      "  28 │ nr_28   134.866        13.0         0.0  1.71974\n",
      "  29 │ nr_29   270.448        28.0         0.0  5.14487\n",
      "  30 │ nr_30   159.922        15.0         0.0  2.26332\n"
     ]
    }
   ],
   "source": [
    "using DataFrames\n",
    "data_nr_cities = DataFrame(\n",
    "  city = [\"nr_$(i)\" for i in 1:N_nr_cities], # Create an index\n",
    "  price = price_nr,\n",
    "  busroutes = busroutes_nr, \n",
    "  trainstops = zeros(N_nr_cities), # No trains\n",
    "  density = density_nr\n",
    ");\n",
    "println(data_nr_cities)"
   ]
  }
 ],
 "metadata": {
  "kernelspec": {
   "display_name": "Julia 1.9.4",
   "language": "julia",
   "name": "julia-1.9"
  },
  "language_info": {
   "file_extension": ".jl",
   "mimetype": "application/julia",
   "name": "julia",
   "version": "1.9.4"
  }
 },
 "nbformat": 4,
 "nbformat_minor": 5
}