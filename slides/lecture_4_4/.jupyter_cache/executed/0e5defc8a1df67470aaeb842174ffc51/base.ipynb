{
 "cells": [
  {
   "cell_type": "code",
   "execution_count": 1,
   "id": "2abbd552",
   "metadata": {},
   "outputs": [],
   "source": [
    "import IJulia\n",
    "\n",
    "# The julia kernel has built in support for Revise.jl, so this is the \n",
    "# recommended approach for long-running sessions:\n",
    "# https://github.com/JuliaLang/IJulia.jl/blob/9b10fa9b879574bbf720f5285029e07758e50a5e/src/kernel.jl#L46-L51\n",
    "\n",
    "# Users should enable revise within .julia/config/startup_ijulia.jl:\n",
    "# https://timholy.github.io/Revise.jl/stable/config/#Using-Revise-automatically-within-Jupyter/IJulia-1\n",
    "\n",
    "# clear console history\n",
    "IJulia.clear_history()\n",
    "\n",
    "fig_width = 8\n",
    "fig_height = 4\n",
    "fig_format = :retina\n",
    "fig_dpi = 96\n",
    "\n",
    "# no retina format type, use svg for high quality type/marks\n",
    "if fig_format == :retina\n",
    "  fig_format = :svg\n",
    "elseif fig_format == :pdf\n",
    "  fig_dpi = 96\n",
    "  # Enable PDF support for IJulia\n",
    "  IJulia.register_mime(MIME(\"application/pdf\"))\n",
    "end\n",
    "\n",
    "# convert inches to pixels\n",
    "fig_width = fig_width * fig_dpi\n",
    "fig_height = fig_height * fig_dpi\n",
    "\n",
    "# Intialize Plots w/ default fig width/height\n",
    "try\n",
    "  import Plots\n",
    "\n",
    "  # Plots.jl doesn't support PDF output for versions < 1.28.1\n",
    "  # so use png (if the DPI remains the default of 300 then set to 96)\n",
    "  if (Plots._current_plots_version < v\"1.28.1\") & (fig_format == :pdf)\n",
    "    Plots.gr(size=(fig_width, fig_height), fmt = :png, dpi = fig_dpi)\n",
    "  else\n",
    "    Plots.gr(size=(fig_width, fig_height), fmt = fig_format, dpi = fig_dpi)\n",
    "  end\n",
    "catch e\n",
    "  # @warn \"Plots init\" exception=(e, catch_backtrace())\n",
    "end\n",
    "\n",
    "# Initialize CairoMakie with default fig width/height\n",
    "try\n",
    "  import CairoMakie\n",
    "  \n",
    "  CairoMakie.activate!(type = string(fig_format))\n",
    "  CairoMakie.update_theme!(resolution=(fig_width, fig_height))\n",
    "catch e\n",
    "    # @warn \"CairoMakie init\" exception=(e, catch_backtrace())\n",
    "end\n",
    "  \n",
    "# Set run_path if specified\n",
    "try\n",
    "  run_path = raw\"/home/diego/local_repos/AGEC652_2024/slides/lecture_4_4\"\n",
    "  if !isempty(run_path)\n",
    "    cd(run_path)\n",
    "  end\n",
    "catch e\n",
    "  @warn \"Run path init:\" exception=(e, catch_backtrace())\n",
    "end\n",
    "\n",
    "\n",
    "# emulate old Pkg.installed beahvior, see\n",
    "# https://discourse.julialang.org/t/how-to-use-pkg-dependencies-instead-of-pkg-installed/36416/9\n",
    "import Pkg\n",
    "function isinstalled(pkg::String)\n",
    "  any(x -> x.name == pkg && x.is_direct_dep, values(Pkg.dependencies()))\n",
    "end\n",
    "\n",
    "# ojs_define\n",
    "if isinstalled(\"JSON\") && isinstalled(\"DataFrames\")\n",
    "  import JSON, DataFrames\n",
    "  global function ojs_define(; kwargs...)\n",
    "    convert(x) = x\n",
    "    convert(x::DataFrames.AbstractDataFrame) = Tables.rows(x)\n",
    "    content = Dict(\"contents\" => [Dict(\"name\" => k, \"value\" => convert(v)) for (k, v) in kwargs])\n",
    "    tag = \"<script type='ojs-define'>$(JSON.json(content))</script>\"\n",
    "    IJulia.display(MIME(\"text/html\"), tag)\n",
    "  end\n",
    "elseif isinstalled(\"JSON\")\n",
    "  import JSON\n",
    "  global function ojs_define(; kwargs...)\n",
    "    content = Dict(\"contents\" => [Dict(\"name\" => k, \"value\" => v) for (k, v) in kwargs])\n",
    "    tag = \"<script type='ojs-define'>$(JSON.json(content))</script>\"\n",
    "    IJulia.display(MIME(\"text/html\"), tag)\n",
    "  end\n",
    "else\n",
    "  global function ojs_define(; kwargs...)\n",
    "    @warn \"JSON package not available. Please install the JSON.jl package to use ojs_define.\"\n",
    "  end\n",
    "end\n",
    "\n",
    "\n",
    "# don't return kernel dependencies (b/c Revise should take care of dependencies)\n",
    "nothing\n"
   ]
  },
  {
   "cell_type": "code",
   "execution_count": 2,
   "id": "a5fa11e5",
   "metadata": {},
   "outputs": [
    {
     "name": "stderr",
     "output_type": "stream",
     "text": [
      "\u001b[32m\u001b[1m  Activating\u001b[22m\u001b[39m project at `~/local_repos/AGEC652_2024/slides/lecture_4_4`\n"
     ]
    }
   ],
   "source": [
    "#| include: false\n",
    "using Pkg\n",
    "Pkg.activate(\".\")\n",
    "Pkg.instantiate()\n",
    "#Pkg.add(\"JuMP\")\n",
    "#Pkg.add(\"Ipopt\")"
   ]
  },
  {
   "cell_type": "code",
   "execution_count": 3,
   "id": "dd2065ba",
   "metadata": {},
   "outputs": [],
   "source": [
    "using JuMP, Ipopt;"
   ]
  },
  {
   "cell_type": "code",
   "execution_count": 4,
   "id": "126e20ad",
   "metadata": {},
   "outputs": [],
   "source": [
    "f(x1,x2) = -exp(-(x1*x2 - 3/2)^2 - (x2-3/2)^2);"
   ]
  },
  {
   "cell_type": "code",
   "execution_count": 5,
   "id": "376b75e6",
   "metadata": {},
   "outputs": [
    {
     "data": {
      "text/plain": [
       "A JuMP Model\n",
       "Feasibility problem with:\n",
       "Variables: 0\n",
       "Model mode: AUTOMATIC\n",
       "CachingOptimizer state: EMPTY_OPTIMIZER\n",
       "Solver name: Ipopt"
      ]
     },
     "execution_count": 36,
     "metadata": {},
     "output_type": "execute_result"
    }
   ],
   "source": [
    "model = Model(Ipopt.Optimizer)"
   ]
  },
  {
   "cell_type": "code",
   "execution_count": 6,
   "id": "22260367",
   "metadata": {},
   "outputs": [],
   "source": [
    "# This is relative tol. Default is 1e-8\n",
    "set_optimizer_attribute(model, \"tol\", 1e-6) "
   ]
  },
  {
   "cell_type": "code",
   "execution_count": 7,
   "id": "46783858",
   "metadata": {},
   "outputs": [
    {
     "data": {
      "text/latex": [
       "$ x1 $"
      ],
      "text/plain": [
       "x1"
      ]
     },
     "execution_count": 38,
     "metadata": {},
     "output_type": "execute_result"
    }
   ],
   "source": [
    "#| output: true\n",
    "@variable(model, x1 >=0)"
   ]
  },
  {
   "cell_type": "code",
   "execution_count": 8,
   "id": "853099fe",
   "metadata": {},
   "outputs": [
    {
     "data": {
      "text/latex": [
       "$ x2 $"
      ],
      "text/plain": [
       "x2"
      ]
     },
     "execution_count": 39,
     "metadata": {},
     "output_type": "execute_result"
    }
   ],
   "source": [
    "#| output: true\n",
    "@variable(model, x2 >=0)"
   ]
  },
  {
   "cell_type": "code",
   "execution_count": 9,
   "id": "341a1c59",
   "metadata": {},
   "outputs": [
    {
     "data": {
      "text/latex": [
       "$ \\textsf{-}\\left({\\textsf{exp}\\left({{\\textsf{-}\\left({{\\left(x1\\times x2 - 1.5\\right)} ^ {2.0}}\\right)} - {\\left(x2^2 - 3 x2 + 2.25\\right)}}\\right)}\\right) $"
      ],
      "text/plain": [
       "-(exp(-((x1*x2 - 1.5) ^ 2.0) - (x2² - 3 x2 + 2.25)))"
      ]
     },
     "execution_count": 40,
     "metadata": {},
     "output_type": "execute_result"
    }
   ],
   "source": [
    "@objective(model, Min, f(x1,x2))"
   ]
  },
  {
   "cell_type": "code",
   "execution_count": 10,
   "id": "35aa7b78",
   "metadata": {},
   "outputs": [
    {
     "data": {
      "text/latex": [
       "$$ \\begin{aligned}\n",
       "\\min\\quad & \\textsf{-}\\left({\\textsf{exp}\\left({{\\textsf{-}\\left({{\\left(x1\\times x2 - 1.5\\right)} ^ {2.0}}\\right)} - {\\left(x2^2 - 3 x2 + 2.25\\right)}}\\right)}\\right)\\\\\n",
       "\\text{Subject to} \\quad & x1 \\geq 0\\\\\n",
       " & x2 \\geq 0\\\\\n",
       "\\end{aligned} $$"
      ]
     },
     "metadata": {},
     "output_type": "display_data"
    }
   ],
   "source": [
    "print(model)"
   ]
  },
  {
   "cell_type": "code",
   "execution_count": 11,
   "id": "10dea300",
   "metadata": {},
   "outputs": [
    {
     "name": "stdout",
     "output_type": "stream",
     "text": [
      "This is Ipopt version 3.14.14, running with linear solver MUMPS 5.6.2.\n",
      "\n",
      "Number of nonzeros in equality constraint Jacobian...:        0\n",
      "Number of nonzeros in inequality constraint Jacobian.:        0\n",
      "Number of nonzeros in Lagrangian Hessian.............:        3\n",
      "\n",
      "Total number of variables............................:        2\n",
      "                     variables with only lower bounds:        2\n",
      "                variables with lower and upper bounds:        0\n",
      "                     variables with only upper bounds:        0\n",
      "Total number of equality constraints.................:        0\n",
      "Total number of inequality constraints...............:        0\n",
      "        inequality constraints with only lower bounds:        0\n",
      "   inequality constraints with lower and upper bounds:        0\n",
      "        inequality constraints with only upper bounds:        0\n",
      "\n",
      "iter    objective    inf_pr   inf_du lg(mu)  ||d||  lg(rg) alpha_du alpha_pr  ls\n",
      "   0 -1.1449605e-02 0.00e+00 1.03e+00  -1.0 0.00e+00    -  0.00e+00 0.00e+00   0\n",
      "   1 -1.5851349e-02 0.00e+00 5.92e-02  -1.0 1.00e-01    -  9.46e-01 1.00e+00f  1\n",
      "   2 -2.0400403e-02 0.00e+00 8.01e-02  -2.5 7.88e-02   0.0 1.00e+00 1.00e+00f  1\n",
      "   3 -5.7955817e-02 0.00e+00 1.59e-01  -2.5 3.13e-01  -0.5 5.40e-01 1.00e+00f  1\n",
      "   4 -3.2486363e-01 0.00e+00 6.94e-01  -2.5 4.79e-01  -0.1 9.28e-01 1.00e+00f  1\n",
      "   5 -9.8805653e-01 0.00e+00 3.06e-01  -2.5 1.76e+00   0.4 4.46e-01 2.50e-01f  3\n",
      "   6 -9.9994167e-01 0.00e+00 1.94e-02  -2.5 7.65e-02    -  1.00e+00 1.00e+00f  1\n",
      "   7 -1.0000000e+00 0.00e+00 6.69e-05  -3.8 6.16e-03    -  1.00e+00 1.00e+00f  1\n",
      "   8 -1.0000000e+00 0.00e+00 1.83e-09  -5.7 4.81e-05    -  1.00e+00 1.00e+00f  1\n",
      "   9 -1.0000000e+00 0.00e+00 9.07e-13  -7.0 3.89e-07    -  1.00e+00 1.00e+00f  1\n",
      "\n",
      "Number of Iterations....: 9\n",
      "\n",
      "                                   (scaled)                 (unscaled)\n",
      "Objective...............:  -9.9999999999999867e-01   -9.9999999999999867e-01\n",
      "Dual infeasibility......:   9.0675424205385623e-13    9.0675424205385623e-13\n",
      "Constraint violation....:   0.0000000000000000e+00    0.0000000000000000e+00\n",
      "Variable bound violation:   0.0000000000000000e+00    0.0000000000000000e+00\n",
      "Complementarity.........:   9.0909773270063229e-08    9.0909773270063229e-08\n",
      "Overall NLP error.......:   9.0909773270063229e-08    9.0909773270063229e-08\n",
      "\n",
      "\n",
      "Number of objective function evaluations             = 16\n",
      "Number of objective gradient evaluations             = 10\n",
      "Number of equality constraint evaluations            = 0\n",
      "Number of inequality constraint evaluations          = 0\n",
      "Number of equality constraint Jacobian evaluations   = 0\n",
      "Number of inequality constraint Jacobian evaluations = 0\n",
      "Number of Lagrangian Hessian evaluations             = 9\n",
      "Total seconds in IPOPT                               = 0.003\n",
      "\n",
      "EXIT: Optimal Solution Found.\n"
     ]
    }
   ],
   "source": [
    "optimize!(model)"
   ]
  },
  {
   "cell_type": "code",
   "execution_count": 12,
   "id": "e7fb12c0",
   "metadata": {},
   "outputs": [],
   "source": [
    "set_silent(model);"
   ]
  },
  {
   "cell_type": "code",
   "execution_count": 13,
   "id": "6dea6e22",
   "metadata": {},
   "outputs": [],
   "source": [
    "#|include: false\n",
    "optimize!(model);"
   ]
  },
  {
   "cell_type": "code",
   "execution_count": 14,
   "id": "fa85509a",
   "metadata": {},
   "outputs": [
    {
     "data": {
      "text/plain": [
       "1.0000000202020707"
      ]
     },
     "execution_count": 45,
     "metadata": {},
     "output_type": "execute_result"
    }
   ],
   "source": [
    "unc_x1 = value(x1)"
   ]
  },
  {
   "cell_type": "code",
   "execution_count": 15,
   "id": "ab638089",
   "metadata": {},
   "outputs": [
    {
     "data": {
      "text/plain": [
       "1.4999999999998486"
      ]
     },
     "execution_count": 46,
     "metadata": {},
     "output_type": "execute_result"
    }
   ],
   "source": [
    "unc_x2 = value(x2)"
   ]
  },
  {
   "cell_type": "code",
   "execution_count": 16,
   "id": "8a79fb45",
   "metadata": {},
   "outputs": [
    {
     "data": {
      "text/plain": [
       "-0.9999999999999987"
      ]
     },
     "execution_count": 47,
     "metadata": {},
     "output_type": "execute_result"
    }
   ],
   "source": [
    "unc_obj = objective_value(model)"
   ]
  },
  {
   "cell_type": "code",
   "execution_count": 17,
   "id": "4fcb18b2",
   "metadata": {},
   "outputs": [],
   "source": [
    "#|include: false\n",
    "optimize!(model);"
   ]
  },
  {
   "cell_type": "code",
   "execution_count": 18,
   "id": "1a65cc55",
   "metadata": {},
   "outputs": [
    {
     "data": {
      "text/plain": [
       "-0.9999999999999987"
      ]
     },
     "execution_count": 49,
     "metadata": {},
     "output_type": "execute_result"
    }
   ],
   "source": [
    "unc_obj = objective_value(model)"
   ]
  },
  {
   "cell_type": "code",
   "execution_count": 19,
   "id": "1fe0fdd6",
   "metadata": {},
   "outputs": [
    {
     "data": {
      "text/latex": [
       "$$ x2^2 - x1 = 0 $$"
      ],
      "text/plain": [
       "x2² - x1 = 0"
      ]
     },
     "execution_count": 50,
     "metadata": {},
     "output_type": "execute_result"
    }
   ],
   "source": [
    "#| output: asis\n",
    "@constraint(model, -x1 +x2^2 == 0)"
   ]
  },
  {
   "cell_type": "code",
   "execution_count": 20,
   "id": "d8b8e537",
   "metadata": {},
   "outputs": [
    {
     "data": {
      "text/latex": [
       "$$ \\begin{aligned}\n",
       "\\min\\quad & \\textsf{-}\\left({\\textsf{exp}\\left({{\\textsf{-}\\left({{\\left(x1\\times x2 - 1.5\\right)} ^ {2.0}}\\right)} - {\\left(x2^2 - 3 x2 + 2.25\\right)}}\\right)}\\right)\\\\\n",
       "\\text{Subject to} \\quad & x2^2 - x1 = 0\\\\\n",
       " & x1 \\geq 0\\\\\n",
       " & x2 \\geq 0\\\\\n",
       "\\end{aligned} $$"
      ]
     },
     "metadata": {},
     "output_type": "display_data"
    }
   ],
   "source": [
    "#| output: asis\n",
    "print(model)"
   ]
  },
  {
   "cell_type": "code",
   "execution_count": 21,
   "id": "02a4b3c7",
   "metadata": {},
   "outputs": [],
   "source": [
    "#| output: asis\n",
    "optimize!(model)"
   ]
  },
  {
   "cell_type": "code",
   "execution_count": 22,
   "id": "76c2c340",
   "metadata": {},
   "outputs": [],
   "source": [
    "#| include: false\n",
    "optimize!(model)"
   ]
  },
  {
   "cell_type": "code",
   "execution_count": 23,
   "id": "5a6be631",
   "metadata": {},
   "outputs": [
    {
     "data": {
      "text/plain": [
       "149806.47565619063"
      ]
     },
     "execution_count": 54,
     "metadata": {},
     "output_type": "execute_result"
    }
   ],
   "source": [
    "eqcon_x1 = value(x1)"
   ]
  },
  {
   "cell_type": "code",
   "execution_count": 24,
   "id": "442c498b",
   "metadata": {},
   "outputs": [
    {
     "data": {
      "text/plain": [
       "387.04841513199693"
      ]
     },
     "execution_count": 55,
     "metadata": {},
     "output_type": "execute_result"
    }
   ],
   "source": [
    "eqcon_x2 = value(x2)"
   ]
  },
  {
   "cell_type": "code",
   "execution_count": 25,
   "id": "26d26429",
   "metadata": {},
   "outputs": [
    {
     "data": {
      "text/plain": [
       "0.0"
      ]
     },
     "execution_count": 56,
     "metadata": {},
     "output_type": "execute_result"
    }
   ],
   "source": [
    "value(-x1 + x2^2) # We can evaluate expressions too"
   ]
  },
  {
   "cell_type": "code",
   "execution_count": 26,
   "id": "8ddc9da8",
   "metadata": {},
   "outputs": [
    {
     "data": {
      "text/plain": [
       "-0.0"
      ]
     },
     "execution_count": 57,
     "metadata": {},
     "output_type": "execute_result"
    }
   ],
   "source": [
    "eqcon_obj = objective_value(model)"
   ]
  },
  {
   "cell_type": "code",
   "execution_count": 27,
   "id": "d988531f",
   "metadata": {},
   "outputs": [
    {
     "name": "stdout",
     "output_type": "stream",
     "text": [
      "This is Ipopt version 3.14.14, running with linear solver MUMPS 5.6.2.\n",
      "\n",
      "Number of nonzeros in equality constraint Jacobian...:        0\n",
      "Number of nonzeros in inequality constraint Jacobian.:        2\n",
      "Number of nonzeros in Lagrangian Hessian.............:        4\n",
      "\n",
      "Total number of variables............................:        2\n",
      "                     variables with only lower bounds:        2\n",
      "                variables with lower and upper bounds:        0\n",
      "                     variables with only upper bounds:        0\n",
      "Total number of equality constraints.................:        0\n",
      "Total number of inequality constraints...............:        1\n",
      "        inequality constraints with only lower bounds:        0\n",
      "   inequality constraints with lower and upper bounds:        0\n",
      "        inequality constraints with only upper bounds:        1\n",
      "\n",
      "iter    objective    inf_pr   inf_du lg(mu)  ||d||  lg(rg) alpha_du alpha_pr  ls\n",
      "   0 -1.1449605e-02 0.00e+00 1.03e+00  -1.0 0.00e+00    -  0.00e+00 0.00e+00   0\n",
      "   1 -1.5854730e-02 0.00e+00 1.19e-01  -1.0 1.01e-01    -  8.94e-01 1.00e+00f  1\n",
      "   2 -2.3961281e-02 0.00e+00 9.81e-02  -2.5 1.23e-01    -  5.75e-01 1.00e+00h  1\n",
      "   3 -3.5003934e-02 0.00e+00 1.02e-01  -2.5 1.08e-01   0.0 1.00e+00 1.00e+00h  1\n",
      "   4 -9.4823477e-01 9.72e-01 5.53e-01  -2.5 2.08e+00  -0.5 1.55e-01 5.00e-01f  2\n",
      "   5 -9.6090312e-01 8.92e-01 4.52e-01  -2.5 6.55e-01    -  1.00e+00 1.83e-01h  1\n",
      "   6 -8.8648990e-01 2.74e-02 2.41e-01  -2.5 3.17e-01    -  1.00e+00 1.00e+00h  1\n",
      "   7 -8.8504642e-01 0.00e+00 1.42e-02  -2.5 6.45e-02    -  1.00e+00 1.00e+00h  1\n",
      "   8 -8.8775756e-01 0.00e+00 1.15e-04  -3.8 1.59e-02    -  1.00e+00 1.00e+00h  1\n",
      "   9 -8.8797273e-01 0.00e+00 4.64e-07  -5.7 1.28e-03    -  1.00e+00 1.00e+00h  1\n",
      "iter    objective    inf_pr   inf_du lg(mu)  ||d||  lg(rg) alpha_du alpha_pr  ls\n",
      "  10 -8.8797474e-01 0.00e+00 4.40e-11  -8.6 1.19e-05    -  1.00e+00 1.00e+00h  1\n",
      "\n",
      "Number of Iterations....: 10\n",
      "\n",
      "                                   (scaled)                 (unscaled)\n",
      "Objective...............:  -8.8797474144904420e-01   -8.8797474144904420e-01\n",
      "Dual infeasibility......:   4.4034561945229721e-11    4.4034561945229721e-11\n",
      "Constraint violation....:   0.0000000000000000e+00    0.0000000000000000e+00\n",
      "Variable bound violation:   0.0000000000000000e+00    0.0000000000000000e+00\n",
      "Complementarity.........:   2.5196089194342299e-09    2.5196089194342299e-09\n",
      "Overall NLP error.......:   2.5196089194342299e-09    2.5196089194342299e-09\n",
      "\n",
      "\n",
      "Number of objective function evaluations             = 14\n",
      "Number of objective gradient evaluations             = 11\n",
      "Number of equality constraint evaluations            = 0\n",
      "Number of inequality constraint evaluations          = 14\n",
      "Number of equality constraint Jacobian evaluations   = 0\n",
      "Number of inequality constraint Jacobian evaluations = 11\n",
      "Number of Lagrangian Hessian evaluations             = 10\n",
      "Total seconds in IPOPT                               = 0.004\n",
      "\n",
      "EXIT: Optimal Solution Found.\n"
     ]
    }
   ],
   "source": [
    "model2 = Model(Ipopt.Optimizer);\n",
    "@variable(model2, x1 >=0);\n",
    "@variable(model2, x2 >=0);\n",
    "@objective(model2, Min, f(x1, x2));\n",
    "@constraint(model2, -x1 + x2^2 <= 0);\n",
    "optimize!(model2);"
   ]
  },
  {
   "cell_type": "code",
   "execution_count": 28,
   "id": "8a9ed195",
   "metadata": {},
   "outputs": [
    {
     "data": {
      "text/plain": [
       "1.3578043178154473"
      ]
     },
     "execution_count": 59,
     "metadata": {},
     "output_type": "execute_result"
    }
   ],
   "source": [
    "ineqcon_x1 = value(x1)"
   ]
  },
  {
   "cell_type": "code",
   "execution_count": 29,
   "id": "7a849600",
   "metadata": {},
   "outputs": [
    {
     "data": {
      "text/plain": [
       "1.1652486056670581"
      ]
     },
     "execution_count": 60,
     "metadata": {},
     "output_type": "execute_result"
    }
   ],
   "source": [
    "ineqcon_x2 = value(x2)"
   ]
  },
  {
   "cell_type": "code",
   "execution_count": 30,
   "id": "91a21c19",
   "metadata": {},
   "outputs": [
    {
     "data": {
      "text/plain": [
       "-0.8879747414490442"
      ]
     },
     "execution_count": 61,
     "metadata": {},
     "output_type": "execute_result"
    }
   ],
   "source": [
    "ineqcon_obj = objective_value(model2)"
   ]
  },
  {
   "cell_type": "code",
   "execution_count": 31,
   "id": "d352fd33",
   "metadata": {},
   "outputs": [
    {
     "name": "stdout",
     "output_type": "stream",
     "text": [
      "This is Ipopt version 3.14.14, running with linear solver MUMPS 5.6.2.\n",
      "\n",
      "Number of nonzeros in equality constraint Jacobian...:        0\n",
      "Number of nonzeros in inequality constraint Jacobian.:        2\n",
      "Number of nonzeros in Lagrangian Hessian.............:        4\n",
      "\n",
      "Total number of variables............................:        2\n",
      "                     variables with only lower bounds:        2\n",
      "                variables with lower and upper bounds:        0\n",
      "                     variables with only upper bounds:        0\n",
      "Total number of equality constraints.................:        0\n",
      "Total number of inequality constraints...............:        1\n",
      "        inequality constraints with only lower bounds:        0\n",
      "   inequality constraints with lower and upper bounds:        0\n",
      "        inequality constraints with only upper bounds:        1\n",
      "\n",
      "iter    objective    inf_pr   inf_du lg(mu)  ||d||  lg(rg) alpha_du alpha_pr  ls\n",
      "   0 -1.1449605e-02 0.00e+00 1.03e+00  -1.0 0.00e+00    -  0.00e+00 0.00e+00   0\n",
      "   1 -1.5850397e-02 0.00e+00 5.90e-02  -1.0 1.00e-01    -  9.48e-01 1.00e+00f  1\n",
      "   2 -2.0385980e-02 0.00e+00 7.93e-02  -2.5 7.82e-02   0.0 1.00e+00 1.00e+00h  1\n",
      "   3 -5.7025390e-02 0.00e+00 1.59e-01  -2.5 3.10e-01  -0.5 5.44e-01 1.00e+00h  1\n",
      "   4 -2.5193623e-01 0.00e+00 5.01e-01  -2.5 3.49e-01  -0.1 7.98e-01 1.00e+00h  1\n",
      "   5 -8.9618378e-01 0.00e+00 1.57e+00  -2.5 7.27e-01   0.4 1.00e+00 1.00e+00f  1\n",
      "   6 -9.6541187e-01 1.22e-01 6.65e-01  -2.5 1.84e+00    -  1.00e+00 7.20e-01h  1\n",
      "   7 -9.9523888e-01 0.00e+00 8.42e-02  -2.5 5.13e-01    -  1.00e+00 1.00e+00f  1\n",
      "   8 -9.9837590e-01 0.00e+00 3.44e-03  -2.5 1.16e-01    -  1.00e+00 1.00e+00h  1\n",
      "   9 -9.9987546e-01 0.00e+00 2.44e-03  -3.8 1.08e-01    -  1.00e+00 1.00e+00h  1\n",
      "iter    objective    inf_pr   inf_du lg(mu)  ||d||  lg(rg) alpha_du alpha_pr  ls\n",
      "  10 -9.9999483e-01 0.00e+00 1.88e-04  -3.8 3.37e-02    -  1.00e+00 1.00e+00h  1\n",
      "  11 -9.9999999e-01 0.00e+00 1.26e-05  -5.7 8.23e-03    -  1.00e+00 1.00e+00h  1\n",
      "  12 -1.0000000e+00 0.00e+00 1.83e-08  -8.6 3.23e-04    -  1.00e+00 1.00e+00h  1\n",
      "  13 -1.0000000e+00 0.00e+00 4.65e-14  -9.0 4.66e-07    -  1.00e+00 1.00e+00h  1\n",
      "\n",
      "Number of Iterations....: 13\n",
      "\n",
      "                                   (scaled)                 (unscaled)\n",
      "Objective...............:  -1.0000000000000000e+00   -1.0000000000000000e+00\n",
      "Dual infeasibility......:   4.6486804967210195e-14    4.6486804967210195e-14\n",
      "Constraint violation....:   0.0000000000000000e+00    0.0000000000000000e+00\n",
      "Variable bound violation:   0.0000000000000000e+00    0.0000000000000000e+00\n",
      "Complementarity.........:   9.0912126294342428e-10    9.0912126294342428e-10\n",
      "Overall NLP error.......:   9.0912126294342428e-10    9.0912126294342428e-10\n",
      "\n",
      "\n",
      "Number of objective function evaluations             = 14\n",
      "Number of objective gradient evaluations             = 14\n",
      "Number of equality constraint evaluations            = 0\n",
      "Number of inequality constraint evaluations          = 14\n",
      "Number of equality constraint Jacobian evaluations   = 0\n",
      "Number of inequality constraint Jacobian evaluations = 14\n",
      "Number of Lagrangian Hessian evaluations             = 13\n",
      "Total seconds in IPOPT                               = 0.004\n",
      "\n",
      "EXIT: Optimal Solution Found.\n"
     ]
    }
   ],
   "source": [
    "model3 = Model(Ipopt.Optimizer);\n",
    "@variable(model3, x1 >=0);\n",
    "@variable(model3, x2 >=0);\n",
    "@objective(model3, Min, f(x1, x2));\n",
    "@constraint(model3, c1, -x1 + x2^2 <= 1.5);\n",
    "optimize!(model3);"
   ]
  },
  {
   "cell_type": "code",
   "execution_count": 32,
   "id": "5bc2a74f",
   "metadata": {},
   "outputs": [
    {
     "data": {
      "text/plain": [
       "-1.0"
      ]
     },
     "execution_count": 63,
     "metadata": {},
     "output_type": "execute_result"
    }
   ],
   "source": [
    "ineqcon2_obj = objective_value(model3)"
   ]
  },
  {
   "cell_type": "code",
   "execution_count": 33,
   "id": "a2c45741",
   "metadata": {},
   "outputs": [
    {
     "data": {
      "text/plain": [
       "1.0000000054547011"
      ]
     },
     "execution_count": 64,
     "metadata": {},
     "output_type": "execute_result"
    }
   ],
   "source": [
    "ineqcon2_x1 = value(x1)"
   ]
  },
  {
   "cell_type": "code",
   "execution_count": 34,
   "id": "d8462fcb",
   "metadata": {},
   "outputs": [
    {
     "data": {
      "text/plain": [
       "1.4999999933331216"
      ]
     },
     "execution_count": 65,
     "metadata": {},
     "output_type": "execute_result"
    }
   ],
   "source": [
    "ineqcon2_x2 = value(x2)"
   ]
  }
 ],
 "metadata": {
  "kernelspec": {
   "display_name": "Julia 1.9.4",
   "language": "julia",
   "name": "julia-1.9"
  }
 },
 "nbformat": 4,
 "nbformat_minor": 5
}