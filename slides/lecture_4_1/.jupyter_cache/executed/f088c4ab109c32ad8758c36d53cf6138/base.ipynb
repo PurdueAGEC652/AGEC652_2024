{
 "cells": [
  {
   "cell_type": "code",
   "execution_count": 1,
   "id": "7580f78c",
   "metadata": {},
   "outputs": [],
   "source": [
    "import IJulia\n",
    "\n",
    "# The julia kernel has built in support for Revise.jl, so this is the \n",
    "# recommended approach for long-running sessions:\n",
    "# https://github.com/JuliaLang/IJulia.jl/blob/9b10fa9b879574bbf720f5285029e07758e50a5e/src/kernel.jl#L46-L51\n",
    "\n",
    "# Users should enable revise within .julia/config/startup_ijulia.jl:\n",
    "# https://timholy.github.io/Revise.jl/stable/config/#Using-Revise-automatically-within-Jupyter/IJulia-1\n",
    "\n",
    "# clear console history\n",
    "IJulia.clear_history()\n",
    "\n",
    "fig_width = 8\n",
    "fig_height = 4\n",
    "fig_format = :retina\n",
    "fig_dpi = 96\n",
    "\n",
    "# no retina format type, use svg for high quality type/marks\n",
    "if fig_format == :retina\n",
    "  fig_format = :svg\n",
    "elseif fig_format == :pdf\n",
    "  fig_dpi = 96\n",
    "  # Enable PDF support for IJulia\n",
    "  IJulia.register_mime(MIME(\"application/pdf\"))\n",
    "end\n",
    "\n",
    "# convert inches to pixels\n",
    "fig_width = fig_width * fig_dpi\n",
    "fig_height = fig_height * fig_dpi\n",
    "\n",
    "# Intialize Plots w/ default fig width/height\n",
    "try\n",
    "  import Plots\n",
    "\n",
    "  # Plots.jl doesn't support PDF output for versions < 1.28.1\n",
    "  # so use png (if the DPI remains the default of 300 then set to 96)\n",
    "  if (Plots._current_plots_version < v\"1.28.1\") & (fig_format == :pdf)\n",
    "    Plots.gr(size=(fig_width, fig_height), fmt = :png, dpi = fig_dpi)\n",
    "  else\n",
    "    Plots.gr(size=(fig_width, fig_height), fmt = fig_format, dpi = fig_dpi)\n",
    "  end\n",
    "catch e\n",
    "  # @warn \"Plots init\" exception=(e, catch_backtrace())\n",
    "end\n",
    "\n",
    "# Initialize CairoMakie with default fig width/height\n",
    "try\n",
    "  import CairoMakie\n",
    "  \n",
    "  CairoMakie.activate!(type = string(fig_format))\n",
    "  CairoMakie.update_theme!(resolution=(fig_width, fig_height))\n",
    "catch e\n",
    "    # @warn \"CairoMakie init\" exception=(e, catch_backtrace())\n",
    "end\n",
    "  \n",
    "# Set run_path if specified\n",
    "try\n",
    "  run_path = raw\"/home/diego/local_repos/AGEC652_2024/slides/lecture_4_1\"\n",
    "  if !isempty(run_path)\n",
    "    cd(run_path)\n",
    "  end\n",
    "catch e\n",
    "  @warn \"Run path init:\" exception=(e, catch_backtrace())\n",
    "end\n",
    "\n",
    "\n",
    "# emulate old Pkg.installed beahvior, see\n",
    "# https://discourse.julialang.org/t/how-to-use-pkg-dependencies-instead-of-pkg-installed/36416/9\n",
    "import Pkg\n",
    "function isinstalled(pkg::String)\n",
    "  any(x -> x.name == pkg && x.is_direct_dep, values(Pkg.dependencies()))\n",
    "end\n",
    "\n",
    "# ojs_define\n",
    "if isinstalled(\"JSON\") && isinstalled(\"DataFrames\")\n",
    "  import JSON, DataFrames\n",
    "  global function ojs_define(; kwargs...)\n",
    "    convert(x) = x\n",
    "    convert(x::DataFrames.AbstractDataFrame) = Tables.rows(x)\n",
    "    content = Dict(\"contents\" => [Dict(\"name\" => k, \"value\" => convert(v)) for (k, v) in kwargs])\n",
    "    tag = \"<script type='ojs-define'>$(JSON.json(content))</script>\"\n",
    "    IJulia.display(MIME(\"text/html\"), tag)\n",
    "  end\n",
    "elseif isinstalled(\"JSON\")\n",
    "  import JSON\n",
    "  global function ojs_define(; kwargs...)\n",
    "    content = Dict(\"contents\" => [Dict(\"name\" => k, \"value\" => v) for (k, v) in kwargs])\n",
    "    tag = \"<script type='ojs-define'>$(JSON.json(content))</script>\"\n",
    "    IJulia.display(MIME(\"text/html\"), tag)\n",
    "  end\n",
    "else\n",
    "  global function ojs_define(; kwargs...)\n",
    "    @warn \"JSON package not available. Please install the JSON.jl package to use ojs_define.\"\n",
    "  end\n",
    "end\n",
    "\n",
    "\n",
    "# don't return kernel dependencies (b/c Revise should take care of dependencies)\n",
    "nothing\n"
   ]
  },
  {
   "cell_type": "code",
   "execution_count": 2,
   "id": "467419fc",
   "metadata": {},
   "outputs": [
    {
     "name": "stderr",
     "output_type": "stream",
     "text": [
      "\u001b[32m\u001b[1m  Activating\u001b[22m\u001b[39m project at `~/local_repos/AGEC652_2024/slides/lecture_4_1`\n"
     ]
    },
    {
     "name": "stderr",
     "output_type": "stream",
     "text": [
      "\u001b[32m\u001b[1m   Resolving\u001b[22m\u001b[39m package versions...\n"
     ]
    },
    {
     "name": "stderr",
     "output_type": "stream",
     "text": [
      "\u001b[32m\u001b[1m  No Changes\u001b[22m\u001b[39m to `~/local_repos/AGEC652_2024/slides/lecture_4_1/Project.toml`\n",
      "\u001b[32m\u001b[1m  No Changes\u001b[22m\u001b[39m to `~/local_repos/AGEC652_2024/slides/lecture_4_1/Manifest.toml`\n"
     ]
    }
   ],
   "source": [
    "#| echo: false\n",
    "using Pkg\n",
    "Pkg.activate(\".\")\n",
    "Pkg.instantiate()\n",
    "Pkg.add(\"Optim\")"
   ]
  },
  {
   "cell_type": "code",
   "execution_count": 3,
   "id": "ef4d33de",
   "metadata": {},
   "outputs": [],
   "source": [
    "function golden_search(f, lower_bound, upper_bound)\n",
    "    alpha_1 = (3 - sqrt(5))/2  # GS parameter 1\n",
    "    alpha_2 = (sqrt(5) - 1)/2  # GS parameter 2\n",
    "    tolerance = 1e-2           # tolerance for convergence\n",
    "    difference = 1e10\n",
    "    while difference > tolerance\n",
    "        x_1 = lower_bound + alpha_1*(upper_bound - lower_bound)  # new x_1\n",
    "        x_2 = lower_bound + alpha_2*(upper_bound - lower_bound)  # new x_2\n",
    "        if f(x_1) < f(x_2)  # update bounds\n",
    "            upper_bound = x_2\n",
    "        else\n",
    "            lower_bound = x_1\n",
    "        end\n",
    "        difference = x_2 - x_1\n",
    "    end\n",
    "    println(\"Minimum is at x = $((lower_bound+upper_bound)/2).\")\n",
    "end;"
   ]
  },
  {
   "cell_type": "code",
   "execution_count": 4,
   "id": "106d58f5",
   "metadata": {},
   "outputs": [
    {
     "name": "stdout",
     "output_type": "stream",
     "text": [
      "Minimum is at x = 0.996894379984858.\n"
     ]
    }
   ],
   "source": [
    "f(x) = 2x^2 - 4x;\n",
    "golden_search(f, -4, 4)"
   ]
  },
  {
   "cell_type": "code",
   "execution_count": 5,
   "id": "68d33f71",
   "metadata": {},
   "outputs": [],
   "source": [
    "using Optim;\n",
    "# Define Rosenbrock function with a = 1, b = 100\n",
    "f(x) = (1.0 - x[1])^2 + 100.0 * (x[2] - x[1]^2)^2; \n",
    "\n",
    "x0 = [0.0, 0.0]; # initial guess"
   ]
  },
  {
   "cell_type": "code",
   "execution_count": 6,
   "id": "15a39066",
   "metadata": {},
   "outputs": [
    {
     "data": {
      "text/plain": [
       " * Status: success\n",
       "\n",
       " * Candidate solution\n",
       "    Final objective value:     3.525527e-09\n",
       "\n",
       " * Found with\n",
       "    Algorithm:     Nelder-Mead\n",
       "\n",
       " * Convergence measures\n",
       "    √(Σ(yᵢ-ȳ)²)/n ≤ 1.0e-08\n",
       "\n",
       " * Work counters\n",
       "    Seconds run:   0  (vs limit Inf)\n",
       "    Iterations:    60\n",
       "    f(x) calls:    117\n"
      ]
     },
     "execution_count": 6,
     "metadata": {},
     "output_type": "execute_result"
    }
   ],
   "source": [
    "soln = Optim.optimize(f, x0, NelderMead())"
   ]
  },
  {
   "cell_type": "code",
   "execution_count": 7,
   "id": "0bc1d187",
   "metadata": {},
   "outputs": [
    {
     "data": {
      "text/plain": [
       "2-element Vector{Float64}:\n",
       " 0.9999634355313174\n",
       " 0.9999315506115275"
      ]
     },
     "execution_count": 7,
     "metadata": {},
     "output_type": "execute_result"
    }
   ],
   "source": [
    "soln.minimizer"
   ]
  },
  {
   "cell_type": "code",
   "execution_count": 8,
   "id": "31af4dcf",
   "metadata": {},
   "outputs": [
    {
     "data": {
      "text/plain": [
       "3.5255270584829996e-9"
      ]
     },
     "execution_count": 8,
     "metadata": {},
     "output_type": "execute_result"
    }
   ],
   "source": [
    "soln.minimum"
   ]
  },
  {
   "cell_type": "code",
   "execution_count": 9,
   "id": "5b89cd5c",
   "metadata": {},
   "outputs": [
    {
     "data": {
      "text/plain": [
       "61-element Vector{OptimizationState{Float64, NelderMead{Optim.AffineSimplexer, Optim.AdaptiveParameters}}}:\n",
       "      0     9.506641e-01     4.576214e-02\n",
       " * time: 9.5367431640625e-7\n",
       "\n",
       "      1     9.506641e-01     2.023096e-02\n",
       " * time: 8.106231689453125e-6\n",
       "\n",
       "      2     9.506641e-01     2.172172e-02\n",
       " * time: 1.0013580322265625e-5\n",
       "\n",
       "      3     9.262175e-01     5.243757e-02\n",
       " * time: 1.0013580322265625e-5\n",
       "\n",
       "      4     8.292372e-01     4.259749e-02\n",
       " * time: 1.0967254638671875e-5\n",
       "\n",
       "      5     8.292372e-01     4.265507e-02\n",
       " * time: 1.0967254638671875e-5\n",
       "\n",
       "      6     8.138907e-01     3.109209e-02\n",
       " * time: 1.1920928955078125e-5\n",
       "\n",
       "      7     7.569606e-01     3.215435e-02\n",
       " * time: 1.1920928955078125e-5\n",
       "\n",
       "      8     7.382898e-01     2.418419e-02\n",
       " * time: 1.1920928955078125e-5\n",
       "\n",
       "      9     6.989376e-01     2.426367e-02\n",
       " * time: 1.3113021850585938e-5\n",
       "\n",
       "     10     6.800415e-01     2.124416e-02\n",
       " * time: 1.3113021850585938e-5\n",
       "\n",
       "     11     6.475000e-01     1.809652e-02\n",
       " * time: 1.3113021850585938e-5\n",
       "\n",
       "     12     6.377042e-01     2.151280e-02\n",
       " * time: 1.4066696166992188e-5\n",
       "\n",
       " ⋮\n",
       "     49     3.589907e-05     1.447031e-05\n",
       " * time: 6.29425048828125e-5\n",
       "\n",
       "     50     1.331661e-05     1.424732e-05\n",
       " * time: 6.413459777832031e-5\n",
       "\n",
       "     51     1.565213e-06     4.917747e-06\n",
       " * time: 6.413459777832031e-5\n",
       "\n",
       "     52     1.565213e-06     3.456266e-06\n",
       " * time: 6.508827209472656e-5\n",
       "\n",
       "     53     1.565213e-06     9.104041e-07\n",
       " * time: 6.508827209472656e-5\n",
       "\n",
       "     54     1.565213e-06     6.870496e-07\n",
       " * time: 6.508827209472656e-5\n",
       "\n",
       "     55     4.966342e-07     5.777837e-07\n",
       " * time: 6.604194641113281e-5\n",
       "\n",
       "     56     2.272707e-07     1.307209e-07\n",
       " * time: 6.604194641113281e-5\n",
       "\n",
       "     57     2.120249e-07     7.108936e-08\n",
       " * time: 6.604194641113281e-5\n",
       "\n",
       "     58     6.942358e-08     8.182068e-08\n",
       " * time: 6.914138793945312e-5\n",
       "\n",
       "     59     1.876334e-08     2.129210e-08\n",
       " * time: 6.914138793945312e-5\n",
       "\n",
       "     60     1.876334e-08     9.270314e-09\n",
       " * time: 6.914138793945312e-5\n"
      ]
     },
     "execution_count": 9,
     "metadata": {},
     "output_type": "execute_result"
    }
   ],
   "source": [
    "soln = Optim.optimize(f, x0, NelderMead(), Optim.Options(store_trace=true));\n",
    "Optim.trace(soln)"
   ]
  }
 ],
 "metadata": {
  "kernelspec": {
   "display_name": "Julia 1.9.4",
   "language": "julia",
   "name": "julia-1.9"
  },
  "language_info": {
   "file_extension": ".jl",
   "mimetype": "application/julia",
   "name": "julia",
   "version": "1.9.4"
  }
 },
 "nbformat": 4,
 "nbformat_minor": 5
}