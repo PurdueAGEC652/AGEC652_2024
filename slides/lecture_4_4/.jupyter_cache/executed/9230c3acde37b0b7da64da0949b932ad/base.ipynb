{
 "cells": [
  {
   "cell_type": "code",
   "execution_count": 1,
   "id": "21e0c4ab",
   "metadata": {},
   "outputs": [],
   "source": [
    "import IJulia\n",
    "\n",
    "# The julia kernel has built in support for Revise.jl, so this is the \n",
    "# recommended approach for long-running sessions:\n",
    "# https://github.com/JuliaLang/IJulia.jl/blob/9b10fa9b879574bbf720f5285029e07758e50a5e/src/kernel.jl#L46-L51\n",
    "\n",
    "# Users should enable revise within .julia/config/startup_ijulia.jl:\n",
    "# https://timholy.github.io/Revise.jl/stable/config/#Using-Revise-automatically-within-Jupyter/IJulia-1\n",
    "\n",
    "# clear console history\n",
    "IJulia.clear_history()\n",
    "\n",
    "fig_width = 8\n",
    "fig_height = 4\n",
    "fig_format = :retina\n",
    "fig_dpi = 96\n",
    "\n",
    "# no retina format type, use svg for high quality type/marks\n",
    "if fig_format == :retina\n",
    "  fig_format = :svg\n",
    "elseif fig_format == :pdf\n",
    "  fig_dpi = 96\n",
    "  # Enable PDF support for IJulia\n",
    "  IJulia.register_mime(MIME(\"application/pdf\"))\n",
    "end\n",
    "\n",
    "# convert inches to pixels\n",
    "fig_width = fig_width * fig_dpi\n",
    "fig_height = fig_height * fig_dpi\n",
    "\n",
    "# Intialize Plots w/ default fig width/height\n",
    "try\n",
    "  import Plots\n",
    "\n",
    "  # Plots.jl doesn't support PDF output for versions < 1.28.1\n",
    "  # so use png (if the DPI remains the default of 300 then set to 96)\n",
    "  if (Plots._current_plots_version < v\"1.28.1\") & (fig_format == :pdf)\n",
    "    Plots.gr(size=(fig_width, fig_height), fmt = :png, dpi = fig_dpi)\n",
    "  else\n",
    "    Plots.gr(size=(fig_width, fig_height), fmt = fig_format, dpi = fig_dpi)\n",
    "  end\n",
    "catch e\n",
    "  # @warn \"Plots init\" exception=(e, catch_backtrace())\n",
    "end\n",
    "\n",
    "# Initialize CairoMakie with default fig width/height\n",
    "try\n",
    "  import CairoMakie\n",
    "  \n",
    "  CairoMakie.activate!(type = string(fig_format))\n",
    "  CairoMakie.update_theme!(resolution=(fig_width, fig_height))\n",
    "catch e\n",
    "    # @warn \"CairoMakie init\" exception=(e, catch_backtrace())\n",
    "end\n",
    "  \n",
    "# Set run_path if specified\n",
    "try\n",
    "  run_path = raw\"/home/diego/local_repos/AGEC652_2024/slides/lecture_4_4\"\n",
    "  if !isempty(run_path)\n",
    "    cd(run_path)\n",
    "  end\n",
    "catch e\n",
    "  @warn \"Run path init:\" exception=(e, catch_backtrace())\n",
    "end\n",
    "\n",
    "\n",
    "# emulate old Pkg.installed beahvior, see\n",
    "# https://discourse.julialang.org/t/how-to-use-pkg-dependencies-instead-of-pkg-installed/36416/9\n",
    "import Pkg\n",
    "function isinstalled(pkg::String)\n",
    "  any(x -> x.name == pkg && x.is_direct_dep, values(Pkg.dependencies()))\n",
    "end\n",
    "\n",
    "# ojs_define\n",
    "if isinstalled(\"JSON\") && isinstalled(\"DataFrames\")\n",
    "  import JSON, DataFrames\n",
    "  global function ojs_define(; kwargs...)\n",
    "    convert(x) = x\n",
    "    convert(x::DataFrames.AbstractDataFrame) = Tables.rows(x)\n",
    "    content = Dict(\"contents\" => [Dict(\"name\" => k, \"value\" => convert(v)) for (k, v) in kwargs])\n",
    "    tag = \"<script type='ojs-define'>$(JSON.json(content))</script>\"\n",
    "    IJulia.display(MIME(\"text/html\"), tag)\n",
    "  end\n",
    "elseif isinstalled(\"JSON\")\n",
    "  import JSON\n",
    "  global function ojs_define(; kwargs...)\n",
    "    content = Dict(\"contents\" => [Dict(\"name\" => k, \"value\" => v) for (k, v) in kwargs])\n",
    "    tag = \"<script type='ojs-define'>$(JSON.json(content))</script>\"\n",
    "    IJulia.display(MIME(\"text/html\"), tag)\n",
    "  end\n",
    "else\n",
    "  global function ojs_define(; kwargs...)\n",
    "    @warn \"JSON package not available. Please install the JSON.jl package to use ojs_define.\"\n",
    "  end\n",
    "end\n",
    "\n",
    "\n",
    "# don't return kernel dependencies (b/c Revise should take care of dependencies)\n",
    "nothing\n"
   ]
  },
  {
   "cell_type": "code",
   "execution_count": 2,
   "id": "0f42ad9f",
   "metadata": {},
   "outputs": [
    {
     "name": "stderr",
     "output_type": "stream",
     "text": [
      "\u001b[32m\u001b[1m  Activating\u001b[22m\u001b[39m new project at `~/local_repos/AGEC652_2024/slides/lecture_4_4`\n"
     ]
    },
    {
     "name": "stderr",
     "output_type": "stream",
     "text": [
      "\u001b[32m\u001b[1m  No Changes\u001b[22m\u001b[39m to `~/local_repos/AGEC652_2024/slides/lecture_4_4/Project.toml`\n",
      "\u001b[32m\u001b[1m  No Changes\u001b[22m\u001b[39m to `~/local_repos/AGEC652_2024/slides/lecture_4_4/Manifest.toml`\n"
     ]
    },
    {
     "name": "stderr",
     "output_type": "stream",
     "text": [
      "\u001b[32m\u001b[1m   Resolving\u001b[22m\u001b[39m package versions...\n"
     ]
    },
    {
     "name": "stderr",
     "output_type": "stream",
     "text": [
      "\u001b[32m\u001b[1m   Installed\u001b[22m\u001b[39m Compat ─────────── v4.14.0\n",
      "\u001b[32m\u001b[1m   Installed\u001b[22m\u001b[39m DataStructures ─── v0.18.17\n"
     ]
    },
    {
     "name": "stderr",
     "output_type": "stream",
     "text": [
      "\u001b[32m\u001b[1m   Installed\u001b[22m\u001b[39m MathOptInterface ─ v1.26.0\n"
     ]
    },
    {
     "name": "stderr",
     "output_type": "stream",
     "text": [
      "\u001b[32m\u001b[1m    Updating\u001b[22m\u001b[39m `~/local_repos/AGEC652_2024/slides/lecture_4_4/Project.toml`\n",
      "  \u001b[90m[4076af6c] \u001b[39m\u001b[92m+ JuMP v1.20.0\u001b[39m\n",
      "\u001b[32m\u001b[1m    Updating\u001b[22m\u001b[39m `~/local_repos/AGEC652_2024/slides/lecture_4_4/Manifest.toml`\n",
      "  \u001b[90m[6e4b80f9] \u001b[39m\u001b[92m+ BenchmarkTools v1.4.0\u001b[39m\n",
      "  \u001b[90m[523fee87] \u001b[39m\u001b[92m+ CodecBzip2 v0.8.2\u001b[39m\n",
      "  \u001b[90m[944b1d66] \u001b[39m\u001b[92m+ CodecZlib v0.7.4\u001b[39m\n",
      "  \u001b[90m[bbf7d656] \u001b[39m\u001b[92m+ CommonSubexpressions v0.3.0\u001b[39m\n",
      "  \u001b[90m[34da2185] \u001b[39m\u001b[92m+ Compat v4.14.0\u001b[39m\n",
      "  \u001b[90m[864edb3b] \u001b[39m\u001b[92m+ DataStructures v0.18.17\u001b[39m\n",
      "  \u001b[90m[163ba53b] \u001b[39m\u001b[92m+ DiffResults v1.1.0\u001b[39m\n",
      "  \u001b[90m[b552c78f] \u001b[39m\u001b[92m+ DiffRules v1.15.1\u001b[39m\n",
      "  \u001b[90m[ffbed154] \u001b[39m\u001b[92m+ DocStringExtensions v0.9.3\u001b[39m\n",
      "  \u001b[90m[f6369f11] \u001b[39m\u001b[92m+ ForwardDiff v0.10.36\u001b[39m\n",
      "  \u001b[90m[92d709cd] \u001b[39m\u001b[92m+ IrrationalConstants v0.2.2\u001b[39m\n",
      "  \u001b[90m[692b3bcd] \u001b[39m\u001b[92m+ JLLWrappers v1.5.0\u001b[39m\n",
      "  \u001b[90m[682c06a0] \u001b[39m\u001b[92m+ JSON v0.21.4\u001b[39m\n",
      "  \u001b[90m[4076af6c] \u001b[39m\u001b[92m+ JuMP v1.20.0\u001b[39m\n",
      "  \u001b[90m[2ab3a3ac] \u001b[39m\u001b[92m+ LogExpFunctions v0.3.27\u001b[39m\n",
      "  \u001b[90m[1914dd2f] \u001b[39m\u001b[92m+ MacroTools v0.5.13\u001b[39m\n",
      "  \u001b[90m[b8f27783] \u001b[39m\u001b[92m+ MathOptInterface v1.26.0\u001b[39m\n",
      "  \u001b[90m[d8a4904e] \u001b[39m\u001b[92m+ MutableArithmetics v1.4.1\u001b[39m\n",
      "  \u001b[90m[77ba4419] \u001b[39m\u001b[92m+ NaNMath v1.0.2\u001b[39m\n",
      "  \u001b[90m[bac558e1] \u001b[39m\u001b[92m+ OrderedCollections v1.6.3\u001b[39m\n",
      "  \u001b[90m[69de0a69] \u001b[39m\u001b[92m+ Parsers v2.8.1\u001b[39m\n",
      "  \u001b[90m[aea7be01] \u001b[39m\u001b[92m+ PrecompileTools v1.2.0\u001b[39m\n",
      "  \u001b[90m[21216c6a] \u001b[39m\u001b[92m+ Preferences v1.4.1\u001b[39m\n",
      "  \u001b[90m[276daf66] \u001b[39m\u001b[92m+ SpecialFunctions v2.3.1\u001b[39m\n",
      "  \u001b[90m[1e83bf80] \u001b[39m\u001b[92m+ StaticArraysCore v1.4.2\u001b[39m\n",
      "  \u001b[90m[3bb67fe8] \u001b[39m\u001b[92m+ TranscodingStreams v0.10.3\u001b[39m\n",
      "  \u001b[90m[6e34b625] \u001b[39m\u001b[92m+ Bzip2_jll v1.0.8+1\u001b[39m\n",
      "  \u001b[90m[efe28fd5] \u001b[39m\u001b[92m+ OpenSpecFun_jll v0.5.5+0\u001b[39m\n",
      "  \u001b[90m[0dad84c5] \u001b[39m\u001b[92m+ ArgTools v1.1.1\u001b[39m\n",
      "  \u001b[90m[56f22d72] \u001b[39m\u001b[92m+ Artifacts\u001b[39m\n",
      "  \u001b[90m[2a0f44e3] \u001b[39m\u001b[92m+ Base64\u001b[39m\n",
      "  \u001b[90m[ade2ca70] \u001b[39m\u001b[92m+ Dates\u001b[39m\n",
      "  \u001b[90m[f43a241f] \u001b[39m\u001b[92m+ Downloads v1.6.0\u001b[39m\n",
      "  \u001b[90m[7b1f6079] \u001b[39m\u001b[92m+ FileWatching\u001b[39m\n",
      "  \u001b[90m[b77e0a4c] \u001b[39m\u001b[92m+ InteractiveUtils\u001b[39m\n",
      "  \u001b[90m[b27032c2] \u001b[39m\u001b[92m+ LibCURL v0.6.4\u001b[39m\n",
      "  \u001b[90m[76f85450] \u001b[39m\u001b[92m+ LibGit2\u001b[39m\n",
      "  \u001b[90m[8f399da3] \u001b[39m\u001b[92m+ Libdl\u001b[39m\n",
      "  \u001b[90m[37e2e46d] \u001b[39m\u001b[92m+ LinearAlgebra\u001b[39m\n",
      "  \u001b[90m[56ddb016] \u001b[39m\u001b[92m+ Logging\u001b[39m\n",
      "  \u001b[90m[d6f4376e] \u001b[39m\u001b[92m+ Markdown\u001b[39m\n",
      "  \u001b[90m[a63ad114] \u001b[39m\u001b[92m+ Mmap\u001b[39m\n",
      "  \u001b[90m[ca575930] \u001b[39m\u001b[92m+ NetworkOptions v1.2.0\u001b[39m\n",
      "  \u001b[90m[44cfe95a] \u001b[39m\u001b[92m+ Pkg v1.9.2\u001b[39m\n",
      "  \u001b[90m[de0858da] \u001b[39m\u001b[92m+ Printf\u001b[39m\n",
      "  \u001b[90m[9abbd945] \u001b[39m\u001b[92m+ Profile\u001b[39m\n",
      "  \u001b[90m[3fa0cd96] \u001b[39m\u001b[92m+ REPL\u001b[39m\n",
      "  \u001b[90m[9a3f8284] \u001b[39m\u001b[92m+ Random\u001b[39m\n",
      "  \u001b[90m[ea8e919c] \u001b[39m\u001b[92m+ SHA v0.7.0\u001b[39m\n",
      "  \u001b[90m[9e88b42a] \u001b[39m\u001b[92m+ Serialization\u001b[39m\n",
      "  \u001b[90m[6462fe0b] \u001b[39m\u001b[92m+ Sockets\u001b[39m\n",
      "  \u001b[90m[2f01184e] \u001b[39m\u001b[92m+ SparseArrays\u001b[39m\n",
      "  \u001b[90m[10745b16] \u001b[39m\u001b[92m+ Statistics v1.9.0\u001b[39m\n",
      "  \u001b[90m[fa267f1f] \u001b[39m\u001b[92m+ TOML v1.0.3\u001b[39m\n",
      "  \u001b[90m[a4e569a6] \u001b[39m\u001b[92m+ Tar v1.10.0\u001b[39m\n",
      "  \u001b[90m[8dfed614] \u001b[39m\u001b[92m+ Test\u001b[39m\n",
      "  \u001b[90m[cf7118a7] \u001b[39m\u001b[92m+ UUIDs\u001b[39m\n",
      "  \u001b[90m[4ec0a83e] \u001b[39m\u001b[92m+ Unicode\u001b[39m\n",
      "  \u001b[90m[e66e0078] \u001b[39m\u001b[92m+ CompilerSupportLibraries_jll v1.0.5+0\u001b[39m\n",
      "  \u001b[90m[deac9b47] \u001b[39m\u001b[92m+ LibCURL_jll v8.4.0+0\u001b[39m\n",
      "  \u001b[90m[29816b5a] \u001b[39m\u001b[92m+ LibSSH2_jll v1.11.0+1\u001b[39m\n",
      "  \u001b[90m[c8ffd9c3] \u001b[39m\u001b[92m+ MbedTLS_jll v2.28.2+0\u001b[39m\n",
      "  \u001b[90m[14a3606d] \u001b[39m\u001b[92m+ MozillaCACerts_jll v2022.10.11\u001b[39m\n",
      "  \u001b[90m[4536629a] \u001b[39m\u001b[92m+ OpenBLAS_jll v0.3.21+4\u001b[39m\n",
      "  \u001b[90m[05823500] \u001b[39m\u001b[92m+ OpenLibm_jll v0.8.1+0\u001b[39m\n",
      "  \u001b[90m[bea87d4a] \u001b[39m\u001b[92m+ SuiteSparse_jll v5.10.1+6\u001b[39m\n",
      "  \u001b[90m[83775a58] \u001b[39m\u001b[92m+ Zlib_jll v1.2.13+0\u001b[39m\n",
      "  \u001b[90m[8e850b90] \u001b[39m\u001b[92m+ libblastrampoline_jll v5.8.0+0\u001b[39m\n",
      "  \u001b[90m[8e850ede] \u001b[39m\u001b[92m+ nghttp2_jll v1.52.0+1\u001b[39m\n",
      "  \u001b[90m[3f19e933] \u001b[39m\u001b[92m+ p7zip_jll v17.4.0+0\u001b[39m\n"
     ]
    },
    {
     "name": "stderr",
     "output_type": "stream",
     "text": [
      "\u001b[32m\u001b[1mPrecompiling\u001b[22m\u001b[39m project...\n"
     ]
    },
    {
     "name": "stderr",
     "output_type": "stream",
     "text": [
      "\u001b[33m  ✓ \u001b[39m\u001b[90mCompat\u001b[39m\n"
     ]
    },
    {
     "name": "stderr",
     "output_type": "stream",
     "text": [
      "\u001b[33m  ✓ \u001b[39m\u001b[90mCompat → CompatLinearAlgebraExt\u001b[39m\n"
     ]
    },
    {
     "name": "stderr",
     "output_type": "stream",
     "text": [
      "\u001b[33m  ✓ \u001b[39m\u001b[90mDataStructures\u001b[39m\n"
     ]
    },
    {
     "name": "stderr",
     "output_type": "stream",
     "text": [
      "\u001b[32m  ✓ \u001b[39m\u001b[90mMathOptInterface\u001b[39m\n"
     ]
    },
    {
     "name": "stderr",
     "output_type": "stream",
     "text": [
      "\u001b[32m  ✓ \u001b[39mJuMP\n",
      "  5 dependencies successfully precompiled in 148 seconds. 32 already precompiled.\n",
      "  \u001b[33m3\u001b[39m dependencies precompiled but different versions are currently loaded. Restart julia to access the new versions\n",
      "\u001b[32m\u001b[1m   Resolving\u001b[22m\u001b[39m package versions...\n"
     ]
    },
    {
     "name": "stderr",
     "output_type": "stream",
     "text": [
      "\u001b[32m\u001b[1m    Updating\u001b[22m\u001b[39m `~/local_repos/AGEC652_2024/slides/lecture_4_4/Project.toml`\n",
      "  \u001b[90m[b6b21f68] \u001b[39m\u001b[92m+ Ipopt v1.6.1\u001b[39m\n",
      "\u001b[32m\u001b[1m    Updating\u001b[22m\u001b[39m `~/local_repos/AGEC652_2024/slides/lecture_4_4/Manifest.toml`\n",
      "  \u001b[90m[b6b21f68] \u001b[39m\u001b[92m+ Ipopt v1.6.1\u001b[39m\n",
      "  \u001b[90m[ae81ac8f] \u001b[39m\u001b[92m+ ASL_jll v0.1.3+0\u001b[39m\n",
      "  \u001b[90m[e33a78d0] \u001b[39m\u001b[92m+ Hwloc_jll v2.10.0+0\u001b[39m\n",
      "  \u001b[90m[9cc047cb] \u001b[39m\u001b[92m+ Ipopt_jll v300.1400.1400+0\u001b[39m\n",
      "  \u001b[90m[d00139f3] \u001b[39m\u001b[92m+ METIS_jll v5.1.2+0\u001b[39m\n",
      "  \u001b[90m[d7ed1dd3] \u001b[39m\u001b[92m+ MUMPS_seq_jll v500.600.201+0\u001b[39m\n",
      "\u001b[33m⌅\u001b[39m \u001b[90m[656ef2d0] \u001b[39m\u001b[92m+ OpenBLAS32_jll v0.3.21+0\u001b[39m\n",
      "  \u001b[90m[319450e9] \u001b[39m\u001b[92m+ SPRAL_jll v2024.1.18+0\u001b[39m\n",
      "\u001b[36m\u001b[1m        Info\u001b[22m\u001b[39m Packages marked with \u001b[33m⌅\u001b[39m have new versions available but compatibility constraints restrict them from upgrading. To see why use `status --outdated -m`\n"
     ]
    },
    {
     "name": "stderr",
     "output_type": "stream",
     "text": [
      "\u001b[32m\u001b[1mPrecompiling\u001b[22m\u001b[39m project...\n"
     ]
    },
    {
     "name": "stderr",
     "output_type": "stream",
     "text": [
      "\u001b[32m  ✓ \u001b[39mIpopt\n",
      "  1 dependency successfully precompiled in 13 seconds. 44 already precompiled.\n"
     ]
    }
   ],
   "source": [
    "using Pkg\n",
    "Pkg.activate(\".\")\n",
    "Pkg.instantiate()\n",
    "Pkg.add(\"JuMP\")\n",
    "Pkg.add(\"Ipopt\")"
   ]
  },
  {
   "cell_type": "code",
   "execution_count": 3,
   "id": "f2613569",
   "metadata": {},
   "outputs": [
    {
     "name": "stderr",
     "output_type": "stream",
     "text": [
      "\u001b[36m\u001b[1m[ \u001b[22m\u001b[39m\u001b[36m\u001b[1mInfo: \u001b[22m\u001b[39mPrecompiling JuMP [4076af6c-e467-56ae-b986-b466b2749572]\n"
     ]
    },
    {
     "name": "stderr",
     "output_type": "stream",
     "text": [
      "\u001b[36m\u001b[1m[ \u001b[22m\u001b[39m\u001b[36m\u001b[1mInfo: \u001b[22m\u001b[39mPrecompiling Ipopt [b6b21f68-93f8-5de0-b562-5493be1d77c9]\n"
     ]
    }
   ],
   "source": [
    "using JuMP, Ipopt;"
   ]
  },
  {
   "cell_type": "code",
   "execution_count": 4,
   "id": "50817e79",
   "metadata": {},
   "outputs": [],
   "source": [
    "f(x1,x2) = -exp(-(x1*x2 - 3/2)^2 - (x2-3/2)^2);"
   ]
  },
  {
   "cell_type": "code",
   "execution_count": 5,
   "id": "220ddd54",
   "metadata": {},
   "outputs": [
    {
     "data": {
      "text/plain": [
       "A JuMP Model\n",
       "Feasibility problem with:\n",
       "Variables: 0\n",
       "Model mode: AUTOMATIC\n",
       "CachingOptimizer state: EMPTY_OPTIMIZER\n",
       "Solver name: Ipopt"
      ]
     },
     "execution_count": 5,
     "metadata": {},
     "output_type": "execute_result"
    }
   ],
   "source": [
    "model = Model(Ipopt.Optimizer)"
   ]
  },
  {
   "cell_type": "code",
   "execution_count": 6,
   "id": "811a8061",
   "metadata": {},
   "outputs": [],
   "source": [
    "# This is relative tol. Default is 1e-8\n",
    "set_optimizer_attribute(model, \"tol\", 1e-6) "
   ]
  },
  {
   "cell_type": "code",
   "execution_count": 7,
   "id": "c68fe906",
   "metadata": {},
   "outputs": [
    {
     "data": {
      "text/latex": [
       "$ x1 $"
      ],
      "text/plain": [
       "x1"
      ]
     },
     "execution_count": 7,
     "metadata": {},
     "output_type": "execute_result"
    }
   ],
   "source": [
    "@variable(model, x1 >=0)"
   ]
  },
  {
   "cell_type": "code",
   "execution_count": 8,
   "id": "3a6a3527",
   "metadata": {},
   "outputs": [
    {
     "data": {
      "text/latex": [
       "$ x2 $"
      ],
      "text/plain": [
       "x2"
      ]
     },
     "execution_count": 8,
     "metadata": {},
     "output_type": "execute_result"
    }
   ],
   "source": [
    "@variable(model, x2 >=0)"
   ]
  },
  {
   "cell_type": "code",
   "execution_count": 9,
   "id": "29685305",
   "metadata": {},
   "outputs": [
    {
     "data": {
      "text/latex": [
       "$ \\textsf{-}\\left({\\textsf{exp}\\left({{\\textsf{-}\\left({{\\left(x1\\times x2 - 1.5\\right)} ^ {2.0}}\\right)} - {\\left(x2^2 - 3 x2 + 2.25\\right)}}\\right)}\\right) $"
      ],
      "text/plain": [
       "-(exp(-((x1*x2 - 1.5) ^ 2.0) - (x2² - 3 x2 + 2.25)))"
      ]
     },
     "execution_count": 9,
     "metadata": {},
     "output_type": "execute_result"
    }
   ],
   "source": [
    "@objective(model, Min, f(x1,x2))"
   ]
  },
  {
   "cell_type": "code",
   "execution_count": 10,
   "id": "701815ac",
   "metadata": {},
   "outputs": [
    {
     "data": {
      "text/latex": [
       "$$ \\begin{aligned}\n",
       "\\min\\quad & \\textsf{-}\\left({\\textsf{exp}\\left({{\\textsf{-}\\left({{\\left(x1\\times x2 - 1.5\\right)} ^ {2.0}}\\right)} - {\\left(x2^2 - 3 x2 + 2.25\\right)}}\\right)}\\right)\\\\\n",
       "\\text{Subject to} \\quad & x1 \\geq 0\\\\\n",
       " & x2 \\geq 0\\\\\n",
       "\\end{aligned} $$"
      ]
     },
     "metadata": {},
     "output_type": "display_data"
    }
   ],
   "source": [
    "print(model)"
   ]
  },
  {
   "cell_type": "code",
   "execution_count": 11,
   "id": "cdbc3013",
   "metadata": {},
   "outputs": [
    {
     "name": "stdout",
     "output_type": "stream",
     "text": [
      "\n",
      "******************************************************************************\n",
      "This program contains Ipopt, a library for large-scale nonlinear optimization.\n",
      " Ipopt is released as open source code under the Eclipse Public License (EPL).\n",
      "         For more information visit https://github.com/coin-or/Ipopt\n",
      "******************************************************************************\n",
      "\n",
      "This is Ipopt version 3.14.14, running with linear solver MUMPS 5.6.2.\n",
      "\n",
      "Number of nonzeros in equality constraint Jacobian...:        0\n",
      "Number of nonzeros in inequality constraint Jacobian.:        0\n",
      "Number of nonzeros in Lagrangian Hessian.............:        3\n",
      "\n",
      "Total number of variables............................:        2\n",
      "                     variables with only lower bounds:        2\n",
      "                variables with lower and upper bounds:        0\n",
      "                     variables with only upper bounds:        0\n",
      "Total number of equality constraints.................:        0\n",
      "Total number of inequality constraints...............:        0\n",
      "        inequality constraints with only lower bounds:        0\n",
      "   inequality constraints with lower and upper bounds:        0\n",
      "        inequality constraints with only upper bounds:        0\n",
      "\n",
      "iter    objective    inf_pr   inf_du lg(mu)  ||d||  lg(rg) alpha_du alpha_pr  ls\n",
      "   0 -1.1449605e-02 0.00e+00 1.03e+00  -1.0 0.00e+00    -  0.00e+00 0.00e+00   0\n",
      "   1 -1.5851349e-02 0.00e+00 5.92e-02  -1.0 1.00e-01    -  9.46e-01 1.00e+00f  1\n",
      "   2 -2.0400403e-02 0.00e+00 8.01e-02  -2.5 7.88e-02   0.0 1.00e+00 1.00e+00f  1\n",
      "   3 -5.7955817e-02 0.00e+00 1.59e-01  -2.5 3.13e-01  -0.5 5.40e-01 1.00e+00f  1\n",
      "   4 -3.2486363e-01 0.00e+00 6.94e-01  -2.5 4.79e-01  -0.1 9.28e-01 1.00e+00f  1\n",
      "   5 -9.8805653e-01 0.00e+00 3.06e-01  -2.5 1.76e+00   0.4 4.46e-01 2.50e-01f  3\n",
      "   6 -9.9994167e-01 0.00e+00 1.94e-02  -2.5 7.65e-02    -  1.00e+00 1.00e+00f  1\n",
      "   7 -1.0000000e+00 0.00e+00 6.69e-05  -3.8 6.16e-03    -  1.00e+00 1.00e+00f  1\n",
      "   8 -1.0000000e+00 0.00e+00 1.83e-09  -5.7 4.81e-05    -  1.00e+00 1.00e+00f  1\n",
      "   9 -1.0000000e+00 0.00e+00 9.07e-13  -7.0 3.89e-07    -  1.00e+00 1.00e+00f  1\n",
      "\n",
      "Number of Iterations....: 9\n",
      "\n",
      "                                   (scaled)                 (unscaled)\n",
      "Objective...............:  -9.9999999999999867e-01   -9.9999999999999867e-01\n",
      "Dual infeasibility......:   9.0675424205385623e-13    9.0675424205385623e-13\n",
      "Constraint violation....:   0.0000000000000000e+00    0.0000000000000000e+00\n",
      "Variable bound violation:   0.0000000000000000e+00    0.0000000000000000e+00\n",
      "Complementarity.........:   9.0909773270063229e-08    9.0909773270063229e-08\n",
      "Overall NLP error.......:   9.0909773270063229e-08    9.0909773270063229e-08\n",
      "\n",
      "\n",
      "Number of objective function evaluations             = 16\n",
      "Number of objective gradient evaluations             = 10\n",
      "Number of equality constraint evaluations            = 0\n",
      "Number of inequality constraint evaluations          = 0\n",
      "Number of equality constraint Jacobian evaluations   = 0\n",
      "Number of inequality constraint Jacobian evaluations = 0\n",
      "Number of Lagrangian Hessian evaluations             = 9\n",
      "Total seconds in IPOPT                               = 0.008\n",
      "\n",
      "EXIT: Optimal Solution Found.\n"
     ]
    }
   ],
   "source": [
    "optimize!(model)"
   ]
  },
  {
   "cell_type": "code",
   "execution_count": 12,
   "id": "857bc7ab",
   "metadata": {},
   "outputs": [],
   "source": [
    "set_silent(model);"
   ]
  },
  {
   "cell_type": "code",
   "execution_count": 13,
   "id": "cd291e26",
   "metadata": {},
   "outputs": [],
   "source": [
    "#|include: false\n",
    "optimize!(model);"
   ]
  },
  {
   "cell_type": "code",
   "execution_count": 14,
   "id": "47268959",
   "metadata": {},
   "outputs": [
    {
     "data": {
      "text/plain": [
       "1.0000000202020707"
      ]
     },
     "execution_count": 14,
     "metadata": {},
     "output_type": "execute_result"
    }
   ],
   "source": [
    "unc_x1 = value(x1)"
   ]
  },
  {
   "cell_type": "code",
   "execution_count": 15,
   "id": "27347e99",
   "metadata": {},
   "outputs": [
    {
     "data": {
      "text/plain": [
       "1.4999999999998486"
      ]
     },
     "execution_count": 15,
     "metadata": {},
     "output_type": "execute_result"
    }
   ],
   "source": [
    "unc_x2 = value(x2)"
   ]
  },
  {
   "cell_type": "code",
   "execution_count": 16,
   "id": "3a0cfd0a",
   "metadata": {},
   "outputs": [
    {
     "data": {
      "text/plain": [
       "-0.9999999999999987"
      ]
     },
     "execution_count": 16,
     "metadata": {},
     "output_type": "execute_result"
    }
   ],
   "source": [
    "unc_obj = objective_value(model)"
   ]
  },
  {
   "cell_type": "code",
   "execution_count": 17,
   "id": "14d09a4d",
   "metadata": {},
   "outputs": [],
   "source": [
    "#|include: false\n",
    "optimize!(model);"
   ]
  },
  {
   "cell_type": "code",
   "execution_count": 18,
   "id": "42f450ab",
   "metadata": {},
   "outputs": [
    {
     "data": {
      "text/plain": [
       "-0.9999999999999987"
      ]
     },
     "execution_count": 18,
     "metadata": {},
     "output_type": "execute_result"
    }
   ],
   "source": [
    "unc_obj = objective_value(model)"
   ]
  },
  {
   "cell_type": "code",
   "execution_count": 19,
   "id": "f3bb04c5",
   "metadata": {},
   "outputs": [
    {
     "data": {
      "text/latex": [
       "$$ x2^2 - x1 = 0 $$"
      ],
      "text/plain": [
       "x2² - x1 = 0"
      ]
     },
     "execution_count": 19,
     "metadata": {},
     "output_type": "execute_result"
    }
   ],
   "source": [
    "@constraint(model, -x1 +x2^2 == 0)"
   ]
  },
  {
   "cell_type": "code",
   "execution_count": 20,
   "id": "b7116c18",
   "metadata": {},
   "outputs": [
    {
     "data": {
      "text/latex": [
       "$$ \\begin{aligned}\n",
       "\\min\\quad & \\textsf{-}\\left({\\textsf{exp}\\left({{\\textsf{-}\\left({{\\left(x1\\times x2 - 1.5\\right)} ^ {2.0}}\\right)} - {\\left(x2^2 - 3 x2 + 2.25\\right)}}\\right)}\\right)\\\\\n",
       "\\text{Subject to} \\quad & x2^2 - x1 = 0\\\\\n",
       " & x1 \\geq 0\\\\\n",
       " & x2 \\geq 0\\\\\n",
       "\\end{aligned} $$"
      ]
     },
     "metadata": {},
     "output_type": "display_data"
    }
   ],
   "source": [
    "print(model)"
   ]
  },
  {
   "cell_type": "code",
   "execution_count": 21,
   "id": "adb9a532",
   "metadata": {},
   "outputs": [],
   "source": [
    "optimize!(model)"
   ]
  },
  {
   "cell_type": "code",
   "execution_count": 22,
   "id": "1a5d8a62",
   "metadata": {},
   "outputs": [],
   "source": [
    "#| include: false\n",
    "optimize!(model)"
   ]
  },
  {
   "cell_type": "code",
   "execution_count": 23,
   "id": "0344c279",
   "metadata": {},
   "outputs": [
    {
     "data": {
      "text/plain": [
       "-0.0"
      ]
     },
     "execution_count": 23,
     "metadata": {},
     "output_type": "execute_result"
    }
   ],
   "source": [
    "#| echo: true\n",
    "eqcon_x1 = value(x1)\n",
    "eqcon_x2 = value(x2)\n",
    "value(-x1 + x2^2) # We can evaluate expressions too\n",
    "eqcon_obj = objective_value(model)"
   ]
  },
  {
   "cell_type": "code",
   "execution_count": 24,
   "id": "3f932280",
   "metadata": {},
   "outputs": [
    {
     "name": "stdout",
     "output_type": "stream",
     "text": [
      "This is Ipopt version 3.14.14, running with linear solver MUMPS 5.6.2.\n",
      "\n",
      "Number of nonzeros in equality constraint Jacobian...:        0\n",
      "Number of nonzeros in inequality constraint Jacobian.:        2\n",
      "Number of nonzeros in Lagrangian Hessian.............:        4\n",
      "\n",
      "Total number of variables............................:        2\n",
      "                     variables with only lower bounds:        2\n",
      "                variables with lower and upper bounds:        0\n",
      "                     variables with only upper bounds:        0\n",
      "Total number of equality constraints.................:        0\n",
      "Total number of inequality constraints...............:        1\n",
      "        inequality constraints with only lower bounds:        0\n",
      "   inequality constraints with lower and upper bounds:        0\n",
      "        inequality constraints with only upper bounds:        1\n",
      "\n",
      "iter    objective    inf_pr   inf_du lg(mu)  ||d||  lg(rg) alpha_du alpha_pr  ls\n",
      "   0 -1.1449605e-02 0.00e+00 1.03e+00  -1.0 0.00e+00    -  0.00e+00 0.00e+00   0\n",
      "   1 -1.5854730e-02 0.00e+00 1.19e-01  -1.0 1.01e-01    -  8.94e-01 1.00e+00f  1\n",
      "   2 -2.3961281e-02 0.00e+00 9.81e-02  -2.5 1.23e-01    -  5.75e-01 1.00e+00h  1\n",
      "   3 -3.5003934e-02 0.00e+00 1.02e-01  -2.5 1.08e-01   0.0 1.00e+00 1.00e+00h  1\n",
      "   4 -9.4823477e-01 9.72e-01 5.53e-01  -2.5 2.08e+00  -0.5 1.55e-01 5.00e-01f  2\n",
      "   5 -9.6090312e-01 8.92e-01 4.52e-01  -2.5 6.55e-01    -  1.00e+00 1.83e-01h  1\n",
      "   6 -8.8648990e-01 2.74e-02 2.41e-01  -2.5 3.17e-01    -  1.00e+00 1.00e+00h  1\n",
      "   7 -8.8504642e-01 0.00e+00 1.42e-02  -2.5 6.45e-02    -  1.00e+00 1.00e+00h  1\n",
      "   8 -8.8775756e-01 0.00e+00 1.15e-04  -3.8 1.59e-02    -  1.00e+00 1.00e+00h  1\n",
      "   9 -8.8797273e-01 0.00e+00 4.64e-07  -5.7 1.28e-03    -  1.00e+00 1.00e+00h  1\n",
      "iter    objective    inf_pr   inf_du lg(mu)  ||d||  lg(rg) alpha_du alpha_pr  ls\n",
      "  10 -8.8797474e-01 0.00e+00 4.40e-11  -8.6 1.19e-05    -  1.00e+00 1.00e+00h  1\n",
      "\n",
      "Number of Iterations....: 10\n",
      "\n",
      "                                   (scaled)                 (unscaled)\n",
      "Objective...............:  -8.8797474144904420e-01   -8.8797474144904420e-01\n",
      "Dual infeasibility......:   4.4034561945229721e-11    4.4034561945229721e-11\n",
      "Constraint violation....:   0.0000000000000000e+00    0.0000000000000000e+00\n",
      "Variable bound violation:   0.0000000000000000e+00    0.0000000000000000e+00\n",
      "Complementarity.........:   2.5196089194342299e-09    2.5196089194342299e-09\n",
      "Overall NLP error.......:   2.5196089194342299e-09    2.5196089194342299e-09\n",
      "\n",
      "\n",
      "Number of objective function evaluations             = 14\n",
      "Number of objective gradient evaluations             = 11\n",
      "Number of equality constraint evaluations            = 0\n",
      "Number of inequality constraint evaluations          = 14\n",
      "Number of equality constraint Jacobian evaluations   = 0\n",
      "Number of inequality constraint Jacobian evaluations = 11\n",
      "Number of Lagrangian Hessian evaluations             = 10\n",
      "Total seconds in IPOPT                               = 0.004\n",
      "\n",
      "EXIT: Optimal Solution Found.\n"
     ]
    }
   ],
   "source": [
    "model2 = Model(Ipopt.Optimizer);\n",
    "@variable(model2, x1 >=0);\n",
    "@variable(model2, x2 >=0);\n",
    "@objective(model2, Min, f(x1, x2));\n",
    "@constraint(model2, -x1 + x2^2 <= 0);\n",
    "optimize!(model2);"
   ]
  },
  {
   "cell_type": "code",
   "execution_count": 25,
   "id": "dfd452ff",
   "metadata": {},
   "outputs": [
    {
     "data": {
      "text/plain": [
       "-0.8879747414490442"
      ]
     },
     "execution_count": 25,
     "metadata": {},
     "output_type": "execute_result"
    }
   ],
   "source": [
    "#| output: asis\n",
    "ineqcon_x1 = value(x1)\n",
    "ineqcon_x2 = value(x2)\n",
    "ineqcon_obj = objective_value(model2)"
   ]
  },
  {
   "cell_type": "code",
   "execution_count": 26,
   "id": "babcb275",
   "metadata": {},
   "outputs": [
    {
     "name": "stdout",
     "output_type": "stream",
     "text": [
      "This is Ipopt version 3.14.14, running with linear solver MUMPS 5.6.2.\n",
      "\n",
      "Number of nonzeros in equality constraint Jacobian...:        0\n",
      "Number of nonzeros in inequality constraint Jacobian.:        2\n",
      "Number of nonzeros in Lagrangian Hessian.............:        4\n",
      "\n",
      "Total number of variables............................:        2\n",
      "                     variables with only lower bounds:        2\n",
      "                variables with lower and upper bounds:        0\n",
      "                     variables with only upper bounds:        0\n",
      "Total number of equality constraints.................:        0\n",
      "Total number of inequality constraints...............:        1\n",
      "        inequality constraints with only lower bounds:        0\n",
      "   inequality constraints with lower and upper bounds:        0\n",
      "        inequality constraints with only upper bounds:        1\n",
      "\n",
      "iter    objective    inf_pr   inf_du lg(mu)  ||d||  lg(rg) alpha_du alpha_pr  ls\n",
      "   0 -1.1449605e-02 0.00e+00 1.03e+00  -1.0 0.00e+00    -  0.00e+00 0.00e+00   0\n",
      "   1 -1.5850397e-02 0.00e+00 5.90e-02  -1.0 1.00e-01    -  9.48e-01 1.00e+00f  1\n",
      "   2 -2.0385980e-02 0.00e+00 7.93e-02  -2.5 7.82e-02   0.0 1.00e+00 1.00e+00h  1\n",
      "   3 -5.7025390e-02 0.00e+00 1.59e-01  -2.5 3.10e-01  -0.5 5.44e-01 1.00e+00h  1\n",
      "   4 -2.5193623e-01 0.00e+00 5.01e-01  -2.5 3.49e-01  -0.1 7.98e-01 1.00e+00h  1\n",
      "   5 -8.9618378e-01 0.00e+00 1.57e+00  -2.5 7.27e-01   0.4 1.00e+00 1.00e+00f  1\n",
      "   6 -9.6541187e-01 1.22e-01 6.65e-01  -2.5 1.84e+00    -  1.00e+00 7.20e-01h  1\n",
      "   7 -9.9523888e-01 0.00e+00 8.42e-02  -2.5 5.13e-01    -  1.00e+00 1.00e+00f  1\n",
      "   8 -9.9837590e-01 0.00e+00 3.44e-03  -2.5 1.16e-01    -  1.00e+00 1.00e+00h  1\n",
      "   9 -9.9987546e-01 0.00e+00 2.44e-03  -3.8 1.08e-01    -  1.00e+00 1.00e+00h  1\n",
      "iter    objective    inf_pr   inf_du lg(mu)  ||d||  lg(rg) alpha_du alpha_pr  ls\n",
      "  10 -9.9999483e-01 0.00e+00 1.88e-04  -3.8 3.37e-02    -  1.00e+00 1.00e+00h  1\n",
      "  11 -9.9999999e-01 0.00e+00 1.26e-05  -5.7 8.23e-03    -  1.00e+00 1.00e+00h  1\n",
      "  12 -1.0000000e+00 0.00e+00 1.83e-08  -8.6 3.23e-04    -  1.00e+00 1.00e+00h  1\n",
      "  13 -1.0000000e+00 0.00e+00 4.65e-14  -9.0 4.66e-07    -  1.00e+00 1.00e+00h  1\n",
      "\n",
      "Number of Iterations....: 13\n",
      "\n",
      "                                   (scaled)                 (unscaled)\n",
      "Objective...............:  -1.0000000000000000e+00   -1.0000000000000000e+00\n",
      "Dual infeasibility......:   4.6486804967210195e-14    4.6486804967210195e-14\n",
      "Constraint violation....:   0.0000000000000000e+00    0.0000000000000000e+00\n",
      "Variable bound violation:   0.0000000000000000e+00    0.0000000000000000e+00\n",
      "Complementarity.........:   9.0912126294342428e-10    9.0912126294342428e-10\n",
      "Overall NLP error.......:   9.0912126294342428e-10    9.0912126294342428e-10\n",
      "\n",
      "\n",
      "Number of objective function evaluations             = 14\n",
      "Number of objective gradient evaluations             = 14\n",
      "Number of equality constraint evaluations            = 0\n",
      "Number of inequality constraint evaluations          = 14\n",
      "Number of equality constraint Jacobian evaluations   = 0\n",
      "Number of inequality constraint Jacobian evaluations = 14\n",
      "Number of Lagrangian Hessian evaluations             = 13\n",
      "Total seconds in IPOPT                               = 0.004\n",
      "\n",
      "EXIT: Optimal Solution Found.\n"
     ]
    }
   ],
   "source": [
    "model3 = Model(Ipopt.Optimizer);\n",
    "@variable(model3, x1 >=0);\n",
    "@variable(model3, x2 >=0);\n",
    "@objective(model3, Min, f(x1, x2));\n",
    "@constraint(model3, c1, -x1 + x2^2 <= 1.5);\n",
    "optimize!(model3);"
   ]
  },
  {
   "cell_type": "code",
   "execution_count": 27,
   "id": "7f5e3ce6",
   "metadata": {},
   "outputs": [
    {
     "data": {
      "text/plain": [
       "1.4999999933331216"
      ]
     },
     "execution_count": 27,
     "metadata": {},
     "output_type": "execute_result"
    }
   ],
   "source": [
    "ineqcon2_obj = objective_value(model3)\n",
    "ineqcon2_x1 = value(x1)\n",
    "ineqcon2_x2 = value(x2)"
   ]
  }
 ],
 "metadata": {
  "kernelspec": {
   "display_name": "Julia 1.9.4",
   "language": "julia",
   "name": "julia-1.9"
  },
  "language_info": {
   "file_extension": ".jl",
   "mimetype": "application/julia",
   "name": "julia",
   "version": "1.9.4"
  }
 },
 "nbformat": 4,
 "nbformat_minor": 5
}