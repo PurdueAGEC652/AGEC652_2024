{
  "cells": [
    {
      "cell_type": "raw",
      "metadata": {},
      "source": [
        "---\n",
        "title: \"AGEC 652 - Lecture 1.3\"\n",
        "subtitle: \"An introduction to programming with Julia\"\n",
        "author: \"Diego S. Cardoso\"\n",
        "institute: \"Purdue University\"\n",
        "execute:\n",
        "  echo: true\n",
        "format:\n",
        "  revealjs: \n",
        "    theme: [white, ./../agec_652_style.css]\n",
        "    slide-number: c\n",
        "    show-slide-number: all\n",
        "    code-block-bg: true\n",
        "    code-block-border-left: \"#31BAE9\"\n",
        "    code-copy: hover\n",
        "    fig-width: 8\n",
        "    fig-height: 4\n",
        "    chalkboard:\n",
        "      theme: whiteboard\n",
        "      chalk-effect: 0.1\n",
        "editor:\n",
        "  render-on-save: false\n",
        "---"
      ],
      "id": "fa9480ba"
    },
    {
      "cell_type": "code",
      "metadata": {},
      "source": [
        "#| echo: false\n",
        "using Pkg\n",
        "Pkg.activate(\".\")\n",
        "Pkg.instantiate()\n",
        "Pkg.add(\"BenchmarkTools\")"
      ],
      "id": "b12c8cc0",
      "execution_count": null,
      "outputs": []
    },
    {
      "cell_type": "markdown",
      "metadata": {},
      "source": [
        "## Course Roadmap {background-color=\"gold\"}\n",
        "\n",
        "1.  Introduction to Scientific Computing\n",
        "    1.  [Motivation]{.gray}\n",
        "    2.  [Best practices]{.gray}\n",
        "    3.  **Intro to programming**\n",
        "2.  Select ML methods for Applied Economics\n",
        "3.  Fundamentals of numerical methods\n",
        "4.  Systems of equations\n",
        "5.  Optimization\n",
        "6.  Introduction to structural estimation\n",
        "\n",
        "## Agenda {background-color=\"gold\"}\n",
        "\n",
        "- Today we start a crash course on programming using Julia\n",
        "- We will cover the main features to get you started...\n",
        "- Of course, we'll be just scratching the surface. You'll learn a lot more as we go\n",
        "\n",
        ". . .\n",
        "\n",
        "- Unless you told me you are using a different language, by now you hopefully have installed\n",
        "  - Julia\n",
        "  - Visual Studio Code with Julia extension\n",
        "\n",
        "\n",
        "## Main references for today {background-color=\"gold\"}\n",
        "\n",
        "-   Software Carpentry\n",
        "-   QuantEcon\n",
        "-   Lecture notes for Grant McDermott's *Data Science for Economists* (Oregon) and Ivan Rudik's *Dynamic Optimization* (Cornell) \n",
        "-   Julia documentation\n",
        "\n",
        "\n",
        "## Why learn Julia?\n",
        "\n",
        "**Reason 1: It is easy to learn and use**\n",
        "\n",
        "Julia is a *high-level* language\n",
        "\n",
        "- Low-level = you write instructions are closer to what the hardware understands (Assembly, C++, Fortran)\n",
        "  - These are usually the fastest because there is little to translate (what a compiler does) and you can optimize your code depending on your hardware\n",
        "- High-level means you write in closer to human language (Julia, R, Python)\n",
        "  - The compiler has to do a lot more work to translate your instructions\n",
        "\n",
        "\n",
        "## Why learn Julia?\n",
        "\n",
        "**Reason 2: Julia delivers C++ and Fortran speed**\n",
        "\n",
        "Sounds like magic, but it's just a clever combination of design choices targeting numerical methods\n",
        "\n",
        "![](figures/julia_speed_2.png){fig-align=\"center\"}\n",
        "\n",
        "[*In this graph, time to execute in C++ is 1*]{.small_text}\n",
        "\n",
        "\n",
        "\n",
        "## Why learn Julia?\n",
        "\n",
        "**Reason 3: Julia is free, open-source, and popular**\n",
        "\n",
        "- You don't need expensive licenses to use (unlike Matlab)\n",
        "- The people who want to use or verify what you did also don't have to pay\n",
        "- There is a large and active community of users and developers\n",
        "  - So it's easy to get help and new packages\n",
        "\n",
        "\n",
        "\n",
        "\n",
        "## Tools for programming in Julia\n",
        "\n",
        "There are 2 *Integrated Development Environments (IDEs)* I generally recommend\n",
        "\n",
        "1. Visual Studio (VS) code\n",
        "2. Jupyter Lab notebooks\n",
        "\n",
        "*Please watch the \"IDE showcase\" video on Brightspace for an intro*\n",
        "\n",
        ". . .\n",
        "\n",
        "In this course, we will only program plain `.jl` files, so I highly recommend you get familiarized with VS code\n",
        "\n",
        ". . .\n",
        "\n",
        "- At the end of this unit, we will talk about using AI tools to help you learn to code and become a more productive programmer\n",
        "\n",
        "\n",
        "\n",
        "## Intro to programming\n",
        "\n",
        "**Programming** $\\equiv$ **writing a set of instructions**\n",
        "\n",
        "- There are hard rules you can't break if you want your code to work\n",
        "\n",
        ". . .\n",
        "\n",
        "- There are elements of style (e.g. Strunk and White) that make your code easier to read, modify, and maintain\n",
        "\n",
        ". . .\n",
        "\n",
        "- There are elements that make your code more efficient\n",
        "  - Using less time or space (memory)\n",
        "\n",
        "\n",
        "\n",
        "## Intro to programming\n",
        "\n",
        "If you will be doing computational work, there are:\n",
        "\n",
        "1. Language-independent coding basics you should know\n",
        "    - Arrays are stored in memory in particular ways\n",
        "    \n",
        "2. Language-independent best practices you should use\n",
        "    - Indent to convey program structure, naming conventions\n",
        "    \n",
        "3. Language-dependent idiosyncracies that matter for function, speed, etc\n",
        "    - Vectorizing, memory management\n",
        "\n",
        "\n",
        "\n",
        "## Intro to programming\n",
        "\n",
        "Learning these early will:\n",
        "\n",
        "1. Make coding a lot easier\n",
        "\n",
        ". . .\n",
        "\n",
        "2. Reduce total programmer time\n",
        "\n",
        ". . .\n",
        "\n",
        "3. Reduce total computer time\n",
        "\n",
        ". . .\n",
        "\n",
        "4. Make your code understandable by someone else or your future self\n",
        "\n",
        ". . .\n",
        "\n",
        "5. Make your code flexible\n",
        "\n",
        "\n",
        "\n",
        "## A broad view of programming\n",
        "\n",
        "Your goal is to make a **program**\n",
        "\n",
        "A program is made of different components and sub-components\n",
        "\n",
        ". . .\n",
        "\n",
        "The most basic component is a **statement**, more commonly called a **line of code**\n",
        "\n",
        "\n",
        "## A broad view of programming\n",
        "\n",
        "Here is an example of a pseudoprogram:\n"
      ],
      "id": "1ffe5fb2"
    },
    {
      "cell_type": "code",
      "metadata": {},
      "source": [
        "#| eval: false\n",
        "#| code-line-numbers: \"|1\"\n",
        "deck = [\"4 of hearts\", \"King of clubs\", \"Ace of spades\"]\n",
        "shuffled_deck = shuffle(deck)\n",
        "first_card = shuffled_deck[1]\n",
        "println(\"The first drawn card was \" * shuffled_deck \".\")"
      ],
      "id": "4898bb2b",
      "execution_count": null,
      "outputs": []
    },
    {
      "cell_type": "markdown",
      "metadata": {},
      "source": [
        "This program is very simple:\n",
        "\n",
        ". . .\n",
        "\n",
        "1. Create a deck of cards\n",
        "\n",
        "\n",
        "## A broad view of programming\n",
        "\n",
        "Here is an example of a pseudoprogram:\n"
      ],
      "id": "236dae0d"
    },
    {
      "cell_type": "code",
      "metadata": {},
      "source": [
        "#| eval: false\n",
        "#| code-line-numbers: \"2\"\n",
        "deck = [\"4 of hearts\", \"King of clubs\", \"Ace of spades\"]\n",
        "shuffled_deck = shuffle(deck)\n",
        "first_card = shuffled_deck[1]\n",
        "println(\"The first drawn card was \" * shuffled_deck \".\")"
      ],
      "id": "2ad555c5",
      "execution_count": null,
      "outputs": []
    },
    {
      "cell_type": "markdown",
      "metadata": {},
      "source": [
        "This program is very simple:\n",
        "\n",
        "1. Create a deck of cards\n",
        "\n",
        "2. Shuffle the deck\n",
        "\n",
        "\n",
        "## A broad view of programming\n",
        "\n",
        "Here is an example of a pseudoprogram:\n"
      ],
      "id": "e185b5a3"
    },
    {
      "cell_type": "code",
      "metadata": {},
      "source": [
        "#| eval: false\n",
        "#| code-line-numbers: \"3\"\n",
        "deck = [\"4 of hearts\", \"King of clubs\", \"Ace of spades\"]\n",
        "shuffled_deck = shuffle(deck)\n",
        "first_card = shuffled_deck[1]\n",
        "println(\"The first drawn card was \" * shuffled_deck \".\")"
      ],
      "id": "a448abae",
      "execution_count": null,
      "outputs": []
    },
    {
      "cell_type": "markdown",
      "metadata": {},
      "source": [
        "This program is very simple:\n",
        "\n",
        "1. Create a deck of cards\n",
        "\n",
        "2. Shuffle the deck\n",
        "\n",
        "3. Draw the top card\n",
        "\n",
        "\n",
        "## A broad view of programming\n",
        "\n",
        "Here is an example of a pseudoprogram:\n"
      ],
      "id": "30e22fac"
    },
    {
      "cell_type": "code",
      "metadata": {},
      "source": [
        "#| eval: false\n",
        "#| code-line-numbers: \"4\"\n",
        "deck = [\"4 of hearts\", \"King of clubs\", \"Ace of spades\"]\n",
        "shuffled_deck = shuffle(deck)\n",
        "first_card = shuffled_deck[1]\n",
        "println(\"The first drawn card was \" * shuffled_deck \".\")"
      ],
      "id": "5951a322",
      "execution_count": null,
      "outputs": []
    },
    {
      "cell_type": "markdown",
      "metadata": {},
      "source": [
        "This program is very simple:\n",
        "\n",
        "1. Create a deck of cards\n",
        "\n",
        "2. Shuffle the deck\n",
        "\n",
        "3. Draw the top card\n",
        "\n",
        "4. Print it\n",
        "\n",
        "\n",
        "\n",
        "\n",
        "## A broad view of programming\n",
        "\n",
        "```julia\n",
        "deck = [\"4 of hearts\", \"King of clubs\", \"Ace of spades\"]\n",
        "shuffled_deck = shuffle(deck)\n",
        "first_card = shuffled_deck[1]\n",
        "println(\"The first drawn card was \" * shuffled_deck \".\")\n",
        "```\n",
        "\n",
        "What are the parentheses and why are they different from square brackets?\n",
        "\n",
        "How does shuffle work?\n",
        "\n",
        "What’s `println`?\n",
        "\n",
        "It’s important to know that a **good program has understandable code**\n",
        "\n",
        "\n",
        "\n",
        "## Julia specifics\n",
        "\n",
        "We will discuss coding in the context of Julia but a lot of this ports to Python, MATLAB, etc^[See [https://cheatsheets.quantecon.org](https://cheatsheets.quantecon.org)]\n",
        "\n",
        "We will review\n",
        "\n",
        "1. Types\n",
        "2. Iterating\n",
        "3. Broadcasting/vectorization\n",
        "\n",
        ". . .\n",
        "\n",
        "And some slightly more advanced aspects to help you debug\n",
        "\n",
        "4. Scope\n",
        "5. Multiple dispatch\n",
        "\n",
        "\n",
        "\n",
        "# 1. Types\n",
        "\n",
        "\n",
        "\n",
        "## Types: boolean\n",
        "\n",
        "All languages have some kind of **variable types** like *integers* or *arrays*\n",
        "\n",
        ". . .\n",
        "\n",
        "The first type you will often use is a boolean (`Bool`) variable that takes on a value of `true` or `false`:"
      ],
      "id": "6f499d9f"
    },
    {
      "cell_type": "code",
      "metadata": {},
      "source": [
        "x = true"
      ],
      "id": "6dbd7128",
      "execution_count": null,
      "outputs": []
    },
    {
      "cell_type": "code",
      "metadata": {},
      "source": [
        "typeof(x)"
      ],
      "id": "f632ae61",
      "execution_count": null,
      "outputs": []
    },
    {
      "cell_type": "markdown",
      "metadata": {},
      "source": [
        "## Types: boolean\n",
        "\n",
        "We can save the boolean value of actual statements in variables this way:\n"
      ],
      "id": "867294c0"
    },
    {
      "cell_type": "code",
      "metadata": {},
      "source": [
        "@show y = 1 > 2"
      ],
      "id": "3aa84f18",
      "execution_count": null,
      "outputs": []
    },
    {
      "cell_type": "markdown",
      "metadata": {},
      "source": [
        "- `@show` is a Julia macro for showing the operation. \n",
        "- You can think of a macro as a shortcut name that calls a bunch of other things to run\n",
        "\n",
        "\n",
        "\n",
        "## Quick detour: logical operators\n",
        "\n",
        "Logical operators work like you'd think\n",
        "\n",
        "`==` (equal equal) tests for equality\n"
      ],
      "id": "a9e3fbe3"
    },
    {
      "cell_type": "code",
      "metadata": {},
      "source": [
        "1 == 1"
      ],
      "id": "5d70fe99",
      "execution_count": null,
      "outputs": []
    },
    {
      "cell_type": "markdown",
      "metadata": {},
      "source": [
        ". . .\n",
        "\n",
        "`!=` (exclaimation point equal) tests for inequality\n"
      ],
      "id": "e9d2ee42"
    },
    {
      "cell_type": "code",
      "metadata": {},
      "source": [
        "2 != 2"
      ],
      "id": "a4b4da05",
      "execution_count": null,
      "outputs": []
    },
    {
      "cell_type": "markdown",
      "metadata": {},
      "source": [
        "## Quick detour: logical operators\n",
        "\n",
        "\n",
        "You can also test for approximate equality with $\\approx$ (type `\\approx<TAB>`)\n"
      ],
      "id": "1e9e39e7"
    },
    {
      "cell_type": "code",
      "metadata": {},
      "source": [
        "1.00000001 ≈ 1"
      ],
      "id": "2d425290",
      "execution_count": null,
      "outputs": []
    },
    {
      "cell_type": "markdown",
      "metadata": {},
      "source": [
        "- We will see why this can be super useful in the next unit\n",
        "\n",
        ". . .\n",
        "\n",
        "Now back to types\n",
        "\n",
        "\n",
        "\n",
        "## Types: numbers\n",
        "\n",
        "Two other data types you will use frequently are integers"
      ],
      "id": "530e32d9"
    },
    {
      "cell_type": "code",
      "metadata": {},
      "source": [
        "typeof(1)"
      ],
      "id": "9941668a",
      "execution_count": null,
      "outputs": []
    },
    {
      "cell_type": "markdown",
      "metadata": {},
      "source": [
        ". . .\n",
        "\n",
        "and floating point numbers"
      ],
      "id": "429348a9"
    },
    {
      "cell_type": "code",
      "metadata": {},
      "source": [
        "typeof(1.0)"
      ],
      "id": "6accbb89",
      "execution_count": null,
      "outputs": []
    },
    {
      "cell_type": "markdown",
      "metadata": {},
      "source": [
        "- 64 means 64 bits of storage for the number, which is probably the default on your machine\n",
        "\n",
        "\n",
        "\n",
        "## Types: numbers\n",
        "\n",
        "You can always instantiate alternative floating point number types\n"
      ],
      "id": "e636461c"
    },
    {
      "cell_type": "code",
      "metadata": {},
      "source": [
        "converted_int = convert(Float32, 1.0);\n",
        "typeof(converted_int)"
      ],
      "id": "bff262da",
      "execution_count": null,
      "outputs": []
    },
    {
      "cell_type": "markdown",
      "metadata": {},
      "source": [
        "## Types: numbers\n",
        "\n",
        "**Math works like you would expect:**\n"
      ],
      "id": "15059bbb"
    },
    {
      "cell_type": "code",
      "metadata": {},
      "source": [
        "a = 2"
      ],
      "id": "5fd47d75",
      "execution_count": null,
      "outputs": []
    },
    {
      "cell_type": "code",
      "metadata": {},
      "source": [
        "b = 1.0"
      ],
      "id": "cdbc83d2",
      "execution_count": null,
      "outputs": []
    },
    {
      "cell_type": "code",
      "metadata": {},
      "source": [
        "a * b"
      ],
      "id": "907a7455",
      "execution_count": null,
      "outputs": []
    },
    {
      "cell_type": "markdown",
      "metadata": {},
      "source": [
        ". . .\n"
      ],
      "id": "4a897e2d"
    },
    {
      "cell_type": "code",
      "metadata": {},
      "source": [
        "a^2"
      ],
      "id": "ed76797f",
      "execution_count": null,
      "outputs": []
    },
    {
      "cell_type": "markdown",
      "metadata": {},
      "source": [
        "## Types: numbers\n"
      ],
      "id": "d8f6e35d"
    },
    {
      "cell_type": "code",
      "metadata": {},
      "source": [
        "2a - 4b"
      ],
      "id": "f7d71d6c",
      "execution_count": null,
      "outputs": []
    },
    {
      "cell_type": "markdown",
      "metadata": {},
      "source": [
        ". . .\n"
      ],
      "id": "85db6f65"
    },
    {
      "cell_type": "code",
      "metadata": {},
      "source": [
        "@show 4a + 3b^2"
      ],
      "id": "b89504a6",
      "execution_count": null,
      "outputs": []
    },
    {
      "cell_type": "markdown",
      "metadata": {},
      "source": [
        ". . .\n",
        "\n",
        "**In Julia, you dont need `*` in between numeric literals (numbers) and variables**\n",
        "\n",
        "- But I advise you use the explicit notation anyway to avoid bugs\n",
        "\n",
        "\n",
        "## Types: strings\n",
        "\n",
        "Strings store sequences of characters\n",
        "\n",
        "You implement them with double quotations:\n"
      ],
      "id": "2c918a20"
    },
    {
      "cell_type": "code",
      "metadata": {},
      "source": [
        "x = \"Hello World!\";\n",
        "typeof(x)"
      ],
      "id": "458ecab4",
      "execution_count": null,
      "outputs": []
    },
    {
      "cell_type": "markdown",
      "metadata": {},
      "source": [
        ". . .\n",
        "\n",
        "- Note that `;` is used to suppress output for that line of code\n",
        "- Unlike some other languages, in Julia you don't need to add `;` after every command\n",
        "\n",
        "\n",
        "\n",
        "## Types: strings\n",
        "\n",
        "It's easy to work with strings. Use `$` to interpolate a variable/expression\n"
      ],
      "id": "bc1927a4"
    },
    {
      "cell_type": "code",
      "metadata": {},
      "source": [
        "x = 10; y = 20; println(\"x + y =  $(x+y).\")"
      ],
      "id": "a26492b3",
      "execution_count": null,
      "outputs": []
    },
    {
      "cell_type": "markdown",
      "metadata": {},
      "source": [
        ". . .\n",
        "\n",
        "Use `*` to concatenate strings\n"
      ],
      "id": "e64a0377"
    },
    {
      "cell_type": "code",
      "metadata": {},
      "source": [
        "a = \"Aww\"; b = \"Yeah!!!\"; println(a * \" \" * b)"
      ],
      "id": "0a2b58e4",
      "execution_count": null,
      "outputs": []
    },
    {
      "cell_type": "markdown",
      "metadata": {},
      "source": [
        ". . .\n",
        "\n",
        "You probably won't use strings too often unless you're working with text data or printing output. \n",
        "\n",
        ". . .\n",
        "\n",
        "- Note that `;` can also be used to type multiple commands in the same line. I'm doing it make all fit in one slide, but you should avoid it\n",
        "\n",
        "\n",
        "\n",
        "\n",
        "## Types: containers\n",
        "\n",
        "Containers are types that store collections of data\n",
        "\n",
        ". . .\n",
        "\n",
        "The most basic container is the `Array` which is denoted by square brackets\n",
        "\n",
        ". . .\n"
      ],
      "id": "b927822a"
    },
    {
      "cell_type": "code",
      "metadata": {},
      "source": [
        "a1 = [1 2; 3 4]; typeof(a1)"
      ],
      "id": "3610d737",
      "execution_count": null,
      "outputs": []
    },
    {
      "cell_type": "markdown",
      "metadata": {},
      "source": [
        ". . .\n",
        "\n",
        "Arrays are **mutable**, which means you can change their values\n",
        "\n",
        ". . .\n"
      ],
      "id": "f550cb11"
    },
    {
      "cell_type": "code",
      "metadata": {},
      "source": [
        "a1[1,1] = 5; a1"
      ],
      "id": "e7b336e7",
      "execution_count": null,
      "outputs": []
    },
    {
      "cell_type": "markdown",
      "metadata": {},
      "source": [
        "You reference elements in a container with square brackets\n",
        "\n",
        "\n",
        "\n",
        "## Types: containers\n",
        "\n",
        "An alternative to the `Array` is the `Tuple`, which is denoted by parentheses\n",
        "\n",
        ". . .\n"
      ],
      "id": "bb465dab"
    },
    {
      "cell_type": "code",
      "metadata": {},
      "source": [
        "a2 = (1, 2, 3, 4); typeof(a2)"
      ],
      "id": "06090e9b",
      "execution_count": null,
      "outputs": []
    },
    {
      "cell_type": "markdown",
      "metadata": {},
      "source": [
        "`a2` is a `Tuple` of 4 `Int64`s. Tuples have no dimension\n",
        "\n",
        "\n",
        "\n",
        "## Types: containers\n",
        "\n",
        "Tuples are **immutable** which means you **can't** change their values"
      ],
      "id": "8aab4e25"
    },
    {
      "cell_type": "code",
      "metadata": {},
      "source": [
        "try\n",
        "  a2[1] = 5;\n",
        "catch\n",
        "  println(\"Error, can't change value of a tuple.\")\n",
        "end"
      ],
      "id": "a4d4f278",
      "execution_count": null,
      "outputs": []
    },
    {
      "cell_type": "markdown",
      "metadata": {},
      "source": [
        "## Types: containers\n",
        "\n",
        "Tuples don't need parentheses (but it's probably best practice for clarity)"
      ],
      "id": "29599387"
    },
    {
      "cell_type": "code",
      "metadata": {},
      "source": [
        "a3 = 5, 6; typeof(a3)"
      ],
      "id": "2d5b116d",
      "execution_count": null,
      "outputs": []
    },
    {
      "cell_type": "markdown",
      "metadata": {},
      "source": [
        "## Types: containers\n",
        "\n",
        "Tuples can be **unpacked** \n",
        "\n",
        ". . .\n"
      ],
      "id": "d2ba409b"
    },
    {
      "cell_type": "code",
      "metadata": {},
      "source": [
        "a3_x, a3_y = a3;\n",
        "a3_x"
      ],
      "id": "2bb88dfd",
      "execution_count": null,
      "outputs": []
    },
    {
      "cell_type": "code",
      "metadata": {},
      "source": [
        "a3_y"
      ],
      "id": "e264f4e3",
      "execution_count": null,
      "outputs": []
    },
    {
      "cell_type": "markdown",
      "metadata": {},
      "source": [
        ". . .\n",
        "\n",
        "**This is basically how functions return multiple outputs when you call them!**\n",
        "\n",
        "\n",
        "\n",
        "## Types: containers\n",
        "\n",
        "But an alternative and more efficient container is the  [`NamedTuple`](https://docs.julialang.org/en/v1/manual/types/#Named-Tuple-Types-1) \n"
      ],
      "id": "0200e0b5"
    },
    {
      "cell_type": "code",
      "metadata": {},
      "source": [
        "nt = (x = 10, y = 11); typeof(nt)"
      ],
      "id": "121a1775",
      "execution_count": null,
      "outputs": []
    },
    {
      "cell_type": "code",
      "metadata": {},
      "source": [
        "nt.x"
      ],
      "id": "c4acf2b7",
      "execution_count": null,
      "outputs": []
    },
    {
      "cell_type": "code",
      "metadata": {},
      "source": [
        "nt.y"
      ],
      "id": "62f21c27",
      "execution_count": null,
      "outputs": []
    },
    {
      "cell_type": "markdown",
      "metadata": {},
      "source": [
        "Another way of accessing `x` and `y` inside the NamedTuple is\n"
      ],
      "id": "0d9593f0"
    },
    {
      "cell_type": "code",
      "metadata": {},
      "source": [
        "nt[:x]"
      ],
      "id": "85d4621d",
      "execution_count": null,
      "outputs": []
    },
    {
      "cell_type": "code",
      "metadata": {},
      "source": [
        "nt[:y];"
      ],
      "id": "b6198121",
      "execution_count": null,
      "outputs": []
    },
    {
      "cell_type": "markdown",
      "metadata": {},
      "source": [
        "## Types: containers\n",
        "\n",
        "A `Dictionary` is the last main container type\n",
        "\n",
        "- They are like arrays but are indexed by keys (names) instead of numbers\n",
        "\n",
        ". . .\n"
      ],
      "id": "1427c27b"
    },
    {
      "cell_type": "code",
      "metadata": {},
      "source": [
        "d1 = Dict(\"class\" => \"AGEC652\", \"grade\" => 97);\n",
        "typeof(d1)"
      ],
      "id": "e815f60a",
      "execution_count": null,
      "outputs": []
    },
    {
      "cell_type": "markdown",
      "metadata": {},
      "source": [
        ". . .\n",
        "\n",
        "`d1` is a dictionary where the key are strings and the values are any kind of type\n",
        "\n",
        "\n",
        "\n",
        "## Types: containers\n",
        "\n",
        "Reference specific values you want in the dictionary by referencing the key\n",
        "\n",
        ". . .\n"
      ],
      "id": "649c46d5"
    },
    {
      "cell_type": "code",
      "metadata": {},
      "source": [
        "d1[\"class\"]"
      ],
      "id": "36307cd1",
      "execution_count": null,
      "outputs": []
    },
    {
      "cell_type": "code",
      "metadata": {},
      "source": [
        "d1[\"grade\"]"
      ],
      "id": "787738ef",
      "execution_count": null,
      "outputs": []
    },
    {
      "cell_type": "markdown",
      "metadata": {},
      "source": [
        "## Types: containers\n",
        "\n",
        "If you just want all the keys or all the values, you can use these base functions\n"
      ],
      "id": "bde5251d"
    },
    {
      "cell_type": "code",
      "metadata": {},
      "source": [
        "keys_d1 = keys(d1)"
      ],
      "id": "6905fca1",
      "execution_count": null,
      "outputs": []
    },
    {
      "cell_type": "code",
      "metadata": {},
      "source": [
        "values_d1 = values(d1)"
      ],
      "id": "3de491f2",
      "execution_count": null,
      "outputs": []
    }
  ],
  "metadata": {
    "kernelspec": {
      "name": "julia-1.9",
      "language": "julia",
      "display_name": "Julia 1.9.4"
    }
  },
  "nbformat": 4,
  "nbformat_minor": 5
}