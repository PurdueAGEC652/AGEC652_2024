{
 "cells": [
  {
   "cell_type": "code",
   "execution_count": 1,
   "id": "80734c75",
   "metadata": {},
   "outputs": [],
   "source": [
    "import IJulia\n",
    "\n",
    "# The julia kernel has built in support for Revise.jl, so this is the \n",
    "# recommended approach for long-running sessions:\n",
    "# https://github.com/JuliaLang/IJulia.jl/blob/9b10fa9b879574bbf720f5285029e07758e50a5e/src/kernel.jl#L46-L51\n",
    "\n",
    "# Users should enable revise within .julia/config/startup_ijulia.jl:\n",
    "# https://timholy.github.io/Revise.jl/stable/config/#Using-Revise-automatically-within-Jupyter/IJulia-1\n",
    "\n",
    "# clear console history\n",
    "IJulia.clear_history()\n",
    "\n",
    "fig_width = 8\n",
    "fig_height = 4\n",
    "fig_format = :retina\n",
    "fig_dpi = 96\n",
    "\n",
    "# no retina format type, use svg for high quality type/marks\n",
    "if fig_format == :retina\n",
    "  fig_format = :svg\n",
    "elseif fig_format == :pdf\n",
    "  fig_dpi = 96\n",
    "  # Enable PDF support for IJulia\n",
    "  IJulia.register_mime(MIME(\"application/pdf\"))\n",
    "end\n",
    "\n",
    "# convert inches to pixels\n",
    "fig_width = fig_width * fig_dpi\n",
    "fig_height = fig_height * fig_dpi\n",
    "\n",
    "# Intialize Plots w/ default fig width/height\n",
    "try\n",
    "  import Plots\n",
    "\n",
    "  # Plots.jl doesn't support PDF output for versions < 1.28.1\n",
    "  # so use png (if the DPI remains the default of 300 then set to 96)\n",
    "  if (Plots._current_plots_version < v\"1.28.1\") & (fig_format == :pdf)\n",
    "    Plots.gr(size=(fig_width, fig_height), fmt = :png, dpi = fig_dpi)\n",
    "  else\n",
    "    Plots.gr(size=(fig_width, fig_height), fmt = fig_format, dpi = fig_dpi)\n",
    "  end\n",
    "catch e\n",
    "  # @warn \"Plots init\" exception=(e, catch_backtrace())\n",
    "end\n",
    "\n",
    "# Initialize CairoMakie with default fig width/height\n",
    "try\n",
    "  import CairoMakie\n",
    "  \n",
    "  CairoMakie.activate!(type = string(fig_format))\n",
    "  CairoMakie.update_theme!(resolution=(fig_width, fig_height))\n",
    "catch e\n",
    "    # @warn \"CairoMakie init\" exception=(e, catch_backtrace())\n",
    "end\n",
    "  \n",
    "# Set run_path if specified\n",
    "try\n",
    "  run_path = raw\"/home/diego/local_repos/AGEC652_2024/slides/lecture_7_2\"\n",
    "  if !isempty(run_path)\n",
    "    cd(run_path)\n",
    "  end\n",
    "catch e\n",
    "  @warn \"Run path init:\" exception=(e, catch_backtrace())\n",
    "end\n",
    "\n",
    "\n",
    "# emulate old Pkg.installed beahvior, see\n",
    "# https://discourse.julialang.org/t/how-to-use-pkg-dependencies-instead-of-pkg-installed/36416/9\n",
    "import Pkg\n",
    "function isinstalled(pkg::String)\n",
    "  any(x -> x.name == pkg && x.is_direct_dep, values(Pkg.dependencies()))\n",
    "end\n",
    "\n",
    "# ojs_define\n",
    "if isinstalled(\"JSON\") && isinstalled(\"DataFrames\")\n",
    "  import JSON, DataFrames\n",
    "  global function ojs_define(; kwargs...)\n",
    "    convert(x) = x\n",
    "    convert(x::DataFrames.AbstractDataFrame) = Tables.rows(x)\n",
    "    content = Dict(\"contents\" => [Dict(\"name\" => k, \"value\" => convert(v)) for (k, v) in kwargs])\n",
    "    tag = \"<script type='ojs-define'>$(JSON.json(content))</script>\"\n",
    "    IJulia.display(MIME(\"text/html\"), tag)\n",
    "  end\n",
    "elseif isinstalled(\"JSON\")\n",
    "  import JSON\n",
    "  global function ojs_define(; kwargs...)\n",
    "    content = Dict(\"contents\" => [Dict(\"name\" => k, \"value\" => v) for (k, v) in kwargs])\n",
    "    tag = \"<script type='ojs-define'>$(JSON.json(content))</script>\"\n",
    "    IJulia.display(MIME(\"text/html\"), tag)\n",
    "  end\n",
    "else\n",
    "  global function ojs_define(; kwargs...)\n",
    "    @warn \"JSON package not available. Please install the JSON.jl package to use ojs_define.\"\n",
    "  end\n",
    "end\n",
    "\n",
    "\n",
    "# don't return kernel dependencies (b/c Revise should take care of dependencies)\n",
    "nothing\n"
   ]
  },
  {
   "cell_type": "code",
   "execution_count": 2,
   "id": "c1eaa501",
   "metadata": {},
   "outputs": [
    {
     "name": "stderr",
     "output_type": "stream",
     "text": [
      "\u001b[32m\u001b[1m  Activating\u001b[22m\u001b[39m project at `~/local_repos/AGEC652_2024/slides/lecture_7_2`\n"
     ]
    },
    {
     "name": "stderr",
     "output_type": "stream",
     "text": [
      "\u001b[32m\u001b[1m    Updating\u001b[22m\u001b[39m registry at `~/.julia/registries/General.toml`\n"
     ]
    },
    {
     "name": "stderr",
     "output_type": "stream",
     "text": [
      "\u001b[32m\u001b[1m   Resolving\u001b[22m\u001b[39m package versions...\n"
     ]
    },
    {
     "name": "stderr",
     "output_type": "stream",
     "text": [
      "\u001b[32m\u001b[1m   Installed\u001b[22m\u001b[39m Missings ─────── v1.2.0\n"
     ]
    },
    {
     "name": "stderr",
     "output_type": "stream",
     "text": [
      "\u001b[32m\u001b[1m   Installed\u001b[22m\u001b[39m FillArrays ───── v1.10.0\n",
      "\u001b[32m\u001b[1m   Installed\u001b[22m\u001b[39m DataStructures ─ v0.18.19\n",
      "\u001b[32m\u001b[1m   Installed\u001b[22m\u001b[39m StatsBase ────── v0.34.3\n",
      "\u001b[32m\u001b[1m   Installed\u001b[22m\u001b[39m Optim ────────── v1.9.4\n"
     ]
    },
    {
     "name": "stderr",
     "output_type": "stream",
     "text": [
      "\u001b[32m\u001b[1m    Updating\u001b[22m\u001b[39m `~/local_repos/AGEC652_2024/slides/lecture_7_2/Project.toml`\n",
      "  \u001b[90m[429524aa] \u001b[39m\u001b[92m+ Optim v1.9.4\u001b[39m\n",
      "\u001b[32m\u001b[1m    Updating\u001b[22m\u001b[39m `~/local_repos/AGEC652_2024/slides/lecture_7_2/Manifest.toml`\n",
      " "
     ]
    },
    {
     "name": "stderr",
     "output_type": "stream",
     "text": [
      " \u001b[90m[79e6a3ab] \u001b[39m\u001b[92m+ Adapt v4.0.4\u001b[39m\n",
      "\u001b[33m⌅\u001b[39m \u001b[90m[4fba245c] \u001b[39m\u001b[92m+ ArrayInterface v7.7.1\u001b[39m\n",
      "  \u001b[90m[bbf7d656] \u001b[39m\u001b[92m+ CommonSubexpressions v0.3.0\u001b[39m\n",
      "  \u001b[90m[34da2185] \u001b[39m\u001b[92m+ Compat v4.14.0\u001b[39m\n",
      "  \u001b[90m[187b0558] \u001b[39m\u001b[92m+ ConstructionBase v1.5.5\u001b[39m\n",
      "  \u001b[90m[9a962f9c] \u001b[39m\u001b[92m+ DataAPI v1.16.0\u001b[39m\n",
      "  \u001b[90m[864edb3b] \u001b[39m\u001b[92m+ DataStructures v0.18.19\u001b[39m\n",
      "  \u001b[90m[163ba53b] \u001b[39m\u001b[92m+ DiffResults v1.1.0\u001b[39m\n",
      "  \u001b[90m[b552c78f] \u001b[39m\u001b[92m+ DiffRules v1.15.1\u001b[39m\n",
      "  \u001b[90m[ffbed154] \u001b[39m\u001b[92m+ DocStringExtensions v0.9.3\u001b[39m\n",
      "  \u001b[90m[1a297f60] \u001b[39m\u001b[92m+ FillArrays v1.10.0\u001b[39m\n",
      "\u001b[33m⌅\u001b[39m \u001b[90m[6a86dc24] \u001b[39m\u001b[92m+ FiniteDiff v2.22.0\u001b[39m\n",
      "  \u001b[90m[f6369f11] \u001b[39m\u001b[92m+ ForwardDiff v0.10.36\u001b[39m\n",
      "  \u001b[90m[92d709cd] \u001b[39m\u001b[92m+ IrrationalConstants v0.2.2\u001b[39m\n",
      "  \u001b[90m[692b3bcd] \u001b[39m\u001b[92m+ JLLWrappers v1.5.0\u001b[39m\n",
      "  \u001b[90m[d3d80556] \u001b[39m\u001b[92m+ LineSearches v7.2.0\u001b[39m\n",
      "  \u001b[90m[2ab3a3ac] \u001b[39m\u001b[92m+ LogExpFunctions v0.3.27\u001b[39m\n",
      "  \u001b[90m[1914dd2f] \u001b[39m\u001b[92m+ MacroTools v0.5.13\u001b[39m\n",
      "  \u001b[90m[e1d29d7a] \u001b[39m\u001b[92m+ Missings v1.2.0\u001b[39m\n",
      "  \u001b[90m[d41bc354] \u001b[39m\u001b[92m+ NLSolversBase v7.8.3\u001b[39m\n",
      "  \u001b[90m[77ba4419] \u001b[39m\u001b[92m+ NaNMath v1.0.2\u001b[39m\n",
      "  \u001b[90m[429524aa] \u001b[39m\u001b[92m+ Optim v1.9.4\u001b[39m\n",
      "  \u001b[90m[bac558e1] \u001b[39m\u001b[92m+ OrderedCollections v1.6.3\u001b[39m\n",
      "  \u001b[90m[d96e819e] \u001b[39m\u001b[92m+ Parameters v0.12.3\u001b[39m\n",
      "  \u001b[90m[85a6dd25] \u001b[39m\u001b[92m+ PositiveFactorizations v0.2.4\u001b[39m\n",
      "  \u001b[90m[21216c6a] \u001b[39m\u001b[92m+ Preferences v1.4.3\u001b[39m\n",
      "  \u001b[90m[ae029012] \u001b[39m\u001b[92m+ Requires v1.3.0\u001b[39m\n",
      "  \u001b[90m[efcf1570] \u001b[39m\u001b[92m+ Setfield v1.1.1\u001b[39m\n",
      "  \u001b[90m[a2af1166] \u001b[39m\u001b[92m+ SortingAlgorithms v1.2.1\u001b[39m\n",
      "  \u001b[90m[276daf66] \u001b[39m\u001b[92m+ SpecialFunctions v2.3.1\u001b[39m\n",
      "  \u001b[90m[1e83bf80] \u001b[39m\u001b[92m+ StaticArraysCore v1.4.2\u001b[39m\n",
      "  \u001b[90m[82ae8749] \u001b[39m\u001b[92m+ StatsAPI v1.7.0\u001b[39m\n",
      "  \u001b[90m[2913bbd2] \u001b[39m\u001b[92m+ StatsBase v0.34.3\u001b[39m\n",
      "  \u001b[90m[3a884ed6] \u001b[39m\u001b[92m+ UnPack v1.0.2\u001b[39m\n",
      "  \u001b[90m[efe28fd5] \u001b[39m\u001b[92m+ OpenSpecFun_jll v0.5.5+0\u001b[39m\n",
      "  \u001b[90m[0dad84c5] \u001b[39m\u001b[92m+ ArgTools v1.1.1\u001b[39m\n",
      "  \u001b[90m[56f22d72] \u001b[39m\u001b[92m+ Artifacts\u001b[39m\n",
      "  \u001b[90m[2a0f44e3] \u001b[39m\u001b[92m+ Base64\u001b[39m\n",
      "  \u001b[90m[ade2ca70] \u001b[39m\u001b[92m+ Dates\u001b[39m\n",
      "  \u001b[90m[8ba89e20] \u001b[39m\u001b[92m+ Distributed\u001b[39m\n",
      "  \u001b[90m[f43a241f] \u001b[39m\u001b[92m+ Downloads v1.6.0\u001b[39m\n",
      "  \u001b[90m[7b1f6079] \u001b[39m\u001b[92m+ FileWatching\u001b[39m\n",
      "  \u001b[90m[9fa8497b] \u001b[39m\u001b[92m+ Future\u001b[39m\n",
      "  \u001b[90m[b77e0a4c] \u001b[39m\u001b[92m+ InteractiveUtils\u001b[39m\n",
      "  \u001b[90m[b27032c2] \u001b[39m\u001b[92m+ LibCURL v0.6.4\u001b[39m\n",
      "  \u001b[90m[76f85450] \u001b[39m\u001b[92m+ LibGit2\u001b[39m\n",
      "  \u001b[90m[8f399da3] \u001b[39m\u001b[92m+ Libdl\u001b[39m\n",
      "  \u001b[90m[37e2e46d] \u001b[39m\u001b[92m+ LinearAlgebra\u001b[39m\n",
      "  \u001b[90m[56ddb016] \u001b[39m\u001b[92m+ Logging\u001b[39m\n",
      "  \u001b[90m[d6f4376e] \u001b[39m\u001b[92m+ Markdown\u001b[39m\n",
      "  \u001b[90m[ca575930] \u001b[39m\u001b[92m+ NetworkOptions v1.2.0\u001b[39m\n",
      "  \u001b[90m[44cfe95a] \u001b[39m\u001b[92m+ Pkg v1.9.2\u001b[39m\n",
      "  \u001b[90m[de0858da] \u001b[39m\u001b[92m+ Printf\u001b[39m\n",
      "  \u001b[90m[3fa0cd96] \u001b[39m\u001b[92m+ REPL\u001b[39m\n",
      "  \u001b[90m[9a3f8284] \u001b[39m\u001b[92m+ Random\u001b[39m\n",
      "  \u001b[90m[ea8e919c] \u001b[39m\u001b[92m+ SHA v0.7.0\u001b[39m\n",
      "  \u001b[90m[9e88b42a] \u001b[39m\u001b[92m+ Serialization\u001b[39m\n",
      "  \u001b[90m[6462fe0b] \u001b[39m\u001b[92m+ Sockets\u001b[39m\n",
      "  \u001b[90m[2f01184e] \u001b[39m\u001b[92m+ SparseArrays\u001b[39m\n",
      "  \u001b[90m[10745b16] \u001b[39m\u001b[92m+ Statistics v1.9.0\u001b[39m\n",
      "  \u001b[90m[4607b0f0] \u001b[39m\u001b[92m+ SuiteSparse\u001b[39m\n",
      "  \u001b[90m[fa267f1f] \u001b[39m\u001b[92m+ TOML v1.0.3\u001b[39m\n",
      "  \u001b[90m[a4e569a6] \u001b[39m\u001b[92m+ Tar v1.10.0\u001b[39m\n",
      "  \u001b[90m[8dfed614] \u001b[39m\u001b[92m+ Test\u001b[39m\n",
      "  \u001b[90m[cf7118a7] \u001b[39m\u001b[92m+ UUIDs\u001b[39m\n",
      "  \u001b[90m[4ec0a83e] \u001b[39m\u001b[92m+ Unicode\u001b[39m\n",
      "  \u001b[90m[e66e0078] \u001b[39m\u001b[92m+ CompilerSupportLibraries_jll v1.0.5+0\u001b[39m\n",
      "  \u001b[90m[deac9b47] \u001b[39m\u001b[92m+ LibCURL_jll v8.4.0+0\u001b[39m\n",
      "  \u001b[90m[29816b5a] \u001b[39m\u001b[92m+ LibSSH2_jll v1.11.0+1\u001b[39m\n",
      "  \u001b[90m[c8ffd9c3] \u001b[39m\u001b[92m+ MbedTLS_jll v2.28.2+0\u001b[39m\n",
      "  \u001b[90m[14a3606d] \u001b[39m\u001b[92m+ MozillaCACerts_jll v2022.10.11\u001b[39m\n",
      "  \u001b[90m[4536629a] \u001b[39m\u001b[92m+ OpenBLAS_jll v0.3.21+4\u001b[39m\n",
      "  \u001b[90m[05823500] \u001b[39m\u001b[92m+ OpenLibm_jll v0.8.1+0\u001b[39m\n",
      "  \u001b[90m[bea87d4a] \u001b[39m\u001b[92m+ SuiteSparse_jll v5.10.1+6\u001b[39m\n",
      "  \u001b[90m[83775a58] \u001b[39m\u001b[92m+ Zlib_jll v1.2.13+0\u001b[39m\n",
      "  \u001b[90m[8e850b90] \u001b[39m\u001b[92m+ libblastrampoline_jll v5.8.0+0\u001b[39m\n",
      "  \u001b[90m[8e850ede] \u001b[39m\u001b[92m+ nghttp2_jll v1.52.0+1\u001b[39m\n",
      "  \u001b[90m[3f19e933] \u001b[39m\u001b[92m+ p7zip_jll v17.4.0+0\u001b[39m\n",
      "\u001b[36m\u001b[1m        Info\u001b[22m\u001b[39m Packages marked with \u001b[33m⌅\u001b[39m have new versions available but compatibility constraints restrict them from upgrading. To see why use `status --outdated -m`\n"
     ]
    },
    {
     "name": "stderr",
     "output_type": "stream",
     "text": [
      "\u001b[32m\u001b[1mPrecompiling\u001b[22m\u001b[39m project...\n"
     ]
    },
    {
     "name": "stderr",
     "output_type": "stream",
     "text": [
      "\u001b[33m  ✓ \u001b[39m\u001b[90mMissings\u001b[39m\n"
     ]
    },
    {
     "name": "stderr",
     "output_type": "stream",
     "text": [
      "\u001b[32m  ✓ \u001b[39m\u001b[90mFillArrays\u001b[39m\n"
     ]
    },
    {
     "name": "stderr",
     "output_type": "stream",
     "text": [
      "\u001b[32m  ✓ \u001b[39m\u001b[90mFillArrays → FillArraysSparseArraysExt\u001b[39m\n"
     ]
    },
    {
     "name": "stderr",
     "output_type": "stream",
     "text": [
      "\u001b[33m  ✓ \u001b[39m\u001b[90mDataStructures\u001b[39m\n"
     ]
    },
    {
     "name": "stderr",
     "output_type": "stream",
     "text": [
      "\u001b[32m  ✓ \u001b[39m\u001b[90mFillArrays → FillArraysStatisticsExt\u001b[39m\n"
     ]
    },
    {
     "name": "stderr",
     "output_type": "stream",
     "text": [
      "\u001b[33m  ✓ \u001b[39m\u001b[90mStatsBase\u001b[39m\n"
     ]
    },
    {
     "name": "stderr",
     "output_type": "stream",
     "text": [
      "\u001b[32m  ✓ \u001b[39mOptim\n"
     ]
    },
    {
     "name": "stderr",
     "output_type": "stream",
     "text": [
      "  7 dependencies successfully precompiled in 7 seconds. 40 already precompiled.\n",
      "  \u001b[33m3\u001b[39m dependencies precompiled but different versions are currently loaded. Restart julia to access the new versions\n",
      "\u001b[32m\u001b[1m   Resolving\u001b[22m\u001b[39m package versions...\n"
     ]
    },
    {
     "name": "stderr",
     "output_type": "stream",
     "text": [
      "\u001b[32m\u001b[1m    Updating\u001b[22m\u001b[39m `~/local_repos/AGEC652_2024/slides/lecture_7_2/Project.toml`\n",
      "  \u001b[90m[38e38edf] \u001b[39m\u001b[92m+ GLM v1.9.0\u001b[39m\n",
      "\u001b[32m\u001b[1m    Updating\u001b[22m\u001b[39m `~/local_repos/AGEC652_2024/slides/lecture_7_2/Manifest.toml`\n",
      "  \u001b[90m[49dc2e85] \u001b[39m\u001b[92m+ Calculus v0.5.1\u001b[39m\n",
      "  \u001b[90m[e2d170a0] \u001b[39m\u001b[92m+ DataValueInterfaces v1.0.0\u001b[39m\n",
      "  \u001b[90m[31c24e10] \u001b[39m\u001b[92m+ Distributions v0.25.107\u001b[39m\n",
      "  \u001b[90m[fa6b7ba4] \u001b[39m\u001b[92m+ DualNumbers v0.6.8\u001b[39m\n",
      "  \u001b[90m[38e38edf] \u001b[39m\u001b[92m+ GLM v1.9.0\u001b[39m\n",
      "  \u001b[90m[34004b35] \u001b[39m\u001b[92m+ HypergeometricFunctions v0.3.23\u001b[39m\n",
      "  \u001b[90m[82899510] \u001b[39m\u001b[92m+ IteratorInterfaceExtensions v1.0.0\u001b[39m\n",
      "  \u001b[90m[90014a1f] \u001b[39m\u001b[92m+ PDMats v0.11.31\u001b[39m\n",
      "  \u001b[90m[1fd47b50] \u001b[39m\u001b[92m+ QuadGK v2.9.4\u001b[39m\n",
      "  \u001b[90m[189a3867] \u001b[39m\u001b[92m+ Reexport v1.2.2\u001b[39m\n",
      "  \u001b[90m[79098fc4] \u001b[39m\u001b[92m+ Rmath v0.7.1\u001b[39m\n",
      "  \u001b[90m[1277b4bf] \u001b[39m\u001b[92m+ ShiftedArrays v2.0.0\u001b[39m\n",
      "  \u001b[90m[4c63d2b9] \u001b[39m\u001b[92m+ StatsFuns v1.3.1\u001b[39m\n",
      "  \u001b[90m[3eaba693] \u001b[39m\u001b[92m+ StatsModels v0.7.3\u001b[39m\n",
      "  \u001b[90m[3783bdb8] \u001b[39m\u001b[92m+ TableTraits v1.0.1\u001b[39m\n",
      "  \u001b[90m[bd369af6] \u001b[39m\u001b[92m+ Tables v1.11.1\u001b[39m\n",
      "  \u001b[90m[f50d1b31] \u001b[39m\u001b[92m+ Rmath_jll v0.4.0+0\u001b[39m\n",
      "\u001b[32m\u001b[1mPrecompiling\u001b[22m\u001b[39m project...\n"
     ]
    },
    {
     "name": "stderr",
     "output_type": "stream",
     "text": [
      "\u001b[32m  ✓ \u001b[39m\u001b[90mFillArrays → FillArraysPDMatsExt\u001b[39m\n"
     ]
    },
    {
     "name": "stderr",
     "output_type": "stream",
     "text": [
      "\u001b[32m  ✓ \u001b[39m\u001b[90mStatsModels\u001b[39m\n"
     ]
    },
    {
     "name": "stderr",
     "output_type": "stream",
     "text": [
      "\u001b[32m  ✓ \u001b[39m\u001b[90mDistributions\u001b[39m\n"
     ]
    },
    {
     "name": "stderr",
     "output_type": "stream",
     "text": [
      "\u001b[32m  ✓ \u001b[39m\u001b[90mDistributions → DistributionsTestExt\u001b[39m\n"
     ]
    },
    {
     "name": "stderr",
     "output_type": "stream",
     "text": [
      "\u001b[32m  ✓ \u001b[39mGLM\n",
      "  5 dependencies successfully precompiled in 8 seconds. 61 already precompiled.\n",
      "\u001b[32m\u001b[1m   Resolving\u001b[22m\u001b[39m package versions...\n"
     ]
    },
    {
     "name": "stderr",
     "output_type": "stream",
     "text": [
      "\u001b[32m\u001b[1m    Updating\u001b[22m\u001b[39m `~/local_repos/AGEC652_2024/slides/lecture_7_2/Project.toml`\n",
      "  \u001b[90m[37e2e46d] \u001b[39m\u001b[92m+ LinearAlgebra\u001b[39m\n",
      "\u001b[32m\u001b[1m  No Changes\u001b[22m\u001b[39m to `~/local_repos/AGEC652_2024/slides/lecture_7_2/Manifest.toml`\n",
      "\u001b[32m\u001b[1m   Resolving\u001b[22m\u001b[39m package versions...\n"
     ]
    },
    {
     "name": "stderr",
     "output_type": "stream",
     "text": [
      "\u001b[32m\u001b[1m   Installed\u001b[22m\u001b[39m ColorTypes ─ v0.11.5\n",
      "\u001b[32m\u001b[1m   Installed\u001b[22m\u001b[39m Contour ──── v0.6.3\n",
      "\u001b[32m\u001b[1m   Installed\u001b[22m\u001b[39m Plots ────── v1.40.4\n"
     ]
    },
    {
     "name": "stderr",
     "output_type": "stream",
     "text": [
      "\u001b[32m\u001b[1m    Updating\u001b[22m\u001b[39m `~/local_repos/AGEC652_2024/slides/lecture_7_2/Project.toml`\n",
      "  \u001b[90m[91a5bcdd] \u001b[39m\u001b[92m+ Plots v1.40.4\u001b[39m\n",
      "\u001b[32m\u001b[1m    Updating\u001b[22m\u001b[39m `~/local_repos/AGEC652_2024/slides/lecture_7_2/Manifest.toml`\n",
      "  \u001b[90m[d1d4a3ce] \u001b[39m\u001b[92m+ BitFlags v0.1.8\u001b[39m\n",
      "  \u001b[90m[944b1d66] \u001b[39m\u001b[92m+ CodecZlib v0.7.4\u001b[39m\n",
      "  \u001b[90m[35d6a980] \u001b[39m\u001b[92m+ ColorSchemes v3.24.0\u001b[39m\n",
      "  \u001b[90m[3da002f7] \u001b[39m\u001b[92m+ ColorTypes v0.11.5\u001b[39m\n",
      "  \u001b[90m[c3611d14] \u001b[39m\u001b[92m+ ColorVectorSpace v0.10.0\u001b[39m\n",
      "  \u001b[90m[5ae59095] \u001b[39m\u001b[92m+ Colors v0.12.10\u001b[39m\n",
      "  \u001b[90m[f0e56b4a] \u001b[39m\u001b[92m+ ConcurrentUtilities v2.4.1\u001b[39m\n",
      "  \u001b[90m[d38c429a] \u001b[39m\u001b[92m+ Contour v0.6.3\u001b[39m\n",
      "  \u001b[90m[8bb1440f] \u001b[39m\u001b[92m+ DelimitedFiles v1.9.1\u001b[39m\n",
      "  \u001b[90m[460bff9d] \u001b[39m\u001b[92m+ ExceptionUnwrapping v0.1.10\u001b[39m\n",
      "  \u001b[90m[c87230d0] \u001b[39m\u001b[92m+ FFMPEG v0.4.1\u001b[39m\n",
      "  \u001b[90m[53c48c17] \u001b[39m\u001b[92m+ FixedPointNumbers v0.8.4\u001b[39m\n",
      "  \u001b[90m[1fa38f19] \u001b[39m\u001b[92m+ Format v1.3.7\u001b[39m\n",
      "  \u001b[90m[28b8d3ca] \u001b[39m\u001b[92m+ GR v0.73.3\u001b[39m\n",
      "  \u001b[90m[42e2da0e] \u001b[39m\u001b[92m+ Grisu v1.0.2\u001b[39m\n",
      "  \u001b[90m[cd3eb016] \u001b[39m\u001b[92m+ HTTP v1.10.5\u001b[39m\n",
      "  \u001b[90m[1019f520] \u001b[39m\u001b[92m+ JLFzf v0.1.7\u001b[39m\n",
      "  \u001b[90m[682c06a0] \u001b[39m\u001b[92m+ JSON v0.21.4\u001b[39m\n",
      "  \u001b[90m[b964fa9f] \u001b[39m\u001b[92m+ LaTeXStrings v1.3.1\u001b[39m\n",
      "  \u001b[90m[23fbe1c1] \u001b[39m\u001b[92m+ Latexify v0.16.2\u001b[39m\n",
      "  \u001b[90m[e6f89c97] \u001b[39m\u001b[92m+ LoggingExtras v1.0.3\u001b[39m\n",
      "  \u001b[90m[739be429] \u001b[39m\u001b[92m+ MbedTLS v1.1.9\u001b[39m\n",
      "  \u001b[90m[442fdcdd] \u001b[39m\u001b[92m+ Measures v0.3.2\u001b[39m\n",
      "  \u001b[90m[4d8831e6] \u001b[39m\u001b[92m+ OpenSSL v1.4.2\u001b[39m\n",
      "  \u001b[90m[69de0a69] \u001b[39m\u001b[92m+ Parsers v2.8.1\u001b[39m\n",
      "  \u001b[90m[b98c9c47] \u001b[39m\u001b[92m+ Pipe v1.3.0\u001b[39m\n",
      "  \u001b[90m[ccf2f8ad] \u001b[39m\u001b[92m+ PlotThemes v3.1.0\u001b[39m\n",
      "  \u001b[90m[995b91a9] \u001b[39m\u001b[92m+ PlotUtils v1.4.1\u001b[39m\n",
      "  \u001b[90m[91a5bcdd] \u001b[39m\u001b[92m+ Plots v1.40.4\u001b[39m\n",
      "  \u001b[90m[aea7be01] \u001b[39m\u001b[92m+ PrecompileTools v1.2.1\u001b[39m\n",
      "  \u001b[90m[3cdcf5f2] \u001b[39m\u001b[92m+ RecipesBase v1.3.4\u001b[39m\n",
      "  \u001b[90m[01d81517] \u001b[39m\u001b[92m+ RecipesPipeline v0.6.12\u001b[39m\n",
      "  \u001b[90m[05181044] \u001b[39m\u001b[92m+ RelocatableFolders v1.0.1\u001b[39m\n",
      "  \u001b[90m[6c6a2e73] \u001b[39m\u001b[92m+ Scratch v1.2.1\u001b[39m\n",
      "  \u001b[90m[992d4aef] \u001b[39m\u001b[92m+ Showoff v1.0.3\u001b[39m\n",
      "  \u001b[90m[777ac1f9] \u001b[39m\u001b[92m+ SimpleBufferStream v1.1.0\u001b[39m\n",
      "  \u001b[90m[62fd8b95] \u001b[39m\u001b[92m+ TensorCore v0.1.1\u001b[39m\n",
      "  \u001b[90m[3bb67fe8] \u001b[39m\u001b[92m+ TranscodingStreams v0.10.7\u001b[39m\n",
      "  \u001b[90m[5c2747f8] \u001b[39m\u001b[92m+ URIs v1.5.1\u001b[39m\n",
      "  \u001b[90m[1cfade01] \u001b[39m\u001b[92m+ UnicodeFun v0.4.1\u001b[39m\n",
      "  \u001b[90m[1986cc42] \u001b[39m\u001b[92m+ Unitful v1.19.0\u001b[39m\n",
      "  \u001b[90m[45397f5d] \u001b[39m\u001b[92m+ UnitfulLatexify v1.6.3\u001b[39m\n",
      "  \u001b[90m[41fe7b60] \u001b[39m\u001b[92m+ Unzip v0.2.0\u001b[39m\n",
      "  \u001b[90m[6e34b625] \u001b[39m\u001b[92m+ Bzip2_jll v1.0.8+1\u001b[39m\n",
      "  \u001b[90m[83423d85] \u001b[39m\u001b[92m+ Cairo_jll v1.18.0+1\u001b[39m\n",
      "  \u001b[90m[2702e6a9] \u001b[39m\u001b[92m+ EpollShim_jll v0.0.20230411+0\u001b[39m\n",
      "  \u001b[90m[2e619515] \u001b[39m\u001b[92m+ Expat_jll v2.5.0+0\u001b[39m\n",
      "\u001b[33m⌅\u001b[39m \u001b[90m[b22a6f82] \u001b[39m\u001b[92m+ FFMPEG_jll v4.4.4+1\u001b[39m\n",
      "  \u001b[90m[a3f928ae] \u001b[39m\u001b[92m+ Fontconfig_jll v2.13.93+0\u001b[39m\n",
      "  \u001b[90m[d7e528f0] \u001b[39m\u001b[92m+ FreeType2_jll v2.13.1+0\u001b[39m\n",
      "  \u001b[90m[559328eb] \u001b[39m\u001b[92m+ FriBidi_jll v1.0.10+0\u001b[39m\n",
      "  \u001b[90m[0656b61e] \u001b[39m\u001b[92m+ GLFW_jll v3.3.9+0\u001b[39m\n",
      "  \u001b[90m[d2c73de3] \u001b[39m\u001b[92m+ GR_jll v0.73.3+0\u001b[39m\n",
      "  \u001b[90m[78b55507] \u001b[39m\u001b[92m+ Gettext_jll v0.21.0+0\u001b[39m\n",
      "  \u001b[90m[7746bdde] \u001b[39m\u001b[92m+ Glib_jll v2.80.0+0\u001b[39m\n",
      "  \u001b[90m[3b182d85] \u001b[39m\u001b[92m+ Graphite2_jll v1.3.14+0\u001b[39m\n",
      "  \u001b[90m[2e76f6c2] \u001b[39m\u001b[92m+ HarfBuzz_jll v2.8.1+1\u001b[39m\n",
      "  \u001b[90m[aacddb02] \u001b[39m\u001b[92m+ JpegTurbo_jll v3.0.2+0\u001b[39m\n",
      "  \u001b[90m[c1c5ebd0] \u001b[39m\u001b[92m+ LAME_jll v3.100.1+0\u001b[39m\n",
      "  \u001b[90m[88015f11] \u001b[39m\u001b[92m+ LERC_jll v3.0.0+1\u001b[39m\n",
      "  \u001b[90m[1d63c593] \u001b[39m\u001b[92m+ LLVMOpenMP_jll v15.0.7+0\u001b[39m\n",
      "  \u001b[90m[dd4b983a] \u001b[39m\u001b[92m+ LZO_jll v2.10.1+0\u001b[39m\n",
      "\u001b[33m⌅\u001b[39m \u001b[90m[e9f186c6] \u001b[39m\u001b[92m+ Libffi_jll v3.2.2+1\u001b[39m\n",
      "  \u001b[90m[d4300ac3] \u001b[39m\u001b[92m+ Libgcrypt_jll v1.8.7+0\u001b[39m\n",
      "  \u001b[90m[7e76a0d4] \u001b[39m\u001b[92m+ Libglvnd_jll v1.6.0+0\u001b[39m\n",
      "  \u001b[90m[7add5ba3] \u001b[39m\u001b[92m+ Libgpg_error_jll v1.42.0+0\u001b[39m\n",
      "  \u001b[90m[94ce4f54] \u001b[39m\u001b[92m+ Libiconv_jll v1.17.0+0\u001b[39m\n",
      "  \u001b[90m[4b2f31a3] \u001b[39m\u001b[92m+ Libmount_jll v2.39.3+0\u001b[39m\n",
      "\u001b[33m⌅\u001b[39m \u001b[90m[89763e89] \u001b[39m\u001b[92m+ Libtiff_jll v4.5.1+1\u001b[39m\n",
      "  \u001b[90m[38a345b3] \u001b[39m\u001b[92m+ Libuuid_jll v2.39.3+1\u001b[39m\n",
      "  \u001b[90m[e7412a2a] \u001b[39m\u001b[92m+ Ogg_jll v1.3.5+1\u001b[39m\n",
      "  \u001b[90m[458c3c95] \u001b[39m\u001b[92m+ OpenSSL_jll v3.0.13+1\u001b[39m\n",
      "  \u001b[90m[91d4177d] \u001b[39m\u001b[92m+ Opus_jll v1.3.2+0\u001b[39m\n",
      "  \u001b[90m[30392449] \u001b[39m\u001b[92m+ Pixman_jll v0.42.2+0\u001b[39m\n",
      "  \u001b[90m[c0090381] \u001b[39m\u001b[92m+ Qt6Base_jll v6.5.3+1\u001b[39m\n",
      "  \u001b[90m[a44049a8] \u001b[39m\u001b[92m+ Vulkan_Loader_jll v1.3.243+0\u001b[39m\n",
      "  \u001b[90m[a2964d1f] \u001b[39m\u001b[92m+ Wayland_jll v1.21.0+1\u001b[39m\n",
      "  \u001b[90m[2381bf8a] \u001b[39m\u001b[92m+ Wayland_protocols_jll v1.31.0+0\u001b[39m\n",
      "  \u001b[90m[02c8fc9c] \u001b[39m\u001b[92m+ XML2_jll v2.12.6+0\u001b[39m\n",
      "  \u001b[90m[aed1982a] \u001b[39m\u001b[92m+ XSLT_jll v1.1.34+0\u001b[39m\n",
      "  \u001b[90m[ffd25f8a] \u001b[39m\u001b[92m+ XZ_jll v5.4.6+0\u001b[39m\n",
      "  \u001b[90m[f67eecfb] \u001b[39m\u001b[92m+ Xorg_libICE_jll v1.0.10+1\u001b[39m\n",
      "  \u001b[90m[c834827a] \u001b[39m\u001b[92m+ Xorg_libSM_jll v1.2.3+0\u001b[39m\n",
      "  \u001b[90m[4f6342f7] \u001b[39m\u001b[92m+ Xorg_libX11_jll v1.8.6+0\u001b[39m\n",
      "  \u001b[90m[0c0b7dd1] \u001b[39m\u001b[92m+ Xorg_libXau_jll v1.0.11+0\u001b[39m\n",
      "  \u001b[90m[935fb764] \u001b[39m\u001b[92m+ Xorg_libXcursor_jll v1.2.0+4\u001b[39m\n",
      "  \u001b[90m[a3789734] \u001b[39m\u001b[92m+ Xorg_libXdmcp_jll v1.1.4+0\u001b[39m\n",
      "  \u001b[90m[1082639a] \u001b[39m\u001b[92m+ Xorg_libXext_jll v1.3.4+4\u001b[39m\n",
      "  \u001b[90m[d091e8ba] \u001b[39m\u001b[92m+ Xorg_libXfixes_jll v5.0.3+4\u001b[39m\n",
      "  \u001b[90m[a51aa0fd] \u001b[39m\u001b[92m+ Xorg_libXi_jll v1.7.10+4\u001b[39m\n",
      "  \u001b[90m[d1454406] \u001b[39m\u001b[92m+ Xorg_libXinerama_jll v1.1.4+4\u001b[39m\n",
      "  \u001b[90m[ec84b674] \u001b[39m\u001b[92m+ Xorg_libXrandr_jll v1.5.2+4\u001b[39m\n",
      "  \u001b[90m[ea2f1a96] \u001b[39m\u001b[92m+ Xorg_libXrender_jll v0.9.10+4\u001b[39m\n",
      "  \u001b[90m[14d82f49] \u001b[39m\u001b[92m+ Xorg_libpthread_stubs_jll v0.1.1+0\u001b[39m\n",
      "  \u001b[90m[c7cfdc94] \u001b[39m\u001b[92m+ Xorg_libxcb_jll v1.15.0+0\u001b[39m\n",
      "  \u001b[90m[cc61e674] \u001b[39m\u001b[92m+ Xorg_libxkbfile_jll v1.1.2+0\u001b[39m\n",
      "  \u001b[90m[e920d4aa] \u001b[39m\u001b[92m+ Xorg_xcb_util_cursor_jll v0.1.4+0\u001b[39m\n",
      "  \u001b[90m[12413925] \u001b[39m\u001b[92m+ Xorg_xcb_util_image_jll v0.4.0+1\u001b[39m\n",
      "  \u001b[90m[2def613f] \u001b[39m\u001b[92m+ Xorg_xcb_util_jll v0.4.0+1\u001b[39m\n",
      "  \u001b[90m[975044d2] \u001b[39m\u001b[92m+ Xorg_xcb_util_keysyms_jll v0.4.0+1\u001b[39m\n",
      "  \u001b[90m[0d47668e] \u001b[39m\u001b[92m+ Xorg_xcb_util_renderutil_jll v0.3.9+1\u001b[39m\n",
      "  \u001b[90m[c22f9ab0] \u001b[39m\u001b[92m+ Xorg_xcb_util_wm_jll v0.4.1+1\u001b[39m\n",
      "  \u001b[90m[35661453] \u001b[39m\u001b[92m+ Xorg_xkbcomp_jll v1.4.6+0\u001b[39m\n",
      "  \u001b[90m[33bec58e] \u001b[39m\u001b[92m+ Xorg_xkeyboard_config_jll v2.39.0+0\u001b[39m\n",
      "  \u001b[90m[c5fb5394] \u001b[39m\u001b[92m+ Xorg_xtrans_jll v1.5.0+0\u001b[39m\n",
      "  \u001b[90m[3161d3a3] \u001b[39m\u001b[92m+ Zstd_jll v1.5.6+0\u001b[39m\n",
      "  \u001b[90m[35ca27e7] \u001b[39m\u001b[92m+ eudev_jll v3.2.9+0\u001b[39m\n",
      "\u001b[33m⌅\u001b[39m \u001b[90m[214eeab7] \u001b[39m\u001b[92m+ fzf_jll v0.43.0+0\u001b[39m\n",
      "  \u001b[90m[1a1c6b14] \u001b[39m\u001b[92m+ gperf_jll v3.1.1+0\u001b[39m\n",
      "  \u001b[90m[a4ae2306] \u001b[39m\u001b[92m+ libaom_jll v3.4.0+0\u001b[39m\n",
      "  \u001b[90m[0ac62f75] \u001b[39m\u001b[92m+ libass_jll v0.15.1+0\u001b[39m\n",
      "  \u001b[90m[2db6ffa8] \u001b[39m\u001b[92m+ libevdev_jll v1.11.0+0\u001b[39m\n",
      "  \u001b[90m[f638f0a6] \u001b[39m\u001b[92m+ libfdk_aac_jll v2.0.2+0\u001b[39m\n",
      "  \u001b[90m[36db933b] \u001b[39m\u001b[92m+ libinput_jll v1.18.0+0\u001b[39m\n",
      "  \u001b[90m[b53b4c65] \u001b[39m\u001b[92m+ libpng_jll v1.6.43+1\u001b[39m\n",
      "  \u001b[90m[f27f6e37] \u001b[39m\u001b[92m+ libvorbis_jll v1.3.7+1\u001b[39m\n",
      "  \u001b[90m[009596ad] \u001b[39m\u001b[92m+ mtdev_jll v1.1.6+0\u001b[39m\n",
      "  \u001b[90m[1270edf5] \u001b[39m\u001b[92m+ x264_jll v2021.5.5+0\u001b[39m\n",
      "  \u001b[90m[dfaa095f] \u001b[39m\u001b[92m+ x265_jll v3.5.0+0\u001b[39m\n",
      "  \u001b[90m[d8fb68d0] \u001b[39m\u001b[92m+ xkbcommon_jll v1.4.1+1\u001b[39m\n",
      "  \u001b[90m[a63ad114] \u001b[39m\u001b[92m+ Mmap\u001b[39m\n",
      "  \u001b[90m[efcefdf7] \u001b[39m\u001b[92m+ PCRE2_jll v10.42.0+0\u001b[39m\n",
      "\u001b[36m\u001b[1m        Info\u001b[22m\u001b[39m Packages marked with \u001b[33m⌅\u001b[39m have new versions available but compatibility constraints restrict them from upgrading. To see why use `status --outdated -m`\n"
     ]
    },
    {
     "name": "stderr",
     "output_type": "stream",
     "text": [
      "\u001b[32m\u001b[1mPrecompiling\u001b[22m\u001b[39m project...\n"
     ]
    },
    {
     "name": "stderr",
     "output_type": "stream",
     "text": [
      "\u001b[32m  ✓ \u001b[39m\u001b[90mContour\u001b[39m\n"
     ]
    },
    {
     "name": "stderr",
     "output_type": "stream",
     "text": [
      "\u001b[33m  ✓ \u001b[39m\u001b[90mColorTypes\u001b[39m\n"
     ]
    },
    {
     "name": "stderr",
     "output_type": "stream",
     "text": [
      "\u001b[33m  ✓ \u001b[39mPlots\n"
     ]
    },
    {
     "name": "stderr",
     "output_type": "stream",
     "text": [
      "\u001b[32m  ✓ \u001b[39m\u001b[90mPlots → UnitfulExt\u001b[39m\n",
      "  4 dependencies successfully precompiled in 128 seconds. 187 already precompiled.\n",
      "  \u001b[33m2\u001b[39m dependencies precompiled but different versions are currently loaded. Restart julia to access the new versions\n",
      "\u001b[32m\u001b[1m   Resolving\u001b[22m\u001b[39m package versions...\n"
     ]
    },
    {
     "name": "stderr",
     "output_type": "stream",
     "text": [
      "\u001b[32m\u001b[1m    Updating\u001b[22m\u001b[39m `~/local_repos/AGEC652_2024/slides/lecture_7_2/Project.toml`\n",
      "  \u001b[90m[b964fa9f] \u001b[39m\u001b[92m+ LaTeXStrings v1.3.1\u001b[39m\n",
      "\u001b[32m\u001b[1m  No Changes\u001b[22m\u001b[39m to `~/local_repos/AGEC652_2024/slides/lecture_7_2/Manifest.toml`\n"
     ]
    },
    {
     "name": "stderr",
     "output_type": "stream",
     "text": [
      "\u001b[32m\u001b[1m   Resolving\u001b[22m\u001b[39m package versions...\n"
     ]
    },
    {
     "name": "stderr",
     "output_type": "stream",
     "text": [
      "\u001b[32m\u001b[1m    Updating\u001b[22m\u001b[39m `~/local_repos/AGEC652_2024/slides/lecture_7_2/Project.toml`\n",
      "  \u001b[90m[a93c6f00] \u001b[39m\u001b[92m+ DataFrames v1.6.1\u001b[39m\n",
      "\u001b[32m\u001b[1m    Updating\u001b[22m\u001b[39m `~/local_repos/AGEC652_2024/slides/lecture_7_2/Manifest.toml`\n",
      "  \u001b[90m[a8cc5b0e] \u001b[39m\u001b[92m+ Crayons v4.1.1\u001b[39m\n",
      "  \u001b[90m[a93c6f00] \u001b[39m\u001b[92m+ DataFrames v1.6.1\u001b[39m\n",
      "  \u001b[90m[842dd82b] \u001b[39m\u001b[92m+ InlineStrings v1.4.0\u001b[39m\n",
      "  \u001b[90m[41ab1584] \u001b[39m\u001b[92m+ InvertedIndices v1.3.0\u001b[39m\n",
      "  \u001b[90m[2dfb63ee] \u001b[39m\u001b[92m+ PooledArrays v1.4.3\u001b[39m\n",
      "  \u001b[90m[08abe8d2] \u001b[39m\u001b[92m+ PrettyTables v2.3.1\u001b[39m\n",
      "  \u001b[90m[91c51154] \u001b[39m\u001b[92m+ SentinelArrays v1.4.1\u001b[39m\n",
      "  \u001b[90m[892a3eda] \u001b[39m\u001b[92m+ StringManipulation v0.3.4\u001b[39m\n"
     ]
    },
    {
     "name": "stderr",
     "output_type": "stream",
     "text": [
      "\u001b[32m\u001b[1m   Resolving\u001b[22m\u001b[39m package versions...\n"
     ]
    },
    {
     "name": "stderr",
     "output_type": "stream",
     "text": [
      "\u001b[32m\u001b[1m   Installed\u001b[22m\u001b[39m CSV ─ v0.10.14\n"
     ]
    },
    {
     "name": "stderr",
     "output_type": "stream",
     "text": [
      "\u001b[32m\u001b[1m    Updating\u001b[22m\u001b[39m `~/local_repos/AGEC652_2024/slides/lecture_7_2/Project.toml`\n",
      "  \u001b[90m[336ed68f] \u001b[39m\u001b[92m+ CSV v0.10.14\u001b[39m\n",
      "\u001b[32m\u001b[1m    Updating\u001b[22m\u001b[39m `~/local_repos/AGEC652_2024/slides/lecture_7_2/Manifest.toml`\n",
      " "
     ]
    },
    {
     "name": "stderr",
     "output_type": "stream",
     "text": [
      " \u001b[90m[336ed68f] \u001b[39m\u001b[92m+ CSV v0.10.14\u001b[39m\n",
      "  \u001b[90m[48062228] \u001b[39m\u001b[92m+ FilePathsBase v0.9.21\u001b[39m\n",
      "  \u001b[90m[ea10d353] \u001b[39m\u001b[92m+ WeakRefStrings v1.4.2\u001b[39m\n",
      "  \u001b[90m[76eceee3] \u001b[39m\u001b[92m+ WorkerUtilities v1.6.1\u001b[39m\n"
     ]
    },
    {
     "name": "stderr",
     "output_type": "stream",
     "text": [
      "\u001b[32m\u001b[1mPrecompiling\u001b[22m\u001b[39m project...\n"
     ]
    },
    {
     "name": "stderr",
     "output_type": "stream",
     "text": [
      "\u001b[33m  ✓ \u001b[39mCSV\n",
      "  1 dependency successfully precompiled in 21 seconds. 203 already precompiled.\n",
      "  \u001b[33m1\u001b[39m dependency precompiled but a different version is currently loaded. Restart julia to access the new version\n"
     ]
    }
   ],
   "source": [
    "#| include: false\n",
    "using Pkg\n",
    "Pkg.activate(\".\")\n",
    "Pkg.instantiate()\n",
    "Pkg.add(\"Optim\")\n",
    "Pkg.add(\"GLM\")\n",
    "Pkg.add(\"LinearAlgebra\")\n",
    "Pkg.add(\"Plots\")\n",
    "Pkg.add(\"LaTeXStrings\")\n",
    "Pkg.add(\"DataFrames\")\n",
    "Pkg.add(\"CSV\")"
   ]
  },
  {
   "cell_type": "code",
   "execution_count": 3,
   "id": "af617f8b",
   "metadata": {},
   "outputs": [
    {
     "data": {
      "text/html": [
       "<div><div style = \"float: left;\"><span>600×7 DataFrame</span></div><div style = \"float: right;\"><span style = \"font-style: italic;\">575 rows omitted</span></div><div style = \"clear: both;\"></div></div><div class = \"data-frame\" style = \"overflow-x: scroll;\"><table class = \"data-frame\" style = \"margin-bottom: 6px;\"><thead><tr class = \"header\"><th class = \"rowNumber\" style = \"font-weight: bold; text-align: right;\">Row</th><th style = \"text-align: left;\">MarketID</th><th style = \"text-align: left;\">s_k</th><th style = \"text-align: left;\">p_k</th><th style = \"text-align: left;\">s_0</th><th style = \"text-align: left;\">steel</th><th style = \"text-align: left;\">labor</th><th style = \"text-align: left;\">product</th></tr><tr class = \"subheader headerLastRow\"><th class = \"rowNumber\" style = \"font-weight: bold; text-align: right;\"></th><th title = \"Int64\" style = \"text-align: left;\">Int64</th><th title = \"Float64\" style = \"text-align: left;\">Float64</th><th title = \"Float64\" style = \"text-align: left;\">Float64</th><th title = \"Float64\" style = \"text-align: left;\">Float64</th><th title = \"Float64\" style = \"text-align: left;\">Float64</th><th title = \"Float64\" style = \"text-align: left;\">Float64</th><th title = \"String1\" style = \"text-align: left;\">String1</th></tr></thead><tbody><tr><td class = \"rowNumber\" style = \"font-weight: bold; text-align: right;\">1</td><td style = \"text-align: right;\">1</td><td style = \"text-align: right;\">0.0349996</td><td style = \"text-align: right;\">36.0954</td><td style = \"text-align: right;\">0.897339</td><td style = \"text-align: right;\">7.6</td><td style = \"text-align: right;\">20.24</td><td style = \"text-align: left;\">a</td></tr><tr><td class = \"rowNumber\" style = \"font-weight: bold; text-align: right;\">2</td><td style = \"text-align: right;\">1</td><td style = \"text-align: right;\">0.0676614</td><td style = \"text-align: right;\">34.7954</td><td style = \"text-align: right;\">0.897339</td><td style = \"text-align: right;\">7.6</td><td style = \"text-align: right;\">20.24</td><td style = \"text-align: left;\">b</td></tr><tr><td class = \"rowNumber\" style = \"font-weight: bold; text-align: right;\">3</td><td style = \"text-align: right;\">2</td><td style = \"text-align: right;\">0.0430019</td><td style = \"text-align: right;\">31.25</td><td style = \"text-align: right;\">0.867155</td><td style = \"text-align: right;\">8.83</td><td style = \"text-align: right;\">21.91</td><td style = \"text-align: left;\">a</td></tr><tr><td class = \"rowNumber\" style = \"font-weight: bold; text-align: right;\">4</td><td style = \"text-align: right;\">2</td><td style = \"text-align: right;\">0.0898428</td><td style = \"text-align: right;\">33.24</td><td style = \"text-align: right;\">0.867155</td><td style = \"text-align: right;\">8.83</td><td style = \"text-align: right;\">21.91</td><td style = \"text-align: left;\">b</td></tr><tr><td class = \"rowNumber\" style = \"font-weight: bold; text-align: right;\">5</td><td style = \"text-align: right;\">3</td><td style = \"text-align: right;\">0.0183532</td><td style = \"text-align: right;\">41.1012</td><td style = \"text-align: right;\">0.891106</td><td style = \"text-align: right;\">7.13</td><td style = \"text-align: right;\">22.75</td><td style = \"text-align: left;\">a</td></tr><tr><td class = \"rowNumber\" style = \"font-weight: bold; text-align: right;\">6</td><td style = \"text-align: right;\">3</td><td style = \"text-align: right;\">0.090541</td><td style = \"text-align: right;\">36.1912</td><td style = \"text-align: right;\">0.891106</td><td style = \"text-align: right;\">7.13</td><td style = \"text-align: right;\">22.75</td><td style = \"text-align: left;\">b</td></tr><tr><td class = \"rowNumber\" style = \"font-weight: bold; text-align: right;\">7</td><td style = \"text-align: right;\">4</td><td style = \"text-align: right;\">0.0470709</td><td style = \"text-align: right;\">34.8443</td><td style = \"text-align: right;\">0.854786</td><td style = \"text-align: right;\">7.43</td><td style = \"text-align: right;\">21.11</td><td style = \"text-align: left;\">a</td></tr><tr><td class = \"rowNumber\" style = \"font-weight: bold; text-align: right;\">8</td><td style = \"text-align: right;\">4</td><td style = \"text-align: right;\">0.0981434</td><td style = \"text-align: right;\">34.7843</td><td style = \"text-align: right;\">0.854786</td><td style = \"text-align: right;\">7.43</td><td style = \"text-align: right;\">21.11</td><td style = \"text-align: left;\">b</td></tr><tr><td class = \"rowNumber\" style = \"font-weight: bold; text-align: right;\">9</td><td style = \"text-align: right;\">5</td><td style = \"text-align: right;\">0.0486621</td><td style = \"text-align: right;\">32.52</td><td style = \"text-align: right;\">0.864966</td><td style = \"text-align: right;\">9.09</td><td style = \"text-align: right;\">21.05</td><td style = \"text-align: left;\">a</td></tr><tr><td class = \"rowNumber\" style = \"font-weight: bold; text-align: right;\">10</td><td style = \"text-align: right;\">5</td><td style = \"text-align: right;\">0.0863722</td><td style = \"text-align: right;\">34.52</td><td style = \"text-align: right;\">0.864966</td><td style = \"text-align: right;\">9.09</td><td style = \"text-align: right;\">21.05</td><td style = \"text-align: left;\">b</td></tr><tr><td class = \"rowNumber\" style = \"font-weight: bold; text-align: right;\">11</td><td style = \"text-align: right;\">6</td><td style = \"text-align: right;\">0.0375444</td><td style = \"text-align: right;\">36.4608</td><td style = \"text-align: right;\">0.88365</td><td style = \"text-align: right;\">7.91</td><td style = \"text-align: right;\">22.07</td><td style = \"text-align: left;\">a</td></tr><tr><td class = \"rowNumber\" style = \"font-weight: bold; text-align: right;\">12</td><td style = \"text-align: right;\">6</td><td style = \"text-align: right;\">0.078806</td><td style = \"text-align: right;\">35.2908</td><td style = \"text-align: right;\">0.88365</td><td style = \"text-align: right;\">7.91</td><td style = \"text-align: right;\">22.07</td><td style = \"text-align: left;\">b</td></tr><tr><td class = \"rowNumber\" style = \"font-weight: bold; text-align: right;\">13</td><td style = \"text-align: right;\">7</td><td style = \"text-align: right;\">0.0469147</td><td style = \"text-align: right;\">34.89</td><td style = \"text-align: right;\">0.870748</td><td style = \"text-align: right;\">8.3</td><td style = \"text-align: right;\">22.77</td><td style = \"text-align: left;\">a</td></tr><tr><td style = \"text-align: right;\">&vellip;</td><td style = \"text-align: right;\">&vellip;</td><td style = \"text-align: right;\">&vellip;</td><td style = \"text-align: right;\">&vellip;</td><td style = \"text-align: right;\">&vellip;</td><td style = \"text-align: right;\">&vellip;</td><td style = \"text-align: right;\">&vellip;</td><td style = \"text-align: right;\">&vellip;</td></tr><tr><td class = \"rowNumber\" style = \"font-weight: bold; text-align: right;\">589</td><td style = \"text-align: right;\">295</td><td style = \"text-align: right;\">0.037655</td><td style = \"text-align: right;\">34.8772</td><td style = \"text-align: right;\">0.882877</td><td style = \"text-align: right;\">7.66</td><td style = \"text-align: right;\">22.17</td><td style = \"text-align: left;\">a</td></tr><tr><td class = \"rowNumber\" style = \"font-weight: bold; text-align: right;\">590</td><td style = \"text-align: right;\">295</td><td style = \"text-align: right;\">0.0794679</td><td style = \"text-align: right;\">35.7272</td><td style = \"text-align: right;\">0.882877</td><td style = \"text-align: right;\">7.66</td><td style = \"text-align: right;\">22.17</td><td style = \"text-align: left;\">b</td></tr><tr><td class = \"rowNumber\" style = \"font-weight: bold; text-align: right;\">591</td><td style = \"text-align: right;\">296</td><td style = \"text-align: right;\">0.05318</td><td style = \"text-align: right;\">33.38</td><td style = \"text-align: right;\">0.887326</td><td style = \"text-align: right;\">8.47</td><td style = \"text-align: right;\">23.67</td><td style = \"text-align: left;\">a</td></tr><tr><td class = \"rowNumber\" style = \"font-weight: bold; text-align: right;\">592</td><td style = \"text-align: right;\">296</td><td style = \"text-align: right;\">0.0594944</td><td style = \"text-align: right;\">36.27</td><td style = \"text-align: right;\">0.887326</td><td style = \"text-align: right;\">8.47</td><td style = \"text-align: right;\">23.67</td><td style = \"text-align: left;\">b</td></tr><tr><td class = \"rowNumber\" style = \"font-weight: bold; text-align: right;\">593</td><td style = \"text-align: right;\">297</td><td style = \"text-align: right;\">0.0660052</td><td style = \"text-align: right;\">32.16</td><td style = \"text-align: right;\">0.851378</td><td style = \"text-align: right;\">8.94</td><td style = \"text-align: right;\">19.76</td><td style = \"text-align: left;\">a</td></tr><tr><td class = \"rowNumber\" style = \"font-weight: bold; text-align: right;\">594</td><td style = \"text-align: right;\">297</td><td style = \"text-align: right;\">0.0826168</td><td style = \"text-align: right;\">35.27</td><td style = \"text-align: right;\">0.851378</td><td style = \"text-align: right;\">8.94</td><td style = \"text-align: right;\">19.76</td><td style = \"text-align: left;\">b</td></tr><tr><td class = \"rowNumber\" style = \"font-weight: bold; text-align: right;\">595</td><td style = \"text-align: right;\">298</td><td style = \"text-align: right;\">0.0344063</td><td style = \"text-align: right;\">35.4265</td><td style = \"text-align: right;\">0.884939</td><td style = \"text-align: right;\">8.24</td><td style = \"text-align: right;\">23.36</td><td style = \"text-align: left;\">a</td></tr><tr><td class = \"rowNumber\" style = \"font-weight: bold; text-align: right;\">596</td><td style = \"text-align: right;\">298</td><td style = \"text-align: right;\">0.0806543</td><td style = \"text-align: right;\">35.4365</td><td style = \"text-align: right;\">0.884939</td><td style = \"text-align: right;\">8.24</td><td style = \"text-align: right;\">23.36</td><td style = \"text-align: left;\">b</td></tr><tr><td class = \"rowNumber\" style = \"font-weight: bold; text-align: right;\">597</td><td style = \"text-align: right;\">299</td><td style = \"text-align: right;\">0.0489085</td><td style = \"text-align: right;\">35.66</td><td style = \"text-align: right;\">0.864736</td><td style = \"text-align: right;\">8.62</td><td style = \"text-align: right;\">22.62</td><td style = \"text-align: left;\">a</td></tr><tr><td class = \"rowNumber\" style = \"font-weight: bold; text-align: right;\">598</td><td style = \"text-align: right;\">299</td><td style = \"text-align: right;\">0.0863555</td><td style = \"text-align: right;\">36.41</td><td style = \"text-align: right;\">0.864736</td><td style = \"text-align: right;\">8.62</td><td style = \"text-align: right;\">22.62</td><td style = \"text-align: left;\">b</td></tr><tr><td class = \"rowNumber\" style = \"font-weight: bold; text-align: right;\">599</td><td style = \"text-align: right;\">300</td><td style = \"text-align: right;\">0.0518295</td><td style = \"text-align: right;\">32.77</td><td style = \"text-align: right;\">0.860712</td><td style = \"text-align: right;\">8.37</td><td style = \"text-align: right;\">22.32</td><td style = \"text-align: left;\">a</td></tr><tr><td class = \"rowNumber\" style = \"font-weight: bold; text-align: right;\">600</td><td style = \"text-align: right;\">300</td><td style = \"text-align: right;\">0.0874587</td><td style = \"text-align: right;\">34.49</td><td style = \"text-align: right;\">0.860712</td><td style = \"text-align: right;\">8.37</td><td style = \"text-align: right;\">22.32</td><td style = \"text-align: left;\">b</td></tr></tbody></table></div>"
      ],
      "text/latex": [
       "\\begin{tabular}{r|ccccccc}\n",
       "\t& MarketID & s\\_k & p\\_k & s\\_0 & steel & labor & product\\\\\n",
       "\t\\hline\n",
       "\t& Int64 & Float64 & Float64 & Float64 & Float64 & Float64 & String1\\\\\n",
       "\t\\hline\n",
       "\t1 & 1 & 0.0349996 & 36.0954 & 0.897339 & 7.6 & 20.24 & a \\\\\n",
       "\t2 & 1 & 0.0676614 & 34.7954 & 0.897339 & 7.6 & 20.24 & b \\\\\n",
       "\t3 & 2 & 0.0430019 & 31.25 & 0.867155 & 8.83 & 21.91 & a \\\\\n",
       "\t4 & 2 & 0.0898428 & 33.24 & 0.867155 & 8.83 & 21.91 & b \\\\\n",
       "\t5 & 3 & 0.0183532 & 41.1012 & 0.891106 & 7.13 & 22.75 & a \\\\\n",
       "\t6 & 3 & 0.090541 & 36.1912 & 0.891106 & 7.13 & 22.75 & b \\\\\n",
       "\t7 & 4 & 0.0470709 & 34.8443 & 0.854786 & 7.43 & 21.11 & a \\\\\n",
       "\t8 & 4 & 0.0981434 & 34.7843 & 0.854786 & 7.43 & 21.11 & b \\\\\n",
       "\t9 & 5 & 0.0486621 & 32.52 & 0.864966 & 9.09 & 21.05 & a \\\\\n",
       "\t10 & 5 & 0.0863722 & 34.52 & 0.864966 & 9.09 & 21.05 & b \\\\\n",
       "\t11 & 6 & 0.0375444 & 36.4608 & 0.88365 & 7.91 & 22.07 & a \\\\\n",
       "\t12 & 6 & 0.078806 & 35.2908 & 0.88365 & 7.91 & 22.07 & b \\\\\n",
       "\t13 & 7 & 0.0469147 & 34.89 & 0.870748 & 8.3 & 22.77 & a \\\\\n",
       "\t14 & 7 & 0.0823376 & 34.32 & 0.870748 & 8.3 & 22.77 & b \\\\\n",
       "\t15 & 8 & 0.068118 & 32.47 & 0.860635 & 8.3 & 21.24 & a \\\\\n",
       "\t16 & 8 & 0.0712468 & 34.9 & 0.860635 & 8.3 & 21.24 & b \\\\\n",
       "\t17 & 9 & 0.0610618 & 32.24 & 0.864811 & 9.27 & 22.38 & a \\\\\n",
       "\t18 & 9 & 0.0741273 & 36.73 & 0.864811 & 9.27 & 22.38 & b \\\\\n",
       "\t19 & 10 & 0.0388235 & 34.6001 & 0.875203 & 7.84 & 22.42 & a \\\\\n",
       "\t20 & 10 & 0.0859733 & 36.0201 & 0.875203 & 7.84 & 22.42 & b \\\\\n",
       "\t21 & 11 & 0.0544098 & 30.8236 & 0.862981 & 6.19 & 22.75 & a \\\\\n",
       "\t22 & 11 & 0.0826093 & 36.4236 & 0.862981 & 6.19 & 22.75 & b \\\\\n",
       "\t23 & 12 & 0.0677837 & 32.0523 & 0.883705 & 7.75 & 23.25 & a \\\\\n",
       "\t24 & 12 & 0.0485109 & 37.1323 & 0.883705 & 7.75 & 23.25 & b \\\\\n",
       "\t25 & 13 & 0.0582491 & 33.93 & 0.883521 & 9.1 & 22.82 & a \\\\\n",
       "\t26 & 13 & 0.0582299 & 38.45 & 0.883521 & 9.1 & 22.82 & b \\\\\n",
       "\t27 & 14 & 0.0516744 & 35.38 & 0.869301 & 8.59 & 23.64 & a \\\\\n",
       "\t28 & 14 & 0.0790243 & 34.62 & 0.869301 & 8.59 & 23.64 & b \\\\\n",
       "\t29 & 15 & 0.0840264 & 30.94 & 0.840781 & 7.46 & 21.35 & a \\\\\n",
       "\t30 & 15 & 0.0751929 & 33.68 & 0.840781 & 7.46 & 21.35 & b \\\\\n",
       "\t$\\dots$ & $\\dots$ & $\\dots$ & $\\dots$ & $\\dots$ & $\\dots$ & $\\dots$ & $\\dots$ \\\\\n",
       "\\end{tabular}\n"
      ],
      "text/plain": [
       "\u001b[1m600×7 DataFrame\u001b[0m\n",
       "\u001b[1m Row \u001b[0m│\u001b[1m MarketID \u001b[0m\u001b[1m s_k       \u001b[0m\u001b[1m p_k     \u001b[0m\u001b[1m s_0      \u001b[0m\u001b[1m steel   \u001b[0m\u001b[1m labor   \u001b[0m\u001b[1m product \u001b[0m\n",
       "     │\u001b[90m Int64    \u001b[0m\u001b[90m Float64   \u001b[0m\u001b[90m Float64 \u001b[0m\u001b[90m Float64  \u001b[0m\u001b[90m Float64 \u001b[0m\u001b[90m Float64 \u001b[0m\u001b[90m String1 \u001b[0m\n",
       "─────┼───────────────────────────────────────────────────────────────────\n",
       "   1 │        1  0.0349996  36.0954  0.897339     7.6     20.24  a\n",
       "   2 │        1  0.0676614  34.7954  0.897339     7.6     20.24  b\n",
       "   3 │        2  0.0430019  31.25    0.867155     8.83    21.91  a\n",
       "   4 │        2  0.0898428  33.24    0.867155     8.83    21.91  b\n",
       "   5 │        3  0.0183532  41.1012  0.891106     7.13    22.75  a\n",
       "   6 │        3  0.090541   36.1912  0.891106     7.13    22.75  b\n",
       "   7 │        4  0.0470709  34.8443  0.854786     7.43    21.11  a\n",
       "   8 │        4  0.0981434  34.7843  0.854786     7.43    21.11  b\n",
       "   9 │        5  0.0486621  32.52    0.864966     9.09    21.05  a\n",
       "  10 │        5  0.0863722  34.52    0.864966     9.09    21.05  b\n",
       "  11 │        6  0.0375444  36.4608  0.88365      7.91    22.07  a\n",
       "  ⋮  │    ⋮          ⋮         ⋮        ⋮         ⋮        ⋮        ⋮\n",
       " 591 │      296  0.05318    33.38    0.887326     8.47    23.67  a\n",
       " 592 │      296  0.0594944  36.27    0.887326     8.47    23.67  b\n",
       " 593 │      297  0.0660052  32.16    0.851378     8.94    19.76  a\n",
       " 594 │      297  0.0826168  35.27    0.851378     8.94    19.76  b\n",
       " 595 │      298  0.0344063  35.4265  0.884939     8.24    23.36  a\n",
       " 596 │      298  0.0806543  35.4365  0.884939     8.24    23.36  b\n",
       " 597 │      299  0.0489085  35.66    0.864736     8.62    22.62  a\n",
       " 598 │      299  0.0863555  36.41    0.864736     8.62    22.62  b\n",
       " 599 │      300  0.0518295  32.77    0.860712     8.37    22.32  a\n",
       " 600 │      300  0.0874587  34.49    0.860712     8.37    22.32  b\n",
       "\u001b[36m                                                         579 rows omitted\u001b[0m"
      ]
     },
     "execution_count": 11,
     "metadata": {},
     "output_type": "execute_result"
    }
   ],
   "source": [
    "using DataFrames, CSV\n",
    "df = CSV.read(\"data/duopoly_shares_data.csv\", DataFrame)"
   ]
  },
  {
   "cell_type": "code",
   "execution_count": 4,
   "id": "12372519",
   "metadata": {},
   "outputs": [
    {
     "data": {
      "text/html": [
       "<div><div style = \"float: left;\"><span>5×9 DataFrame</span></div><div style = \"clear: both;\"></div></div><div class = \"data-frame\" style = \"overflow-x: scroll;\"><table class = \"data-frame\" style = \"margin-bottom: 6px;\"><thead><tr class = \"header\"><th class = \"rowNumber\" style = \"font-weight: bold; text-align: right;\">Row</th><th style = \"text-align: left;\">MarketID</th><th style = \"text-align: left;\">s_k</th><th style = \"text-align: left;\">p_k</th><th style = \"text-align: left;\">s_0</th><th style = \"text-align: left;\">steel</th><th style = \"text-align: left;\">labor</th><th style = \"text-align: left;\">product</th><th style = \"text-align: left;\">logsk_logs0</th><th style = \"text-align: left;\">is_B</th></tr><tr class = \"subheader headerLastRow\"><th class = \"rowNumber\" style = \"font-weight: bold; text-align: right;\"></th><th title = \"Int64\" style = \"text-align: left;\">Int64</th><th title = \"Float64\" style = \"text-align: left;\">Float64</th><th title = \"Float64\" style = \"text-align: left;\">Float64</th><th title = \"Float64\" style = \"text-align: left;\">Float64</th><th title = \"Float64\" style = \"text-align: left;\">Float64</th><th title = \"Float64\" style = \"text-align: left;\">Float64</th><th title = \"String1\" style = \"text-align: left;\">String1</th><th title = \"Float64\" style = \"text-align: left;\">Float64</th><th title = \"Bool\" style = \"text-align: left;\">Bool</th></tr></thead><tbody><tr><td class = \"rowNumber\" style = \"font-weight: bold; text-align: right;\">1</td><td style = \"text-align: right;\">1</td><td style = \"text-align: right;\">0.0349996</td><td style = \"text-align: right;\">36.0954</td><td style = \"text-align: right;\">0.897339</td><td style = \"text-align: right;\">7.6</td><td style = \"text-align: right;\">20.24</td><td style = \"text-align: left;\">a</td><td style = \"text-align: right;\">-3.2441</td><td style = \"text-align: right;\">false</td></tr><tr><td class = \"rowNumber\" style = \"font-weight: bold; text-align: right;\">2</td><td style = \"text-align: right;\">1</td><td style = \"text-align: right;\">0.0676614</td><td style = \"text-align: right;\">34.7954</td><td style = \"text-align: right;\">0.897339</td><td style = \"text-align: right;\">7.6</td><td style = \"text-align: right;\">20.24</td><td style = \"text-align: left;\">b</td><td style = \"text-align: right;\">-2.58492</td><td style = \"text-align: right;\">true</td></tr><tr><td class = \"rowNumber\" style = \"font-weight: bold; text-align: right;\">3</td><td style = \"text-align: right;\">2</td><td style = \"text-align: right;\">0.0430019</td><td style = \"text-align: right;\">31.25</td><td style = \"text-align: right;\">0.867155</td><td style = \"text-align: right;\">8.83</td><td style = \"text-align: right;\">21.91</td><td style = \"text-align: left;\">a</td><td style = \"text-align: right;\">-3.00397</td><td style = \"text-align: right;\">false</td></tr><tr><td class = \"rowNumber\" style = \"font-weight: bold; text-align: right;\">4</td><td style = \"text-align: right;\">2</td><td style = \"text-align: right;\">0.0898428</td><td style = \"text-align: right;\">33.24</td><td style = \"text-align: right;\">0.867155</td><td style = \"text-align: right;\">8.83</td><td style = \"text-align: right;\">21.91</td><td style = \"text-align: left;\">b</td><td style = \"text-align: right;\">-2.26716</td><td style = \"text-align: right;\">true</td></tr><tr><td class = \"rowNumber\" style = \"font-weight: bold; text-align: right;\">5</td><td style = \"text-align: right;\">3</td><td style = \"text-align: right;\">0.0183532</td><td style = \"text-align: right;\">41.1012</td><td style = \"text-align: right;\">0.891106</td><td style = \"text-align: right;\">7.13</td><td style = \"text-align: right;\">22.75</td><td style = \"text-align: left;\">a</td><td style = \"text-align: right;\">-3.88266</td><td style = \"text-align: right;\">false</td></tr></tbody></table></div>"
      ],
      "text/latex": [
       "\\begin{tabular}{r|ccccccccc}\n",
       "\t& MarketID & s\\_k & p\\_k & s\\_0 & steel & labor & product & logsk\\_logs0 & \\\\\n",
       "\t\\hline\n",
       "\t& Int64 & Float64 & Float64 & Float64 & Float64 & Float64 & String1 & Float64 & \\\\\n",
       "\t\\hline\n",
       "\t1 & 1 & 0.0349996 & 36.0954 & 0.897339 & 7.6 & 20.24 & a & -3.2441 & $\\dots$ \\\\\n",
       "\t2 & 1 & 0.0676614 & 34.7954 & 0.897339 & 7.6 & 20.24 & b & -2.58492 & $\\dots$ \\\\\n",
       "\t3 & 2 & 0.0430019 & 31.25 & 0.867155 & 8.83 & 21.91 & a & -3.00397 & $\\dots$ \\\\\n",
       "\t4 & 2 & 0.0898428 & 33.24 & 0.867155 & 8.83 & 21.91 & b & -2.26716 & $\\dots$ \\\\\n",
       "\t5 & 3 & 0.0183532 & 41.1012 & 0.891106 & 7.13 & 22.75 & a & -3.88266 & $\\dots$ \\\\\n",
       "\\end{tabular}\n"
      ],
      "text/plain": [
       "\u001b[1m5×9 DataFrame\u001b[0m\n",
       "\u001b[1m Row \u001b[0m│\u001b[1m MarketID \u001b[0m\u001b[1m s_k       \u001b[0m\u001b[1m p_k     \u001b[0m\u001b[1m s_0      \u001b[0m\u001b[1m steel   \u001b[0m\u001b[1m labor   \u001b[0m\u001b[1m product \u001b[0m\u001b[1m logs\u001b[0m ⋯\n",
       "     │\u001b[90m Int64    \u001b[0m\u001b[90m Float64   \u001b[0m\u001b[90m Float64 \u001b[0m\u001b[90m Float64  \u001b[0m\u001b[90m Float64 \u001b[0m\u001b[90m Float64 \u001b[0m\u001b[90m String1 \u001b[0m\u001b[90m Floa\u001b[0m ⋯\n",
       "─────┼──────────────────────────────────────────────────────────────────────────\n",
       "   1 │        1  0.0349996  36.0954  0.897339     7.6     20.24  a           - ⋯\n",
       "   2 │        1  0.0676614  34.7954  0.897339     7.6     20.24  b           -\n",
       "   3 │        2  0.0430019  31.25    0.867155     8.83    21.91  a           -\n",
       "   4 │        2  0.0898428  33.24    0.867155     8.83    21.91  b           -\n",
       "   5 │        3  0.0183532  41.1012  0.891106     7.13    22.75  a           - ⋯\n",
       "\u001b[36m                                                               2 columns omitted\u001b[0m"
      ]
     },
     "execution_count": 12,
     "metadata": {},
     "output_type": "execute_result"
    }
   ],
   "source": [
    "N = nrow(df); # Get number of rows\n",
    "df.logsk_logs0 = log.(df.s_k) - log.(df.s_0); # Calculate LHS of demand equation\n",
    "df.is_B = (df.product .== \"b\"); # Create dummy variable for product B\n",
    "df[1:5,:]  # Check first rows"
   ]
  },
  {
   "cell_type": "code",
   "execution_count": 5,
   "id": "d9c6ea6c",
   "metadata": {},
   "outputs": [],
   "source": [
    "X = [ones(N) df.p_k df.is_B];\n",
    "Z = [ones(N) df.is_B df.steel df.labor];"
   ]
  },
  {
   "cell_type": "code",
   "execution_count": 6,
   "id": "4013662b",
   "metadata": {},
   "outputs": [],
   "source": [
    "function g_i(θ)\n",
    "    # DEMAND SIDE\n",
    "    θ_d = θ[1:3] # Demand parameters\n",
    "    # Epsilons for demand side\n",
    "    ϵ_d = df.logsk_logs0 - (X * θ_d) \n",
    "    # Moment conditions for demand side\n",
    "    m_di = Z .* ϵ_d\n",
    "\n",
    "    # SUPPLY SIDE\n",
    "    # Calculate implied costs\n",
    "    α = -θ[2] # We need it to recover costs\n",
    "    c_k = df.p_k - 1/α .* 1 ./(1 .- df.s_k)\n",
    "\n",
    "    θ_s = θ[4:7] # Supply parameters\n",
    "    # Epsilons for supply side\n",
    "    ϵ_s = c_k - (Z * θ_s)\n",
    "    # Moment conditions for supply side\n",
    "    m_si = Z .* ϵ_s\n",
    "  \n",
    "    # Return matrices side by side (N x M)\n",
    "    return([m_di m_si])\n",
    "end;"
   ]
  },
  {
   "cell_type": "code",
   "execution_count": 7,
   "id": "89631d1e",
   "metadata": {},
   "outputs": [],
   "source": [
    "using LinearAlgebra\n",
    "M = 8 # Eight moment conditions\n",
    "W_0 = I(M) # Identity Matrix\n",
    "function Q(θ; W = W_0)\n",
    "    # Get moment vectors\n",
    "    m_i = g_i(θ)\n",
    "    # Take means of each column\n",
    "    G = [sum(m_i[:, k]) for k in 1:M] ./ N\n",
    "    # Calculate Q    \n",
    "    G' * W * G\n",
    "end;"
   ]
  },
  {
   "cell_type": "code",
   "execution_count": 8,
   "id": "515d45d9",
   "metadata": {},
   "outputs": [
    {
     "name": "stderr",
     "output_type": "stream",
     "text": [
      "\u001b[36m\u001b[1m[ \u001b[22m\u001b[39m\u001b[36m\u001b[1mInfo: \u001b[22m\u001b[39mPrecompiling GLM [38e38edf-8417-5370-95a0-9cbb8c7f171a]\n"
     ]
    },
    {
     "data": {
      "text/plain": [
       "1×7 adjoint(::Vector{Float64}) with eltype Float64:\n",
       " 0.59417  -0.102303  0.611992  29.5715  0.1  0.1  0.1"
      ]
     },
     "execution_count": 16,
     "metadata": {},
     "output_type": "execute_result"
    }
   ],
   "source": [
    "using GLM\n",
    "# OLS regression to get initial guess\n",
    "ols_reg = lm(@formula(logsk_logs0 ~ 1 + p_k + is_B), df);\n",
    "θ_0 = [coef(ols_reg); minimum(df.p_k); ones(3)./10];\n",
    "θ_0'"
   ]
  },
  {
   "cell_type": "code",
   "execution_count": 9,
   "id": "013b07e2",
   "metadata": {},
   "outputs": [
    {
     "name": "stderr",
     "output_type": "stream",
     "text": [
      "\u001b[36m\u001b[1m[ \u001b[22m\u001b[39m\u001b[36m\u001b[1mInfo: \u001b[22m\u001b[39mPrecompiling Optim [429524aa-4258-5aef-a3af-852621145aeb]\n"
     ]
    },
    {
     "data": {
      "text/plain": [
       "1×7 adjoint(::Vector{Float64}) with eltype Float64:\n",
       " 0.607455  -0.102708  0.612948  18.7229  0.215997  0.2718  0.154902"
      ]
     },
     "execution_count": 17,
     "metadata": {},
     "output_type": "execute_result"
    }
   ],
   "source": [
    "# Step 1\n",
    "using Optim\n",
    "res = Optim.optimize(Q, θ_0, Newton(), Optim.Options(f_abstol=1e-10, g_abstol=0.0, g_reltol=0.0))\n",
    "θ_1 =  res.minimizer;\n",
    "θ_1'"
   ]
  },
  {
   "cell_type": "code",
   "execution_count": 10,
   "id": "ca092ee5",
   "metadata": {},
   "outputs": [
    {
     "data": {
      "text/plain": [
       "8×8 Matrix{Float64}:\n",
       " 22645.8      -115.444     …  -23.0081     -5.69782     1.41266\n",
       "  -115.444     177.383         -2.95534     0.226009    0.885507\n",
       "  -447.324       1.85469        0.179547    0.400217    0.262554\n",
       "  -857.543       0.832448       0.896556    0.120697   -0.194816\n",
       "    30.8689    -22.9306         1.1218     -1.97982    -6.6906\n",
       "   -23.0081     -2.95534   …    2.02458    -0.162135   -0.0151455\n",
       "    -5.69782     0.226009      -0.162135    0.291764   -0.0127074\n",
       "     1.41266     0.885507      -0.0151455  -0.0127074   0.308547"
      ]
     },
     "execution_count": 18,
     "metadata": {},
     "output_type": "execute_result"
    }
   ],
   "source": [
    "# Calculate W_hat\n",
    "W = inv(g_i(θ_1)'  * g_i(θ_1) ./N)"
   ]
  },
  {
   "cell_type": "code",
   "execution_count": 11,
   "id": "fdc73e0a",
   "metadata": {},
   "outputs": [
    {
     "data": {
      "text/plain": [
       "1×7 adjoint(::Vector{Float64}) with eltype Float64:\n",
       " 0.611541  -0.102827  0.613015  18.7344  0.216421  0.271794  0.154919"
      ]
     },
     "execution_count": 19,
     "metadata": {},
     "output_type": "execute_result"
    }
   ],
   "source": [
    "# Use step 1 estimates as initial guess\n",
    "res = Optim.optimize(Q, θ_1, Newton(), Optim.Options(f_abstol=1e-10, g_abstol=0.0, g_reltol=0.0))\n",
    "θ_GMM =  res.minimizer;\n",
    "θ_GMM'"
   ]
  },
  {
   "cell_type": "code",
   "execution_count": 12,
   "id": "9a7843a4",
   "metadata": {},
   "outputs": [],
   "source": [
    "α_hat = -θ_GMM[2];\n",
    "df.c_k = df.p_k - 1/α_hat .* 1 ./(1 .- df.s_k);"
   ]
  },
  {
   "cell_type": "code",
   "execution_count": 13,
   "id": "f9c07acf",
   "metadata": {},
   "outputs": [
    {
     "data": {
      "image/png": "[encoded data removed]",
      "image/svg+xml": [
       "<?xml version=\"1.0\" encoding=\"utf-8\"?>\n",
       "<svg xmlns=\"http://www.w3.org/2000/svg\" xmlns:xlink=\"http://www.w3.org/1999/xlink\" width=\"768\" height=\"384\" viewBox=\"0 0 3072 1536\">\n",
       "<defs>\n",
       "  <clipPath id=\"clip880\">\n",
       "    <rect x=\"0\" y=\"0\" width=\"3072\" height=\"1536\"/>\n",
       "  </clipPath>\n",
       "</defs>\n",
       "<path clip-path=\"url(#clip880)\" d=\"M0 1536 L3072 1536 L3072 0 L0 0  Z\" fill=\"#ffffff\" fill-rule=\"evenodd\" fill-opacity=\"1\"/>\n",
       "<defs>\n",
       "  <clipPath id=\"clip881\">\n",
       "    <rect x=\"614\" y=\"0\" width=\"2151\" height=\"1536\"/>\n",
       "  </clipPath>\n",
       "</defs>\n",
       "<path clip-path=\"url(#clip880)\" d=\"M147.416 1431.73 L1488.18 1431.73 L1488.18 47.2441 L147.416 47.2441  Z\" fill=\"#ffffff\" fill-rule=\"evenodd\" fill-opacity=\"1\"/>\n",
       "<defs>\n",
       "  <clipPath id=\"clip882\">\n",
       "    <rect x=\"147\" y=\"47\" width=\"1342\" height=\"1385\"/>\n",
       "  </clipPath>\n",
       "</defs>\n",
       "<polyline clip-path=\"url(#clip882)\" style=\"stroke:#000000; stroke-linecap:round; stroke-linejoin:round; stroke-width:2; stroke-opacity:0.1; fill:none\" points=\"316.622,1431.73 316.622,47.2441 \"/>\n",
       "<polyline clip-path=\"url(#clip882)\" style=\"stroke:#000000; stroke-linecap:round; stroke-linejoin:round; stroke-width:2; stroke-opacity:0.1; fill:none\" points=\"555.276,1431.73 555.276,47.2441 \"/>\n",
       "<polyline clip-path=\"url(#clip882)\" style=\"stroke:#000000; stroke-linecap:round; stroke-linejoin:round; stroke-width:2; stroke-opacity:0.1; fill:none\" points=\"793.931,1431.73 793.931,47.2441 \"/>\n",
       "<polyline clip-path=\"url(#clip882)\" style=\"stroke:#000000; stroke-linecap:round; stroke-linejoin:round; stroke-width:2; stroke-opacity:0.1; fill:none\" points=\"1032.59,1431.73 1032.59,47.2441 \"/>\n",
       "<polyline clip-path=\"url(#clip882)\" style=\"stroke:#000000; stroke-linecap:round; stroke-linejoin:round; stroke-width:2; stroke-opacity:0.1; fill:none\" points=\"1271.24,1431.73 1271.24,47.2441 \"/>\n",
       "<polyline clip-path=\"url(#clip880)\" style=\"stroke:#000000; stroke-linecap:round; stroke-linejoin:round; stroke-width:4; stroke-opacity:1; fill:none\" points=\"147.416,1431.73 1488.18,1431.73 \"/>\n",
       "<polyline clip-path=\"url(#clip880)\" style=\"stroke:#000000; stroke-linecap:round; stroke-linejoin:round; stroke-width:4; stroke-opacity:1; fill:none\" points=\"316.622,1431.73 316.622,1412.83 \"/>\n",
       "<polyline clip-path=\"url(#clip880)\" style=\"stroke:#000000; stroke-linecap:round; stroke-linejoin:round; stroke-width:4; stroke-opacity:1; fill:none\" points=\"555.276,1431.73 555.276,1412.83 \"/>\n",
       "<polyline clip-path=\"url(#clip880)\" style=\"stroke:#000000; stroke-linecap:round; stroke-linejoin:round; stroke-width:4; stroke-opacity:1; fill:none\" points=\"793.931,1431.73 793.931,1412.83 \"/>\n",
       "<polyline clip-path=\"url(#clip880)\" style=\"stroke:#000000; stroke-linecap:round; stroke-linejoin:round; stroke-width:4; stroke-opacity:1; fill:none\" points=\"1032.59,1431.73 1032.59,1412.83 \"/>\n",
       "<polyline clip-path=\"url(#clip880)\" style=\"stroke:#000000; stroke-linecap:round; stroke-linejoin:round; stroke-width:4; stroke-opacity:1; fill:none\" points=\"1271.24,1431.73 1271.24,1412.83 \"/>\n",
       "<path clip-path=\"url(#clip880)\" d=\"M272.779 1495.57 L289.099 1495.57 L289.099 1499.5 L267.154 1499.5 L267.154 1495.57 Q269.816 1492.81 274.4 1488.18 Q279.006 1483.53 280.187 1482.19 Q282.432 1479.67 283.312 1477.93 Q284.214 1476.17 284.214 1474.48 Q284.214 1471.73 282.27 1469.99 Q280.349 1468.25 277.247 1468.25 Q275.048 1468.25 272.594 1469.02 Q270.164 1469.78 267.386 1471.33 L267.386 1466.61 Q270.21 1465.48 272.664 1464.9 Q275.117 1464.32 277.154 1464.32 Q282.525 1464.32 285.719 1467 Q288.913 1469.69 288.913 1474.18 Q288.913 1476.31 288.103 1478.23 Q287.316 1480.13 285.21 1482.72 Q284.631 1483.39 281.529 1486.61 Q278.427 1489.8 272.779 1495.57 Z\" fill=\"#000000\" fill-rule=\"nonzero\" fill-opacity=\"1\" /><path clip-path=\"url(#clip880)\" d=\"M308.913 1468.02 Q305.302 1468.02 303.474 1471.59 Q301.668 1475.13 301.668 1482.26 Q301.668 1489.37 303.474 1492.93 Q305.302 1496.47 308.913 1496.47 Q312.548 1496.47 314.353 1492.93 Q316.182 1489.37 316.182 1482.26 Q316.182 1475.13 314.353 1471.59 Q312.548 1468.02 308.913 1468.02 M308.913 1464.32 Q314.724 1464.32 317.779 1468.93 Q320.858 1473.51 320.858 1482.26 Q320.858 1490.99 317.779 1495.59 Q314.724 1500.18 308.913 1500.18 Q303.103 1500.18 300.025 1495.59 Q296.969 1490.99 296.969 1482.26 Q296.969 1473.51 300.025 1468.93 Q303.103 1464.32 308.913 1464.32 Z\" fill=\"#000000\" fill-rule=\"nonzero\" fill-opacity=\"1\" /><path clip-path=\"url(#clip880)\" d=\"M329.075 1493.62 L333.96 1493.62 L333.96 1499.5 L329.075 1499.5 L329.075 1493.62 Z\" fill=\"#000000\" fill-rule=\"nonzero\" fill-opacity=\"1\" /><path clip-path=\"url(#clip880)\" d=\"M354.145 1468.02 Q350.534 1468.02 348.705 1471.59 Q346.899 1475.13 346.899 1482.26 Q346.899 1489.37 348.705 1492.93 Q350.534 1496.47 354.145 1496.47 Q357.779 1496.47 359.584 1492.93 Q361.413 1489.37 361.413 1482.26 Q361.413 1475.13 359.584 1471.59 Q357.779 1468.02 354.145 1468.02 M354.145 1464.32 Q359.955 1464.32 363.01 1468.93 Q366.089 1473.51 366.089 1482.26 Q366.089 1490.99 363.01 1495.59 Q359.955 1500.18 354.145 1500.18 Q348.334 1500.18 345.256 1495.59 Q342.2 1490.99 342.2 1482.26 Q342.2 1473.51 345.256 1468.93 Q348.334 1464.32 354.145 1464.32 Z\" fill=\"#000000\" fill-rule=\"nonzero\" fill-opacity=\"1\" /><path clip-path=\"url(#clip880)\" d=\"M511.932 1495.57 L528.251 1495.57 L528.251 1499.5 L506.307 1499.5 L506.307 1495.57 Q508.969 1492.81 513.552 1488.18 Q518.158 1483.53 519.339 1482.19 Q521.584 1479.67 522.464 1477.93 Q523.367 1476.17 523.367 1474.48 Q523.367 1471.73 521.422 1469.99 Q519.501 1468.25 516.399 1468.25 Q514.2 1468.25 511.746 1469.02 Q509.316 1469.78 506.538 1471.33 L506.538 1466.61 Q509.362 1465.48 511.816 1464.9 Q514.27 1464.32 516.307 1464.32 Q521.677 1464.32 524.871 1467 Q528.066 1469.69 528.066 1474.18 Q528.066 1476.31 527.256 1478.23 Q526.469 1480.13 524.362 1482.72 Q523.783 1483.39 520.682 1486.61 Q517.58 1489.8 511.932 1495.57 Z\" fill=\"#000000\" fill-rule=\"nonzero\" fill-opacity=\"1\" /><path clip-path=\"url(#clip880)\" d=\"M542.093 1495.57 L558.413 1495.57 L558.413 1499.5 L536.469 1499.5 L536.469 1495.57 Q539.131 1492.81 543.714 1488.18 Q548.32 1483.53 549.501 1482.19 Q551.746 1479.67 552.626 1477.93 Q553.529 1476.17 553.529 1474.48 Q553.529 1471.73 551.584 1469.99 Q549.663 1468.25 546.561 1468.25 Q544.362 1468.25 541.908 1469.02 Q539.478 1469.78 536.7 1471.33 L536.7 1466.61 Q539.524 1465.48 541.978 1464.9 Q544.431 1464.32 546.468 1464.32 Q551.839 1464.32 555.033 1467 Q558.228 1469.69 558.228 1474.18 Q558.228 1476.31 557.417 1478.23 Q556.63 1480.13 554.524 1482.72 Q553.945 1483.39 550.843 1486.61 Q547.742 1489.8 542.093 1495.57 Z\" fill=\"#000000\" fill-rule=\"nonzero\" fill-opacity=\"1\" /><path clip-path=\"url(#clip880)\" d=\"M568.228 1493.62 L573.112 1493.62 L573.112 1499.5 L568.228 1499.5 L568.228 1493.62 Z\" fill=\"#000000\" fill-rule=\"nonzero\" fill-opacity=\"1\" /><path clip-path=\"url(#clip880)\" d=\"M583.343 1464.94 L601.7 1464.94 L601.7 1468.88 L587.626 1468.88 L587.626 1477.35 Q588.644 1477 589.663 1476.84 Q590.681 1476.66 591.7 1476.66 Q597.487 1476.66 600.866 1479.83 Q604.246 1483 604.246 1488.42 Q604.246 1493.99 600.774 1497.1 Q597.302 1500.18 590.982 1500.18 Q588.806 1500.18 586.538 1499.8 Q584.292 1499.43 581.885 1498.69 L581.885 1493.99 Q583.968 1495.13 586.19 1495.68 Q588.413 1496.24 590.89 1496.24 Q594.894 1496.24 597.232 1494.13 Q599.57 1492.03 599.57 1488.42 Q599.57 1484.8 597.232 1482.7 Q594.894 1480.59 590.89 1480.59 Q589.015 1480.59 587.14 1481.01 Q585.288 1481.43 583.343 1482.3 L583.343 1464.94 Z\" fill=\"#000000\" fill-rule=\"nonzero\" fill-opacity=\"1\" /><path clip-path=\"url(#clip880)\" d=\"M750.089 1495.57 L766.408 1495.57 L766.408 1499.5 L744.464 1499.5 L744.464 1495.57 Q747.126 1492.81 751.709 1488.18 Q756.315 1483.53 757.496 1482.19 Q759.741 1479.67 760.621 1477.93 Q761.524 1476.17 761.524 1474.48 Q761.524 1471.73 759.579 1469.99 Q757.658 1468.25 754.556 1468.25 Q752.357 1468.25 749.903 1469.02 Q747.473 1469.78 744.695 1471.33 L744.695 1466.61 Q747.519 1465.48 749.973 1464.9 Q752.427 1464.32 754.464 1464.32 Q759.834 1464.32 763.028 1467 Q766.223 1469.69 766.223 1474.18 Q766.223 1476.31 765.413 1478.23 Q764.626 1480.13 762.519 1482.72 Q761.94 1483.39 758.839 1486.61 Q755.737 1489.8 750.089 1495.57 Z\" fill=\"#000000\" fill-rule=\"nonzero\" fill-opacity=\"1\" /><path clip-path=\"url(#clip880)\" d=\"M776.269 1464.94 L794.625 1464.94 L794.625 1468.88 L780.551 1468.88 L780.551 1477.35 Q781.57 1477 782.588 1476.84 Q783.607 1476.66 784.625 1476.66 Q790.412 1476.66 793.792 1479.83 Q797.172 1483 797.172 1488.42 Q797.172 1493.99 793.699 1497.1 Q790.227 1500.18 783.908 1500.18 Q781.732 1500.18 779.463 1499.8 Q777.218 1499.43 774.811 1498.69 L774.811 1493.99 Q776.894 1495.13 779.116 1495.68 Q781.338 1496.24 783.815 1496.24 Q787.82 1496.24 790.158 1494.13 Q792.496 1492.03 792.496 1488.42 Q792.496 1484.8 790.158 1482.7 Q787.82 1480.59 783.815 1480.59 Q781.94 1480.59 780.065 1481.01 Q778.213 1481.43 776.269 1482.3 L776.269 1464.94 Z\" fill=\"#000000\" fill-rule=\"nonzero\" fill-opacity=\"1\" /><path clip-path=\"url(#clip880)\" d=\"M806.385 1493.62 L811.269 1493.62 L811.269 1499.5 L806.385 1499.5 L806.385 1493.62 Z\" fill=\"#000000\" fill-rule=\"nonzero\" fill-opacity=\"1\" /><path clip-path=\"url(#clip880)\" d=\"M831.454 1468.02 Q827.843 1468.02 826.014 1471.59 Q824.209 1475.13 824.209 1482.26 Q824.209 1489.37 826.014 1492.93 Q827.843 1496.47 831.454 1496.47 Q835.088 1496.47 836.894 1492.93 Q838.722 1489.37 838.722 1482.26 Q838.722 1475.13 836.894 1471.59 Q835.088 1468.02 831.454 1468.02 M831.454 1464.32 Q837.264 1464.32 840.32 1468.93 Q843.398 1473.51 843.398 1482.26 Q843.398 1490.99 840.32 1495.59 Q837.264 1500.18 831.454 1500.18 Q825.644 1500.18 822.565 1495.59 Q819.509 1490.99 819.509 1482.26 Q819.509 1473.51 822.565 1468.93 Q825.644 1464.32 831.454 1464.32 Z\" fill=\"#000000\" fill-rule=\"nonzero\" fill-opacity=\"1\" /><path clip-path=\"url(#clip880)\" d=\"M989.241 1495.57 L1005.56 1495.57 L1005.56 1499.5 L983.616 1499.5 L983.616 1495.57 Q986.278 1492.81 990.861 1488.18 Q995.468 1483.53 996.648 1482.19 Q998.894 1479.67 999.773 1477.93 Q1000.68 1476.17 1000.68 1474.48 Q1000.68 1471.73 998.732 1469.99 Q996.81 1468.25 993.708 1468.25 Q991.509 1468.25 989.056 1469.02 Q986.625 1469.78 983.847 1471.33 L983.847 1466.61 Q986.671 1465.48 989.125 1464.9 Q991.579 1464.32 993.616 1464.32 Q998.986 1464.32 1002.18 1467 Q1005.38 1469.69 1005.38 1474.18 Q1005.38 1476.31 1004.56 1478.23 Q1003.78 1480.13 1001.67 1482.72 Q1001.09 1483.39 997.991 1486.61 Q994.889 1489.8 989.241 1495.57 Z\" fill=\"#000000\" fill-rule=\"nonzero\" fill-opacity=\"1\" /><path clip-path=\"url(#clip880)\" d=\"M1014.19 1464.94 L1036.42 1464.94 L1036.42 1466.93 L1023.87 1499.5 L1018.99 1499.5 L1030.79 1468.88 L1014.19 1468.88 L1014.19 1464.94 Z\" fill=\"#000000\" fill-rule=\"nonzero\" fill-opacity=\"1\" /><path clip-path=\"url(#clip880)\" d=\"M1045.54 1493.62 L1050.42 1493.62 L1050.42 1499.5 L1045.54 1499.5 L1045.54 1493.62 Z\" fill=\"#000000\" fill-rule=\"nonzero\" fill-opacity=\"1\" /><path clip-path=\"url(#clip880)\" d=\"M1060.65 1464.94 L1079.01 1464.94 L1079.01 1468.88 L1064.93 1468.88 L1064.93 1477.35 Q1065.95 1477 1066.97 1476.84 Q1067.99 1476.66 1069.01 1476.66 Q1074.8 1476.66 1078.18 1479.83 Q1081.56 1483 1081.56 1488.42 Q1081.56 1493.99 1078.08 1497.1 Q1074.61 1500.18 1068.29 1500.18 Q1066.12 1500.18 1063.85 1499.8 Q1061.6 1499.43 1059.19 1498.69 L1059.19 1493.99 Q1061.28 1495.13 1063.5 1495.68 Q1065.72 1496.24 1068.2 1496.24 Q1072.2 1496.24 1074.54 1494.13 Q1076.88 1492.03 1076.88 1488.42 Q1076.88 1484.8 1074.54 1482.7 Q1072.2 1480.59 1068.2 1480.59 Q1066.32 1480.59 1064.45 1481.01 Q1062.6 1481.43 1060.65 1482.3 L1060.65 1464.94 Z\" fill=\"#000000\" fill-rule=\"nonzero\" fill-opacity=\"1\" /><path clip-path=\"url(#clip880)\" d=\"M1237.47 1480.87 Q1240.82 1481.59 1242.7 1483.86 Q1244.6 1486.12 1244.6 1489.46 Q1244.6 1494.57 1241.08 1497.37 Q1237.56 1500.18 1231.08 1500.18 Q1228.9 1500.18 1226.59 1499.74 Q1224.3 1499.32 1221.84 1498.46 L1221.84 1493.95 Q1223.79 1495.08 1226.1 1495.66 Q1228.42 1496.24 1230.94 1496.24 Q1235.34 1496.24 1237.63 1494.5 Q1239.94 1492.77 1239.94 1489.46 Q1239.94 1486.4 1237.79 1484.69 Q1235.66 1482.95 1231.84 1482.95 L1227.81 1482.95 L1227.81 1479.11 L1232.03 1479.11 Q1235.48 1479.11 1237.31 1477.74 Q1239.13 1476.36 1239.13 1473.76 Q1239.13 1471.1 1237.24 1469.69 Q1235.36 1468.25 1231.84 1468.25 Q1229.92 1468.25 1227.72 1468.67 Q1225.52 1469.09 1222.88 1469.97 L1222.88 1465.8 Q1225.55 1465.06 1227.86 1464.69 Q1230.2 1464.32 1232.26 1464.32 Q1237.58 1464.32 1240.68 1466.75 Q1243.79 1469.16 1243.79 1473.28 Q1243.79 1476.15 1242.14 1478.14 Q1240.5 1480.11 1237.47 1480.87 Z\" fill=\"#000000\" fill-rule=\"nonzero\" fill-opacity=\"1\" /><path clip-path=\"url(#clip880)\" d=\"M1263.46 1468.02 Q1259.85 1468.02 1258.02 1471.59 Q1256.22 1475.13 1256.22 1482.26 Q1256.22 1489.37 1258.02 1492.93 Q1259.85 1496.47 1263.46 1496.47 Q1267.1 1496.47 1268.9 1492.93 Q1270.73 1489.37 1270.73 1482.26 Q1270.73 1475.13 1268.9 1471.59 Q1267.1 1468.02 1263.46 1468.02 M1263.46 1464.32 Q1269.27 1464.32 1272.33 1468.93 Q1275.41 1473.51 1275.41 1482.26 Q1275.41 1490.99 1272.33 1495.59 Q1269.27 1500.18 1263.46 1500.18 Q1257.65 1500.18 1254.57 1495.59 Q1251.52 1490.99 1251.52 1482.26 Q1251.52 1473.51 1254.57 1468.93 Q1257.65 1464.32 1263.46 1464.32 Z\" fill=\"#000000\" fill-rule=\"nonzero\" fill-opacity=\"1\" /><path clip-path=\"url(#clip880)\" d=\"M1283.62 1493.62 L1288.51 1493.62 L1288.51 1499.5 L1283.62 1499.5 L1283.62 1493.62 Z\" fill=\"#000000\" fill-rule=\"nonzero\" fill-opacity=\"1\" /><path clip-path=\"url(#clip880)\" d=\"M1308.69 1468.02 Q1305.08 1468.02 1303.25 1471.59 Q1301.45 1475.13 1301.45 1482.26 Q1301.45 1489.37 1303.25 1492.93 Q1305.08 1496.47 1308.69 1496.47 Q1312.33 1496.47 1314.13 1492.93 Q1315.96 1489.37 1315.96 1482.26 Q1315.96 1475.13 1314.13 1471.59 Q1312.33 1468.02 1308.69 1468.02 M1308.69 1464.32 Q1314.5 1464.32 1317.56 1468.93 Q1320.64 1473.51 1320.64 1482.26 Q1320.64 1490.99 1317.56 1495.59 Q1314.5 1500.18 1308.69 1500.18 Q1302.88 1500.18 1299.8 1495.59 Q1296.75 1490.99 1296.75 1482.26 Q1296.75 1473.51 1299.8 1468.93 Q1302.88 1464.32 1308.69 1464.32 Z\" fill=\"#000000\" fill-rule=\"nonzero\" fill-opacity=\"1\" /><polyline clip-path=\"url(#clip882)\" style=\"stroke:#000000; stroke-linecap:round; stroke-linejoin:round; stroke-width:2; stroke-opacity:0.1; fill:none\" points=\"147.416,1431.73 1488.18,1431.73 \"/>\n",
       "<polyline clip-path=\"url(#clip882)\" style=\"stroke:#000000; stroke-linecap:round; stroke-linejoin:round; stroke-width:2; stroke-opacity:0.1; fill:none\" points=\"147.416,1175.34 1488.18,1175.34 \"/>\n",
       "<polyline clip-path=\"url(#clip882)\" style=\"stroke:#000000; stroke-linecap:round; stroke-linejoin:round; stroke-width:2; stroke-opacity:0.1; fill:none\" points=\"147.416,918.956 1488.18,918.956 \"/>\n",
       "<polyline clip-path=\"url(#clip882)\" style=\"stroke:#000000; stroke-linecap:round; stroke-linejoin:round; stroke-width:2; stroke-opacity:0.1; fill:none\" points=\"147.416,662.57 1488.18,662.57 \"/>\n",
       "<polyline clip-path=\"url(#clip882)\" style=\"stroke:#000000; stroke-linecap:round; stroke-linejoin:round; stroke-width:2; stroke-opacity:0.1; fill:none\" points=\"147.416,406.184 1488.18,406.184 \"/>\n",
       "<polyline clip-path=\"url(#clip882)\" style=\"stroke:#000000; stroke-linecap:round; stroke-linejoin:round; stroke-width:2; stroke-opacity:0.1; fill:none\" points=\"147.416,149.798 1488.18,149.798 \"/>\n",
       "<polyline clip-path=\"url(#clip880)\" style=\"stroke:#000000; stroke-linecap:round; stroke-linejoin:round; stroke-width:4; stroke-opacity:1; fill:none\" points=\"147.416,1431.73 147.416,47.2441 \"/>\n",
       "<polyline clip-path=\"url(#clip880)\" style=\"stroke:#000000; stroke-linecap:round; stroke-linejoin:round; stroke-width:4; stroke-opacity:1; fill:none\" points=\"147.416,1431.73 166.313,1431.73 \"/>\n",
       "<polyline clip-path=\"url(#clip880)\" style=\"stroke:#000000; stroke-linecap:round; stroke-linejoin:round; stroke-width:4; stroke-opacity:1; fill:none\" points=\"147.416,1175.34 166.313,1175.34 \"/>\n",
       "<polyline clip-path=\"url(#clip880)\" style=\"stroke:#000000; stroke-linecap:round; stroke-linejoin:round; stroke-width:4; stroke-opacity:1; fill:none\" points=\"147.416,918.956 166.313,918.956 \"/>\n",
       "<polyline clip-path=\"url(#clip880)\" style=\"stroke:#000000; stroke-linecap:round; stroke-linejoin:round; stroke-width:4; stroke-opacity:1; fill:none\" points=\"147.416,662.57 166.313,662.57 \"/>\n",
       "<polyline clip-path=\"url(#clip880)\" style=\"stroke:#000000; stroke-linecap:round; stroke-linejoin:round; stroke-width:4; stroke-opacity:1; fill:none\" points=\"147.416,406.184 166.313,406.184 \"/>\n",
       "<polyline clip-path=\"url(#clip880)\" style=\"stroke:#000000; stroke-linecap:round; stroke-linejoin:round; stroke-width:4; stroke-opacity:1; fill:none\" points=\"147.416,149.798 166.313,149.798 \"/>\n",
       "<path clip-path=\"url(#clip880)\" d=\"M89.3912 1417.53 Q85.7801 1417.53 83.9514 1421.09 Q82.1458 1424.63 82.1458 1431.76 Q82.1458 1438.87 83.9514 1442.43 Q85.7801 1445.98 89.3912 1445.98 Q93.0254 1445.98 94.8309 1442.43 Q96.6596 1438.87 96.6596 1431.76 Q96.6596 1424.63 94.8309 1421.09 Q93.0254 1417.53 89.3912 1417.53 M89.3912 1413.82 Q95.2013 1413.82 98.2569 1418.43 Q101.336 1423.01 101.336 1431.76 Q101.336 1440.49 98.2569 1445.1 Q95.2013 1449.68 89.3912 1449.68 Q83.581 1449.68 80.5023 1445.1 Q77.4468 1440.49 77.4468 1431.76 Q77.4468 1423.01 80.5023 1418.43 Q83.581 1413.82 89.3912 1413.82 Z\" fill=\"#000000\" fill-rule=\"nonzero\" fill-opacity=\"1\" /><path clip-path=\"url(#clip880)\" d=\"M80.4329 1158.06 L98.7893 1158.06 L98.7893 1162 L84.7153 1162 L84.7153 1170.47 Q85.7338 1170.12 86.7523 1169.96 Q87.7708 1169.77 88.7893 1169.77 Q94.5763 1169.77 97.9559 1172.95 Q101.336 1176.12 101.336 1181.53 Q101.336 1187.11 97.8633 1190.21 Q94.3911 1193.29 88.0717 1193.29 Q85.8958 1193.29 83.6273 1192.92 Q81.3819 1192.55 78.9746 1191.81 L78.9746 1187.11 Q81.0579 1188.25 83.2801 1188.8 Q85.5023 1189.36 87.9791 1189.36 Q91.9837 1189.36 94.3217 1187.25 Q96.6596 1185.15 96.6596 1181.53 Q96.6596 1177.92 94.3217 1175.82 Q91.9837 1173.71 87.9791 1173.71 Q86.1041 1173.71 84.2292 1174.13 Q82.3773 1174.54 80.4329 1175.42 L80.4329 1158.06 Z\" fill=\"#000000\" fill-rule=\"nonzero\" fill-opacity=\"1\" /><path clip-path=\"url(#clip880)\" d=\"M50.0395 932.301 L57.6784 932.301 L57.6784 905.935 L49.3682 907.602 L49.3682 903.343 L57.6321 901.676 L62.308 901.676 L62.308 932.301 L69.9468 932.301 L69.9468 936.236 L50.0395 936.236 L50.0395 932.301 Z\" fill=\"#000000\" fill-rule=\"nonzero\" fill-opacity=\"1\" /><path clip-path=\"url(#clip880)\" d=\"M89.3912 904.755 Q85.7801 904.755 83.9514 908.32 Q82.1458 911.861 82.1458 918.991 Q82.1458 926.097 83.9514 929.662 Q85.7801 933.204 89.3912 933.204 Q93.0254 933.204 94.8309 929.662 Q96.6596 926.097 96.6596 918.991 Q96.6596 911.861 94.8309 908.32 Q93.0254 904.755 89.3912 904.755 M89.3912 901.051 Q95.2013 901.051 98.2569 905.658 Q101.336 910.241 101.336 918.991 Q101.336 927.718 98.2569 932.324 Q95.2013 936.907 89.3912 936.907 Q83.581 936.907 80.5023 932.324 Q77.4468 927.718 77.4468 918.991 Q77.4468 910.241 80.5023 905.658 Q83.581 901.051 89.3912 901.051 Z\" fill=\"#000000\" fill-rule=\"nonzero\" fill-opacity=\"1\" /><path clip-path=\"url(#clip880)\" d=\"M51.0349 675.915 L58.6737 675.915 L58.6737 649.549 L50.3636 651.216 L50.3636 646.957 L58.6274 645.29 L63.3033 645.29 L63.3033 675.915 L70.9422 675.915 L70.9422 679.85 L51.0349 679.85 L51.0349 675.915 Z\" fill=\"#000000\" fill-rule=\"nonzero\" fill-opacity=\"1\" /><path clip-path=\"url(#clip880)\" d=\"M80.4329 645.29 L98.7893 645.29 L98.7893 649.225 L84.7153 649.225 L84.7153 657.698 Q85.7338 657.35 86.7523 657.188 Q87.7708 657.003 88.7893 657.003 Q94.5763 657.003 97.9559 660.174 Q101.336 663.346 101.336 668.762 Q101.336 674.341 97.8633 677.443 Q94.3911 680.522 88.0717 680.522 Q85.8958 680.522 83.6273 680.151 Q81.3819 679.781 78.9746 679.04 L78.9746 674.341 Q81.0579 675.475 83.2801 676.031 Q85.5023 676.586 87.9791 676.586 Q91.9837 676.586 94.3217 674.48 Q96.6596 672.373 96.6596 668.762 Q96.6596 665.151 94.3217 663.045 Q91.9837 660.938 87.9791 660.938 Q86.1041 660.938 84.2292 661.355 Q82.3773 661.772 80.4329 662.651 L80.4329 645.29 Z\" fill=\"#000000\" fill-rule=\"nonzero\" fill-opacity=\"1\" /><path clip-path=\"url(#clip880)\" d=\"M53.2571 419.529 L69.5765 419.529 L69.5765 423.464 L47.6321 423.464 L47.6321 419.529 Q50.2941 416.775 54.8775 412.145 Q59.4839 407.492 60.6645 406.15 Q62.9098 403.626 63.7894 401.89 Q64.6922 400.131 64.6922 398.441 Q64.6922 395.687 62.7478 393.951 Q60.8265 392.215 57.7247 392.215 Q55.5256 392.215 53.0719 392.978 Q50.6414 393.742 47.8636 395.293 L47.8636 390.571 Q50.6877 389.437 53.1414 388.858 Q55.595 388.279 57.6321 388.279 Q63.0024 388.279 66.1968 390.965 Q69.3913 393.65 69.3913 398.14 Q69.3913 400.27 68.5811 402.191 Q67.7941 404.089 65.6876 406.682 Q65.1089 407.353 62.007 410.571 Q58.9052 413.765 53.2571 419.529 Z\" fill=\"#000000\" fill-rule=\"nonzero\" fill-opacity=\"1\" /><path clip-path=\"url(#clip880)\" d=\"M89.3912 391.983 Q85.7801 391.983 83.9514 395.548 Q82.1458 399.089 82.1458 406.219 Q82.1458 413.325 83.9514 416.89 Q85.7801 420.432 89.3912 420.432 Q93.0254 420.432 94.8309 416.89 Q96.6596 413.325 96.6596 406.219 Q96.6596 399.089 94.8309 395.548 Q93.0254 391.983 89.3912 391.983 M89.3912 388.279 Q95.2013 388.279 98.2569 392.886 Q101.336 397.469 101.336 406.219 Q101.336 414.946 98.2569 419.552 Q95.2013 424.136 89.3912 424.136 Q83.581 424.136 80.5023 419.552 Q77.4468 414.946 77.4468 406.219 Q77.4468 397.469 80.5023 392.886 Q83.581 388.279 89.3912 388.279 Z\" fill=\"#000000\" fill-rule=\"nonzero\" fill-opacity=\"1\" /><path clip-path=\"url(#clip880)\" d=\"M54.2525 163.143 L70.5718 163.143 L70.5718 167.078 L48.6275 167.078 L48.6275 163.143 Q51.2895 160.389 55.8728 155.759 Q60.4793 151.106 61.6598 149.764 Q63.9052 147.241 64.7848 145.504 Q65.6876 143.745 65.6876 142.055 Q65.6876 139.301 63.7432 137.565 Q61.8219 135.829 58.72 135.829 Q56.521 135.829 54.0673 136.593 Q51.6367 137.356 48.859 138.907 L48.859 134.185 Q51.683 133.051 54.1367 132.472 Q56.5904 131.893 58.6274 131.893 Q63.9978 131.893 67.1922 134.579 Q70.3866 137.264 70.3866 141.755 Q70.3866 143.884 69.5765 145.805 Q68.7894 147.704 66.6829 150.296 Q66.1042 150.967 63.0024 154.185 Q59.9006 157.379 54.2525 163.143 Z\" fill=\"#000000\" fill-rule=\"nonzero\" fill-opacity=\"1\" /><path clip-path=\"url(#clip880)\" d=\"M80.4329 132.518 L98.7893 132.518 L98.7893 136.454 L84.7153 136.454 L84.7153 144.926 Q85.7338 144.579 86.7523 144.417 Q87.7708 144.231 88.7893 144.231 Q94.5763 144.231 97.9559 147.403 Q101.336 150.574 101.336 155.991 Q101.336 161.569 97.8633 164.671 Q94.3911 167.75 88.0717 167.75 Q85.8958 167.75 83.6273 167.379 Q81.3819 167.009 78.9746 166.268 L78.9746 161.569 Q81.0579 162.703 83.2801 163.259 Q85.5023 163.815 87.9791 163.815 Q91.9837 163.815 94.3217 161.708 Q96.6596 159.602 96.6596 155.991 Q96.6596 152.379 94.3217 150.273 Q91.9837 148.167 87.9791 148.167 Q86.1041 148.167 84.2292 148.583 Q82.3773 149 80.4329 149.879 L80.4329 132.518 Z\" fill=\"#000000\" fill-rule=\"nonzero\" fill-opacity=\"1\" /><path clip-path=\"url(#clip882)\" d=\"M221.16 1277.9 L221.16 1431.73 L268.891 1431.73 L268.891 1277.9 L221.16 1277.9 L221.16 1277.9  Z\" fill=\"#009af9\" fill-rule=\"evenodd\" fill-opacity=\"1\"/>\n",
       "<polyline clip-path=\"url(#clip882)\" style=\"stroke:#000000; stroke-linecap:round; stroke-linejoin:round; stroke-width:4; stroke-opacity:1; fill:none\" points=\"221.16,1277.9 221.16,1431.73 268.891,1431.73 268.891,1277.9 221.16,1277.9 \"/>\n",
       "<path clip-path=\"url(#clip882)\" d=\"M268.891 1277.9 L268.891 1431.73 L316.622 1431.73 L316.622 1277.9 L268.891 1277.9 L268.891 1277.9  Z\" fill=\"#009af9\" fill-rule=\"evenodd\" fill-opacity=\"1\"/>\n",
       "<polyline clip-path=\"url(#clip882)\" style=\"stroke:#000000; stroke-linecap:round; stroke-linejoin:round; stroke-width:4; stroke-opacity:1; fill:none\" points=\"268.891,1277.9 268.891,1431.73 316.622,1431.73 316.622,1277.9 268.891,1277.9 \"/>\n",
       "<path clip-path=\"url(#clip882)\" d=\"M316.622 1124.06 L316.622 1431.73 L364.353 1431.73 L364.353 1124.06 L316.622 1124.06 L316.622 1124.06  Z\" fill=\"#009af9\" fill-rule=\"evenodd\" fill-opacity=\"1\"/>\n",
       "<polyline clip-path=\"url(#clip882)\" style=\"stroke:#000000; stroke-linecap:round; stroke-linejoin:round; stroke-width:4; stroke-opacity:1; fill:none\" points=\"316.622,1124.06 316.622,1431.73 364.353,1431.73 364.353,1124.06 316.622,1124.06 \"/>\n",
       "<path clip-path=\"url(#clip882)\" d=\"M364.353 1124.06 L364.353 1431.73 L412.084 1431.73 L412.084 1124.06 L364.353 1124.06 L364.353 1124.06  Z\" fill=\"#009af9\" fill-rule=\"evenodd\" fill-opacity=\"1\"/>\n",
       "<polyline clip-path=\"url(#clip882)\" style=\"stroke:#000000; stroke-linecap:round; stroke-linejoin:round; stroke-width:4; stroke-opacity:1; fill:none\" points=\"364.353,1124.06 364.353,1431.73 412.084,1431.73 412.084,1124.06 364.353,1124.06 \"/>\n",
       "<path clip-path=\"url(#clip882)\" d=\"M412.084 713.847 L412.084 1431.73 L459.814 1431.73 L459.814 713.847 L412.084 713.847 L412.084 713.847  Z\" fill=\"#009af9\" fill-rule=\"evenodd\" fill-opacity=\"1\"/>\n",
       "<polyline clip-path=\"url(#clip882)\" style=\"stroke:#000000; stroke-linecap:round; stroke-linejoin:round; stroke-width:4; stroke-opacity:1; fill:none\" points=\"412.084,713.847 412.084,1431.73 459.814,1431.73 459.814,713.847 412.084,713.847 \"/>\n",
       "<path clip-path=\"url(#clip882)\" d=\"M459.814 560.016 L459.814 1431.73 L507.545 1431.73 L507.545 560.016 L459.814 560.016 L459.814 560.016  Z\" fill=\"#009af9\" fill-rule=\"evenodd\" fill-opacity=\"1\"/>\n",
       "<polyline clip-path=\"url(#clip882)\" style=\"stroke:#000000; stroke-linecap:round; stroke-linejoin:round; stroke-width:4; stroke-opacity:1; fill:none\" points=\"459.814,560.016 459.814,1431.73 507.545,1431.73 507.545,560.016 459.814,560.016 \"/>\n",
       "<path clip-path=\"url(#clip882)\" d=\"M507.545 508.739 L507.545 1431.73 L555.276 1431.73 L555.276 508.739 L507.545 508.739 L507.545 508.739  Z\" fill=\"#009af9\" fill-rule=\"evenodd\" fill-opacity=\"1\"/>\n",
       "<polyline clip-path=\"url(#clip882)\" style=\"stroke:#000000; stroke-linecap:round; stroke-linejoin:round; stroke-width:4; stroke-opacity:1; fill:none\" points=\"507.545,508.739 507.545,1431.73 555.276,1431.73 555.276,508.739 507.545,508.739 \"/>\n",
       "<path clip-path=\"url(#clip882)\" d=\"M555.276 508.739 L555.276 1431.73 L603.007 1431.73 L603.007 508.739 L555.276 508.739 L555.276 508.739  Z\" fill=\"#009af9\" fill-rule=\"evenodd\" fill-opacity=\"1\"/>\n",
       "<polyline clip-path=\"url(#clip882)\" style=\"stroke:#000000; stroke-linecap:round; stroke-linejoin:round; stroke-width:4; stroke-opacity:1; fill:none\" points=\"555.276,508.739 555.276,1431.73 603.007,1431.73 603.007,508.739 555.276,508.739 \"/>\n",
       "<path clip-path=\"url(#clip882)\" d=\"M603.007 47.2441 L603.007 1431.73 L650.738 1431.73 L650.738 47.2441 L603.007 47.2441 L603.007 47.2441  Z\" fill=\"#009af9\" fill-rule=\"evenodd\" fill-opacity=\"1\"/>\n",
       "<polyline clip-path=\"url(#clip882)\" style=\"stroke:#000000; stroke-linecap:round; stroke-linejoin:round; stroke-width:4; stroke-opacity:1; fill:none\" points=\"603.007,47.2441 603.007,1431.73 650.738,1431.73 650.738,47.2441 603.007,47.2441 \"/>\n",
       "<path clip-path=\"url(#clip882)\" d=\"M650.738 47.2441 L650.738 1431.73 L698.469 1431.73 L698.469 47.2441 L650.738 47.2441 L650.738 47.2441  Z\" fill=\"#009af9\" fill-rule=\"evenodd\" fill-opacity=\"1\"/>\n",
       "<polyline clip-path=\"url(#clip882)\" style=\"stroke:#000000; stroke-linecap:round; stroke-linejoin:round; stroke-width:4; stroke-opacity:1; fill:none\" points=\"650.738,47.2441 650.738,1431.73 698.469,1431.73 698.469,47.2441 650.738,47.2441 \"/>\n",
       "<path clip-path=\"url(#clip882)\" d=\"M698.469 303.63 L698.469 1431.73 L746.2 1431.73 L746.2 303.63 L698.469 303.63 L698.469 303.63  Z\" fill=\"#009af9\" fill-rule=\"evenodd\" fill-opacity=\"1\"/>\n",
       "<polyline clip-path=\"url(#clip882)\" style=\"stroke:#000000; stroke-linecap:round; stroke-linejoin:round; stroke-width:4; stroke-opacity:1; fill:none\" points=\"698.469,303.63 698.469,1431.73 746.2,1431.73 746.2,303.63 698.469,303.63 \"/>\n",
       "<path clip-path=\"url(#clip882)\" d=\"M746.2 149.798 L746.2 1431.73 L793.931 1431.73 L793.931 149.798 L746.2 149.798 L746.2 149.798  Z\" fill=\"#009af9\" fill-rule=\"evenodd\" fill-opacity=\"1\"/>\n",
       "<polyline clip-path=\"url(#clip882)\" style=\"stroke:#000000; stroke-linecap:round; stroke-linejoin:round; stroke-width:4; stroke-opacity:1; fill:none\" points=\"746.2,149.798 746.2,1431.73 793.931,1431.73 793.931,149.798 746.2,149.798 \"/>\n",
       "<path clip-path=\"url(#clip882)\" d=\"M793.931 98.5213 L793.931 1431.73 L841.662 1431.73 L841.662 98.5213 L793.931 98.5213 L793.931 98.5213  Z\" fill=\"#009af9\" fill-rule=\"evenodd\" fill-opacity=\"1\"/>\n",
       "<polyline clip-path=\"url(#clip882)\" style=\"stroke:#000000; stroke-linecap:round; stroke-linejoin:round; stroke-width:4; stroke-opacity:1; fill:none\" points=\"793.931,98.5213 793.931,1431.73 841.662,1431.73 841.662,98.5213 793.931,98.5213 \"/>\n",
       "<path clip-path=\"url(#clip882)\" d=\"M841.662 508.739 L841.662 1431.73 L889.393 1431.73 L889.393 508.739 L841.662 508.739 L841.662 508.739  Z\" fill=\"#009af9\" fill-rule=\"evenodd\" fill-opacity=\"1\"/>\n",
       "<polyline clip-path=\"url(#clip882)\" style=\"stroke:#000000; stroke-linecap:round; stroke-linejoin:round; stroke-width:4; stroke-opacity:1; fill:none\" points=\"841.662,508.739 841.662,1431.73 889.393,1431.73 889.393,508.739 841.662,508.739 \"/>\n",
       "<path clip-path=\"url(#clip882)\" d=\"M889.393 354.907 L889.393 1431.73 L937.124 1431.73 L937.124 354.907 L889.393 354.907 L889.393 354.907  Z\" fill=\"#009af9\" fill-rule=\"evenodd\" fill-opacity=\"1\"/>\n",
       "<polyline clip-path=\"url(#clip882)\" style=\"stroke:#000000; stroke-linecap:round; stroke-linejoin:round; stroke-width:4; stroke-opacity:1; fill:none\" points=\"889.393,354.907 889.393,1431.73 937.124,1431.73 937.124,354.907 889.393,354.907 \"/>\n",
       "<path clip-path=\"url(#clip882)\" d=\"M937.124 765.125 L937.124 1431.73 L984.855 1431.73 L984.855 765.125 L937.124 765.125 L937.124 765.125  Z\" fill=\"#009af9\" fill-rule=\"evenodd\" fill-opacity=\"1\"/>\n",
       "<polyline clip-path=\"url(#clip882)\" style=\"stroke:#000000; stroke-linecap:round; stroke-linejoin:round; stroke-width:4; stroke-opacity:1; fill:none\" points=\"937.124,765.125 937.124,1431.73 984.855,1431.73 984.855,765.125 937.124,765.125 \"/>\n",
       "<path clip-path=\"url(#clip882)\" d=\"M984.855 1072.79 L984.855 1431.73 L1032.59 1431.73 L1032.59 1072.79 L984.855 1072.79 L984.855 1072.79  Z\" fill=\"#009af9\" fill-rule=\"evenodd\" fill-opacity=\"1\"/>\n",
       "<polyline clip-path=\"url(#clip882)\" style=\"stroke:#000000; stroke-linecap:round; stroke-linejoin:round; stroke-width:4; stroke-opacity:1; fill:none\" points=\"984.855,1072.79 984.855,1431.73 1032.59,1431.73 1032.59,1072.79 984.855,1072.79 \"/>\n",
       "<path clip-path=\"url(#clip882)\" d=\"M1032.59 713.847 L1032.59 1431.73 L1080.32 1431.73 L1080.32 713.847 L1032.59 713.847 L1032.59 713.847  Z\" fill=\"#009af9\" fill-rule=\"evenodd\" fill-opacity=\"1\"/>\n",
       "<polyline clip-path=\"url(#clip882)\" style=\"stroke:#000000; stroke-linecap:round; stroke-linejoin:round; stroke-width:4; stroke-opacity:1; fill:none\" points=\"1032.59,713.847 1032.59,1431.73 1080.32,1431.73 1080.32,713.847 1032.59,713.847 \"/>\n",
       "<path clip-path=\"url(#clip882)\" d=\"M1080.32 1175.34 L1080.32 1431.73 L1128.05 1431.73 L1128.05 1175.34 L1080.32 1175.34 L1080.32 1175.34  Z\" fill=\"#009af9\" fill-rule=\"evenodd\" fill-opacity=\"1\"/>\n",
       "<polyline clip-path=\"url(#clip882)\" style=\"stroke:#000000; stroke-linecap:round; stroke-linejoin:round; stroke-width:4; stroke-opacity:1; fill:none\" points=\"1080.32,1175.34 1080.32,1431.73 1128.05,1431.73 1128.05,1175.34 1080.32,1175.34 \"/>\n",
       "<path clip-path=\"url(#clip882)\" d=\"M1128.05 1021.51 L1128.05 1431.73 L1175.78 1431.73 L1175.78 1021.51 L1128.05 1021.51 L1128.05 1021.51  Z\" fill=\"#009af9\" fill-rule=\"evenodd\" fill-opacity=\"1\"/>\n",
       "<polyline clip-path=\"url(#clip882)\" style=\"stroke:#000000; stroke-linecap:round; stroke-linejoin:round; stroke-width:4; stroke-opacity:1; fill:none\" points=\"1128.05,1021.51 1128.05,1431.73 1175.78,1431.73 1175.78,1021.51 1128.05,1021.51 \"/>\n",
       "<path clip-path=\"url(#clip882)\" d=\"M1175.78 1380.45 L1175.78 1431.73 L1223.51 1431.73 L1223.51 1380.45 L1175.78 1380.45 L1175.78 1380.45  Z\" fill=\"#009af9\" fill-rule=\"evenodd\" fill-opacity=\"1\"/>\n",
       "<polyline clip-path=\"url(#clip882)\" style=\"stroke:#000000; stroke-linecap:round; stroke-linejoin:round; stroke-width:4; stroke-opacity:1; fill:none\" points=\"1175.78,1380.45 1175.78,1431.73 1223.51,1431.73 1223.51,1380.45 1175.78,1380.45 \"/>\n",
       "<path clip-path=\"url(#clip882)\" d=\"M1223.51 1431.73 L1223.51 1431.73 L1271.24 1431.73 L1271.24 1431.73 L1223.51 1431.73 L1223.51 1431.73  Z\" fill=\"#009af9\" fill-rule=\"evenodd\" fill-opacity=\"1\"/>\n",
       "<polyline clip-path=\"url(#clip882)\" style=\"stroke:#000000; stroke-linecap:round; stroke-linejoin:round; stroke-width:4; stroke-opacity:1; fill:none\" points=\"1223.51,1431.73 1223.51,1431.73 1271.24,1431.73 1223.51,1431.73 \"/>\n",
       "<path clip-path=\"url(#clip882)\" d=\"M1271.24 1431.73 L1271.24 1431.73 L1318.97 1431.73 L1318.97 1431.73 L1271.24 1431.73 L1271.24 1431.73  Z\" fill=\"#009af9\" fill-rule=\"evenodd\" fill-opacity=\"1\"/>\n",
       "<polyline clip-path=\"url(#clip882)\" style=\"stroke:#000000; stroke-linecap:round; stroke-linejoin:round; stroke-width:4; stroke-opacity:1; fill:none\" points=\"1271.24,1431.73 1271.24,1431.73 1318.97,1431.73 1271.24,1431.73 \"/>\n",
       "<path clip-path=\"url(#clip882)\" d=\"M1318.97 1431.73 L1318.97 1431.73 L1366.7 1431.73 L1366.7 1431.73 L1318.97 1431.73 L1318.97 1431.73  Z\" fill=\"#009af9\" fill-rule=\"evenodd\" fill-opacity=\"1\"/>\n",
       "<polyline clip-path=\"url(#clip882)\" style=\"stroke:#000000; stroke-linecap:round; stroke-linejoin:round; stroke-width:4; stroke-opacity:1; fill:none\" points=\"1318.97,1431.73 1318.97,1431.73 1366.7,1431.73 1318.97,1431.73 \"/>\n",
       "<path clip-path=\"url(#clip882)\" d=\"M1366.7 1380.45 L1366.7 1431.73 L1414.43 1431.73 L1414.43 1380.45 L1366.7 1380.45 L1366.7 1380.45  Z\" fill=\"#009af9\" fill-rule=\"evenodd\" fill-opacity=\"1\"/>\n",
       "<polyline clip-path=\"url(#clip882)\" style=\"stroke:#000000; stroke-linecap:round; stroke-linejoin:round; stroke-width:4; stroke-opacity:1; fill:none\" points=\"1366.7,1380.45 1366.7,1431.73 1414.43,1431.73 1414.43,1380.45 1366.7,1380.45 \"/>\n",
       "<circle clip-path=\"url(#clip882)\" style=\"fill:#009af9; stroke:none; fill-opacity:0\" cx=\"245.025\" cy=\"1277.9\" r=\"2\"/>\n",
       "<circle clip-path=\"url(#clip882)\" style=\"fill:#009af9; stroke:none; fill-opacity:0\" cx=\"292.756\" cy=\"1277.9\" r=\"2\"/>\n",
       "<circle clip-path=\"url(#clip882)\" style=\"fill:#009af9; stroke:none; fill-opacity:0\" cx=\"340.487\" cy=\"1124.06\" r=\"2\"/>\n",
       "<circle clip-path=\"url(#clip882)\" style=\"fill:#009af9; stroke:none; fill-opacity:0\" cx=\"388.218\" cy=\"1124.06\" r=\"2\"/>\n",
       "<circle clip-path=\"url(#clip882)\" style=\"fill:#009af9; stroke:none; fill-opacity:0\" cx=\"435.949\" cy=\"713.847\" r=\"2\"/>\n",
       "<circle clip-path=\"url(#clip882)\" style=\"fill:#009af9; stroke:none; fill-opacity:0\" cx=\"483.68\" cy=\"560.016\" r=\"2\"/>\n",
       "<circle clip-path=\"url(#clip882)\" style=\"fill:#009af9; stroke:none; fill-opacity:0\" cx=\"531.411\" cy=\"508.739\" r=\"2\"/>\n",
       "<circle clip-path=\"url(#clip882)\" style=\"fill:#009af9; stroke:none; fill-opacity:0\" cx=\"579.142\" cy=\"508.739\" r=\"2\"/>\n",
       "<circle clip-path=\"url(#clip882)\" style=\"fill:#009af9; stroke:none; fill-opacity:0\" cx=\"626.873\" cy=\"47.2441\" r=\"2\"/>\n",
       "<circle clip-path=\"url(#clip882)\" style=\"fill:#009af9; stroke:none; fill-opacity:0\" cx=\"674.604\" cy=\"47.2441\" r=\"2\"/>\n",
       "<circle clip-path=\"url(#clip882)\" style=\"fill:#009af9; stroke:none; fill-opacity:0\" cx=\"722.335\" cy=\"303.63\" r=\"2\"/>\n",
       "<circle clip-path=\"url(#clip882)\" style=\"fill:#009af9; stroke:none; fill-opacity:0\" cx=\"770.065\" cy=\"149.798\" r=\"2\"/>\n",
       "<circle clip-path=\"url(#clip882)\" style=\"fill:#009af9; stroke:none; fill-opacity:0\" cx=\"817.796\" cy=\"98.5213\" r=\"2\"/>\n",
       "<circle clip-path=\"url(#clip882)\" style=\"fill:#009af9; stroke:none; fill-opacity:0\" cx=\"865.527\" cy=\"508.739\" r=\"2\"/>\n",
       "<circle clip-path=\"url(#clip882)\" style=\"fill:#009af9; stroke:none; fill-opacity:0\" cx=\"913.258\" cy=\"354.907\" r=\"2\"/>\n",
       "<circle clip-path=\"url(#clip882)\" style=\"fill:#009af9; stroke:none; fill-opacity:0\" cx=\"960.989\" cy=\"765.125\" r=\"2\"/>\n",
       "<circle clip-path=\"url(#clip882)\" style=\"fill:#009af9; stroke:none; fill-opacity:0\" cx=\"1008.72\" cy=\"1072.79\" r=\"2\"/>\n",
       "<circle clip-path=\"url(#clip882)\" style=\"fill:#009af9; stroke:none; fill-opacity:0\" cx=\"1056.45\" cy=\"713.847\" r=\"2\"/>\n",
       "<circle clip-path=\"url(#clip882)\" style=\"fill:#009af9; stroke:none; fill-opacity:0\" cx=\"1104.18\" cy=\"1175.34\" r=\"2\"/>\n",
       "<circle clip-path=\"url(#clip882)\" style=\"fill:#009af9; stroke:none; fill-opacity:0\" cx=\"1151.91\" cy=\"1021.51\" r=\"2\"/>\n",
       "<circle clip-path=\"url(#clip882)\" style=\"fill:#009af9; stroke:none; fill-opacity:0\" cx=\"1199.64\" cy=\"1380.45\" r=\"2\"/>\n",
       "<circle clip-path=\"url(#clip882)\" style=\"fill:#009af9; stroke:none; fill-opacity:0\" cx=\"1247.37\" cy=\"1431.73\" r=\"2\"/>\n",
       "<circle clip-path=\"url(#clip882)\" style=\"fill:#009af9; stroke:none; fill-opacity:0\" cx=\"1295.11\" cy=\"1431.73\" r=\"2\"/>\n",
       "<circle clip-path=\"url(#clip882)\" style=\"fill:#009af9; stroke:none; fill-opacity:0\" cx=\"1342.84\" cy=\"1431.73\" r=\"2\"/>\n",
       "<circle clip-path=\"url(#clip882)\" style=\"fill:#009af9; stroke:none; fill-opacity:0\" cx=\"1390.57\" cy=\"1380.45\" r=\"2\"/>\n",
       "<path clip-path=\"url(#clip880)\" d=\"M1134.52 197.074 L1443.49 197.074 L1443.49 93.3936 L1134.52 93.3936  Z\" fill=\"#ffffff\" fill-rule=\"evenodd\" fill-opacity=\"1\"/>\n",
       "<polyline clip-path=\"url(#clip880)\" style=\"stroke:#000000; stroke-linecap:round; stroke-linejoin:round; stroke-width:4; stroke-opacity:1; fill:none\" points=\"1134.52,197.074 1443.49,197.074 1443.49,93.3936 1134.52,93.3936 1134.52,197.074 \"/>\n",
       "<path clip-path=\"url(#clip880)\" d=\"M1149.42 165.97 L1238.8 165.97 L1238.8 124.498 L1149.42 124.498 L1149.42 165.97  Z\" fill=\"#009af9\" fill-rule=\"evenodd\" fill-opacity=\"1\"/>\n",
       "<polyline clip-path=\"url(#clip880)\" style=\"stroke:#000000; stroke-linecap:round; stroke-linejoin:round; stroke-width:4; stroke-opacity:1; fill:none\" points=\"1149.42,165.97 1238.8,165.97 1238.8,124.498 1149.42,124.498 1149.42,165.97 \"/>\n",
       "<path clip-path=\"url(#clip880)\" d=\"M1258.38 120.141 L1258.38 133.127 L1264.26 133.127 Q1267.52 133.127 1269.3 131.438 Q1271.09 129.748 1271.09 126.623 Q1271.09 123.521 1269.3 121.831 Q1267.52 120.141 1264.26 120.141 L1258.38 120.141 M1253.7 116.299 L1264.26 116.299 Q1270.07 116.299 1273.03 118.938 Q1276.02 121.553 1276.02 126.623 Q1276.02 131.738 1273.03 134.354 Q1270.07 136.97 1264.26 136.97 L1258.38 136.97 L1258.38 150.859 L1253.7 150.859 L1253.7 116.299 Z\" fill=\"#000000\" fill-rule=\"nonzero\" fill-opacity=\"1\" /><path clip-path=\"url(#clip880)\" d=\"M1296.29 128.914 Q1295.58 128.498 1294.72 128.313 Q1293.89 128.104 1292.87 128.104 Q1289.26 128.104 1287.31 130.465 Q1285.39 132.803 1285.39 137.201 L1285.39 150.859 L1281.11 150.859 L1281.11 124.933 L1285.39 124.933 L1285.39 128.961 Q1286.73 126.6 1288.89 125.465 Q1291.04 124.308 1294.12 124.308 Q1294.56 124.308 1295.09 124.377 Q1295.62 124.424 1296.27 124.539 L1296.29 128.914 Z\" fill=\"#000000\" fill-rule=\"nonzero\" fill-opacity=\"1\" /><path clip-path=\"url(#clip880)\" d=\"M1321.9 136.831 L1321.9 138.914 L1302.31 138.914 Q1302.59 143.312 1304.95 145.627 Q1307.34 147.919 1311.57 147.919 Q1314.03 147.919 1316.32 147.317 Q1318.63 146.715 1320.9 145.512 L1320.9 149.539 Q1318.61 150.512 1316.2 151.021 Q1313.79 151.53 1311.32 151.53 Q1305.11 151.53 1301.48 147.919 Q1297.87 144.308 1297.87 138.15 Q1297.87 131.785 1301.29 128.058 Q1304.74 124.308 1310.58 124.308 Q1315.81 124.308 1318.84 127.688 Q1321.9 131.044 1321.9 136.831 M1317.64 135.581 Q1317.59 132.086 1315.67 130.002 Q1313.77 127.919 1310.62 127.919 Q1307.06 127.919 1304.9 129.933 Q1302.78 131.947 1302.45 135.604 L1317.64 135.581 Z\" fill=\"#000000\" fill-rule=\"nonzero\" fill-opacity=\"1\" /><path clip-path=\"url(#clip880)\" d=\"M1345.95 128.868 L1345.95 114.84 L1350.21 114.84 L1350.21 150.859 L1345.95 150.859 L1345.95 146.97 Q1344.6 149.285 1342.54 150.419 Q1340.51 151.53 1337.64 151.53 Q1332.94 151.53 1329.97 147.78 Q1327.03 144.03 1327.03 137.919 Q1327.03 131.808 1329.97 128.058 Q1332.94 124.308 1337.64 124.308 Q1340.51 124.308 1342.54 125.442 Q1344.6 126.553 1345.95 128.868 M1331.43 137.919 Q1331.43 142.618 1333.35 145.303 Q1335.3 147.965 1338.68 147.965 Q1342.06 147.965 1344 145.303 Q1345.95 142.618 1345.95 137.919 Q1345.95 133.22 1344 130.558 Q1342.06 127.873 1338.68 127.873 Q1335.3 127.873 1333.35 130.558 Q1331.43 133.22 1331.43 137.919 Z\" fill=\"#000000\" fill-rule=\"nonzero\" fill-opacity=\"1\" /><path clip-path=\"url(#clip880)\" d=\"M1359.58 144.979 L1364.46 144.979 L1364.46 150.859 L1359.58 150.859 L1359.58 144.979 Z\" fill=\"#000000\" fill-rule=\"nonzero\" fill-opacity=\"1\" /><path clip-path=\"url(#clip880)\" d=\"M1403.13 145.308 Q1403.32 145.518 1403.32 145.729 Q1403.32 145.94 1402.85 146.549 Q1402.4 147.158 1401.44 147.978 Q1400.48 148.798 1399.24 149.571 Q1398 150.343 1396.17 150.859 Q1394.35 151.397 1392.43 151.397 Q1388.84 151.397 1386.73 149.032 Q1384.65 146.666 1384.65 143.27 Q1384.65 139.967 1386.5 136.805 Q1388.35 133.62 1391.35 131.652 Q1394.35 129.661 1397.51 129.661 Q1400.01 129.661 1401.58 130.833 Q1403.15 132.004 1403.15 133.784 Q1403.15 135.166 1402.36 136.009 Q1401.56 136.852 1400.48 136.852 Q1399.73 136.852 1399.22 136.431 Q1398.7 135.986 1398.7 135.166 Q1398.7 134.112 1399.57 133.292 Q1399.9 132.964 1400.27 132.823 Q1400.67 132.66 1400.9 132.66 Q1401.14 132.636 1401.68 132.636 Q1401.19 131.723 1400.01 131.231 Q1398.87 130.715 1397.56 130.715 Q1395.61 130.715 1393.76 132.074 Q1391.91 133.409 1390.79 135.517 Q1389.66 137.578 1388.94 140.506 Q1388.21 143.41 1388.21 145.097 Q1388.21 147.416 1389.29 148.868 Q1390.36 150.32 1392.52 150.32 Q1392.94 150.32 1393.39 150.297 Q1393.85 150.273 1395.03 150.016 Q1396.22 149.758 1397.27 149.313 Q1398.33 148.868 1399.66 147.908 Q1401.02 146.924 1402.1 145.589 Q1402.47 145.097 1402.73 145.097 Q1402.94 145.097 1403.13 145.308 Z\" fill=\"#000000\" fill-rule=\"nonzero\" fill-opacity=\"1\" /><path clip-path=\"url(#clip880)\" d=\"M1423.63 155.406 Q1423.19 157.521 1422.61 158.735 Q1421.69 160.587 1420.14 160.587 Q1418.96 160.587 1418.12 159.866 Q1417.28 159.145 1417.09 158.063 Q1414.94 160.587 1412.71 160.587 Q1410.74 160.587 1409.5 159.095 Q1408.25 157.587 1408.25 155.21 Q1408.25 152.816 1409.43 150.52 Q1410.63 148.225 1412.51 146.799 Q1414.4 145.372 1416.33 145.372 Q1418.38 145.372 1419.43 147.52 Q1419.51 146.93 1419.89 146.487 Q1420.27 146.044 1420.84 146.044 Q1421.28 146.044 1421.55 146.29 Q1421.81 146.52 1421.81 146.946 Q1421.81 147.159 1421.58 148.094 L1420.37 152.783 L1419.63 155.816 Q1419.35 156.931 1419.27 157.341 Q1419.2 157.751 1419.2 158.292 Q1419.2 159.833 1420.2 159.833 Q1420.69 159.833 1421.09 159.522 Q1421.48 159.21 1421.79 158.554 Q1422.1 157.899 1422.3 157.292 Q1422.5 156.669 1422.76 155.685 Q1422.84 155.292 1422.91 155.193 Q1422.99 155.078 1423.22 155.078 Q1423.63 155.078 1423.63 155.406 M1419.02 149.061 Q1419.02 148.914 1418.91 148.504 Q1418.79 148.094 1418.53 147.52 Q1418.27 146.946 1417.69 146.536 Q1417.14 146.11 1416.38 146.11 Q1415.37 146.11 1414.3 146.979 Q1413.25 147.848 1412.48 149.324 Q1411.89 150.504 1411.25 152.98 Q1410.63 155.456 1410.63 156.685 Q1410.63 157.439 1410.79 158.112 Q1410.97 158.768 1411.48 159.309 Q1411.99 159.833 1412.78 159.833 Q1414.69 159.833 1416.58 157.456 Q1416.94 157.046 1417.02 156.882 Q1417.12 156.702 1417.25 156.21 L1418.92 149.635 Q1419.02 149.143 1419.02 149.061 Z\" fill=\"#000000\" fill-rule=\"nonzero\" fill-opacity=\"1\" /><path clip-path=\"url(#clip880)\" d=\"M1683.99 1431.73 L3024.76 1431.73 L3024.76 47.2441 L1683.99 47.2441  Z\" fill=\"#ffffff\" fill-rule=\"evenodd\" fill-opacity=\"1\"/>\n",
       "<defs>\n",
       "  <clipPath id=\"clip883\">\n",
       "    <rect x=\"1683\" y=\"47\" width=\"1342\" height=\"1385\"/>\n",
       "  </clipPath>\n",
       "</defs>\n",
       "<polyline clip-path=\"url(#clip883)\" style=\"stroke:#000000; stroke-linecap:round; stroke-linejoin:round; stroke-width:2; stroke-opacity:0.1; fill:none\" points=\"1890.32,1431.73 1890.32,47.2441 \"/>\n",
       "<polyline clip-path=\"url(#clip883)\" style=\"stroke:#000000; stroke-linecap:round; stroke-linejoin:round; stroke-width:2; stroke-opacity:0.1; fill:none\" points=\"2155.5,1431.73 2155.5,47.2441 \"/>\n",
       "<polyline clip-path=\"url(#clip883)\" style=\"stroke:#000000; stroke-linecap:round; stroke-linejoin:round; stroke-width:2; stroke-opacity:0.1; fill:none\" points=\"2420.67,1431.73 2420.67,47.2441 \"/>\n",
       "<polyline clip-path=\"url(#clip883)\" style=\"stroke:#000000; stroke-linecap:round; stroke-linejoin:round; stroke-width:2; stroke-opacity:0.1; fill:none\" points=\"2685.84,1431.73 2685.84,47.2441 \"/>\n",
       "<polyline clip-path=\"url(#clip883)\" style=\"stroke:#000000; stroke-linecap:round; stroke-linejoin:round; stroke-width:2; stroke-opacity:0.1; fill:none\" points=\"2951.01,1431.73 2951.01,47.2441 \"/>\n",
       "<polyline clip-path=\"url(#clip880)\" style=\"stroke:#000000; stroke-linecap:round; stroke-linejoin:round; stroke-width:4; stroke-opacity:1; fill:none\" points=\"1683.99,1431.73 3024.76,1431.73 \"/>\n",
       "<polyline clip-path=\"url(#clip880)\" style=\"stroke:#000000; stroke-linecap:round; stroke-linejoin:round; stroke-width:4; stroke-opacity:1; fill:none\" points=\"1890.32,1431.73 1890.32,1412.83 \"/>\n",
       "<polyline clip-path=\"url(#clip880)\" style=\"stroke:#000000; stroke-linecap:round; stroke-linejoin:round; stroke-width:4; stroke-opacity:1; fill:none\" points=\"2155.5,1431.73 2155.5,1412.83 \"/>\n",
       "<polyline clip-path=\"url(#clip880)\" style=\"stroke:#000000; stroke-linecap:round; stroke-linejoin:round; stroke-width:4; stroke-opacity:1; fill:none\" points=\"2420.67,1431.73 2420.67,1412.83 \"/>\n",
       "<polyline clip-path=\"url(#clip880)\" style=\"stroke:#000000; stroke-linecap:round; stroke-linejoin:round; stroke-width:4; stroke-opacity:1; fill:none\" points=\"2685.84,1431.73 2685.84,1412.83 \"/>\n",
       "<polyline clip-path=\"url(#clip880)\" style=\"stroke:#000000; stroke-linecap:round; stroke-linejoin:round; stroke-width:4; stroke-opacity:1; fill:none\" points=\"2951.01,1431.73 2951.01,1412.83 \"/>\n",
       "<path clip-path=\"url(#clip880)\" d=\"M1869.9 1495.57 L1886.22 1495.57 L1886.22 1499.5 L1864.27 1499.5 L1864.27 1495.57 Q1866.93 1492.81 1871.52 1488.18 Q1876.12 1483.53 1877.3 1482.19 Q1879.55 1479.67 1880.43 1477.93 Q1881.33 1476.17 1881.33 1474.48 Q1881.33 1471.73 1879.39 1469.99 Q1877.47 1468.25 1874.36 1468.25 Q1872.16 1468.25 1869.71 1469.02 Q1867.28 1469.78 1864.5 1471.33 L1864.5 1466.61 Q1867.33 1465.48 1869.78 1464.9 Q1872.23 1464.32 1874.27 1464.32 Q1879.64 1464.32 1882.84 1467 Q1886.03 1469.69 1886.03 1474.18 Q1886.03 1476.31 1885.22 1478.23 Q1884.43 1480.13 1882.33 1482.72 Q1881.75 1483.39 1878.65 1486.61 Q1875.54 1489.8 1869.9 1495.57 Z\" fill=\"#000000\" fill-rule=\"nonzero\" fill-opacity=\"1\" /><path clip-path=\"url(#clip880)\" d=\"M1900.06 1495.57 L1916.38 1495.57 L1916.38 1499.5 L1894.43 1499.5 L1894.43 1495.57 Q1897.1 1492.81 1901.68 1488.18 Q1906.28 1483.53 1907.47 1482.19 Q1909.71 1479.67 1910.59 1477.93 Q1911.49 1476.17 1911.49 1474.48 Q1911.49 1471.73 1909.55 1469.99 Q1907.63 1468.25 1904.53 1468.25 Q1902.33 1468.25 1899.87 1469.02 Q1897.44 1469.78 1894.66 1471.33 L1894.66 1466.61 Q1897.49 1465.48 1899.94 1464.9 Q1902.4 1464.32 1904.43 1464.32 Q1909.8 1464.32 1913 1467 Q1916.19 1469.69 1916.19 1474.18 Q1916.19 1476.31 1915.38 1478.23 Q1914.6 1480.13 1912.49 1482.72 Q1911.91 1483.39 1908.81 1486.61 Q1905.71 1489.8 1900.06 1495.57 Z\" fill=\"#000000\" fill-rule=\"nonzero\" fill-opacity=\"1\" /><path clip-path=\"url(#clip880)\" d=\"M2134.03 1495.57 L2150.35 1495.57 L2150.35 1499.5 L2128.4 1499.5 L2128.4 1495.57 Q2131.06 1492.81 2135.65 1488.18 Q2140.25 1483.53 2141.43 1482.19 Q2143.68 1479.67 2144.56 1477.93 Q2145.46 1476.17 2145.46 1474.48 Q2145.46 1471.73 2143.52 1469.99 Q2141.6 1468.25 2138.49 1468.25 Q2136.29 1468.25 2133.84 1469.02 Q2131.41 1469.78 2128.63 1471.33 L2128.63 1466.61 Q2131.46 1465.48 2133.91 1464.9 Q2136.36 1464.32 2138.4 1464.32 Q2143.77 1464.32 2146.97 1467 Q2150.16 1469.69 2150.16 1474.18 Q2150.16 1476.31 2149.35 1478.23 Q2148.56 1480.13 2146.46 1482.72 Q2145.88 1483.39 2142.78 1486.61 Q2139.67 1489.8 2134.03 1495.57 Z\" fill=\"#000000\" fill-rule=\"nonzero\" fill-opacity=\"1\" /><path clip-path=\"url(#clip880)\" d=\"M2173.01 1469.02 L2161.2 1487.47 L2173.01 1487.47 L2173.01 1469.02 M2171.78 1464.94 L2177.66 1464.94 L2177.66 1487.47 L2182.59 1487.47 L2182.59 1491.36 L2177.66 1491.36 L2177.66 1499.5 L2173.01 1499.5 L2173.01 1491.36 L2157.41 1491.36 L2157.41 1486.84 L2171.78 1464.94 Z\" fill=\"#000000\" fill-rule=\"nonzero\" fill-opacity=\"1\" /><path clip-path=\"url(#clip880)\" d=\"M2399.36 1495.57 L2415.68 1495.57 L2415.68 1499.5 L2393.74 1499.5 L2393.74 1495.57 Q2396.4 1492.81 2400.98 1488.18 Q2405.59 1483.53 2406.77 1482.19 Q2409.01 1479.67 2409.89 1477.93 Q2410.8 1476.17 2410.8 1474.48 Q2410.8 1471.73 2408.85 1469.99 Q2406.93 1468.25 2403.83 1468.25 Q2401.63 1468.25 2399.18 1469.02 Q2396.74 1469.78 2393.97 1471.33 L2393.97 1466.61 Q2396.79 1465.48 2399.24 1464.9 Q2401.7 1464.32 2403.74 1464.32 Q2409.11 1464.32 2412.3 1467 Q2415.49 1469.69 2415.49 1474.18 Q2415.49 1476.31 2414.68 1478.23 Q2413.9 1480.13 2411.79 1482.72 Q2411.21 1483.39 2408.11 1486.61 Q2405.01 1489.8 2399.36 1495.57 Z\" fill=\"#000000\" fill-rule=\"nonzero\" fill-opacity=\"1\" /><path clip-path=\"url(#clip880)\" d=\"M2436.07 1480.36 Q2432.92 1480.36 2431.07 1482.51 Q2429.24 1484.67 2429.24 1488.42 Q2429.24 1492.14 2431.07 1494.32 Q2432.92 1496.47 2436.07 1496.47 Q2439.22 1496.47 2441.05 1494.32 Q2442.9 1492.14 2442.9 1488.42 Q2442.9 1484.67 2441.05 1482.51 Q2439.22 1480.36 2436.07 1480.36 M2445.36 1465.71 L2445.36 1469.97 Q2443.6 1469.13 2441.79 1468.69 Q2440.01 1468.25 2438.25 1468.25 Q2433.62 1468.25 2431.17 1471.38 Q2428.74 1474.5 2428.39 1480.82 Q2429.75 1478.81 2431.81 1477.74 Q2433.87 1476.66 2436.35 1476.66 Q2441.56 1476.66 2444.57 1479.83 Q2447.6 1482.98 2447.6 1488.42 Q2447.6 1493.74 2444.45 1496.96 Q2441.3 1500.18 2436.07 1500.18 Q2430.08 1500.18 2426.91 1495.59 Q2423.74 1490.99 2423.74 1482.26 Q2423.74 1474.06 2427.62 1469.2 Q2431.51 1464.32 2438.06 1464.32 Q2439.82 1464.32 2441.61 1464.67 Q2443.41 1465.01 2445.36 1465.71 Z\" fill=\"#000000\" fill-rule=\"nonzero\" fill-opacity=\"1\" /><path clip-path=\"url(#clip880)\" d=\"M2664.66 1495.57 L2680.98 1495.57 L2680.98 1499.5 L2659.03 1499.5 L2659.03 1495.57 Q2661.7 1492.81 2666.28 1488.18 Q2670.89 1483.53 2672.07 1482.19 Q2674.31 1479.67 2675.19 1477.93 Q2676.09 1476.17 2676.09 1474.48 Q2676.09 1471.73 2674.15 1469.99 Q2672.23 1468.25 2669.13 1468.25 Q2666.93 1468.25 2664.47 1469.02 Q2662.04 1469.78 2659.27 1471.33 L2659.27 1466.61 Q2662.09 1465.48 2664.54 1464.9 Q2667 1464.32 2669.03 1464.32 Q2674.4 1464.32 2677.6 1467 Q2680.79 1469.69 2680.79 1474.18 Q2680.79 1476.31 2679.98 1478.23 Q2679.2 1480.13 2677.09 1482.72 Q2676.51 1483.39 2673.41 1486.61 Q2670.31 1489.8 2664.66 1495.57 Z\" fill=\"#000000\" fill-rule=\"nonzero\" fill-opacity=\"1\" /><path clip-path=\"url(#clip880)\" d=\"M2700.79 1483.09 Q2697.46 1483.09 2695.54 1484.87 Q2693.64 1486.66 2693.64 1489.78 Q2693.64 1492.91 2695.54 1494.69 Q2697.46 1496.47 2700.79 1496.47 Q2704.13 1496.47 2706.05 1494.69 Q2707.97 1492.88 2707.97 1489.78 Q2707.97 1486.66 2706.05 1484.87 Q2704.15 1483.09 2700.79 1483.09 M2696.12 1481.1 Q2693.11 1480.36 2691.42 1478.3 Q2689.75 1476.24 2689.75 1473.28 Q2689.75 1469.13 2692.69 1466.73 Q2695.65 1464.32 2700.79 1464.32 Q2705.96 1464.32 2708.9 1466.73 Q2711.84 1469.13 2711.84 1473.28 Q2711.84 1476.24 2710.15 1478.3 Q2708.48 1480.36 2705.49 1481.1 Q2708.87 1481.89 2710.75 1484.18 Q2712.65 1486.47 2712.65 1489.78 Q2712.65 1494.8 2709.57 1497.49 Q2706.51 1500.18 2700.79 1500.18 Q2695.08 1500.18 2692 1497.49 Q2688.94 1494.8 2688.94 1489.78 Q2688.94 1486.47 2690.84 1484.18 Q2692.74 1481.89 2696.12 1481.1 M2694.4 1473.72 Q2694.4 1476.4 2696.07 1477.91 Q2697.76 1479.41 2700.79 1479.41 Q2703.8 1479.41 2705.49 1477.91 Q2707.21 1476.4 2707.21 1473.72 Q2707.21 1471.03 2705.49 1469.53 Q2703.8 1468.02 2700.79 1468.02 Q2697.76 1468.02 2696.07 1469.53 Q2694.4 1471.03 2694.4 1473.72 Z\" fill=\"#000000\" fill-rule=\"nonzero\" fill-opacity=\"1\" /><path clip-path=\"url(#clip880)\" d=\"M2939.85 1480.87 Q2943.21 1481.59 2945.09 1483.86 Q2946.98 1486.12 2946.98 1489.46 Q2946.98 1494.57 2943.47 1497.37 Q2939.95 1500.18 2933.47 1500.18 Q2931.29 1500.18 2928.97 1499.74 Q2926.68 1499.32 2924.23 1498.46 L2924.23 1493.95 Q2926.17 1495.08 2928.49 1495.66 Q2930.8 1496.24 2933.33 1496.24 Q2937.72 1496.24 2940.02 1494.5 Q2942.33 1492.77 2942.33 1489.46 Q2942.33 1486.4 2940.18 1484.69 Q2938.05 1482.95 2934.23 1482.95 L2930.2 1482.95 L2930.2 1479.11 L2934.41 1479.11 Q2937.86 1479.11 2939.69 1477.74 Q2941.52 1476.36 2941.52 1473.76 Q2941.52 1471.1 2939.62 1469.69 Q2937.75 1468.25 2934.23 1468.25 Q2932.31 1468.25 2930.11 1468.67 Q2927.91 1469.09 2925.27 1469.97 L2925.27 1465.8 Q2927.93 1465.06 2930.25 1464.69 Q2932.59 1464.32 2934.65 1464.32 Q2939.97 1464.32 2943.07 1466.75 Q2946.17 1469.16 2946.17 1473.28 Q2946.17 1476.15 2944.53 1478.14 Q2942.89 1480.11 2939.85 1480.87 Z\" fill=\"#000000\" fill-rule=\"nonzero\" fill-opacity=\"1\" /><path clip-path=\"url(#clip880)\" d=\"M2965.85 1468.02 Q2962.24 1468.02 2960.41 1471.59 Q2958.6 1475.13 2958.6 1482.26 Q2958.6 1489.37 2960.41 1492.93 Q2962.24 1496.47 2965.85 1496.47 Q2969.48 1496.47 2971.29 1492.93 Q2973.12 1489.37 2973.12 1482.26 Q2973.12 1475.13 2971.29 1471.59 Q2969.48 1468.02 2965.85 1468.02 M2965.85 1464.32 Q2971.66 1464.32 2974.72 1468.93 Q2977.79 1473.51 2977.79 1482.26 Q2977.79 1490.99 2974.72 1495.59 Q2971.66 1500.18 2965.85 1500.18 Q2960.04 1500.18 2956.96 1495.59 Q2953.91 1490.99 2953.91 1482.26 Q2953.91 1473.51 2956.96 1468.93 Q2960.04 1464.32 2965.85 1464.32 Z\" fill=\"#000000\" fill-rule=\"nonzero\" fill-opacity=\"1\" /><polyline clip-path=\"url(#clip883)\" style=\"stroke:#000000; stroke-linecap:round; stroke-linejoin:round; stroke-width:2; stroke-opacity:0.1; fill:none\" points=\"1683.99,1431.73 3024.76,1431.73 \"/>\n",
       "<polyline clip-path=\"url(#clip883)\" style=\"stroke:#000000; stroke-linecap:round; stroke-linejoin:round; stroke-width:2; stroke-opacity:0.1; fill:none\" points=\"1683.99,1149.18 3024.76,1149.18 \"/>\n",
       "<polyline clip-path=\"url(#clip883)\" style=\"stroke:#000000; stroke-linecap:round; stroke-linejoin:round; stroke-width:2; stroke-opacity:0.1; fill:none\" points=\"1683.99,866.632 3024.76,866.632 \"/>\n",
       "<polyline clip-path=\"url(#clip883)\" style=\"stroke:#000000; stroke-linecap:round; stroke-linejoin:round; stroke-width:2; stroke-opacity:0.1; fill:none\" points=\"1683.99,584.085 3024.76,584.085 \"/>\n",
       "<polyline clip-path=\"url(#clip883)\" style=\"stroke:#000000; stroke-linecap:round; stroke-linejoin:round; stroke-width:2; stroke-opacity:0.1; fill:none\" points=\"1683.99,301.537 3024.76,301.537 \"/>\n",
       "<polyline clip-path=\"url(#clip880)\" style=\"stroke:#000000; stroke-linecap:round; stroke-linejoin:round; stroke-width:4; stroke-opacity:1; fill:none\" points=\"1683.99,1431.73 1683.99,47.2441 \"/>\n",
       "<polyline clip-path=\"url(#clip880)\" style=\"stroke:#000000; stroke-linecap:round; stroke-linejoin:round; stroke-width:4; stroke-opacity:1; fill:none\" points=\"1683.99,1431.73 1702.89,1431.73 \"/>\n",
       "<polyline clip-path=\"url(#clip880)\" style=\"stroke:#000000; stroke-linecap:round; stroke-linejoin:round; stroke-width:4; stroke-opacity:1; fill:none\" points=\"1683.99,1149.18 1702.89,1149.18 \"/>\n",
       "<polyline clip-path=\"url(#clip880)\" style=\"stroke:#000000; stroke-linecap:round; stroke-linejoin:round; stroke-width:4; stroke-opacity:1; fill:none\" points=\"1683.99,866.632 1702.89,866.632 \"/>\n",
       "<polyline clip-path=\"url(#clip880)\" style=\"stroke:#000000; stroke-linecap:round; stroke-linejoin:round; stroke-width:4; stroke-opacity:1; fill:none\" points=\"1683.99,584.085 1702.89,584.085 \"/>\n",
       "<polyline clip-path=\"url(#clip880)\" style=\"stroke:#000000; stroke-linecap:round; stroke-linejoin:round; stroke-width:4; stroke-opacity:1; fill:none\" points=\"1683.99,301.537 1702.89,301.537 \"/>\n",
       "<path clip-path=\"url(#clip880)\" d=\"M1625.97 1417.53 Q1622.36 1417.53 1620.53 1421.09 Q1618.72 1424.63 1618.72 1431.76 Q1618.72 1438.87 1620.53 1442.43 Q1622.36 1445.98 1625.97 1445.98 Q1629.6 1445.98 1631.41 1442.43 Q1633.24 1438.87 1633.24 1431.76 Q1633.24 1424.63 1631.41 1421.09 Q1629.6 1417.53 1625.97 1417.53 M1625.97 1413.82 Q1631.78 1413.82 1634.84 1418.43 Q1637.91 1423.01 1637.91 1431.76 Q1637.91 1440.49 1634.84 1445.1 Q1631.78 1449.68 1625.97 1449.68 Q1620.16 1449.68 1617.08 1445.1 Q1614.03 1440.49 1614.03 1431.76 Q1614.03 1423.01 1617.08 1418.43 Q1620.16 1413.82 1625.97 1413.82 Z\" fill=\"#000000\" fill-rule=\"nonzero\" fill-opacity=\"1\" /><path clip-path=\"url(#clip880)\" d=\"M1586.62 1162.52 L1594.26 1162.52 L1594.26 1136.16 L1585.95 1137.83 L1585.95 1133.57 L1594.21 1131.9 L1598.89 1131.9 L1598.89 1162.52 L1606.53 1162.52 L1606.53 1166.46 L1586.62 1166.46 L1586.62 1162.52 Z\" fill=\"#000000\" fill-rule=\"nonzero\" fill-opacity=\"1\" /><path clip-path=\"url(#clip880)\" d=\"M1625.97 1134.98 Q1622.36 1134.98 1620.53 1138.54 Q1618.72 1142.09 1618.72 1149.21 Q1618.72 1156.32 1620.53 1159.89 Q1622.36 1163.43 1625.97 1163.43 Q1629.6 1163.43 1631.41 1159.89 Q1633.24 1156.32 1633.24 1149.21 Q1633.24 1142.09 1631.41 1138.54 Q1629.6 1134.98 1625.97 1134.98 M1625.97 1131.28 Q1631.78 1131.28 1634.84 1135.88 Q1637.91 1140.46 1637.91 1149.21 Q1637.91 1157.94 1634.84 1162.55 Q1631.78 1167.13 1625.97 1167.13 Q1620.16 1167.13 1617.08 1162.55 Q1614.03 1157.94 1614.03 1149.21 Q1614.03 1140.46 1617.08 1135.88 Q1620.16 1131.28 1625.97 1131.28 Z\" fill=\"#000000\" fill-rule=\"nonzero\" fill-opacity=\"1\" /><path clip-path=\"url(#clip880)\" d=\"M1589.84 879.977 L1606.16 879.977 L1606.16 883.912 L1584.21 883.912 L1584.21 879.977 Q1586.87 877.223 1591.46 872.593 Q1596.06 867.94 1597.24 866.598 Q1599.49 864.075 1600.37 862.338 Q1601.27 860.579 1601.27 858.889 Q1601.27 856.135 1599.33 854.399 Q1597.41 852.663 1594.3 852.663 Q1592.1 852.663 1589.65 853.427 Q1587.22 854.19 1584.44 855.741 L1584.44 851.019 Q1587.27 849.885 1589.72 849.306 Q1592.17 848.727 1594.21 848.727 Q1599.58 848.727 1602.78 851.413 Q1605.97 854.098 1605.97 858.589 Q1605.97 860.718 1605.16 862.639 Q1604.37 864.538 1602.27 867.13 Q1601.69 867.801 1598.59 871.019 Q1595.48 874.213 1589.84 879.977 Z\" fill=\"#000000\" fill-rule=\"nonzero\" fill-opacity=\"1\" /><path clip-path=\"url(#clip880)\" d=\"M1625.97 852.431 Q1622.36 852.431 1620.53 855.996 Q1618.72 859.538 1618.72 866.667 Q1618.72 873.774 1620.53 877.338 Q1622.36 880.88 1625.97 880.88 Q1629.6 880.88 1631.41 877.338 Q1633.24 873.774 1633.24 866.667 Q1633.24 859.538 1631.41 855.996 Q1629.6 852.431 1625.97 852.431 M1625.97 848.727 Q1631.78 848.727 1634.84 853.334 Q1637.91 857.917 1637.91 866.667 Q1637.91 875.394 1634.84 880 Q1631.78 884.584 1625.97 884.584 Q1620.16 884.584 1617.08 880 Q1614.03 875.394 1614.03 866.667 Q1614.03 857.917 1617.08 853.334 Q1620.16 848.727 1625.97 848.727 Z\" fill=\"#000000\" fill-rule=\"nonzero\" fill-opacity=\"1\" /><path clip-path=\"url(#clip880)\" d=\"M1599.97 582.731 Q1603.33 583.448 1605.21 585.717 Q1607.1 587.985 1607.1 591.319 Q1607.1 596.434 1603.59 599.235 Q1600.07 602.036 1593.59 602.036 Q1591.41 602.036 1589.1 601.596 Q1586.8 601.18 1584.35 600.323 L1584.35 595.809 Q1586.29 596.943 1588.61 597.522 Q1590.92 598.101 1593.45 598.101 Q1597.85 598.101 1600.14 596.365 Q1602.45 594.629 1602.45 591.319 Q1602.45 588.263 1600.3 586.55 Q1598.17 584.814 1594.35 584.814 L1590.32 584.814 L1590.32 580.971 L1594.53 580.971 Q1597.98 580.971 1599.81 579.606 Q1601.64 578.217 1601.64 575.624 Q1601.64 572.962 1599.74 571.55 Q1597.87 570.115 1594.35 570.115 Q1592.43 570.115 1590.23 570.532 Q1588.03 570.948 1585.39 571.828 L1585.39 567.661 Q1588.05 566.92 1590.37 566.55 Q1592.71 566.18 1594.77 566.18 Q1600.09 566.18 1603.19 568.61 Q1606.29 571.018 1606.29 575.138 Q1606.29 578.008 1604.65 579.999 Q1603.01 581.967 1599.97 582.731 Z\" fill=\"#000000\" fill-rule=\"nonzero\" fill-opacity=\"1\" /><path clip-path=\"url(#clip880)\" d=\"M1625.97 569.883 Q1622.36 569.883 1620.53 573.448 Q1618.72 576.99 1618.72 584.119 Q1618.72 591.226 1620.53 594.791 Q1622.36 598.332 1625.97 598.332 Q1629.6 598.332 1631.41 594.791 Q1633.24 591.226 1633.24 584.119 Q1633.24 576.99 1631.41 573.448 Q1629.6 569.883 1625.97 569.883 M1625.97 566.18 Q1631.78 566.18 1634.84 570.786 Q1637.91 575.37 1637.91 584.119 Q1637.91 592.846 1634.84 597.453 Q1631.78 602.036 1625.97 602.036 Q1620.16 602.036 1617.08 597.453 Q1614.03 592.846 1614.03 584.119 Q1614.03 575.37 1617.08 570.786 Q1620.16 566.18 1625.97 566.18 Z\" fill=\"#000000\" fill-rule=\"nonzero\" fill-opacity=\"1\" /><path clip-path=\"url(#clip880)\" d=\"M1598.66 288.331 L1586.85 306.78 L1598.66 306.78 L1598.66 288.331 M1597.43 284.257 L1603.31 284.257 L1603.31 306.78 L1608.24 306.78 L1608.24 310.669 L1603.31 310.669 L1603.31 318.817 L1598.66 318.817 L1598.66 310.669 L1583.05 310.669 L1583.05 306.155 L1597.43 284.257 Z\" fill=\"#000000\" fill-rule=\"nonzero\" fill-opacity=\"1\" /><path clip-path=\"url(#clip880)\" d=\"M1625.97 287.336 Q1622.36 287.336 1620.53 290.901 Q1618.72 294.442 1618.72 301.572 Q1618.72 308.678 1620.53 312.243 Q1622.36 315.785 1625.97 315.785 Q1629.6 315.785 1631.41 312.243 Q1633.24 308.678 1633.24 301.572 Q1633.24 294.442 1631.41 290.901 Q1629.6 287.336 1625.97 287.336 M1625.97 283.632 Q1631.78 283.632 1634.84 288.238 Q1637.91 292.822 1637.91 301.572 Q1637.91 310.299 1634.84 314.905 Q1631.78 319.488 1625.97 319.488 Q1620.16 319.488 1617.08 314.905 Q1614.03 310.299 1614.03 301.572 Q1614.03 292.822 1617.08 288.238 Q1620.16 283.632 1625.97 283.632 Z\" fill=\"#000000\" fill-rule=\"nonzero\" fill-opacity=\"1\" /><path clip-path=\"url(#clip883)\" d=\"M1757.74 1375.22 L1757.74 1431.73 L1824.03 1431.73 L1824.03 1375.22 L1757.74 1375.22 L1757.74 1375.22  Z\" fill=\"#009af9\" fill-rule=\"evenodd\" fill-opacity=\"1\"/>\n",
       "<polyline clip-path=\"url(#clip883)\" style=\"stroke:#000000; stroke-linecap:round; stroke-linejoin:round; stroke-width:4; stroke-opacity:1; fill:none\" points=\"1757.74,1375.22 1757.74,1431.73 1824.03,1431.73 1824.03,1375.22 1757.74,1375.22 \"/>\n",
       "<path clip-path=\"url(#clip883)\" d=\"M1824.03 1318.71 L1824.03 1431.73 L1890.32 1431.73 L1890.32 1318.71 L1824.03 1318.71 L1824.03 1318.71  Z\" fill=\"#009af9\" fill-rule=\"evenodd\" fill-opacity=\"1\"/>\n",
       "<polyline clip-path=\"url(#clip883)\" style=\"stroke:#000000; stroke-linecap:round; stroke-linejoin:round; stroke-width:4; stroke-opacity:1; fill:none\" points=\"1824.03,1318.71 1824.03,1431.73 1890.32,1431.73 1890.32,1318.71 1824.03,1318.71 \"/>\n",
       "<path clip-path=\"url(#clip883)\" d=\"M1890.32 1205.69 L1890.32 1431.73 L1956.62 1431.73 L1956.62 1205.69 L1890.32 1205.69 L1890.32 1205.69  Z\" fill=\"#009af9\" fill-rule=\"evenodd\" fill-opacity=\"1\"/>\n",
       "<polyline clip-path=\"url(#clip883)\" style=\"stroke:#000000; stroke-linecap:round; stroke-linejoin:round; stroke-width:4; stroke-opacity:1; fill:none\" points=\"1890.32,1205.69 1890.32,1431.73 1956.62,1431.73 1956.62,1205.69 1890.32,1205.69 \"/>\n",
       "<path clip-path=\"url(#clip883)\" d=\"M1956.62 838.378 L1956.62 1431.73 L2022.91 1431.73 L2022.91 838.378 L1956.62 838.378 L1956.62 838.378  Z\" fill=\"#009af9\" fill-rule=\"evenodd\" fill-opacity=\"1\"/>\n",
       "<polyline clip-path=\"url(#clip883)\" style=\"stroke:#000000; stroke-linecap:round; stroke-linejoin:round; stroke-width:4; stroke-opacity:1; fill:none\" points=\"1956.62,838.378 1956.62,1431.73 2022.91,1431.73 2022.91,838.378 1956.62,838.378 \"/>\n",
       "<path clip-path=\"url(#clip883)\" d=\"M2022.91 781.868 L2022.91 1431.73 L2089.2 1431.73 L2089.2 781.868 L2022.91 781.868 L2022.91 781.868  Z\" fill=\"#009af9\" fill-rule=\"evenodd\" fill-opacity=\"1\"/>\n",
       "<polyline clip-path=\"url(#clip883)\" style=\"stroke:#000000; stroke-linecap:round; stroke-linejoin:round; stroke-width:4; stroke-opacity:1; fill:none\" points=\"2022.91,781.868 2022.91,1431.73 2089.2,1431.73 2089.2,781.868 2022.91,781.868 \"/>\n",
       "<path clip-path=\"url(#clip883)\" d=\"M2089.2 47.2441 L2089.2 1431.73 L2155.5 1431.73 L2155.5 47.2441 L2089.2 47.2441 L2089.2 47.2441  Z\" fill=\"#009af9\" fill-rule=\"evenodd\" fill-opacity=\"1\"/>\n",
       "<polyline clip-path=\"url(#clip883)\" style=\"stroke:#000000; stroke-linecap:round; stroke-linejoin:round; stroke-width:4; stroke-opacity:1; fill:none\" points=\"2089.2,47.2441 2089.2,1431.73 2155.5,1431.73 2155.5,47.2441 2089.2,47.2441 \"/>\n",
       "<path clip-path=\"url(#clip883)\" d=\"M2155.5 103.754 L2155.5 1431.73 L2221.79 1431.73 L2221.79 103.754 L2155.5 103.754 L2155.5 103.754  Z\" fill=\"#009af9\" fill-rule=\"evenodd\" fill-opacity=\"1\"/>\n",
       "<polyline clip-path=\"url(#clip883)\" style=\"stroke:#000000; stroke-linecap:round; stroke-linejoin:round; stroke-width:4; stroke-opacity:1; fill:none\" points=\"2155.5,103.754 2155.5,1431.73 2221.79,1431.73 2221.79,103.754 2155.5,103.754 \"/>\n",
       "<path clip-path=\"url(#clip883)\" d=\"M2221.79 75.4989 L2221.79 1431.73 L2288.08 1431.73 L2288.08 75.4989 L2221.79 75.4989 L2221.79 75.4989  Z\" fill=\"#009af9\" fill-rule=\"evenodd\" fill-opacity=\"1\"/>\n",
       "<polyline clip-path=\"url(#clip883)\" style=\"stroke:#000000; stroke-linecap:round; stroke-linejoin:round; stroke-width:4; stroke-opacity:1; fill:none\" points=\"2221.79,75.4989 2221.79,1431.73 2288.08,1431.73 2288.08,75.4989 2221.79,75.4989 \"/>\n",
       "<path clip-path=\"url(#clip883)\" d=\"M2288.08 471.066 L2288.08 1431.73 L2354.38 1431.73 L2354.38 471.066 L2288.08 471.066 L2288.08 471.066  Z\" fill=\"#009af9\" fill-rule=\"evenodd\" fill-opacity=\"1\"/>\n",
       "<polyline clip-path=\"url(#clip883)\" style=\"stroke:#000000; stroke-linecap:round; stroke-linejoin:round; stroke-width:4; stroke-opacity:1; fill:none\" points=\"2288.08,471.066 2288.08,1431.73 2354.38,1431.73 2354.38,471.066 2288.08,471.066 \"/>\n",
       "<path clip-path=\"url(#clip883)\" d=\"M2354.38 527.575 L2354.38 1431.73 L2420.67 1431.73 L2420.67 527.575 L2354.38 527.575 L2354.38 527.575  Z\" fill=\"#009af9\" fill-rule=\"evenodd\" fill-opacity=\"1\"/>\n",
       "<polyline clip-path=\"url(#clip883)\" style=\"stroke:#000000; stroke-linecap:round; stroke-linejoin:round; stroke-width:4; stroke-opacity:1; fill:none\" points=\"2354.38,527.575 2354.38,1431.73 2420.67,1431.73 2420.67,527.575 2354.38,527.575 \"/>\n",
       "<path clip-path=\"url(#clip883)\" d=\"M2420.67 1120.93 L2420.67 1431.73 L2486.96 1431.73 L2486.96 1120.93 L2420.67 1120.93 L2420.67 1120.93  Z\" fill=\"#009af9\" fill-rule=\"evenodd\" fill-opacity=\"1\"/>\n",
       "<polyline clip-path=\"url(#clip883)\" style=\"stroke:#000000; stroke-linecap:round; stroke-linejoin:round; stroke-width:4; stroke-opacity:1; fill:none\" points=\"2420.67,1120.93 2420.67,1431.73 2486.96,1431.73 2486.96,1120.93 2420.67,1120.93 \"/>\n",
       "<path clip-path=\"url(#clip883)\" d=\"M2486.96 1092.67 L2486.96 1431.73 L2553.25 1431.73 L2553.25 1092.67 L2486.96 1092.67 L2486.96 1092.67  Z\" fill=\"#009af9\" fill-rule=\"evenodd\" fill-opacity=\"1\"/>\n",
       "<polyline clip-path=\"url(#clip883)\" style=\"stroke:#000000; stroke-linecap:round; stroke-linejoin:round; stroke-width:4; stroke-opacity:1; fill:none\" points=\"2486.96,1092.67 2486.96,1431.73 2553.25,1431.73 2553.25,1092.67 2486.96,1092.67 \"/>\n",
       "<path clip-path=\"url(#clip883)\" d=\"M2553.25 1318.71 L2553.25 1431.73 L2619.55 1431.73 L2619.55 1318.71 L2553.25 1318.71 L2553.25 1318.71  Z\" fill=\"#009af9\" fill-rule=\"evenodd\" fill-opacity=\"1\"/>\n",
       "<polyline clip-path=\"url(#clip883)\" style=\"stroke:#000000; stroke-linecap:round; stroke-linejoin:round; stroke-width:4; stroke-opacity:1; fill:none\" points=\"2553.25,1318.71 2553.25,1431.73 2619.55,1431.73 2619.55,1318.71 2553.25,1318.71 \"/>\n",
       "<path clip-path=\"url(#clip883)\" d=\"M2619.55 1431.73 L2619.55 1431.73 L2685.84 1431.73 L2685.84 1431.73 L2619.55 1431.73 L2619.55 1431.73  Z\" fill=\"#009af9\" fill-rule=\"evenodd\" fill-opacity=\"1\"/>\n",
       "<polyline clip-path=\"url(#clip883)\" style=\"stroke:#000000; stroke-linecap:round; stroke-linejoin:round; stroke-width:4; stroke-opacity:1; fill:none\" points=\"2619.55,1431.73 2619.55,1431.73 2685.84,1431.73 2619.55,1431.73 \"/>\n",
       "<path clip-path=\"url(#clip883)\" d=\"M2685.84 1318.71 L2685.84 1431.73 L2752.13 1431.73 L2752.13 1318.71 L2685.84 1318.71 L2685.84 1318.71  Z\" fill=\"#009af9\" fill-rule=\"evenodd\" fill-opacity=\"1\"/>\n",
       "<polyline clip-path=\"url(#clip883)\" style=\"stroke:#000000; stroke-linecap:round; stroke-linejoin:round; stroke-width:4; stroke-opacity:1; fill:none\" points=\"2685.84,1318.71 2685.84,1431.73 2752.13,1431.73 2752.13,1318.71 2685.84,1318.71 \"/>\n",
       "<path clip-path=\"url(#clip883)\" d=\"M2752.13 1431.73 L2752.13 1431.73 L2818.43 1431.73 L2818.43 1431.73 L2752.13 1431.73 L2752.13 1431.73  Z\" fill=\"#009af9\" fill-rule=\"evenodd\" fill-opacity=\"1\"/>\n",
       "<polyline clip-path=\"url(#clip883)\" style=\"stroke:#000000; stroke-linecap:round; stroke-linejoin:round; stroke-width:4; stroke-opacity:1; fill:none\" points=\"2752.13,1431.73 2752.13,1431.73 2818.43,1431.73 2752.13,1431.73 \"/>\n",
       "<path clip-path=\"url(#clip883)\" d=\"M2818.43 1431.73 L2818.43 1431.73 L2884.72 1431.73 L2884.72 1431.73 L2818.43 1431.73 L2818.43 1431.73  Z\" fill=\"#009af9\" fill-rule=\"evenodd\" fill-opacity=\"1\"/>\n",
       "<polyline clip-path=\"url(#clip883)\" style=\"stroke:#000000; stroke-linecap:round; stroke-linejoin:round; stroke-width:4; stroke-opacity:1; fill:none\" points=\"2818.43,1431.73 2818.43,1431.73 2884.72,1431.73 2818.43,1431.73 \"/>\n",
       "<path clip-path=\"url(#clip883)\" d=\"M2884.72 1403.47 L2884.72 1431.73 L2951.01 1431.73 L2951.01 1403.47 L2884.72 1403.47 L2884.72 1403.47  Z\" fill=\"#009af9\" fill-rule=\"evenodd\" fill-opacity=\"1\"/>\n",
       "<polyline clip-path=\"url(#clip883)\" style=\"stroke:#000000; stroke-linecap:round; stroke-linejoin:round; stroke-width:4; stroke-opacity:1; fill:none\" points=\"2884.72,1403.47 2884.72,1431.73 2951.01,1431.73 2951.01,1403.47 2884.72,1403.47 \"/>\n",
       "<circle clip-path=\"url(#clip883)\" style=\"fill:#009af9; stroke:none; fill-opacity:0\" cx=\"1790.88\" cy=\"1375.22\" r=\"2\"/>\n",
       "<circle clip-path=\"url(#clip883)\" style=\"fill:#009af9; stroke:none; fill-opacity:0\" cx=\"1857.18\" cy=\"1318.71\" r=\"2\"/>\n",
       "<circle clip-path=\"url(#clip883)\" style=\"fill:#009af9; stroke:none; fill-opacity:0\" cx=\"1923.47\" cy=\"1205.69\" r=\"2\"/>\n",
       "<circle clip-path=\"url(#clip883)\" style=\"fill:#009af9; stroke:none; fill-opacity:0\" cx=\"1989.76\" cy=\"838.378\" r=\"2\"/>\n",
       "<circle clip-path=\"url(#clip883)\" style=\"fill:#009af9; stroke:none; fill-opacity:0\" cx=\"2056.06\" cy=\"781.868\" r=\"2\"/>\n",
       "<circle clip-path=\"url(#clip883)\" style=\"fill:#009af9; stroke:none; fill-opacity:0\" cx=\"2122.35\" cy=\"47.2441\" r=\"2\"/>\n",
       "<circle clip-path=\"url(#clip883)\" style=\"fill:#009af9; stroke:none; fill-opacity:0\" cx=\"2188.64\" cy=\"103.754\" r=\"2\"/>\n",
       "<circle clip-path=\"url(#clip883)\" style=\"fill:#009af9; stroke:none; fill-opacity:0\" cx=\"2254.94\" cy=\"75.4989\" r=\"2\"/>\n",
       "<circle clip-path=\"url(#clip883)\" style=\"fill:#009af9; stroke:none; fill-opacity:0\" cx=\"2321.23\" cy=\"471.066\" r=\"2\"/>\n",
       "<circle clip-path=\"url(#clip883)\" style=\"fill:#009af9; stroke:none; fill-opacity:0\" cx=\"2387.52\" cy=\"527.575\" r=\"2\"/>\n",
       "<circle clip-path=\"url(#clip883)\" style=\"fill:#009af9; stroke:none; fill-opacity:0\" cx=\"2453.81\" cy=\"1120.93\" r=\"2\"/>\n",
       "<circle clip-path=\"url(#clip883)\" style=\"fill:#009af9; stroke:none; fill-opacity:0\" cx=\"2520.11\" cy=\"1092.67\" r=\"2\"/>\n",
       "<circle clip-path=\"url(#clip883)\" style=\"fill:#009af9; stroke:none; fill-opacity:0\" cx=\"2586.4\" cy=\"1318.71\" r=\"2\"/>\n",
       "<circle clip-path=\"url(#clip883)\" style=\"fill:#009af9; stroke:none; fill-opacity:0\" cx=\"2652.69\" cy=\"1431.73\" r=\"2\"/>\n",
       "<circle clip-path=\"url(#clip883)\" style=\"fill:#009af9; stroke:none; fill-opacity:0\" cx=\"2718.99\" cy=\"1318.71\" r=\"2\"/>\n",
       "<circle clip-path=\"url(#clip883)\" style=\"fill:#009af9; stroke:none; fill-opacity:0\" cx=\"2785.28\" cy=\"1431.73\" r=\"2\"/>\n",
       "<circle clip-path=\"url(#clip883)\" style=\"fill:#009af9; stroke:none; fill-opacity:0\" cx=\"2851.57\" cy=\"1431.73\" r=\"2\"/>\n",
       "<circle clip-path=\"url(#clip883)\" style=\"fill:#009af9; stroke:none; fill-opacity:0\" cx=\"2917.87\" cy=\"1403.47\" r=\"2\"/>\n",
       "<path clip-path=\"url(#clip880)\" d=\"M2674.08 197.074 L2980.06 197.074 L2980.06 93.3936 L2674.08 93.3936  Z\" fill=\"#ffffff\" fill-rule=\"evenodd\" fill-opacity=\"1\"/>\n",
       "<polyline clip-path=\"url(#clip880)\" style=\"stroke:#000000; stroke-linecap:round; stroke-linejoin:round; stroke-width:4; stroke-opacity:1; fill:none\" points=\"2674.08,197.074 2980.06,197.074 2980.06,93.3936 2674.08,93.3936 2674.08,197.074 \"/>\n",
       "<path clip-path=\"url(#clip880)\" d=\"M2688.98 165.97 L2778.36 165.97 L2778.36 124.498 L2688.98 124.498 L2688.98 165.97  Z\" fill=\"#009af9\" fill-rule=\"evenodd\" fill-opacity=\"1\"/>\n",
       "<polyline clip-path=\"url(#clip880)\" style=\"stroke:#000000; stroke-linecap:round; stroke-linejoin:round; stroke-width:4; stroke-opacity:1; fill:none\" points=\"2688.98,165.97 2778.36,165.97 2778.36,124.498 2688.98,124.498 2688.98,165.97 \"/>\n",
       "<path clip-path=\"url(#clip880)\" d=\"M2797.94 117.626 L2797.94 130.612 L2803.82 130.612 Q2807.08 130.612 2808.86 128.922 Q2810.65 127.232 2810.65 124.107 Q2810.65 121.005 2808.86 119.315 Q2807.08 117.626 2803.82 117.626 L2797.94 117.626 M2793.26 113.783 L2803.82 113.783 Q2809.63 113.783 2812.59 116.422 Q2815.58 119.038 2815.58 124.107 Q2815.58 129.223 2812.59 131.838 Q2809.63 134.454 2803.82 134.454 L2797.94 134.454 L2797.94 148.343 L2793.26 148.343 L2793.26 113.783 Z\" fill=\"#000000\" fill-rule=\"nonzero\" fill-opacity=\"1\" /><path clip-path=\"url(#clip880)\" d=\"M2835.85 126.399 Q2835.14 125.982 2834.28 125.797 Q2833.45 125.588 2832.43 125.588 Q2828.82 125.588 2826.87 127.95 Q2824.95 130.287 2824.95 134.686 L2824.95 148.343 L2820.67 148.343 L2820.67 122.417 L2824.95 122.417 L2824.95 126.445 Q2826.29 124.084 2828.45 122.95 Q2830.6 121.792 2833.68 121.792 Q2834.12 121.792 2834.65 121.862 Q2835.18 121.908 2835.83 122.024 L2835.85 126.399 Z\" fill=\"#000000\" fill-rule=\"nonzero\" fill-opacity=\"1\" /><path clip-path=\"url(#clip880)\" d=\"M2861.46 134.315 L2861.46 136.399 L2841.87 136.399 Q2842.15 140.797 2844.51 143.112 Q2846.9 145.403 2851.13 145.403 Q2853.59 145.403 2855.88 144.801 Q2858.19 144.199 2860.46 142.996 L2860.46 147.024 Q2858.17 147.996 2855.76 148.505 Q2853.35 149.014 2850.88 149.014 Q2844.67 149.014 2841.04 145.403 Q2837.43 141.792 2837.43 135.635 Q2837.43 129.269 2840.85 125.542 Q2844.3 121.792 2850.14 121.792 Q2855.37 121.792 2858.4 125.172 Q2861.46 128.528 2861.46 134.315 M2857.2 133.065 Q2857.15 129.57 2855.23 127.487 Q2853.33 125.403 2850.18 125.403 Q2846.62 125.403 2844.47 127.417 Q2842.34 129.431 2842.01 133.088 L2857.2 133.065 Z\" fill=\"#000000\" fill-rule=\"nonzero\" fill-opacity=\"1\" /><path clip-path=\"url(#clip880)\" d=\"M2885.51 126.352 L2885.51 112.325 L2889.77 112.325 L2889.77 148.343 L2885.51 148.343 L2885.51 144.454 Q2884.16 146.769 2882.1 147.903 Q2880.07 149.014 2877.2 149.014 Q2872.5 149.014 2869.53 145.264 Q2866.6 141.514 2866.6 135.403 Q2866.6 129.292 2869.53 125.542 Q2872.5 121.792 2877.2 121.792 Q2880.07 121.792 2882.1 122.926 Q2884.16 124.038 2885.51 126.352 M2870.99 135.403 Q2870.99 140.102 2872.91 142.787 Q2874.86 145.449 2878.24 145.449 Q2881.62 145.449 2883.56 142.787 Q2885.51 140.102 2885.51 135.403 Q2885.51 130.704 2883.56 128.042 Q2881.62 125.357 2878.24 125.357 Q2874.86 125.357 2872.91 128.042 Q2870.99 130.704 2870.99 135.403 Z\" fill=\"#000000\" fill-rule=\"nonzero\" fill-opacity=\"1\" /><path clip-path=\"url(#clip880)\" d=\"M2899.14 142.463 L2904.03 142.463 L2904.03 148.343 L2899.14 148.343 L2899.14 142.463 Z\" fill=\"#000000\" fill-rule=\"nonzero\" fill-opacity=\"1\" /><path clip-path=\"url(#clip880)\" d=\"M2942.69 142.792 Q2942.88 143.003 2942.88 143.213 Q2942.88 143.424 2942.41 144.033 Q2941.96 144.642 2941 145.462 Q2940.04 146.282 2938.8 147.055 Q2937.56 147.828 2935.73 148.343 Q2933.91 148.882 2931.99 148.882 Q2928.4 148.882 2926.3 146.516 Q2924.21 144.15 2924.21 140.754 Q2924.21 137.452 2926.06 134.289 Q2927.91 131.104 2930.91 129.137 Q2933.91 127.146 2937.07 127.146 Q2939.58 127.146 2941.14 128.317 Q2942.71 129.488 2942.71 131.268 Q2942.71 132.65 2941.92 133.493 Q2941.12 134.336 2940.04 134.336 Q2939.29 134.336 2938.78 133.915 Q2938.26 133.47 2938.26 132.65 Q2938.26 131.596 2939.13 130.776 Q2939.46 130.448 2939.83 130.308 Q2940.23 130.144 2940.47 130.144 Q2940.7 130.12 2941.24 130.12 Q2940.75 129.207 2939.58 128.715 Q2938.43 128.2 2937.12 128.2 Q2935.17 128.2 2933.32 129.558 Q2931.47 130.893 2930.35 133.001 Q2929.22 135.062 2928.5 137.99 Q2927.77 140.895 2927.77 142.581 Q2927.77 144.9 2928.85 146.352 Q2929.93 147.804 2932.08 147.804 Q2932.5 147.804 2932.95 147.781 Q2933.42 147.757 2934.59 147.5 Q2935.78 147.242 2936.84 146.797 Q2937.89 146.352 2939.22 145.392 Q2940.58 144.408 2941.66 143.073 Q2942.03 142.581 2942.29 142.581 Q2942.5 142.581 2942.69 142.792 Z\" fill=\"#000000\" fill-rule=\"nonzero\" fill-opacity=\"1\" /><path clip-path=\"url(#clip880)\" d=\"M2960.17 153.249 Q2960.17 155.61 2958.98 157.922 Q2957.8 160.218 2955.89 161.66 Q2954.01 163.103 2952.07 163.103 Q2950.19 163.103 2948.99 161.66 Q2947.81 160.201 2947.81 157.824 Q2947.81 156.988 2947.91 156.397 Q2948.01 155.807 2948.35 154.43 L2951.11 143.478 Q2951.58 141.428 2951.58 141.412 Q2951.58 141.215 2951.5 141.117 Q2951.43 141.002 2951.04 140.92 Q2950.65 140.838 2949.89 140.838 Q2949.58 140.838 2949.43 140.821 Q2949.3 140.805 2949.19 140.723 Q2949.09 140.625 2949.09 140.428 Q2949.09 140.149 2949.2 140.002 Q2949.34 139.838 2949.43 139.805 Q2949.53 139.772 2949.73 139.756 Q2950.01 139.739 2950.94 139.657 Q2951.88 139.559 2952.68 139.493 Q2953.48 139.428 2953.83 139.428 Q2954.02 139.428 2954.12 139.526 Q2954.24 139.608 2954.24 139.707 L2954.25 139.789 L2951.78 149.905 Q2953.73 147.888 2955.71 147.888 Q2957.7 147.888 2958.93 149.413 Q2960.17 150.938 2960.17 153.249 M2957.75 151.774 Q2957.75 150.216 2957.16 149.429 Q2956.58 148.626 2955.63 148.626 Q2954.83 148.626 2953.78 149.232 Q2952.73 149.839 2951.61 151.315 Q2951.4 151.593 2951.32 151.757 Q2951.25 151.921 2951.11 152.479 L2950.37 155.578 Q2949.83 157.693 2949.83 158.972 Q2949.83 160.709 2950.47 161.529 Q2951.11 162.349 2952.07 162.349 Q2953.09 162.349 2954.16 161.447 Q2955.22 160.546 2956.04 158.906 Q2956.55 157.824 2957.14 155.496 Q2957.75 153.151 2957.75 151.774 Z\" fill=\"#000000\" fill-rule=\"nonzero\" fill-opacity=\"1\" /></svg>\n"
      ],
      "text/html": [
       "<?xml version=\"1.0\" encoding=\"utf-8\"?>\n",
       "<svg xmlns=\"http://www.w3.org/2000/svg\" xmlns:xlink=\"http://www.w3.org/1999/xlink\" width=\"768\" height=\"384\" viewBox=\"0 0 3072 1536\">\n",
       "<defs>\n",
       "  <clipPath id=\"clip930\">\n",
       "    <rect x=\"0\" y=\"0\" width=\"3072\" height=\"1536\"/>\n",
       "  </clipPath>\n",
       "</defs>\n",
       "<path clip-path=\"url(#clip930)\" d=\"M0 1536 L3072 1536 L3072 0 L0 0  Z\" fill=\"#ffffff\" fill-rule=\"evenodd\" fill-opacity=\"1\"/>\n",
       "<defs>\n",
       "  <clipPath id=\"clip931\">\n",
       "    <rect x=\"614\" y=\"0\" width=\"2151\" height=\"1536\"/>\n",
       "  </clipPath>\n",
       "</defs>\n",
       "<path clip-path=\"url(#clip930)\" d=\"M147.416 1431.73 L1488.18 1431.73 L1488.18 47.2441 L147.416 47.2441  Z\" fill=\"#ffffff\" fill-rule=\"evenodd\" fill-opacity=\"1\"/>\n",
       "<defs>\n",
       "  <clipPath id=\"clip932\">\n",
       "    <rect x=\"147\" y=\"47\" width=\"1342\" height=\"1385\"/>\n",
       "  </clipPath>\n",
       "</defs>\n",
       "<polyline clip-path=\"url(#clip932)\" style=\"stroke:#000000; stroke-linecap:round; stroke-linejoin:round; stroke-width:2; stroke-opacity:0.1; fill:none\" points=\"316.622,1431.73 316.622,47.2441 \"/>\n",
       "<polyline clip-path=\"url(#clip932)\" style=\"stroke:#000000; stroke-linecap:round; stroke-linejoin:round; stroke-width:2; stroke-opacity:0.1; fill:none\" points=\"555.276,1431.73 555.276,47.2441 \"/>\n",
       "<polyline clip-path=\"url(#clip932)\" style=\"stroke:#000000; stroke-linecap:round; stroke-linejoin:round; stroke-width:2; stroke-opacity:0.1; fill:none\" points=\"793.931,1431.73 793.931,47.2441 \"/>\n",
       "<polyline clip-path=\"url(#clip932)\" style=\"stroke:#000000; stroke-linecap:round; stroke-linejoin:round; stroke-width:2; stroke-opacity:0.1; fill:none\" points=\"1032.59,1431.73 1032.59,47.2441 \"/>\n",
       "<polyline clip-path=\"url(#clip932)\" style=\"stroke:#000000; stroke-linecap:round; stroke-linejoin:round; stroke-width:2; stroke-opacity:0.1; fill:none\" points=\"1271.24,1431.73 1271.24,47.2441 \"/>\n",
       "<polyline clip-path=\"url(#clip930)\" style=\"stroke:#000000; stroke-linecap:round; stroke-linejoin:round; stroke-width:4; stroke-opacity:1; fill:none\" points=\"147.416,1431.73 1488.18,1431.73 \"/>\n",
       "<polyline clip-path=\"url(#clip930)\" style=\"stroke:#000000; stroke-linecap:round; stroke-linejoin:round; stroke-width:4; stroke-opacity:1; fill:none\" points=\"316.622,1431.73 316.622,1412.83 \"/>\n",
       "<polyline clip-path=\"url(#clip930)\" style=\"stroke:#000000; stroke-linecap:round; stroke-linejoin:round; stroke-width:4; stroke-opacity:1; fill:none\" points=\"555.276,1431.73 555.276,1412.83 \"/>\n",
       "<polyline clip-path=\"url(#clip930)\" style=\"stroke:#000000; stroke-linecap:round; stroke-linejoin:round; stroke-width:4; stroke-opacity:1; fill:none\" points=\"793.931,1431.73 793.931,1412.83 \"/>\n",
       "<polyline clip-path=\"url(#clip930)\" style=\"stroke:#000000; stroke-linecap:round; stroke-linejoin:round; stroke-width:4; stroke-opacity:1; fill:none\" points=\"1032.59,1431.73 1032.59,1412.83 \"/>\n",
       "<polyline clip-path=\"url(#clip930)\" style=\"stroke:#000000; stroke-linecap:round; stroke-linejoin:round; stroke-width:4; stroke-opacity:1; fill:none\" points=\"1271.24,1431.73 1271.24,1412.83 \"/>\n",
       "<path clip-path=\"url(#clip930)\" d=\"M272.779 1495.57 L289.099 1495.57 L289.099 1499.5 L267.154 1499.5 L267.154 1495.57 Q269.816 1492.81 274.4 1488.18 Q279.006 1483.53 280.187 1482.19 Q282.432 1479.67 283.312 1477.93 Q284.214 1476.17 284.214 1474.48 Q284.214 1471.73 282.27 1469.99 Q280.349 1468.25 277.247 1468.25 Q275.048 1468.25 272.594 1469.02 Q270.164 1469.78 267.386 1471.33 L267.386 1466.61 Q270.21 1465.48 272.664 1464.9 Q275.117 1464.32 277.154 1464.32 Q282.525 1464.32 285.719 1467 Q288.913 1469.69 288.913 1474.18 Q288.913 1476.31 288.103 1478.23 Q287.316 1480.13 285.21 1482.72 Q284.631 1483.39 281.529 1486.61 Q278.427 1489.8 272.779 1495.57 Z\" fill=\"#000000\" fill-rule=\"nonzero\" fill-opacity=\"1\" /><path clip-path=\"url(#clip930)\" d=\"M308.913 1468.02 Q305.302 1468.02 303.474 1471.59 Q301.668 1475.13 301.668 1482.26 Q301.668 1489.37 303.474 1492.93 Q305.302 1496.47 308.913 1496.47 Q312.548 1496.47 314.353 1492.93 Q316.182 1489.37 316.182 1482.26 Q316.182 1475.13 314.353 1471.59 Q312.548 1468.02 308.913 1468.02 M308.913 1464.32 Q314.724 1464.32 317.779 1468.93 Q320.858 1473.51 320.858 1482.26 Q320.858 1490.99 317.779 1495.59 Q314.724 1500.18 308.913 1500.18 Q303.103 1500.18 300.025 1495.59 Q296.969 1490.99 296.969 1482.26 Q296.969 1473.51 300.025 1468.93 Q303.103 1464.32 308.913 1464.32 Z\" fill=\"#000000\" fill-rule=\"nonzero\" fill-opacity=\"1\" /><path clip-path=\"url(#clip930)\" d=\"M329.075 1493.62 L333.96 1493.62 L333.96 1499.5 L329.075 1499.5 L329.075 1493.62 Z\" fill=\"#000000\" fill-rule=\"nonzero\" fill-opacity=\"1\" /><path clip-path=\"url(#clip930)\" d=\"M354.145 1468.02 Q350.534 1468.02 348.705 1471.59 Q346.899 1475.13 346.899 1482.26 Q346.899 1489.37 348.705 1492.93 Q350.534 1496.47 354.145 1496.47 Q357.779 1496.47 359.584 1492.93 Q361.413 1489.37 361.413 1482.26 Q361.413 1475.13 359.584 1471.59 Q357.779 1468.02 354.145 1468.02 M354.145 1464.32 Q359.955 1464.32 363.01 1468.93 Q366.089 1473.51 366.089 1482.26 Q366.089 1490.99 363.01 1495.59 Q359.955 1500.18 354.145 1500.18 Q348.334 1500.18 345.256 1495.59 Q342.2 1490.99 342.2 1482.26 Q342.2 1473.51 345.256 1468.93 Q348.334 1464.32 354.145 1464.32 Z\" fill=\"#000000\" fill-rule=\"nonzero\" fill-opacity=\"1\" /><path clip-path=\"url(#clip930)\" d=\"M511.932 1495.57 L528.251 1495.57 L528.251 1499.5 L506.307 1499.5 L506.307 1495.57 Q508.969 1492.81 513.552 1488.18 Q518.158 1483.53 519.339 1482.19 Q521.584 1479.67 522.464 1477.93 Q523.367 1476.17 523.367 1474.48 Q523.367 1471.73 521.422 1469.99 Q519.501 1468.25 516.399 1468.25 Q514.2 1468.25 511.746 1469.02 Q509.316 1469.78 506.538 1471.33 L506.538 1466.61 Q509.362 1465.48 511.816 1464.9 Q514.27 1464.32 516.307 1464.32 Q521.677 1464.32 524.871 1467 Q528.066 1469.69 528.066 1474.18 Q528.066 1476.31 527.256 1478.23 Q526.469 1480.13 524.362 1482.72 Q523.783 1483.39 520.682 1486.61 Q517.58 1489.8 511.932 1495.57 Z\" fill=\"#000000\" fill-rule=\"nonzero\" fill-opacity=\"1\" /><path clip-path=\"url(#clip930)\" d=\"M542.093 1495.57 L558.413 1495.57 L558.413 1499.5 L536.469 1499.5 L536.469 1495.57 Q539.131 1492.81 543.714 1488.18 Q548.32 1483.53 549.501 1482.19 Q551.746 1479.67 552.626 1477.93 Q553.529 1476.17 553.529 1474.48 Q553.529 1471.73 551.584 1469.99 Q549.663 1468.25 546.561 1468.25 Q544.362 1468.25 541.908 1469.02 Q539.478 1469.78 536.7 1471.33 L536.7 1466.61 Q539.524 1465.48 541.978 1464.9 Q544.431 1464.32 546.468 1464.32 Q551.839 1464.32 555.033 1467 Q558.228 1469.69 558.228 1474.18 Q558.228 1476.31 557.417 1478.23 Q556.63 1480.13 554.524 1482.72 Q553.945 1483.39 550.843 1486.61 Q547.742 1489.8 542.093 1495.57 Z\" fill=\"#000000\" fill-rule=\"nonzero\" fill-opacity=\"1\" /><path clip-path=\"url(#clip930)\" d=\"M568.228 1493.62 L573.112 1493.62 L573.112 1499.5 L568.228 1499.5 L568.228 1493.62 Z\" fill=\"#000000\" fill-rule=\"nonzero\" fill-opacity=\"1\" /><path clip-path=\"url(#clip930)\" d=\"M583.343 1464.94 L601.7 1464.94 L601.7 1468.88 L587.626 1468.88 L587.626 1477.35 Q588.644 1477 589.663 1476.84 Q590.681 1476.66 591.7 1476.66 Q597.487 1476.66 600.866 1479.83 Q604.246 1483 604.246 1488.42 Q604.246 1493.99 600.774 1497.1 Q597.302 1500.18 590.982 1500.18 Q588.806 1500.18 586.538 1499.8 Q584.292 1499.43 581.885 1498.69 L581.885 1493.99 Q583.968 1495.13 586.19 1495.68 Q588.413 1496.24 590.89 1496.24 Q594.894 1496.24 597.232 1494.13 Q599.57 1492.03 599.57 1488.42 Q599.57 1484.8 597.232 1482.7 Q594.894 1480.59 590.89 1480.59 Q589.015 1480.59 587.14 1481.01 Q585.288 1481.43 583.343 1482.3 L583.343 1464.94 Z\" fill=\"#000000\" fill-rule=\"nonzero\" fill-opacity=\"1\" /><path clip-path=\"url(#clip930)\" d=\"M750.089 1495.57 L766.408 1495.57 L766.408 1499.5 L744.464 1499.5 L744.464 1495.57 Q747.126 1492.81 751.709 1488.18 Q756.315 1483.53 757.496 1482.19 Q759.741 1479.67 760.621 1477.93 Q761.524 1476.17 761.524 1474.48 Q761.524 1471.73 759.579 1469.99 Q757.658 1468.25 754.556 1468.25 Q752.357 1468.25 749.903 1469.02 Q747.473 1469.78 744.695 1471.33 L744.695 1466.61 Q747.519 1465.48 749.973 1464.9 Q752.427 1464.32 754.464 1464.32 Q759.834 1464.32 763.028 1467 Q766.223 1469.69 766.223 1474.18 Q766.223 1476.31 765.413 1478.23 Q764.626 1480.13 762.519 1482.72 Q761.94 1483.39 758.839 1486.61 Q755.737 1489.8 750.089 1495.57 Z\" fill=\"#000000\" fill-rule=\"nonzero\" fill-opacity=\"1\" /><path clip-path=\"url(#clip930)\" d=\"M776.269 1464.94 L794.625 1464.94 L794.625 1468.88 L780.551 1468.88 L780.551 1477.35 Q781.57 1477 782.588 1476.84 Q783.607 1476.66 784.625 1476.66 Q790.412 1476.66 793.792 1479.83 Q797.172 1483 797.172 1488.42 Q797.172 1493.99 793.699 1497.1 Q790.227 1500.18 783.908 1500.18 Q781.732 1500.18 779.463 1499.8 Q777.218 1499.43 774.811 1498.69 L774.811 1493.99 Q776.894 1495.13 779.116 1495.68 Q781.338 1496.24 783.815 1496.24 Q787.82 1496.24 790.158 1494.13 Q792.496 1492.03 792.496 1488.42 Q792.496 1484.8 790.158 1482.7 Q787.82 1480.59 783.815 1480.59 Q781.94 1480.59 780.065 1481.01 Q778.213 1481.43 776.269 1482.3 L776.269 1464.94 Z\" fill=\"#000000\" fill-rule=\"nonzero\" fill-opacity=\"1\" /><path clip-path=\"url(#clip930)\" d=\"M806.385 1493.62 L811.269 1493.62 L811.269 1499.5 L806.385 1499.5 L806.385 1493.62 Z\" fill=\"#000000\" fill-rule=\"nonzero\" fill-opacity=\"1\" /><path clip-path=\"url(#clip930)\" d=\"M831.454 1468.02 Q827.843 1468.02 826.014 1471.59 Q824.209 1475.13 824.209 1482.26 Q824.209 1489.37 826.014 1492.93 Q827.843 1496.47 831.454 1496.47 Q835.088 1496.47 836.894 1492.93 Q838.722 1489.37 838.722 1482.26 Q838.722 1475.13 836.894 1471.59 Q835.088 1468.02 831.454 1468.02 M831.454 1464.32 Q837.264 1464.32 840.32 1468.93 Q843.398 1473.51 843.398 1482.26 Q843.398 1490.99 840.32 1495.59 Q837.264 1500.18 831.454 1500.18 Q825.644 1500.18 822.565 1495.59 Q819.509 1490.99 819.509 1482.26 Q819.509 1473.51 822.565 1468.93 Q825.644 1464.32 831.454 1464.32 Z\" fill=\"#000000\" fill-rule=\"nonzero\" fill-opacity=\"1\" /><path clip-path=\"url(#clip930)\" d=\"M989.241 1495.57 L1005.56 1495.57 L1005.56 1499.5 L983.616 1499.5 L983.616 1495.57 Q986.278 1492.81 990.861 1488.18 Q995.468 1483.53 996.648 1482.19 Q998.894 1479.67 999.773 1477.93 Q1000.68 1476.17 1000.68 1474.48 Q1000.68 1471.73 998.732 1469.99 Q996.81 1468.25 993.708 1468.25 Q991.509 1468.25 989.056 1469.02 Q986.625 1469.78 983.847 1471.33 L983.847 1466.61 Q986.671 1465.48 989.125 1464.9 Q991.579 1464.32 993.616 1464.32 Q998.986 1464.32 1002.18 1467 Q1005.38 1469.69 1005.38 1474.18 Q1005.38 1476.31 1004.56 1478.23 Q1003.78 1480.13 1001.67 1482.72 Q1001.09 1483.39 997.991 1486.61 Q994.889 1489.8 989.241 1495.57 Z\" fill=\"#000000\" fill-rule=\"nonzero\" fill-opacity=\"1\" /><path clip-path=\"url(#clip930)\" d=\"M1014.19 1464.94 L1036.42 1464.94 L1036.42 1466.93 L1023.87 1499.5 L1018.99 1499.5 L1030.79 1468.88 L1014.19 1468.88 L1014.19 1464.94 Z\" fill=\"#000000\" fill-rule=\"nonzero\" fill-opacity=\"1\" /><path clip-path=\"url(#clip930)\" d=\"M1045.54 1493.62 L1050.42 1493.62 L1050.42 1499.5 L1045.54 1499.5 L1045.54 1493.62 Z\" fill=\"#000000\" fill-rule=\"nonzero\" fill-opacity=\"1\" /><path clip-path=\"url(#clip930)\" d=\"M1060.65 1464.94 L1079.01 1464.94 L1079.01 1468.88 L1064.93 1468.88 L1064.93 1477.35 Q1065.95 1477 1066.97 1476.84 Q1067.99 1476.66 1069.01 1476.66 Q1074.8 1476.66 1078.18 1479.83 Q1081.56 1483 1081.56 1488.42 Q1081.56 1493.99 1078.08 1497.1 Q1074.61 1500.18 1068.29 1500.18 Q1066.12 1500.18 1063.85 1499.8 Q1061.6 1499.43 1059.19 1498.69 L1059.19 1493.99 Q1061.28 1495.13 1063.5 1495.68 Q1065.72 1496.24 1068.2 1496.24 Q1072.2 1496.24 1074.54 1494.13 Q1076.88 1492.03 1076.88 1488.42 Q1076.88 1484.8 1074.54 1482.7 Q1072.2 1480.59 1068.2 1480.59 Q1066.32 1480.59 1064.45 1481.01 Q1062.6 1481.43 1060.65 1482.3 L1060.65 1464.94 Z\" fill=\"#000000\" fill-rule=\"nonzero\" fill-opacity=\"1\" /><path clip-path=\"url(#clip930)\" d=\"M1237.47 1480.87 Q1240.82 1481.59 1242.7 1483.86 Q1244.6 1486.12 1244.6 1489.46 Q1244.6 1494.57 1241.08 1497.37 Q1237.56 1500.18 1231.08 1500.18 Q1228.9 1500.18 1226.59 1499.74 Q1224.3 1499.32 1221.84 1498.46 L1221.84 1493.95 Q1223.79 1495.08 1226.1 1495.66 Q1228.42 1496.24 1230.94 1496.24 Q1235.34 1496.24 1237.63 1494.5 Q1239.94 1492.77 1239.94 1489.46 Q1239.94 1486.4 1237.79 1484.69 Q1235.66 1482.95 1231.84 1482.95 L1227.81 1482.95 L1227.81 1479.11 L1232.03 1479.11 Q1235.48 1479.11 1237.31 1477.74 Q1239.13 1476.36 1239.13 1473.76 Q1239.13 1471.1 1237.24 1469.69 Q1235.36 1468.25 1231.84 1468.25 Q1229.92 1468.25 1227.72 1468.67 Q1225.52 1469.09 1222.88 1469.97 L1222.88 1465.8 Q1225.55 1465.06 1227.86 1464.69 Q1230.2 1464.32 1232.26 1464.32 Q1237.58 1464.32 1240.68 1466.75 Q1243.79 1469.16 1243.79 1473.28 Q1243.79 1476.15 1242.14 1478.14 Q1240.5 1480.11 1237.47 1480.87 Z\" fill=\"#000000\" fill-rule=\"nonzero\" fill-opacity=\"1\" /><path clip-path=\"url(#clip930)\" d=\"M1263.46 1468.02 Q1259.85 1468.02 1258.02 1471.59 Q1256.22 1475.13 1256.22 1482.26 Q1256.22 1489.37 1258.02 1492.93 Q1259.85 1496.47 1263.46 1496.47 Q1267.1 1496.47 1268.9 1492.93 Q1270.73 1489.37 1270.73 1482.26 Q1270.73 1475.13 1268.9 1471.59 Q1267.1 1468.02 1263.46 1468.02 M1263.46 1464.32 Q1269.27 1464.32 1272.33 1468.93 Q1275.41 1473.51 1275.41 1482.26 Q1275.41 1490.99 1272.33 1495.59 Q1269.27 1500.18 1263.46 1500.18 Q1257.65 1500.18 1254.57 1495.59 Q1251.52 1490.99 1251.52 1482.26 Q1251.52 1473.51 1254.57 1468.93 Q1257.65 1464.32 1263.46 1464.32 Z\" fill=\"#000000\" fill-rule=\"nonzero\" fill-opacity=\"1\" /><path clip-path=\"url(#clip930)\" d=\"M1283.62 1493.62 L1288.51 1493.62 L1288.51 1499.5 L1283.62 1499.5 L1283.62 1493.62 Z\" fill=\"#000000\" fill-rule=\"nonzero\" fill-opacity=\"1\" /><path clip-path=\"url(#clip930)\" d=\"M1308.69 1468.02 Q1305.08 1468.02 1303.25 1471.59 Q1301.45 1475.13 1301.45 1482.26 Q1301.45 1489.37 1303.25 1492.93 Q1305.08 1496.47 1308.69 1496.47 Q1312.33 1496.47 1314.13 1492.93 Q1315.96 1489.37 1315.96 1482.26 Q1315.96 1475.13 1314.13 1471.59 Q1312.33 1468.02 1308.69 1468.02 M1308.69 1464.32 Q1314.5 1464.32 1317.56 1468.93 Q1320.64 1473.51 1320.64 1482.26 Q1320.64 1490.99 1317.56 1495.59 Q1314.5 1500.18 1308.69 1500.18 Q1302.88 1500.18 1299.8 1495.59 Q1296.75 1490.99 1296.75 1482.26 Q1296.75 1473.51 1299.8 1468.93 Q1302.88 1464.32 1308.69 1464.32 Z\" fill=\"#000000\" fill-rule=\"nonzero\" fill-opacity=\"1\" /><polyline clip-path=\"url(#clip932)\" style=\"stroke:#000000; stroke-linecap:round; stroke-linejoin:round; stroke-width:2; stroke-opacity:0.1; fill:none\" points=\"147.416,1431.73 1488.18,1431.73 \"/>\n",
       "<polyline clip-path=\"url(#clip932)\" style=\"stroke:#000000; stroke-linecap:round; stroke-linejoin:round; stroke-width:2; stroke-opacity:0.1; fill:none\" points=\"147.416,1175.34 1488.18,1175.34 \"/>\n",
       "<polyline clip-path=\"url(#clip932)\" style=\"stroke:#000000; stroke-linecap:round; stroke-linejoin:round; stroke-width:2; stroke-opacity:0.1; fill:none\" points=\"147.416,918.956 1488.18,918.956 \"/>\n",
       "<polyline clip-path=\"url(#clip932)\" style=\"stroke:#000000; stroke-linecap:round; stroke-linejoin:round; stroke-width:2; stroke-opacity:0.1; fill:none\" points=\"147.416,662.57 1488.18,662.57 \"/>\n",
       "<polyline clip-path=\"url(#clip932)\" style=\"stroke:#000000; stroke-linecap:round; stroke-linejoin:round; stroke-width:2; stroke-opacity:0.1; fill:none\" points=\"147.416,406.184 1488.18,406.184 \"/>\n",
       "<polyline clip-path=\"url(#clip932)\" style=\"stroke:#000000; stroke-linecap:round; stroke-linejoin:round; stroke-width:2; stroke-opacity:0.1; fill:none\" points=\"147.416,149.798 1488.18,149.798 \"/>\n",
       "<polyline clip-path=\"url(#clip930)\" style=\"stroke:#000000; stroke-linecap:round; stroke-linejoin:round; stroke-width:4; stroke-opacity:1; fill:none\" points=\"147.416,1431.73 147.416,47.2441 \"/>\n",
       "<polyline clip-path=\"url(#clip930)\" style=\"stroke:#000000; stroke-linecap:round; stroke-linejoin:round; stroke-width:4; stroke-opacity:1; fill:none\" points=\"147.416,1431.73 166.313,1431.73 \"/>\n",
       "<polyline clip-path=\"url(#clip930)\" style=\"stroke:#000000; stroke-linecap:round; stroke-linejoin:round; stroke-width:4; stroke-opacity:1; fill:none\" points=\"147.416,1175.34 166.313,1175.34 \"/>\n",
       "<polyline clip-path=\"url(#clip930)\" style=\"stroke:#000000; stroke-linecap:round; stroke-linejoin:round; stroke-width:4; stroke-opacity:1; fill:none\" points=\"147.416,918.956 166.313,918.956 \"/>\n",
       "<polyline clip-path=\"url(#clip930)\" style=\"stroke:#000000; stroke-linecap:round; stroke-linejoin:round; stroke-width:4; stroke-opacity:1; fill:none\" points=\"147.416,662.57 166.313,662.57 \"/>\n",
       "<polyline clip-path=\"url(#clip930)\" style=\"stroke:#000000; stroke-linecap:round; stroke-linejoin:round; stroke-width:4; stroke-opacity:1; fill:none\" points=\"147.416,406.184 166.313,406.184 \"/>\n",
       "<polyline clip-path=\"url(#clip930)\" style=\"stroke:#000000; stroke-linecap:round; stroke-linejoin:round; stroke-width:4; stroke-opacity:1; fill:none\" points=\"147.416,149.798 166.313,149.798 \"/>\n",
       "<path clip-path=\"url(#clip930)\" d=\"M89.3912 1417.53 Q85.7801 1417.53 83.9514 1421.09 Q82.1458 1424.63 82.1458 1431.76 Q82.1458 1438.87 83.9514 1442.43 Q85.7801 1445.98 89.3912 1445.98 Q93.0254 1445.98 94.8309 1442.43 Q96.6596 1438.87 96.6596 1431.76 Q96.6596 1424.63 94.8309 1421.09 Q93.0254 1417.53 89.3912 1417.53 M89.3912 1413.82 Q95.2013 1413.82 98.2569 1418.43 Q101.336 1423.01 101.336 1431.76 Q101.336 1440.49 98.2569 1445.1 Q95.2013 1449.68 89.3912 1449.68 Q83.581 1449.68 80.5023 1445.1 Q77.4468 1440.49 77.4468 1431.76 Q77.4468 1423.01 80.5023 1418.43 Q83.581 1413.82 89.3912 1413.82 Z\" fill=\"#000000\" fill-rule=\"nonzero\" fill-opacity=\"1\" /><path clip-path=\"url(#clip930)\" d=\"M80.4329 1158.06 L98.7893 1158.06 L98.7893 1162 L84.7153 1162 L84.7153 1170.47 Q85.7338 1170.12 86.7523 1169.96 Q87.7708 1169.77 88.7893 1169.77 Q94.5763 1169.77 97.9559 1172.95 Q101.336 1176.12 101.336 1181.53 Q101.336 1187.11 97.8633 1190.21 Q94.3911 1193.29 88.0717 1193.29 Q85.8958 1193.29 83.6273 1192.92 Q81.3819 1192.55 78.9746 1191.81 L78.9746 1187.11 Q81.0579 1188.25 83.2801 1188.8 Q85.5023 1189.36 87.9791 1189.36 Q91.9837 1189.36 94.3217 1187.25 Q96.6596 1185.15 96.6596 1181.53 Q96.6596 1177.92 94.3217 1175.82 Q91.9837 1173.71 87.9791 1173.71 Q86.1041 1173.71 84.2292 1174.13 Q82.3773 1174.54 80.4329 1175.42 L80.4329 1158.06 Z\" fill=\"#000000\" fill-rule=\"nonzero\" fill-opacity=\"1\" /><path clip-path=\"url(#clip930)\" d=\"M50.0395 932.301 L57.6784 932.301 L57.6784 905.935 L49.3682 907.602 L49.3682 903.343 L57.6321 901.676 L62.308 901.676 L62.308 932.301 L69.9468 932.301 L69.9468 936.236 L50.0395 936.236 L50.0395 932.301 Z\" fill=\"#000000\" fill-rule=\"nonzero\" fill-opacity=\"1\" /><path clip-path=\"url(#clip930)\" d=\"M89.3912 904.755 Q85.7801 904.755 83.9514 908.32 Q82.1458 911.861 82.1458 918.991 Q82.1458 926.097 83.9514 929.662 Q85.7801 933.204 89.3912 933.204 Q93.0254 933.204 94.8309 929.662 Q96.6596 926.097 96.6596 918.991 Q96.6596 911.861 94.8309 908.32 Q93.0254 904.755 89.3912 904.755 M89.3912 901.051 Q95.2013 901.051 98.2569 905.658 Q101.336 910.241 101.336 918.991 Q101.336 927.718 98.2569 932.324 Q95.2013 936.907 89.3912 936.907 Q83.581 936.907 80.5023 932.324 Q77.4468 927.718 77.4468 918.991 Q77.4468 910.241 80.5023 905.658 Q83.581 901.051 89.3912 901.051 Z\" fill=\"#000000\" fill-rule=\"nonzero\" fill-opacity=\"1\" /><path clip-path=\"url(#clip930)\" d=\"M51.0349 675.915 L58.6737 675.915 L58.6737 649.549 L50.3636 651.216 L50.3636 646.957 L58.6274 645.29 L63.3033 645.29 L63.3033 675.915 L70.9422 675.915 L70.9422 679.85 L51.0349 679.85 L51.0349 675.915 Z\" fill=\"#000000\" fill-rule=\"nonzero\" fill-opacity=\"1\" /><path clip-path=\"url(#clip930)\" d=\"M80.4329 645.29 L98.7893 645.29 L98.7893 649.225 L84.7153 649.225 L84.7153 657.698 Q85.7338 657.35 86.7523 657.188 Q87.7708 657.003 88.7893 657.003 Q94.5763 657.003 97.9559 660.174 Q101.336 663.346 101.336 668.762 Q101.336 674.341 97.8633 677.443 Q94.3911 680.522 88.0717 680.522 Q85.8958 680.522 83.6273 680.151 Q81.3819 679.781 78.9746 679.04 L78.9746 674.341 Q81.0579 675.475 83.2801 676.031 Q85.5023 676.586 87.9791 676.586 Q91.9837 676.586 94.3217 674.48 Q96.6596 672.373 96.6596 668.762 Q96.6596 665.151 94.3217 663.045 Q91.9837 660.938 87.9791 660.938 Q86.1041 660.938 84.2292 661.355 Q82.3773 661.772 80.4329 662.651 L80.4329 645.29 Z\" fill=\"#000000\" fill-rule=\"nonzero\" fill-opacity=\"1\" /><path clip-path=\"url(#clip930)\" d=\"M53.2571 419.529 L69.5765 419.529 L69.5765 423.464 L47.6321 423.464 L47.6321 419.529 Q50.2941 416.775 54.8775 412.145 Q59.4839 407.492 60.6645 406.15 Q62.9098 403.626 63.7894 401.89 Q64.6922 400.131 64.6922 398.441 Q64.6922 395.687 62.7478 393.951 Q60.8265 392.215 57.7247 392.215 Q55.5256 392.215 53.0719 392.978 Q50.6414 393.742 47.8636 395.293 L47.8636 390.571 Q50.6877 389.437 53.1414 388.858 Q55.595 388.279 57.6321 388.279 Q63.0024 388.279 66.1968 390.965 Q69.3913 393.65 69.3913 398.14 Q69.3913 400.27 68.5811 402.191 Q67.7941 404.089 65.6876 406.682 Q65.1089 407.353 62.007 410.571 Q58.9052 413.765 53.2571 419.529 Z\" fill=\"#000000\" fill-rule=\"nonzero\" fill-opacity=\"1\" /><path clip-path=\"url(#clip930)\" d=\"M89.3912 391.983 Q85.7801 391.983 83.9514 395.548 Q82.1458 399.089 82.1458 406.219 Q82.1458 413.325 83.9514 416.89 Q85.7801 420.432 89.3912 420.432 Q93.0254 420.432 94.8309 416.89 Q96.6596 413.325 96.6596 406.219 Q96.6596 399.089 94.8309 395.548 Q93.0254 391.983 89.3912 391.983 M89.3912 388.279 Q95.2013 388.279 98.2569 392.886 Q101.336 397.469 101.336 406.219 Q101.336 414.946 98.2569 419.552 Q95.2013 424.136 89.3912 424.136 Q83.581 424.136 80.5023 419.552 Q77.4468 414.946 77.4468 406.219 Q77.4468 397.469 80.5023 392.886 Q83.581 388.279 89.3912 388.279 Z\" fill=\"#000000\" fill-rule=\"nonzero\" fill-opacity=\"1\" /><path clip-path=\"url(#clip930)\" d=\"M54.2525 163.143 L70.5718 163.143 L70.5718 167.078 L48.6275 167.078 L48.6275 163.143 Q51.2895 160.389 55.8728 155.759 Q60.4793 151.106 61.6598 149.764 Q63.9052 147.241 64.7848 145.504 Q65.6876 143.745 65.6876 142.055 Q65.6876 139.301 63.7432 137.565 Q61.8219 135.829 58.72 135.829 Q56.521 135.829 54.0673 136.593 Q51.6367 137.356 48.859 138.907 L48.859 134.185 Q51.683 133.051 54.1367 132.472 Q56.5904 131.893 58.6274 131.893 Q63.9978 131.893 67.1922 134.579 Q70.3866 137.264 70.3866 141.755 Q70.3866 143.884 69.5765 145.805 Q68.7894 147.704 66.6829 150.296 Q66.1042 150.967 63.0024 154.185 Q59.9006 157.379 54.2525 163.143 Z\" fill=\"#000000\" fill-rule=\"nonzero\" fill-opacity=\"1\" /><path clip-path=\"url(#clip930)\" d=\"M80.4329 132.518 L98.7893 132.518 L98.7893 136.454 L84.7153 136.454 L84.7153 144.926 Q85.7338 144.579 86.7523 144.417 Q87.7708 144.231 88.7893 144.231 Q94.5763 144.231 97.9559 147.403 Q101.336 150.574 101.336 155.991 Q101.336 161.569 97.8633 164.671 Q94.3911 167.75 88.0717 167.75 Q85.8958 167.75 83.6273 167.379 Q81.3819 167.009 78.9746 166.268 L78.9746 161.569 Q81.0579 162.703 83.2801 163.259 Q85.5023 163.815 87.9791 163.815 Q91.9837 163.815 94.3217 161.708 Q96.6596 159.602 96.6596 155.991 Q96.6596 152.379 94.3217 150.273 Q91.9837 148.167 87.9791 148.167 Q86.1041 148.167 84.2292 148.583 Q82.3773 149 80.4329 149.879 L80.4329 132.518 Z\" fill=\"#000000\" fill-rule=\"nonzero\" fill-opacity=\"1\" /><path clip-path=\"url(#clip932)\" d=\"M221.16 1277.9 L221.16 1431.73 L268.891 1431.73 L268.891 1277.9 L221.16 1277.9 L221.16 1277.9  Z\" fill=\"#009af9\" fill-rule=\"evenodd\" fill-opacity=\"1\"/>\n",
       "<polyline clip-path=\"url(#clip932)\" style=\"stroke:#000000; stroke-linecap:round; stroke-linejoin:round; stroke-width:4; stroke-opacity:1; fill:none\" points=\"221.16,1277.9 221.16,1431.73 268.891,1431.73 268.891,1277.9 221.16,1277.9 \"/>\n",
       "<path clip-path=\"url(#clip932)\" d=\"M268.891 1277.9 L268.891 1431.73 L316.622 1431.73 L316.622 1277.9 L268.891 1277.9 L268.891 1277.9  Z\" fill=\"#009af9\" fill-rule=\"evenodd\" fill-opacity=\"1\"/>\n",
       "<polyline clip-path=\"url(#clip932)\" style=\"stroke:#000000; stroke-linecap:round; stroke-linejoin:round; stroke-width:4; stroke-opacity:1; fill:none\" points=\"268.891,1277.9 268.891,1431.73 316.622,1431.73 316.622,1277.9 268.891,1277.9 \"/>\n",
       "<path clip-path=\"url(#clip932)\" d=\"M316.622 1124.06 L316.622 1431.73 L364.353 1431.73 L364.353 1124.06 L316.622 1124.06 L316.622 1124.06  Z\" fill=\"#009af9\" fill-rule=\"evenodd\" fill-opacity=\"1\"/>\n",
       "<polyline clip-path=\"url(#clip932)\" style=\"stroke:#000000; stroke-linecap:round; stroke-linejoin:round; stroke-width:4; stroke-opacity:1; fill:none\" points=\"316.622,1124.06 316.622,1431.73 364.353,1431.73 364.353,1124.06 316.622,1124.06 \"/>\n",
       "<path clip-path=\"url(#clip932)\" d=\"M364.353 1124.06 L364.353 1431.73 L412.084 1431.73 L412.084 1124.06 L364.353 1124.06 L364.353 1124.06  Z\" fill=\"#009af9\" fill-rule=\"evenodd\" fill-opacity=\"1\"/>\n",
       "<polyline clip-path=\"url(#clip932)\" style=\"stroke:#000000; stroke-linecap:round; stroke-linejoin:round; stroke-width:4; stroke-opacity:1; fill:none\" points=\"364.353,1124.06 364.353,1431.73 412.084,1431.73 412.084,1124.06 364.353,1124.06 \"/>\n",
       "<path clip-path=\"url(#clip932)\" d=\"M412.084 713.847 L412.084 1431.73 L459.814 1431.73 L459.814 713.847 L412.084 713.847 L412.084 713.847  Z\" fill=\"#009af9\" fill-rule=\"evenodd\" fill-opacity=\"1\"/>\n",
       "<polyline clip-path=\"url(#clip932)\" style=\"stroke:#000000; stroke-linecap:round; stroke-linejoin:round; stroke-width:4; stroke-opacity:1; fill:none\" points=\"412.084,713.847 412.084,1431.73 459.814,1431.73 459.814,713.847 412.084,713.847 \"/>\n",
       "<path clip-path=\"url(#clip932)\" d=\"M459.814 560.016 L459.814 1431.73 L507.545 1431.73 L507.545 560.016 L459.814 560.016 L459.814 560.016  Z\" fill=\"#009af9\" fill-rule=\"evenodd\" fill-opacity=\"1\"/>\n",
       "<polyline clip-path=\"url(#clip932)\" style=\"stroke:#000000; stroke-linecap:round; stroke-linejoin:round; stroke-width:4; stroke-opacity:1; fill:none\" points=\"459.814,560.016 459.814,1431.73 507.545,1431.73 507.545,560.016 459.814,560.016 \"/>\n",
       "<path clip-path=\"url(#clip932)\" d=\"M507.545 508.739 L507.545 1431.73 L555.276 1431.73 L555.276 508.739 L507.545 508.739 L507.545 508.739  Z\" fill=\"#009af9\" fill-rule=\"evenodd\" fill-opacity=\"1\"/>\n",
       "<polyline clip-path=\"url(#clip932)\" style=\"stroke:#000000; stroke-linecap:round; stroke-linejoin:round; stroke-width:4; stroke-opacity:1; fill:none\" points=\"507.545,508.739 507.545,1431.73 555.276,1431.73 555.276,508.739 507.545,508.739 \"/>\n",
       "<path clip-path=\"url(#clip932)\" d=\"M555.276 508.739 L555.276 1431.73 L603.007 1431.73 L603.007 508.739 L555.276 508.739 L555.276 508.739  Z\" fill=\"#009af9\" fill-rule=\"evenodd\" fill-opacity=\"1\"/>\n",
       "<polyline clip-path=\"url(#clip932)\" style=\"stroke:#000000; stroke-linecap:round; stroke-linejoin:round; stroke-width:4; stroke-opacity:1; fill:none\" points=\"555.276,508.739 555.276,1431.73 603.007,1431.73 603.007,508.739 555.276,508.739 \"/>\n",
       "<path clip-path=\"url(#clip932)\" d=\"M603.007 47.2441 L603.007 1431.73 L650.738 1431.73 L650.738 47.2441 L603.007 47.2441 L603.007 47.2441  Z\" fill=\"#009af9\" fill-rule=\"evenodd\" fill-opacity=\"1\"/>\n",
       "<polyline clip-path=\"url(#clip932)\" style=\"stroke:#000000; stroke-linecap:round; stroke-linejoin:round; stroke-width:4; stroke-opacity:1; fill:none\" points=\"603.007,47.2441 603.007,1431.73 650.738,1431.73 650.738,47.2441 603.007,47.2441 \"/>\n",
       "<path clip-path=\"url(#clip932)\" d=\"M650.738 47.2441 L650.738 1431.73 L698.469 1431.73 L698.469 47.2441 L650.738 47.2441 L650.738 47.2441  Z\" fill=\"#009af9\" fill-rule=\"evenodd\" fill-opacity=\"1\"/>\n",
       "<polyline clip-path=\"url(#clip932)\" style=\"stroke:#000000; stroke-linecap:round; stroke-linejoin:round; stroke-width:4; stroke-opacity:1; fill:none\" points=\"650.738,47.2441 650.738,1431.73 698.469,1431.73 698.469,47.2441 650.738,47.2441 \"/>\n",
       "<path clip-path=\"url(#clip932)\" d=\"M698.469 303.63 L698.469 1431.73 L746.2 1431.73 L746.2 303.63 L698.469 303.63 L698.469 303.63  Z\" fill=\"#009af9\" fill-rule=\"evenodd\" fill-opacity=\"1\"/>\n",
       "<polyline clip-path=\"url(#clip932)\" style=\"stroke:#000000; stroke-linecap:round; stroke-linejoin:round; stroke-width:4; stroke-opacity:1; fill:none\" points=\"698.469,303.63 698.469,1431.73 746.2,1431.73 746.2,303.63 698.469,303.63 \"/>\n",
       "<path clip-path=\"url(#clip932)\" d=\"M746.2 149.798 L746.2 1431.73 L793.931 1431.73 L793.931 149.798 L746.2 149.798 L746.2 149.798  Z\" fill=\"#009af9\" fill-rule=\"evenodd\" fill-opacity=\"1\"/>\n",
       "<polyline clip-path=\"url(#clip932)\" style=\"stroke:#000000; stroke-linecap:round; stroke-linejoin:round; stroke-width:4; stroke-opacity:1; fill:none\" points=\"746.2,149.798 746.2,1431.73 793.931,1431.73 793.931,149.798 746.2,149.798 \"/>\n",
       "<path clip-path=\"url(#clip932)\" d=\"M793.931 98.5213 L793.931 1431.73 L841.662 1431.73 L841.662 98.5213 L793.931 98.5213 L793.931 98.5213  Z\" fill=\"#009af9\" fill-rule=\"evenodd\" fill-opacity=\"1\"/>\n",
       "<polyline clip-path=\"url(#clip932)\" style=\"stroke:#000000; stroke-linecap:round; stroke-linejoin:round; stroke-width:4; stroke-opacity:1; fill:none\" points=\"793.931,98.5213 793.931,1431.73 841.662,1431.73 841.662,98.5213 793.931,98.5213 \"/>\n",
       "<path clip-path=\"url(#clip932)\" d=\"M841.662 508.739 L841.662 1431.73 L889.393 1431.73 L889.393 508.739 L841.662 508.739 L841.662 508.739  Z\" fill=\"#009af9\" fill-rule=\"evenodd\" fill-opacity=\"1\"/>\n",
       "<polyline clip-path=\"url(#clip932)\" style=\"stroke:#000000; stroke-linecap:round; stroke-linejoin:round; stroke-width:4; stroke-opacity:1; fill:none\" points=\"841.662,508.739 841.662,1431.73 889.393,1431.73 889.393,508.739 841.662,508.739 \"/>\n",
       "<path clip-path=\"url(#clip932)\" d=\"M889.393 354.907 L889.393 1431.73 L937.124 1431.73 L937.124 354.907 L889.393 354.907 L889.393 354.907  Z\" fill=\"#009af9\" fill-rule=\"evenodd\" fill-opacity=\"1\"/>\n",
       "<polyline clip-path=\"url(#clip932)\" style=\"stroke:#000000; stroke-linecap:round; stroke-linejoin:round; stroke-width:4; stroke-opacity:1; fill:none\" points=\"889.393,354.907 889.393,1431.73 937.124,1431.73 937.124,354.907 889.393,354.907 \"/>\n",
       "<path clip-path=\"url(#clip932)\" d=\"M937.124 765.125 L937.124 1431.73 L984.855 1431.73 L984.855 765.125 L937.124 765.125 L937.124 765.125  Z\" fill=\"#009af9\" fill-rule=\"evenodd\" fill-opacity=\"1\"/>\n",
       "<polyline clip-path=\"url(#clip932)\" style=\"stroke:#000000; stroke-linecap:round; stroke-linejoin:round; stroke-width:4; stroke-opacity:1; fill:none\" points=\"937.124,765.125 937.124,1431.73 984.855,1431.73 984.855,765.125 937.124,765.125 \"/>\n",
       "<path clip-path=\"url(#clip932)\" d=\"M984.855 1072.79 L984.855 1431.73 L1032.59 1431.73 L1032.59 1072.79 L984.855 1072.79 L984.855 1072.79  Z\" fill=\"#009af9\" fill-rule=\"evenodd\" fill-opacity=\"1\"/>\n",
       "<polyline clip-path=\"url(#clip932)\" style=\"stroke:#000000; stroke-linecap:round; stroke-linejoin:round; stroke-width:4; stroke-opacity:1; fill:none\" points=\"984.855,1072.79 984.855,1431.73 1032.59,1431.73 1032.59,1072.79 984.855,1072.79 \"/>\n",
       "<path clip-path=\"url(#clip932)\" d=\"M1032.59 713.847 L1032.59 1431.73 L1080.32 1431.73 L1080.32 713.847 L1032.59 713.847 L1032.59 713.847  Z\" fill=\"#009af9\" fill-rule=\"evenodd\" fill-opacity=\"1\"/>\n",
       "<polyline clip-path=\"url(#clip932)\" style=\"stroke:#000000; stroke-linecap:round; stroke-linejoin:round; stroke-width:4; stroke-opacity:1; fill:none\" points=\"1032.59,713.847 1032.59,1431.73 1080.32,1431.73 1080.32,713.847 1032.59,713.847 \"/>\n",
       "<path clip-path=\"url(#clip932)\" d=\"M1080.32 1175.34 L1080.32 1431.73 L1128.05 1431.73 L1128.05 1175.34 L1080.32 1175.34 L1080.32 1175.34  Z\" fill=\"#009af9\" fill-rule=\"evenodd\" fill-opacity=\"1\"/>\n",
       "<polyline clip-path=\"url(#clip932)\" style=\"stroke:#000000; stroke-linecap:round; stroke-linejoin:round; stroke-width:4; stroke-opacity:1; fill:none\" points=\"1080.32,1175.34 1080.32,1431.73 1128.05,1431.73 1128.05,1175.34 1080.32,1175.34 \"/>\n",
       "<path clip-path=\"url(#clip932)\" d=\"M1128.05 1021.51 L1128.05 1431.73 L1175.78 1431.73 L1175.78 1021.51 L1128.05 1021.51 L1128.05 1021.51  Z\" fill=\"#009af9\" fill-rule=\"evenodd\" fill-opacity=\"1\"/>\n",
       "<polyline clip-path=\"url(#clip932)\" style=\"stroke:#000000; stroke-linecap:round; stroke-linejoin:round; stroke-width:4; stroke-opacity:1; fill:none\" points=\"1128.05,1021.51 1128.05,1431.73 1175.78,1431.73 1175.78,1021.51 1128.05,1021.51 \"/>\n",
       "<path clip-path=\"url(#clip932)\" d=\"M1175.78 1380.45 L1175.78 1431.73 L1223.51 1431.73 L1223.51 1380.45 L1175.78 1380.45 L1175.78 1380.45  Z\" fill=\"#009af9\" fill-rule=\"evenodd\" fill-opacity=\"1\"/>\n",
       "<polyline clip-path=\"url(#clip932)\" style=\"stroke:#000000; stroke-linecap:round; stroke-linejoin:round; stroke-width:4; stroke-opacity:1; fill:none\" points=\"1175.78,1380.45 1175.78,1431.73 1223.51,1431.73 1223.51,1380.45 1175.78,1380.45 \"/>\n",
       "<path clip-path=\"url(#clip932)\" d=\"M1223.51 1431.73 L1223.51 1431.73 L1271.24 1431.73 L1271.24 1431.73 L1223.51 1431.73 L1223.51 1431.73  Z\" fill=\"#009af9\" fill-rule=\"evenodd\" fill-opacity=\"1\"/>\n",
       "<polyline clip-path=\"url(#clip932)\" style=\"stroke:#000000; stroke-linecap:round; stroke-linejoin:round; stroke-width:4; stroke-opacity:1; fill:none\" points=\"1223.51,1431.73 1223.51,1431.73 1271.24,1431.73 1223.51,1431.73 \"/>\n",
       "<path clip-path=\"url(#clip932)\" d=\"M1271.24 1431.73 L1271.24 1431.73 L1318.97 1431.73 L1318.97 1431.73 L1271.24 1431.73 L1271.24 1431.73  Z\" fill=\"#009af9\" fill-rule=\"evenodd\" fill-opacity=\"1\"/>\n",
       "<polyline clip-path=\"url(#clip932)\" style=\"stroke:#000000; stroke-linecap:round; stroke-linejoin:round; stroke-width:4; stroke-opacity:1; fill:none\" points=\"1271.24,1431.73 1271.24,1431.73 1318.97,1431.73 1271.24,1431.73 \"/>\n",
       "<path clip-path=\"url(#clip932)\" d=\"M1318.97 1431.73 L1318.97 1431.73 L1366.7 1431.73 L1366.7 1431.73 L1318.97 1431.73 L1318.97 1431.73  Z\" fill=\"#009af9\" fill-rule=\"evenodd\" fill-opacity=\"1\"/>\n",
       "<polyline clip-path=\"url(#clip932)\" style=\"stroke:#000000; stroke-linecap:round; stroke-linejoin:round; stroke-width:4; stroke-opacity:1; fill:none\" points=\"1318.97,1431.73 1318.97,1431.73 1366.7,1431.73 1318.97,1431.73 \"/>\n",
       "<path clip-path=\"url(#clip932)\" d=\"M1366.7 1380.45 L1366.7 1431.73 L1414.43 1431.73 L1414.43 1380.45 L1366.7 1380.45 L1366.7 1380.45  Z\" fill=\"#009af9\" fill-rule=\"evenodd\" fill-opacity=\"1\"/>\n",
       "<polyline clip-path=\"url(#clip932)\" style=\"stroke:#000000; stroke-linecap:round; stroke-linejoin:round; stroke-width:4; stroke-opacity:1; fill:none\" points=\"1366.7,1380.45 1366.7,1431.73 1414.43,1431.73 1414.43,1380.45 1366.7,1380.45 \"/>\n",
       "<circle clip-path=\"url(#clip932)\" style=\"fill:#009af9; stroke:none; fill-opacity:0\" cx=\"245.025\" cy=\"1277.9\" r=\"2\"/>\n",
       "<circle clip-path=\"url(#clip932)\" style=\"fill:#009af9; stroke:none; fill-opacity:0\" cx=\"292.756\" cy=\"1277.9\" r=\"2\"/>\n",
       "<circle clip-path=\"url(#clip932)\" style=\"fill:#009af9; stroke:none; fill-opacity:0\" cx=\"340.487\" cy=\"1124.06\" r=\"2\"/>\n",
       "<circle clip-path=\"url(#clip932)\" style=\"fill:#009af9; stroke:none; fill-opacity:0\" cx=\"388.218\" cy=\"1124.06\" r=\"2\"/>\n",
       "<circle clip-path=\"url(#clip932)\" style=\"fill:#009af9; stroke:none; fill-opacity:0\" cx=\"435.949\" cy=\"713.847\" r=\"2\"/>\n",
       "<circle clip-path=\"url(#clip932)\" style=\"fill:#009af9; stroke:none; fill-opacity:0\" cx=\"483.68\" cy=\"560.016\" r=\"2\"/>\n",
       "<circle clip-path=\"url(#clip932)\" style=\"fill:#009af9; stroke:none; fill-opacity:0\" cx=\"531.411\" cy=\"508.739\" r=\"2\"/>\n",
       "<circle clip-path=\"url(#clip932)\" style=\"fill:#009af9; stroke:none; fill-opacity:0\" cx=\"579.142\" cy=\"508.739\" r=\"2\"/>\n",
       "<circle clip-path=\"url(#clip932)\" style=\"fill:#009af9; stroke:none; fill-opacity:0\" cx=\"626.873\" cy=\"47.2441\" r=\"2\"/>\n",
       "<circle clip-path=\"url(#clip932)\" style=\"fill:#009af9; stroke:none; fill-opacity:0\" cx=\"674.604\" cy=\"47.2441\" r=\"2\"/>\n",
       "<circle clip-path=\"url(#clip932)\" style=\"fill:#009af9; stroke:none; fill-opacity:0\" cx=\"722.335\" cy=\"303.63\" r=\"2\"/>\n",
       "<circle clip-path=\"url(#clip932)\" style=\"fill:#009af9; stroke:none; fill-opacity:0\" cx=\"770.065\" cy=\"149.798\" r=\"2\"/>\n",
       "<circle clip-path=\"url(#clip932)\" style=\"fill:#009af9; stroke:none; fill-opacity:0\" cx=\"817.796\" cy=\"98.5213\" r=\"2\"/>\n",
       "<circle clip-path=\"url(#clip932)\" style=\"fill:#009af9; stroke:none; fill-opacity:0\" cx=\"865.527\" cy=\"508.739\" r=\"2\"/>\n",
       "<circle clip-path=\"url(#clip932)\" style=\"fill:#009af9; stroke:none; fill-opacity:0\" cx=\"913.258\" cy=\"354.907\" r=\"2\"/>\n",
       "<circle clip-path=\"url(#clip932)\" style=\"fill:#009af9; stroke:none; fill-opacity:0\" cx=\"960.989\" cy=\"765.125\" r=\"2\"/>\n",
       "<circle clip-path=\"url(#clip932)\" style=\"fill:#009af9; stroke:none; fill-opacity:0\" cx=\"1008.72\" cy=\"1072.79\" r=\"2\"/>\n",
       "<circle clip-path=\"url(#clip932)\" style=\"fill:#009af9; stroke:none; fill-opacity:0\" cx=\"1056.45\" cy=\"713.847\" r=\"2\"/>\n",
       "<circle clip-path=\"url(#clip932)\" style=\"fill:#009af9; stroke:none; fill-opacity:0\" cx=\"1104.18\" cy=\"1175.34\" r=\"2\"/>\n",
       "<circle clip-path=\"url(#clip932)\" style=\"fill:#009af9; stroke:none; fill-opacity:0\" cx=\"1151.91\" cy=\"1021.51\" r=\"2\"/>\n",
       "<circle clip-path=\"url(#clip932)\" style=\"fill:#009af9; stroke:none; fill-opacity:0\" cx=\"1199.64\" cy=\"1380.45\" r=\"2\"/>\n",
       "<circle clip-path=\"url(#clip932)\" style=\"fill:#009af9; stroke:none; fill-opacity:0\" cx=\"1247.37\" cy=\"1431.73\" r=\"2\"/>\n",
       "<circle clip-path=\"url(#clip932)\" style=\"fill:#009af9; stroke:none; fill-opacity:0\" cx=\"1295.11\" cy=\"1431.73\" r=\"2\"/>\n",
       "<circle clip-path=\"url(#clip932)\" style=\"fill:#009af9; stroke:none; fill-opacity:0\" cx=\"1342.84\" cy=\"1431.73\" r=\"2\"/>\n",
       "<circle clip-path=\"url(#clip932)\" style=\"fill:#009af9; stroke:none; fill-opacity:0\" cx=\"1390.57\" cy=\"1380.45\" r=\"2\"/>\n",
       "<path clip-path=\"url(#clip930)\" d=\"M1134.52 197.074 L1443.49 197.074 L1443.49 93.3936 L1134.52 93.3936  Z\" fill=\"#ffffff\" fill-rule=\"evenodd\" fill-opacity=\"1\"/>\n",
       "<polyline clip-path=\"url(#clip930)\" style=\"stroke:#000000; stroke-linecap:round; stroke-linejoin:round; stroke-width:4; stroke-opacity:1; fill:none\" points=\"1134.52,197.074 1443.49,197.074 1443.49,93.3936 1134.52,93.3936 1134.52,197.074 \"/>\n",
       "<path clip-path=\"url(#clip930)\" d=\"M1149.42 165.97 L1238.8 165.97 L1238.8 124.498 L1149.42 124.498 L1149.42 165.97  Z\" fill=\"#009af9\" fill-rule=\"evenodd\" fill-opacity=\"1\"/>\n",
       "<polyline clip-path=\"url(#clip930)\" style=\"stroke:#000000; stroke-linecap:round; stroke-linejoin:round; stroke-width:4; stroke-opacity:1; fill:none\" points=\"1149.42,165.97 1238.8,165.97 1238.8,124.498 1149.42,124.498 1149.42,165.97 \"/>\n",
       "<path clip-path=\"url(#clip930)\" d=\"M1258.38 120.141 L1258.38 133.127 L1264.26 133.127 Q1267.52 133.127 1269.3 131.438 Q1271.09 129.748 1271.09 126.623 Q1271.09 123.521 1269.3 121.831 Q1267.52 120.141 1264.26 120.141 L1258.38 120.141 M1253.7 116.299 L1264.26 116.299 Q1270.07 116.299 1273.03 118.938 Q1276.02 121.553 1276.02 126.623 Q1276.02 131.738 1273.03 134.354 Q1270.07 136.97 1264.26 136.97 L1258.38 136.97 L1258.38 150.859 L1253.7 150.859 L1253.7 116.299 Z\" fill=\"#000000\" fill-rule=\"nonzero\" fill-opacity=\"1\" /><path clip-path=\"url(#clip930)\" d=\"M1296.29 128.914 Q1295.58 128.498 1294.72 128.313 Q1293.89 128.104 1292.87 128.104 Q1289.26 128.104 1287.31 130.465 Q1285.39 132.803 1285.39 137.201 L1285.39 150.859 L1281.11 150.859 L1281.11 124.933 L1285.39 124.933 L1285.39 128.961 Q1286.73 126.6 1288.89 125.465 Q1291.04 124.308 1294.12 124.308 Q1294.56 124.308 1295.09 124.377 Q1295.62 124.424 1296.27 124.539 L1296.29 128.914 Z\" fill=\"#000000\" fill-rule=\"nonzero\" fill-opacity=\"1\" /><path clip-path=\"url(#clip930)\" d=\"M1321.9 136.831 L1321.9 138.914 L1302.31 138.914 Q1302.59 143.312 1304.95 145.627 Q1307.34 147.919 1311.57 147.919 Q1314.03 147.919 1316.32 147.317 Q1318.63 146.715 1320.9 145.512 L1320.9 149.539 Q1318.61 150.512 1316.2 151.021 Q1313.79 151.53 1311.32 151.53 Q1305.11 151.53 1301.48 147.919 Q1297.87 144.308 1297.87 138.15 Q1297.87 131.785 1301.29 128.058 Q1304.74 124.308 1310.58 124.308 Q1315.81 124.308 1318.84 127.688 Q1321.9 131.044 1321.9 136.831 M1317.64 135.581 Q1317.59 132.086 1315.67 130.002 Q1313.77 127.919 1310.62 127.919 Q1307.06 127.919 1304.9 129.933 Q1302.78 131.947 1302.45 135.604 L1317.64 135.581 Z\" fill=\"#000000\" fill-rule=\"nonzero\" fill-opacity=\"1\" /><path clip-path=\"url(#clip930)\" d=\"M1345.95 128.868 L1345.95 114.84 L1350.21 114.84 L1350.21 150.859 L1345.95 150.859 L1345.95 146.97 Q1344.6 149.285 1342.54 150.419 Q1340.51 151.53 1337.64 151.53 Q1332.94 151.53 1329.97 147.78 Q1327.03 144.03 1327.03 137.919 Q1327.03 131.808 1329.97 128.058 Q1332.94 124.308 1337.64 124.308 Q1340.51 124.308 1342.54 125.442 Q1344.6 126.553 1345.95 128.868 M1331.43 137.919 Q1331.43 142.618 1333.35 145.303 Q1335.3 147.965 1338.68 147.965 Q1342.06 147.965 1344 145.303 Q1345.95 142.618 1345.95 137.919 Q1345.95 133.22 1344 130.558 Q1342.06 127.873 1338.68 127.873 Q1335.3 127.873 1333.35 130.558 Q1331.43 133.22 1331.43 137.919 Z\" fill=\"#000000\" fill-rule=\"nonzero\" fill-opacity=\"1\" /><path clip-path=\"url(#clip930)\" d=\"M1359.58 144.979 L1364.46 144.979 L1364.46 150.859 L1359.58 150.859 L1359.58 144.979 Z\" fill=\"#000000\" fill-rule=\"nonzero\" fill-opacity=\"1\" /><path clip-path=\"url(#clip930)\" d=\"M1403.13 145.308 Q1403.32 145.518 1403.32 145.729 Q1403.32 145.94 1402.85 146.549 Q1402.4 147.158 1401.44 147.978 Q1400.48 148.798 1399.24 149.571 Q1398 150.343 1396.17 150.859 Q1394.35 151.397 1392.43 151.397 Q1388.84 151.397 1386.73 149.032 Q1384.65 146.666 1384.65 143.27 Q1384.65 139.967 1386.5 136.805 Q1388.35 133.62 1391.35 131.652 Q1394.35 129.661 1397.51 129.661 Q1400.01 129.661 1401.58 130.833 Q1403.15 132.004 1403.15 133.784 Q1403.15 135.166 1402.36 136.009 Q1401.56 136.852 1400.48 136.852 Q1399.73 136.852 1399.22 136.431 Q1398.7 135.986 1398.7 135.166 Q1398.7 134.112 1399.57 133.292 Q1399.9 132.964 1400.27 132.823 Q1400.67 132.66 1400.9 132.66 Q1401.14 132.636 1401.68 132.636 Q1401.19 131.723 1400.01 131.231 Q1398.87 130.715 1397.56 130.715 Q1395.61 130.715 1393.76 132.074 Q1391.91 133.409 1390.79 135.517 Q1389.66 137.578 1388.94 140.506 Q1388.21 143.41 1388.21 145.097 Q1388.21 147.416 1389.29 148.868 Q1390.36 150.32 1392.52 150.32 Q1392.94 150.32 1393.39 150.297 Q1393.85 150.273 1395.03 150.016 Q1396.22 149.758 1397.27 149.313 Q1398.33 148.868 1399.66 147.908 Q1401.02 146.924 1402.1 145.589 Q1402.47 145.097 1402.73 145.097 Q1402.94 145.097 1403.13 145.308 Z\" fill=\"#000000\" fill-rule=\"nonzero\" fill-opacity=\"1\" /><path clip-path=\"url(#clip930)\" d=\"M1423.63 155.406 Q1423.19 157.521 1422.61 158.735 Q1421.69 160.587 1420.14 160.587 Q1418.96 160.587 1418.12 159.866 Q1417.28 159.145 1417.09 158.063 Q1414.94 160.587 1412.71 160.587 Q1410.74 160.587 1409.5 159.095 Q1408.25 157.587 1408.25 155.21 Q1408.25 152.816 1409.43 150.52 Q1410.63 148.225 1412.51 146.799 Q1414.4 145.372 1416.33 145.372 Q1418.38 145.372 1419.43 147.52 Q1419.51 146.93 1419.89 146.487 Q1420.27 146.044 1420.84 146.044 Q1421.28 146.044 1421.55 146.29 Q1421.81 146.52 1421.81 146.946 Q1421.81 147.159 1421.58 148.094 L1420.37 152.783 L1419.63 155.816 Q1419.35 156.931 1419.27 157.341 Q1419.2 157.751 1419.2 158.292 Q1419.2 159.833 1420.2 159.833 Q1420.69 159.833 1421.09 159.522 Q1421.48 159.21 1421.79 158.554 Q1422.1 157.899 1422.3 157.292 Q1422.5 156.669 1422.76 155.685 Q1422.84 155.292 1422.91 155.193 Q1422.99 155.078 1423.22 155.078 Q1423.63 155.078 1423.63 155.406 M1419.02 149.061 Q1419.02 148.914 1418.91 148.504 Q1418.79 148.094 1418.53 147.52 Q1418.27 146.946 1417.69 146.536 Q1417.14 146.11 1416.38 146.11 Q1415.37 146.11 1414.3 146.979 Q1413.25 147.848 1412.48 149.324 Q1411.89 150.504 1411.25 152.98 Q1410.63 155.456 1410.63 156.685 Q1410.63 157.439 1410.79 158.112 Q1410.97 158.768 1411.48 159.309 Q1411.99 159.833 1412.78 159.833 Q1414.69 159.833 1416.58 157.456 Q1416.94 157.046 1417.02 156.882 Q1417.12 156.702 1417.25 156.21 L1418.92 149.635 Q1419.02 149.143 1419.02 149.061 Z\" fill=\"#000000\" fill-rule=\"nonzero\" fill-opacity=\"1\" /><path clip-path=\"url(#clip930)\" d=\"M1683.99 1431.73 L3024.76 1431.73 L3024.76 47.2441 L1683.99 47.2441  Z\" fill=\"#ffffff\" fill-rule=\"evenodd\" fill-opacity=\"1\"/>\n",
       "<defs>\n",
       "  <clipPath id=\"clip933\">\n",
       "    <rect x=\"1683\" y=\"47\" width=\"1342\" height=\"1385\"/>\n",
       "  </clipPath>\n",
       "</defs>\n",
       "<polyline clip-path=\"url(#clip933)\" style=\"stroke:#000000; stroke-linecap:round; stroke-linejoin:round; stroke-width:2; stroke-opacity:0.1; fill:none\" points=\"1890.32,1431.73 1890.32,47.2441 \"/>\n",
       "<polyline clip-path=\"url(#clip933)\" style=\"stroke:#000000; stroke-linecap:round; stroke-linejoin:round; stroke-width:2; stroke-opacity:0.1; fill:none\" points=\"2155.5,1431.73 2155.5,47.2441 \"/>\n",
       "<polyline clip-path=\"url(#clip933)\" style=\"stroke:#000000; stroke-linecap:round; stroke-linejoin:round; stroke-width:2; stroke-opacity:0.1; fill:none\" points=\"2420.67,1431.73 2420.67,47.2441 \"/>\n",
       "<polyline clip-path=\"url(#clip933)\" style=\"stroke:#000000; stroke-linecap:round; stroke-linejoin:round; stroke-width:2; stroke-opacity:0.1; fill:none\" points=\"2685.84,1431.73 2685.84,47.2441 \"/>\n",
       "<polyline clip-path=\"url(#clip933)\" style=\"stroke:#000000; stroke-linecap:round; stroke-linejoin:round; stroke-width:2; stroke-opacity:0.1; fill:none\" points=\"2951.01,1431.73 2951.01,47.2441 \"/>\n",
       "<polyline clip-path=\"url(#clip930)\" style=\"stroke:#000000; stroke-linecap:round; stroke-linejoin:round; stroke-width:4; stroke-opacity:1; fill:none\" points=\"1683.99,1431.73 3024.76,1431.73 \"/>\n",
       "<polyline clip-path=\"url(#clip930)\" style=\"stroke:#000000; stroke-linecap:round; stroke-linejoin:round; stroke-width:4; stroke-opacity:1; fill:none\" points=\"1890.32,1431.73 1890.32,1412.83 \"/>\n",
       "<polyline clip-path=\"url(#clip930)\" style=\"stroke:#000000; stroke-linecap:round; stroke-linejoin:round; stroke-width:4; stroke-opacity:1; fill:none\" points=\"2155.5,1431.73 2155.5,1412.83 \"/>\n",
       "<polyline clip-path=\"url(#clip930)\" style=\"stroke:#000000; stroke-linecap:round; stroke-linejoin:round; stroke-width:4; stroke-opacity:1; fill:none\" points=\"2420.67,1431.73 2420.67,1412.83 \"/>\n",
       "<polyline clip-path=\"url(#clip930)\" style=\"stroke:#000000; stroke-linecap:round; stroke-linejoin:round; stroke-width:4; stroke-opacity:1; fill:none\" points=\"2685.84,1431.73 2685.84,1412.83 \"/>\n",
       "<polyline clip-path=\"url(#clip930)\" style=\"stroke:#000000; stroke-linecap:round; stroke-linejoin:round; stroke-width:4; stroke-opacity:1; fill:none\" points=\"2951.01,1431.73 2951.01,1412.83 \"/>\n",
       "<path clip-path=\"url(#clip930)\" d=\"M1869.9 1495.57 L1886.22 1495.57 L1886.22 1499.5 L1864.27 1499.5 L1864.27 1495.57 Q1866.93 1492.81 1871.52 1488.18 Q1876.12 1483.53 1877.3 1482.19 Q1879.55 1479.67 1880.43 1477.93 Q1881.33 1476.17 1881.33 1474.48 Q1881.33 1471.73 1879.39 1469.99 Q1877.47 1468.25 1874.36 1468.25 Q1872.16 1468.25 1869.71 1469.02 Q1867.28 1469.78 1864.5 1471.33 L1864.5 1466.61 Q1867.33 1465.48 1869.78 1464.9 Q1872.23 1464.32 1874.27 1464.32 Q1879.64 1464.32 1882.84 1467 Q1886.03 1469.69 1886.03 1474.18 Q1886.03 1476.31 1885.22 1478.23 Q1884.43 1480.13 1882.33 1482.72 Q1881.75 1483.39 1878.65 1486.61 Q1875.54 1489.8 1869.9 1495.57 Z\" fill=\"#000000\" fill-rule=\"nonzero\" fill-opacity=\"1\" /><path clip-path=\"url(#clip930)\" d=\"M1900.06 1495.57 L1916.38 1495.57 L1916.38 1499.5 L1894.43 1499.5 L1894.43 1495.57 Q1897.1 1492.81 1901.68 1488.18 Q1906.28 1483.53 1907.47 1482.19 Q1909.71 1479.67 1910.59 1477.93 Q1911.49 1476.17 1911.49 1474.48 Q1911.49 1471.73 1909.55 1469.99 Q1907.63 1468.25 1904.53 1468.25 Q1902.33 1468.25 1899.87 1469.02 Q1897.44 1469.78 1894.66 1471.33 L1894.66 1466.61 Q1897.49 1465.48 1899.94 1464.9 Q1902.4 1464.32 1904.43 1464.32 Q1909.8 1464.32 1913 1467 Q1916.19 1469.69 1916.19 1474.18 Q1916.19 1476.31 1915.38 1478.23 Q1914.6 1480.13 1912.49 1482.72 Q1911.91 1483.39 1908.81 1486.61 Q1905.71 1489.8 1900.06 1495.57 Z\" fill=\"#000000\" fill-rule=\"nonzero\" fill-opacity=\"1\" /><path clip-path=\"url(#clip930)\" d=\"M2134.03 1495.57 L2150.35 1495.57 L2150.35 1499.5 L2128.4 1499.5 L2128.4 1495.57 Q2131.06 1492.81 2135.65 1488.18 Q2140.25 1483.53 2141.43 1482.19 Q2143.68 1479.67 2144.56 1477.93 Q2145.46 1476.17 2145.46 1474.48 Q2145.46 1471.73 2143.52 1469.99 Q2141.6 1468.25 2138.49 1468.25 Q2136.29 1468.25 2133.84 1469.02 Q2131.41 1469.78 2128.63 1471.33 L2128.63 1466.61 Q2131.46 1465.48 2133.91 1464.9 Q2136.36 1464.32 2138.4 1464.32 Q2143.77 1464.32 2146.97 1467 Q2150.16 1469.69 2150.16 1474.18 Q2150.16 1476.31 2149.35 1478.23 Q2148.56 1480.13 2146.46 1482.72 Q2145.88 1483.39 2142.78 1486.61 Q2139.67 1489.8 2134.03 1495.57 Z\" fill=\"#000000\" fill-rule=\"nonzero\" fill-opacity=\"1\" /><path clip-path=\"url(#clip930)\" d=\"M2173.01 1469.02 L2161.2 1487.47 L2173.01 1487.47 L2173.01 1469.02 M2171.78 1464.94 L2177.66 1464.94 L2177.66 1487.47 L2182.59 1487.47 L2182.59 1491.36 L2177.66 1491.36 L2177.66 1499.5 L2173.01 1499.5 L2173.01 1491.36 L2157.41 1491.36 L2157.41 1486.84 L2171.78 1464.94 Z\" fill=\"#000000\" fill-rule=\"nonzero\" fill-opacity=\"1\" /><path clip-path=\"url(#clip930)\" d=\"M2399.36 1495.57 L2415.68 1495.57 L2415.68 1499.5 L2393.74 1499.5 L2393.74 1495.57 Q2396.4 1492.81 2400.98 1488.18 Q2405.59 1483.53 2406.77 1482.19 Q2409.01 1479.67 2409.89 1477.93 Q2410.8 1476.17 2410.8 1474.48 Q2410.8 1471.73 2408.85 1469.99 Q2406.93 1468.25 2403.83 1468.25 Q2401.63 1468.25 2399.18 1469.02 Q2396.74 1469.78 2393.97 1471.33 L2393.97 1466.61 Q2396.79 1465.48 2399.24 1464.9 Q2401.7 1464.32 2403.74 1464.32 Q2409.11 1464.32 2412.3 1467 Q2415.49 1469.69 2415.49 1474.18 Q2415.49 1476.31 2414.68 1478.23 Q2413.9 1480.13 2411.79 1482.72 Q2411.21 1483.39 2408.11 1486.61 Q2405.01 1489.8 2399.36 1495.57 Z\" fill=\"#000000\" fill-rule=\"nonzero\" fill-opacity=\"1\" /><path clip-path=\"url(#clip930)\" d=\"M2436.07 1480.36 Q2432.92 1480.36 2431.07 1482.51 Q2429.24 1484.67 2429.24 1488.42 Q2429.24 1492.14 2431.07 1494.32 Q2432.92 1496.47 2436.07 1496.47 Q2439.22 1496.47 2441.05 1494.32 Q2442.9 1492.14 2442.9 1488.42 Q2442.9 1484.67 2441.05 1482.51 Q2439.22 1480.36 2436.07 1480.36 M2445.36 1465.71 L2445.36 1469.97 Q2443.6 1469.13 2441.79 1468.69 Q2440.01 1468.25 2438.25 1468.25 Q2433.62 1468.25 2431.17 1471.38 Q2428.74 1474.5 2428.39 1480.82 Q2429.75 1478.81 2431.81 1477.74 Q2433.87 1476.66 2436.35 1476.66 Q2441.56 1476.66 2444.57 1479.83 Q2447.6 1482.98 2447.6 1488.42 Q2447.6 1493.74 2444.45 1496.96 Q2441.3 1500.18 2436.07 1500.18 Q2430.08 1500.18 2426.91 1495.59 Q2423.74 1490.99 2423.74 1482.26 Q2423.74 1474.06 2427.62 1469.2 Q2431.51 1464.32 2438.06 1464.32 Q2439.82 1464.32 2441.61 1464.67 Q2443.41 1465.01 2445.36 1465.71 Z\" fill=\"#000000\" fill-rule=\"nonzero\" fill-opacity=\"1\" /><path clip-path=\"url(#clip930)\" d=\"M2664.66 1495.57 L2680.98 1495.57 L2680.98 1499.5 L2659.03 1499.5 L2659.03 1495.57 Q2661.7 1492.81 2666.28 1488.18 Q2670.89 1483.53 2672.07 1482.19 Q2674.31 1479.67 2675.19 1477.93 Q2676.09 1476.17 2676.09 1474.48 Q2676.09 1471.73 2674.15 1469.99 Q2672.23 1468.25 2669.13 1468.25 Q2666.93 1468.25 2664.47 1469.02 Q2662.04 1469.78 2659.27 1471.33 L2659.27 1466.61 Q2662.09 1465.48 2664.54 1464.9 Q2667 1464.32 2669.03 1464.32 Q2674.4 1464.32 2677.6 1467 Q2680.79 1469.69 2680.79 1474.18 Q2680.79 1476.31 2679.98 1478.23 Q2679.2 1480.13 2677.09 1482.72 Q2676.51 1483.39 2673.41 1486.61 Q2670.31 1489.8 2664.66 1495.57 Z\" fill=\"#000000\" fill-rule=\"nonzero\" fill-opacity=\"1\" /><path clip-path=\"url(#clip930)\" d=\"M2700.79 1483.09 Q2697.46 1483.09 2695.54 1484.87 Q2693.64 1486.66 2693.64 1489.78 Q2693.64 1492.91 2695.54 1494.69 Q2697.46 1496.47 2700.79 1496.47 Q2704.13 1496.47 2706.05 1494.69 Q2707.97 1492.88 2707.97 1489.78 Q2707.97 1486.66 2706.05 1484.87 Q2704.15 1483.09 2700.79 1483.09 M2696.12 1481.1 Q2693.11 1480.36 2691.42 1478.3 Q2689.75 1476.24 2689.75 1473.28 Q2689.75 1469.13 2692.69 1466.73 Q2695.65 1464.32 2700.79 1464.32 Q2705.96 1464.32 2708.9 1466.73 Q2711.84 1469.13 2711.84 1473.28 Q2711.84 1476.24 2710.15 1478.3 Q2708.48 1480.36 2705.49 1481.1 Q2708.87 1481.89 2710.75 1484.18 Q2712.65 1486.47 2712.65 1489.78 Q2712.65 1494.8 2709.57 1497.49 Q2706.51 1500.18 2700.79 1500.18 Q2695.08 1500.18 2692 1497.49 Q2688.94 1494.8 2688.94 1489.78 Q2688.94 1486.47 2690.84 1484.18 Q2692.74 1481.89 2696.12 1481.1 M2694.4 1473.72 Q2694.4 1476.4 2696.07 1477.91 Q2697.76 1479.41 2700.79 1479.41 Q2703.8 1479.41 2705.49 1477.91 Q2707.21 1476.4 2707.21 1473.72 Q2707.21 1471.03 2705.49 1469.53 Q2703.8 1468.02 2700.79 1468.02 Q2697.76 1468.02 2696.07 1469.53 Q2694.4 1471.03 2694.4 1473.72 Z\" fill=\"#000000\" fill-rule=\"nonzero\" fill-opacity=\"1\" /><path clip-path=\"url(#clip930)\" d=\"M2939.85 1480.87 Q2943.21 1481.59 2945.09 1483.86 Q2946.98 1486.12 2946.98 1489.46 Q2946.98 1494.57 2943.47 1497.37 Q2939.95 1500.18 2933.47 1500.18 Q2931.29 1500.18 2928.97 1499.74 Q2926.68 1499.32 2924.23 1498.46 L2924.23 1493.95 Q2926.17 1495.08 2928.49 1495.66 Q2930.8 1496.24 2933.33 1496.24 Q2937.72 1496.24 2940.02 1494.5 Q2942.33 1492.77 2942.33 1489.46 Q2942.33 1486.4 2940.18 1484.69 Q2938.05 1482.95 2934.23 1482.95 L2930.2 1482.95 L2930.2 1479.11 L2934.41 1479.11 Q2937.86 1479.11 2939.69 1477.74 Q2941.52 1476.36 2941.52 1473.76 Q2941.52 1471.1 2939.62 1469.69 Q2937.75 1468.25 2934.23 1468.25 Q2932.31 1468.25 2930.11 1468.67 Q2927.91 1469.09 2925.27 1469.97 L2925.27 1465.8 Q2927.93 1465.06 2930.25 1464.69 Q2932.59 1464.32 2934.65 1464.32 Q2939.97 1464.32 2943.07 1466.75 Q2946.17 1469.16 2946.17 1473.28 Q2946.17 1476.15 2944.53 1478.14 Q2942.89 1480.11 2939.85 1480.87 Z\" fill=\"#000000\" fill-rule=\"nonzero\" fill-opacity=\"1\" /><path clip-path=\"url(#clip930)\" d=\"M2965.85 1468.02 Q2962.24 1468.02 2960.41 1471.59 Q2958.6 1475.13 2958.6 1482.26 Q2958.6 1489.37 2960.41 1492.93 Q2962.24 1496.47 2965.85 1496.47 Q2969.48 1496.47 2971.29 1492.93 Q2973.12 1489.37 2973.12 1482.26 Q2973.12 1475.13 2971.29 1471.59 Q2969.48 1468.02 2965.85 1468.02 M2965.85 1464.32 Q2971.66 1464.32 2974.72 1468.93 Q2977.79 1473.51 2977.79 1482.26 Q2977.79 1490.99 2974.72 1495.59 Q2971.66 1500.18 2965.85 1500.18 Q2960.04 1500.18 2956.96 1495.59 Q2953.91 1490.99 2953.91 1482.26 Q2953.91 1473.51 2956.96 1468.93 Q2960.04 1464.32 2965.85 1464.32 Z\" fill=\"#000000\" fill-rule=\"nonzero\" fill-opacity=\"1\" /><polyline clip-path=\"url(#clip933)\" style=\"stroke:#000000; stroke-linecap:round; stroke-linejoin:round; stroke-width:2; stroke-opacity:0.1; fill:none\" points=\"1683.99,1431.73 3024.76,1431.73 \"/>\n",
       "<polyline clip-path=\"url(#clip933)\" style=\"stroke:#000000; stroke-linecap:round; stroke-linejoin:round; stroke-width:2; stroke-opacity:0.1; fill:none\" points=\"1683.99,1149.18 3024.76,1149.18 \"/>\n",
       "<polyline clip-path=\"url(#clip933)\" style=\"stroke:#000000; stroke-linecap:round; stroke-linejoin:round; stroke-width:2; stroke-opacity:0.1; fill:none\" points=\"1683.99,866.632 3024.76,866.632 \"/>\n",
       "<polyline clip-path=\"url(#clip933)\" style=\"stroke:#000000; stroke-linecap:round; stroke-linejoin:round; stroke-width:2; stroke-opacity:0.1; fill:none\" points=\"1683.99,584.085 3024.76,584.085 \"/>\n",
       "<polyline clip-path=\"url(#clip933)\" style=\"stroke:#000000; stroke-linecap:round; stroke-linejoin:round; stroke-width:2; stroke-opacity:0.1; fill:none\" points=\"1683.99,301.537 3024.76,301.537 \"/>\n",
       "<polyline clip-path=\"url(#clip930)\" style=\"stroke:#000000; stroke-linecap:round; stroke-linejoin:round; stroke-width:4; stroke-opacity:1; fill:none\" points=\"1683.99,1431.73 1683.99,47.2441 \"/>\n",
       "<polyline clip-path=\"url(#clip930)\" style=\"stroke:#000000; stroke-linecap:round; stroke-linejoin:round; stroke-width:4; stroke-opacity:1; fill:none\" points=\"1683.99,1431.73 1702.89,1431.73 \"/>\n",
       "<polyline clip-path=\"url(#clip930)\" style=\"stroke:#000000; stroke-linecap:round; stroke-linejoin:round; stroke-width:4; stroke-opacity:1; fill:none\" points=\"1683.99,1149.18 1702.89,1149.18 \"/>\n",
       "<polyline clip-path=\"url(#clip930)\" style=\"stroke:#000000; stroke-linecap:round; stroke-linejoin:round; stroke-width:4; stroke-opacity:1; fill:none\" points=\"1683.99,866.632 1702.89,866.632 \"/>\n",
       "<polyline clip-path=\"url(#clip930)\" style=\"stroke:#000000; stroke-linecap:round; stroke-linejoin:round; stroke-width:4; stroke-opacity:1; fill:none\" points=\"1683.99,584.085 1702.89,584.085 \"/>\n",
       "<polyline clip-path=\"url(#clip930)\" style=\"stroke:#000000; stroke-linecap:round; stroke-linejoin:round; stroke-width:4; stroke-opacity:1; fill:none\" points=\"1683.99,301.537 1702.89,301.537 \"/>\n",
       "<path clip-path=\"url(#clip930)\" d=\"M1625.97 1417.53 Q1622.36 1417.53 1620.53 1421.09 Q1618.72 1424.63 1618.72 1431.76 Q1618.72 1438.87 1620.53 1442.43 Q1622.36 1445.98 1625.97 1445.98 Q1629.6 1445.98 1631.41 1442.43 Q1633.24 1438.87 1633.24 1431.76 Q1633.24 1424.63 1631.41 1421.09 Q1629.6 1417.53 1625.97 1417.53 M1625.97 1413.82 Q1631.78 1413.82 1634.84 1418.43 Q1637.91 1423.01 1637.91 1431.76 Q1637.91 1440.49 1634.84 1445.1 Q1631.78 1449.68 1625.97 1449.68 Q1620.16 1449.68 1617.08 1445.1 Q1614.03 1440.49 1614.03 1431.76 Q1614.03 1423.01 1617.08 1418.43 Q1620.16 1413.82 1625.97 1413.82 Z\" fill=\"#000000\" fill-rule=\"nonzero\" fill-opacity=\"1\" /><path clip-path=\"url(#clip930)\" d=\"M1586.62 1162.52 L1594.26 1162.52 L1594.26 1136.16 L1585.95 1137.83 L1585.95 1133.57 L1594.21 1131.9 L1598.89 1131.9 L1598.89 1162.52 L1606.53 1162.52 L1606.53 1166.46 L1586.62 1166.46 L1586.62 1162.52 Z\" fill=\"#000000\" fill-rule=\"nonzero\" fill-opacity=\"1\" /><path clip-path=\"url(#clip930)\" d=\"M1625.97 1134.98 Q1622.36 1134.98 1620.53 1138.54 Q1618.72 1142.09 1618.72 1149.21 Q1618.72 1156.32 1620.53 1159.89 Q1622.36 1163.43 1625.97 1163.43 Q1629.6 1163.43 1631.41 1159.89 Q1633.24 1156.32 1633.24 1149.21 Q1633.24 1142.09 1631.41 1138.54 Q1629.6 1134.98 1625.97 1134.98 M1625.97 1131.28 Q1631.78 1131.28 1634.84 1135.88 Q1637.91 1140.46 1637.91 1149.21 Q1637.91 1157.94 1634.84 1162.55 Q1631.78 1167.13 1625.97 1167.13 Q1620.16 1167.13 1617.08 1162.55 Q1614.03 1157.94 1614.03 1149.21 Q1614.03 1140.46 1617.08 1135.88 Q1620.16 1131.28 1625.97 1131.28 Z\" fill=\"#000000\" fill-rule=\"nonzero\" fill-opacity=\"1\" /><path clip-path=\"url(#clip930)\" d=\"M1589.84 879.977 L1606.16 879.977 L1606.16 883.912 L1584.21 883.912 L1584.21 879.977 Q1586.87 877.223 1591.46 872.593 Q1596.06 867.94 1597.24 866.598 Q1599.49 864.075 1600.37 862.338 Q1601.27 860.579 1601.27 858.889 Q1601.27 856.135 1599.33 854.399 Q1597.41 852.663 1594.3 852.663 Q1592.1 852.663 1589.65 853.427 Q1587.22 854.19 1584.44 855.741 L1584.44 851.019 Q1587.27 849.885 1589.72 849.306 Q1592.17 848.727 1594.21 848.727 Q1599.58 848.727 1602.78 851.413 Q1605.97 854.098 1605.97 858.589 Q1605.97 860.718 1605.16 862.639 Q1604.37 864.538 1602.27 867.13 Q1601.69 867.801 1598.59 871.019 Q1595.48 874.213 1589.84 879.977 Z\" fill=\"#000000\" fill-rule=\"nonzero\" fill-opacity=\"1\" /><path clip-path=\"url(#clip930)\" d=\"M1625.97 852.431 Q1622.36 852.431 1620.53 855.996 Q1618.72 859.538 1618.72 866.667 Q1618.72 873.774 1620.53 877.338 Q1622.36 880.88 1625.97 880.88 Q1629.6 880.88 1631.41 877.338 Q1633.24 873.774 1633.24 866.667 Q1633.24 859.538 1631.41 855.996 Q1629.6 852.431 1625.97 852.431 M1625.97 848.727 Q1631.78 848.727 1634.84 853.334 Q1637.91 857.917 1637.91 866.667 Q1637.91 875.394 1634.84 880 Q1631.78 884.584 1625.97 884.584 Q1620.16 884.584 1617.08 880 Q1614.03 875.394 1614.03 866.667 Q1614.03 857.917 1617.08 853.334 Q1620.16 848.727 1625.97 848.727 Z\" fill=\"#000000\" fill-rule=\"nonzero\" fill-opacity=\"1\" /><path clip-path=\"url(#clip930)\" d=\"M1599.97 582.731 Q1603.33 583.448 1605.21 585.717 Q1607.1 587.985 1607.1 591.319 Q1607.1 596.434 1603.59 599.235 Q1600.07 602.036 1593.59 602.036 Q1591.41 602.036 1589.1 601.596 Q1586.8 601.18 1584.35 600.323 L1584.35 595.809 Q1586.29 596.943 1588.61 597.522 Q1590.92 598.101 1593.45 598.101 Q1597.85 598.101 1600.14 596.365 Q1602.45 594.629 1602.45 591.319 Q1602.45 588.263 1600.3 586.55 Q1598.17 584.814 1594.35 584.814 L1590.32 584.814 L1590.32 580.971 L1594.53 580.971 Q1597.98 580.971 1599.81 579.606 Q1601.64 578.217 1601.64 575.624 Q1601.64 572.962 1599.74 571.55 Q1597.87 570.115 1594.35 570.115 Q1592.43 570.115 1590.23 570.532 Q1588.03 570.948 1585.39 571.828 L1585.39 567.661 Q1588.05 566.92 1590.37 566.55 Q1592.71 566.18 1594.77 566.18 Q1600.09 566.18 1603.19 568.61 Q1606.29 571.018 1606.29 575.138 Q1606.29 578.008 1604.65 579.999 Q1603.01 581.967 1599.97 582.731 Z\" fill=\"#000000\" fill-rule=\"nonzero\" fill-opacity=\"1\" /><path clip-path=\"url(#clip930)\" d=\"M1625.97 569.883 Q1622.36 569.883 1620.53 573.448 Q1618.72 576.99 1618.72 584.119 Q1618.72 591.226 1620.53 594.791 Q1622.36 598.332 1625.97 598.332 Q1629.6 598.332 1631.41 594.791 Q1633.24 591.226 1633.24 584.119 Q1633.24 576.99 1631.41 573.448 Q1629.6 569.883 1625.97 569.883 M1625.97 566.18 Q1631.78 566.18 1634.84 570.786 Q1637.91 575.37 1637.91 584.119 Q1637.91 592.846 1634.84 597.453 Q1631.78 602.036 1625.97 602.036 Q1620.16 602.036 1617.08 597.453 Q1614.03 592.846 1614.03 584.119 Q1614.03 575.37 1617.08 570.786 Q1620.16 566.18 1625.97 566.18 Z\" fill=\"#000000\" fill-rule=\"nonzero\" fill-opacity=\"1\" /><path clip-path=\"url(#clip930)\" d=\"M1598.66 288.331 L1586.85 306.78 L1598.66 306.78 L1598.66 288.331 M1597.43 284.257 L1603.31 284.257 L1603.31 306.78 L1608.24 306.78 L1608.24 310.669 L1603.31 310.669 L1603.31 318.817 L1598.66 318.817 L1598.66 310.669 L1583.05 310.669 L1583.05 306.155 L1597.43 284.257 Z\" fill=\"#000000\" fill-rule=\"nonzero\" fill-opacity=\"1\" /><path clip-path=\"url(#clip930)\" d=\"M1625.97 287.336 Q1622.36 287.336 1620.53 290.901 Q1618.72 294.442 1618.72 301.572 Q1618.72 308.678 1620.53 312.243 Q1622.36 315.785 1625.97 315.785 Q1629.6 315.785 1631.41 312.243 Q1633.24 308.678 1633.24 301.572 Q1633.24 294.442 1631.41 290.901 Q1629.6 287.336 1625.97 287.336 M1625.97 283.632 Q1631.78 283.632 1634.84 288.238 Q1637.91 292.822 1637.91 301.572 Q1637.91 310.299 1634.84 314.905 Q1631.78 319.488 1625.97 319.488 Q1620.16 319.488 1617.08 314.905 Q1614.03 310.299 1614.03 301.572 Q1614.03 292.822 1617.08 288.238 Q1620.16 283.632 1625.97 283.632 Z\" fill=\"#000000\" fill-rule=\"nonzero\" fill-opacity=\"1\" /><path clip-path=\"url(#clip933)\" d=\"M1757.74 1375.22 L1757.74 1431.73 L1824.03 1431.73 L1824.03 1375.22 L1757.74 1375.22 L1757.74 1375.22  Z\" fill=\"#009af9\" fill-rule=\"evenodd\" fill-opacity=\"1\"/>\n",
       "<polyline clip-path=\"url(#clip933)\" style=\"stroke:#000000; stroke-linecap:round; stroke-linejoin:round; stroke-width:4; stroke-opacity:1; fill:none\" points=\"1757.74,1375.22 1757.74,1431.73 1824.03,1431.73 1824.03,1375.22 1757.74,1375.22 \"/>\n",
       "<path clip-path=\"url(#clip933)\" d=\"M1824.03 1318.71 L1824.03 1431.73 L1890.32 1431.73 L1890.32 1318.71 L1824.03 1318.71 L1824.03 1318.71  Z\" fill=\"#009af9\" fill-rule=\"evenodd\" fill-opacity=\"1\"/>\n",
       "<polyline clip-path=\"url(#clip933)\" style=\"stroke:#000000; stroke-linecap:round; stroke-linejoin:round; stroke-width:4; stroke-opacity:1; fill:none\" points=\"1824.03,1318.71 1824.03,1431.73 1890.32,1431.73 1890.32,1318.71 1824.03,1318.71 \"/>\n",
       "<path clip-path=\"url(#clip933)\" d=\"M1890.32 1205.69 L1890.32 1431.73 L1956.62 1431.73 L1956.62 1205.69 L1890.32 1205.69 L1890.32 1205.69  Z\" fill=\"#009af9\" fill-rule=\"evenodd\" fill-opacity=\"1\"/>\n",
       "<polyline clip-path=\"url(#clip933)\" style=\"stroke:#000000; stroke-linecap:round; stroke-linejoin:round; stroke-width:4; stroke-opacity:1; fill:none\" points=\"1890.32,1205.69 1890.32,1431.73 1956.62,1431.73 1956.62,1205.69 1890.32,1205.69 \"/>\n",
       "<path clip-path=\"url(#clip933)\" d=\"M1956.62 838.378 L1956.62 1431.73 L2022.91 1431.73 L2022.91 838.378 L1956.62 838.378 L1956.62 838.378  Z\" fill=\"#009af9\" fill-rule=\"evenodd\" fill-opacity=\"1\"/>\n",
       "<polyline clip-path=\"url(#clip933)\" style=\"stroke:#000000; stroke-linecap:round; stroke-linejoin:round; stroke-width:4; stroke-opacity:1; fill:none\" points=\"1956.62,838.378 1956.62,1431.73 2022.91,1431.73 2022.91,838.378 1956.62,838.378 \"/>\n",
       "<path clip-path=\"url(#clip933)\" d=\"M2022.91 781.868 L2022.91 1431.73 L2089.2 1431.73 L2089.2 781.868 L2022.91 781.868 L2022.91 781.868  Z\" fill=\"#009af9\" fill-rule=\"evenodd\" fill-opacity=\"1\"/>\n",
       "<polyline clip-path=\"url(#clip933)\" style=\"stroke:#000000; stroke-linecap:round; stroke-linejoin:round; stroke-width:4; stroke-opacity:1; fill:none\" points=\"2022.91,781.868 2022.91,1431.73 2089.2,1431.73 2089.2,781.868 2022.91,781.868 \"/>\n",
       "<path clip-path=\"url(#clip933)\" d=\"M2089.2 47.2441 L2089.2 1431.73 L2155.5 1431.73 L2155.5 47.2441 L2089.2 47.2441 L2089.2 47.2441  Z\" fill=\"#009af9\" fill-rule=\"evenodd\" fill-opacity=\"1\"/>\n",
       "<polyline clip-path=\"url(#clip933)\" style=\"stroke:#000000; stroke-linecap:round; stroke-linejoin:round; stroke-width:4; stroke-opacity:1; fill:none\" points=\"2089.2,47.2441 2089.2,1431.73 2155.5,1431.73 2155.5,47.2441 2089.2,47.2441 \"/>\n",
       "<path clip-path=\"url(#clip933)\" d=\"M2155.5 103.754 L2155.5 1431.73 L2221.79 1431.73 L2221.79 103.754 L2155.5 103.754 L2155.5 103.754  Z\" fill=\"#009af9\" fill-rule=\"evenodd\" fill-opacity=\"1\"/>\n",
       "<polyline clip-path=\"url(#clip933)\" style=\"stroke:#000000; stroke-linecap:round; stroke-linejoin:round; stroke-width:4; stroke-opacity:1; fill:none\" points=\"2155.5,103.754 2155.5,1431.73 2221.79,1431.73 2221.79,103.754 2155.5,103.754 \"/>\n",
       "<path clip-path=\"url(#clip933)\" d=\"M2221.79 75.4989 L2221.79 1431.73 L2288.08 1431.73 L2288.08 75.4989 L2221.79 75.4989 L2221.79 75.4989  Z\" fill=\"#009af9\" fill-rule=\"evenodd\" fill-opacity=\"1\"/>\n",
       "<polyline clip-path=\"url(#clip933)\" style=\"stroke:#000000; stroke-linecap:round; stroke-linejoin:round; stroke-width:4; stroke-opacity:1; fill:none\" points=\"2221.79,75.4989 2221.79,1431.73 2288.08,1431.73 2288.08,75.4989 2221.79,75.4989 \"/>\n",
       "<path clip-path=\"url(#clip933)\" d=\"M2288.08 471.066 L2288.08 1431.73 L2354.38 1431.73 L2354.38 471.066 L2288.08 471.066 L2288.08 471.066  Z\" fill=\"#009af9\" fill-rule=\"evenodd\" fill-opacity=\"1\"/>\n",
       "<polyline clip-path=\"url(#clip933)\" style=\"stroke:#000000; stroke-linecap:round; stroke-linejoin:round; stroke-width:4; stroke-opacity:1; fill:none\" points=\"2288.08,471.066 2288.08,1431.73 2354.38,1431.73 2354.38,471.066 2288.08,471.066 \"/>\n",
       "<path clip-path=\"url(#clip933)\" d=\"M2354.38 527.575 L2354.38 1431.73 L2420.67 1431.73 L2420.67 527.575 L2354.38 527.575 L2354.38 527.575  Z\" fill=\"#009af9\" fill-rule=\"evenodd\" fill-opacity=\"1\"/>\n",
       "<polyline clip-path=\"url(#clip933)\" style=\"stroke:#000000; stroke-linecap:round; stroke-linejoin:round; stroke-width:4; stroke-opacity:1; fill:none\" points=\"2354.38,527.575 2354.38,1431.73 2420.67,1431.73 2420.67,527.575 2354.38,527.575 \"/>\n",
       "<path clip-path=\"url(#clip933)\" d=\"M2420.67 1120.93 L2420.67 1431.73 L2486.96 1431.73 L2486.96 1120.93 L2420.67 1120.93 L2420.67 1120.93  Z\" fill=\"#009af9\" fill-rule=\"evenodd\" fill-opacity=\"1\"/>\n",
       "<polyline clip-path=\"url(#clip933)\" style=\"stroke:#000000; stroke-linecap:round; stroke-linejoin:round; stroke-width:4; stroke-opacity:1; fill:none\" points=\"2420.67,1120.93 2420.67,1431.73 2486.96,1431.73 2486.96,1120.93 2420.67,1120.93 \"/>\n",
       "<path clip-path=\"url(#clip933)\" d=\"M2486.96 1092.67 L2486.96 1431.73 L2553.25 1431.73 L2553.25 1092.67 L2486.96 1092.67 L2486.96 1092.67  Z\" fill=\"#009af9\" fill-rule=\"evenodd\" fill-opacity=\"1\"/>\n",
       "<polyline clip-path=\"url(#clip933)\" style=\"stroke:#000000; stroke-linecap:round; stroke-linejoin:round; stroke-width:4; stroke-opacity:1; fill:none\" points=\"2486.96,1092.67 2486.96,1431.73 2553.25,1431.73 2553.25,1092.67 2486.96,1092.67 \"/>\n",
       "<path clip-path=\"url(#clip933)\" d=\"M2553.25 1318.71 L2553.25 1431.73 L2619.55 1431.73 L2619.55 1318.71 L2553.25 1318.71 L2553.25 1318.71  Z\" fill=\"#009af9\" fill-rule=\"evenodd\" fill-opacity=\"1\"/>\n",
       "<polyline clip-path=\"url(#clip933)\" style=\"stroke:#000000; stroke-linecap:round; stroke-linejoin:round; stroke-width:4; stroke-opacity:1; fill:none\" points=\"2553.25,1318.71 2553.25,1431.73 2619.55,1431.73 2619.55,1318.71 2553.25,1318.71 \"/>\n",
       "<path clip-path=\"url(#clip933)\" d=\"M2619.55 1431.73 L2619.55 1431.73 L2685.84 1431.73 L2685.84 1431.73 L2619.55 1431.73 L2619.55 1431.73  Z\" fill=\"#009af9\" fill-rule=\"evenodd\" fill-opacity=\"1\"/>\n",
       "<polyline clip-path=\"url(#clip933)\" style=\"stroke:#000000; stroke-linecap:round; stroke-linejoin:round; stroke-width:4; stroke-opacity:1; fill:none\" points=\"2619.55,1431.73 2619.55,1431.73 2685.84,1431.73 2619.55,1431.73 \"/>\n",
       "<path clip-path=\"url(#clip933)\" d=\"M2685.84 1318.71 L2685.84 1431.73 L2752.13 1431.73 L2752.13 1318.71 L2685.84 1318.71 L2685.84 1318.71  Z\" fill=\"#009af9\" fill-rule=\"evenodd\" fill-opacity=\"1\"/>\n",
       "<polyline clip-path=\"url(#clip933)\" style=\"stroke:#000000; stroke-linecap:round; stroke-linejoin:round; stroke-width:4; stroke-opacity:1; fill:none\" points=\"2685.84,1318.71 2685.84,1431.73 2752.13,1431.73 2752.13,1318.71 2685.84,1318.71 \"/>\n",
       "<path clip-path=\"url(#clip933)\" d=\"M2752.13 1431.73 L2752.13 1431.73 L2818.43 1431.73 L2818.43 1431.73 L2752.13 1431.73 L2752.13 1431.73  Z\" fill=\"#009af9\" fill-rule=\"evenodd\" fill-opacity=\"1\"/>\n",
       "<polyline clip-path=\"url(#clip933)\" style=\"stroke:#000000; stroke-linecap:round; stroke-linejoin:round; stroke-width:4; stroke-opacity:1; fill:none\" points=\"2752.13,1431.73 2752.13,1431.73 2818.43,1431.73 2752.13,1431.73 \"/>\n",
       "<path clip-path=\"url(#clip933)\" d=\"M2818.43 1431.73 L2818.43 1431.73 L2884.72 1431.73 L2884.72 1431.73 L2818.43 1431.73 L2818.43 1431.73  Z\" fill=\"#009af9\" fill-rule=\"evenodd\" fill-opacity=\"1\"/>\n",
       "<polyline clip-path=\"url(#clip933)\" style=\"stroke:#000000; stroke-linecap:round; stroke-linejoin:round; stroke-width:4; stroke-opacity:1; fill:none\" points=\"2818.43,1431.73 2818.43,1431.73 2884.72,1431.73 2818.43,1431.73 \"/>\n",
       "<path clip-path=\"url(#clip933)\" d=\"M2884.72 1403.47 L2884.72 1431.73 L2951.01 1431.73 L2951.01 1403.47 L2884.72 1403.47 L2884.72 1403.47  Z\" fill=\"#009af9\" fill-rule=\"evenodd\" fill-opacity=\"1\"/>\n",
       "<polyline clip-path=\"url(#clip933)\" style=\"stroke:#000000; stroke-linecap:round; stroke-linejoin:round; stroke-width:4; stroke-opacity:1; fill:none\" points=\"2884.72,1403.47 2884.72,1431.73 2951.01,1431.73 2951.01,1403.47 2884.72,1403.47 \"/>\n",
       "<circle clip-path=\"url(#clip933)\" style=\"fill:#009af9; stroke:none; fill-opacity:0\" cx=\"1790.88\" cy=\"1375.22\" r=\"2\"/>\n",
       "<circle clip-path=\"url(#clip933)\" style=\"fill:#009af9; stroke:none; fill-opacity:0\" cx=\"1857.18\" cy=\"1318.71\" r=\"2\"/>\n",
       "<circle clip-path=\"url(#clip933)\" style=\"fill:#009af9; stroke:none; fill-opacity:0\" cx=\"1923.47\" cy=\"1205.69\" r=\"2\"/>\n",
       "<circle clip-path=\"url(#clip933)\" style=\"fill:#009af9; stroke:none; fill-opacity:0\" cx=\"1989.76\" cy=\"838.378\" r=\"2\"/>\n",
       "<circle clip-path=\"url(#clip933)\" style=\"fill:#009af9; stroke:none; fill-opacity:0\" cx=\"2056.06\" cy=\"781.868\" r=\"2\"/>\n",
       "<circle clip-path=\"url(#clip933)\" style=\"fill:#009af9; stroke:none; fill-opacity:0\" cx=\"2122.35\" cy=\"47.2441\" r=\"2\"/>\n",
       "<circle clip-path=\"url(#clip933)\" style=\"fill:#009af9; stroke:none; fill-opacity:0\" cx=\"2188.64\" cy=\"103.754\" r=\"2\"/>\n",
       "<circle clip-path=\"url(#clip933)\" style=\"fill:#009af9; stroke:none; fill-opacity:0\" cx=\"2254.94\" cy=\"75.4989\" r=\"2\"/>\n",
       "<circle clip-path=\"url(#clip933)\" style=\"fill:#009af9; stroke:none; fill-opacity:0\" cx=\"2321.23\" cy=\"471.066\" r=\"2\"/>\n",
       "<circle clip-path=\"url(#clip933)\" style=\"fill:#009af9; stroke:none; fill-opacity:0\" cx=\"2387.52\" cy=\"527.575\" r=\"2\"/>\n",
       "<circle clip-path=\"url(#clip933)\" style=\"fill:#009af9; stroke:none; fill-opacity:0\" cx=\"2453.81\" cy=\"1120.93\" r=\"2\"/>\n",
       "<circle clip-path=\"url(#clip933)\" style=\"fill:#009af9; stroke:none; fill-opacity:0\" cx=\"2520.11\" cy=\"1092.67\" r=\"2\"/>\n",
       "<circle clip-path=\"url(#clip933)\" style=\"fill:#009af9; stroke:none; fill-opacity:0\" cx=\"2586.4\" cy=\"1318.71\" r=\"2\"/>\n",
       "<circle clip-path=\"url(#clip933)\" style=\"fill:#009af9; stroke:none; fill-opacity:0\" cx=\"2652.69\" cy=\"1431.73\" r=\"2\"/>\n",
       "<circle clip-path=\"url(#clip933)\" style=\"fill:#009af9; stroke:none; fill-opacity:0\" cx=\"2718.99\" cy=\"1318.71\" r=\"2\"/>\n",
       "<circle clip-path=\"url(#clip933)\" style=\"fill:#009af9; stroke:none; fill-opacity:0\" cx=\"2785.28\" cy=\"1431.73\" r=\"2\"/>\n",
       "<circle clip-path=\"url(#clip933)\" style=\"fill:#009af9; stroke:none; fill-opacity:0\" cx=\"2851.57\" cy=\"1431.73\" r=\"2\"/>\n",
       "<circle clip-path=\"url(#clip933)\" style=\"fill:#009af9; stroke:none; fill-opacity:0\" cx=\"2917.87\" cy=\"1403.47\" r=\"2\"/>\n",
       "<path clip-path=\"url(#clip930)\" d=\"M2674.08 197.074 L2980.06 197.074 L2980.06 93.3936 L2674.08 93.3936  Z\" fill=\"#ffffff\" fill-rule=\"evenodd\" fill-opacity=\"1\"/>\n",
       "<polyline clip-path=\"url(#clip930)\" style=\"stroke:#000000; stroke-linecap:round; stroke-linejoin:round; stroke-width:4; stroke-opacity:1; fill:none\" points=\"2674.08,197.074 2980.06,197.074 2980.06,93.3936 2674.08,93.3936 2674.08,197.074 \"/>\n",
       "<path clip-path=\"url(#clip930)\" d=\"M2688.98 165.97 L2778.36 165.97 L2778.36 124.498 L2688.98 124.498 L2688.98 165.97  Z\" fill=\"#009af9\" fill-rule=\"evenodd\" fill-opacity=\"1\"/>\n",
       "<polyline clip-path=\"url(#clip930)\" style=\"stroke:#000000; stroke-linecap:round; stroke-linejoin:round; stroke-width:4; stroke-opacity:1; fill:none\" points=\"2688.98,165.97 2778.36,165.97 2778.36,124.498 2688.98,124.498 2688.98,165.97 \"/>\n",
       "<path clip-path=\"url(#clip930)\" d=\"M2797.94 117.626 L2797.94 130.612 L2803.82 130.612 Q2807.08 130.612 2808.86 128.922 Q2810.65 127.232 2810.65 124.107 Q2810.65 121.005 2808.86 119.315 Q2807.08 117.626 2803.82 117.626 L2797.94 117.626 M2793.26 113.783 L2803.82 113.783 Q2809.63 113.783 2812.59 116.422 Q2815.58 119.038 2815.58 124.107 Q2815.58 129.223 2812.59 131.838 Q2809.63 134.454 2803.82 134.454 L2797.94 134.454 L2797.94 148.343 L2793.26 148.343 L2793.26 113.783 Z\" fill=\"#000000\" fill-rule=\"nonzero\" fill-opacity=\"1\" /><path clip-path=\"url(#clip930)\" d=\"M2835.85 126.399 Q2835.14 125.982 2834.28 125.797 Q2833.45 125.588 2832.43 125.588 Q2828.82 125.588 2826.87 127.95 Q2824.95 130.287 2824.95 134.686 L2824.95 148.343 L2820.67 148.343 L2820.67 122.417 L2824.95 122.417 L2824.95 126.445 Q2826.29 124.084 2828.45 122.95 Q2830.6 121.792 2833.68 121.792 Q2834.12 121.792 2834.65 121.862 Q2835.18 121.908 2835.83 122.024 L2835.85 126.399 Z\" fill=\"#000000\" fill-rule=\"nonzero\" fill-opacity=\"1\" /><path clip-path=\"url(#clip930)\" d=\"M2861.46 134.315 L2861.46 136.399 L2841.87 136.399 Q2842.15 140.797 2844.51 143.112 Q2846.9 145.403 2851.13 145.403 Q2853.59 145.403 2855.88 144.801 Q2858.19 144.199 2860.46 142.996 L2860.46 147.024 Q2858.17 147.996 2855.76 148.505 Q2853.35 149.014 2850.88 149.014 Q2844.67 149.014 2841.04 145.403 Q2837.43 141.792 2837.43 135.635 Q2837.43 129.269 2840.85 125.542 Q2844.3 121.792 2850.14 121.792 Q2855.37 121.792 2858.4 125.172 Q2861.46 128.528 2861.46 134.315 M2857.2 133.065 Q2857.15 129.57 2855.23 127.487 Q2853.33 125.403 2850.18 125.403 Q2846.62 125.403 2844.47 127.417 Q2842.34 129.431 2842.01 133.088 L2857.2 133.065 Z\" fill=\"#000000\" fill-rule=\"nonzero\" fill-opacity=\"1\" /><path clip-path=\"url(#clip930)\" d=\"M2885.51 126.352 L2885.51 112.325 L2889.77 112.325 L2889.77 148.343 L2885.51 148.343 L2885.51 144.454 Q2884.16 146.769 2882.1 147.903 Q2880.07 149.014 2877.2 149.014 Q2872.5 149.014 2869.53 145.264 Q2866.6 141.514 2866.6 135.403 Q2866.6 129.292 2869.53 125.542 Q2872.5 121.792 2877.2 121.792 Q2880.07 121.792 2882.1 122.926 Q2884.16 124.038 2885.51 126.352 M2870.99 135.403 Q2870.99 140.102 2872.91 142.787 Q2874.86 145.449 2878.24 145.449 Q2881.62 145.449 2883.56 142.787 Q2885.51 140.102 2885.51 135.403 Q2885.51 130.704 2883.56 128.042 Q2881.62 125.357 2878.24 125.357 Q2874.86 125.357 2872.91 128.042 Q2870.99 130.704 2870.99 135.403 Z\" fill=\"#000000\" fill-rule=\"nonzero\" fill-opacity=\"1\" /><path clip-path=\"url(#clip930)\" d=\"M2899.14 142.463 L2904.03 142.463 L2904.03 148.343 L2899.14 148.343 L2899.14 142.463 Z\" fill=\"#000000\" fill-rule=\"nonzero\" fill-opacity=\"1\" /><path clip-path=\"url(#clip930)\" d=\"M2942.69 142.792 Q2942.88 143.003 2942.88 143.213 Q2942.88 143.424 2942.41 144.033 Q2941.96 144.642 2941 145.462 Q2940.04 146.282 2938.8 147.055 Q2937.56 147.828 2935.73 148.343 Q2933.91 148.882 2931.99 148.882 Q2928.4 148.882 2926.3 146.516 Q2924.21 144.15 2924.21 140.754 Q2924.21 137.452 2926.06 134.289 Q2927.91 131.104 2930.91 129.137 Q2933.91 127.146 2937.07 127.146 Q2939.58 127.146 2941.14 128.317 Q2942.71 129.488 2942.71 131.268 Q2942.71 132.65 2941.92 133.493 Q2941.12 134.336 2940.04 134.336 Q2939.29 134.336 2938.78 133.915 Q2938.26 133.47 2938.26 132.65 Q2938.26 131.596 2939.13 130.776 Q2939.46 130.448 2939.83 130.308 Q2940.23 130.144 2940.47 130.144 Q2940.7 130.12 2941.24 130.12 Q2940.75 129.207 2939.58 128.715 Q2938.43 128.2 2937.12 128.2 Q2935.17 128.2 2933.32 129.558 Q2931.47 130.893 2930.35 133.001 Q2929.22 135.062 2928.5 137.99 Q2927.77 140.895 2927.77 142.581 Q2927.77 144.9 2928.85 146.352 Q2929.93 147.804 2932.08 147.804 Q2932.5 147.804 2932.95 147.781 Q2933.42 147.757 2934.59 147.5 Q2935.78 147.242 2936.84 146.797 Q2937.89 146.352 2939.22 145.392 Q2940.58 144.408 2941.66 143.073 Q2942.03 142.581 2942.29 142.581 Q2942.5 142.581 2942.69 142.792 Z\" fill=\"#000000\" fill-rule=\"nonzero\" fill-opacity=\"1\" /><path clip-path=\"url(#clip930)\" d=\"M2960.17 153.249 Q2960.17 155.61 2958.98 157.922 Q2957.8 160.218 2955.89 161.66 Q2954.01 163.103 2952.07 163.103 Q2950.19 163.103 2948.99 161.66 Q2947.81 160.201 2947.81 157.824 Q2947.81 156.988 2947.91 156.397 Q2948.01 155.807 2948.35 154.43 L2951.11 143.478 Q2951.58 141.428 2951.58 141.412 Q2951.58 141.215 2951.5 141.117 Q2951.43 141.002 2951.04 140.92 Q2950.65 140.838 2949.89 140.838 Q2949.58 140.838 2949.43 140.821 Q2949.3 140.805 2949.19 140.723 Q2949.09 140.625 2949.09 140.428 Q2949.09 140.149 2949.2 140.002 Q2949.34 139.838 2949.43 139.805 Q2949.53 139.772 2949.73 139.756 Q2950.01 139.739 2950.94 139.657 Q2951.88 139.559 2952.68 139.493 Q2953.48 139.428 2953.83 139.428 Q2954.02 139.428 2954.12 139.526 Q2954.24 139.608 2954.24 139.707 L2954.25 139.789 L2951.78 149.905 Q2953.73 147.888 2955.71 147.888 Q2957.7 147.888 2958.93 149.413 Q2960.17 150.938 2960.17 153.249 M2957.75 151.774 Q2957.75 150.216 2957.16 149.429 Q2956.58 148.626 2955.63 148.626 Q2954.83 148.626 2953.78 149.232 Q2952.73 149.839 2951.61 151.315 Q2951.4 151.593 2951.32 151.757 Q2951.25 151.921 2951.11 152.479 L2950.37 155.578 Q2949.83 157.693 2949.83 158.972 Q2949.83 160.709 2950.47 161.529 Q2951.11 162.349 2952.07 162.349 Q2953.09 162.349 2954.16 161.447 Q2955.22 160.546 2956.04 158.906 Q2956.55 157.824 2957.14 155.496 Q2957.75 153.151 2957.75 151.774 Z\" fill=\"#000000\" fill-rule=\"nonzero\" fill-opacity=\"1\" /></svg>\n"
      ]
     },
     "execution_count": 21,
     "metadata": {},
     "output_type": "execute_result"
    }
   ],
   "source": [
    "using Plots, LaTeXStrings\n",
    "plot(histogram(df.c_k[.!df.is_B], label=L\"Pred. $c_a$\", bins=30), histogram(df.c_k[df.is_B], label=L\"Pred. $c_b$\", bins=30))"
   ]
  },
  {
   "cell_type": "code",
   "execution_count": 14,
   "id": "4d6708f7",
   "metadata": {},
   "outputs": [
    {
     "name": "stdout",
     "output_type": "stream",
     "text": [
      "The mean Lerner index of firm A is 0.2974 and for firm B is 0.302\n"
     ]
    }
   ],
   "source": [
    "df.lerner_k = (df.p_k - df.c_k) ./ df.p_k;\n",
    "# Firm A\n",
    "mean_lerner_a = sum(df.lerner_k[.!df.is_B])./(N/2);\n",
    "# Firm B\n",
    "mean_lerner_b = sum(df.lerner_k[df.is_B])./(N/2);\n",
    "println(\"The mean Lerner index of firm A is $(round(mean_lerner_a, digits=4)) and for firm B is $(round(mean_lerner_b, digits=4))\")"
   ]
  }
 ],
 "metadata": {
  "kernelspec": {
   "display_name": "Julia 1.9.4",
   "language": "julia",
   "name": "julia-1.9"
  }
 },
 "nbformat": 4,
 "nbformat_minor": 5
}