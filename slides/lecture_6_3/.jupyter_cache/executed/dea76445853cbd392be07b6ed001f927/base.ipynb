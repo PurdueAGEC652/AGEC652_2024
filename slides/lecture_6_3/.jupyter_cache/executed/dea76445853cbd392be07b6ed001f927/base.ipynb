{
 "cells": [
  {
   "cell_type": "code",
   "execution_count": 1,
   "id": "428b4642",
   "metadata": {},
   "outputs": [],
   "source": [
    "import IJulia\n",
    "\n",
    "# The julia kernel has built in support for Revise.jl, so this is the \n",
    "# recommended approach for long-running sessions:\n",
    "# https://github.com/JuliaLang/IJulia.jl/blob/9b10fa9b879574bbf720f5285029e07758e50a5e/src/kernel.jl#L46-L51\n",
    "\n",
    "# Users should enable revise within .julia/config/startup_ijulia.jl:\n",
    "# https://timholy.github.io/Revise.jl/stable/config/#Using-Revise-automatically-within-Jupyter/IJulia-1\n",
    "\n",
    "# clear console history\n",
    "IJulia.clear_history()\n",
    "\n",
    "fig_width = 7\n",
    "fig_height = 5\n",
    "fig_format = :retina\n",
    "fig_dpi = 96\n",
    "\n",
    "# no retina format type, use svg for high quality type/marks\n",
    "if fig_format == :retina\n",
    "  fig_format = :svg\n",
    "elseif fig_format == :pdf\n",
    "  fig_dpi = 96\n",
    "  # Enable PDF support for IJulia\n",
    "  IJulia.register_mime(MIME(\"application/pdf\"))\n",
    "end\n",
    "\n",
    "# convert inches to pixels\n",
    "fig_width = fig_width * fig_dpi\n",
    "fig_height = fig_height * fig_dpi\n",
    "\n",
    "# Intialize Plots w/ default fig width/height\n",
    "try\n",
    "  import Plots\n",
    "\n",
    "  # Plots.jl doesn't support PDF output for versions < 1.28.1\n",
    "  # so use png (if the DPI remains the default of 300 then set to 96)\n",
    "  if (Plots._current_plots_version < v\"1.28.1\") & (fig_format == :pdf)\n",
    "    Plots.gr(size=(fig_width, fig_height), fmt = :png, dpi = fig_dpi)\n",
    "  else\n",
    "    Plots.gr(size=(fig_width, fig_height), fmt = fig_format, dpi = fig_dpi)\n",
    "  end\n",
    "catch e\n",
    "  # @warn \"Plots init\" exception=(e, catch_backtrace())\n",
    "end\n",
    "\n",
    "# Initialize CairoMakie with default fig width/height\n",
    "try\n",
    "  import CairoMakie\n",
    "  \n",
    "  CairoMakie.activate!(type = string(fig_format))\n",
    "  CairoMakie.update_theme!(resolution=(fig_width, fig_height))\n",
    "catch e\n",
    "    # @warn \"CairoMakie init\" exception=(e, catch_backtrace())\n",
    "end\n",
    "  \n",
    "# Set run_path if specified\n",
    "try\n",
    "  run_path = raw\"/home/diego/local_repos/AGEC652_2024/slides/lecture_6_3\"\n",
    "  if !isempty(run_path)\n",
    "    cd(run_path)\n",
    "  end\n",
    "catch e\n",
    "  @warn \"Run path init:\" exception=(e, catch_backtrace())\n",
    "end\n",
    "\n",
    "\n",
    "# emulate old Pkg.installed beahvior, see\n",
    "# https://discourse.julialang.org/t/how-to-use-pkg-dependencies-instead-of-pkg-installed/36416/9\n",
    "import Pkg\n",
    "function isinstalled(pkg::String)\n",
    "  any(x -> x.name == pkg && x.is_direct_dep, values(Pkg.dependencies()))\n",
    "end\n",
    "\n",
    "# ojs_define\n",
    "if isinstalled(\"JSON\") && isinstalled(\"DataFrames\")\n",
    "  import JSON, DataFrames\n",
    "  global function ojs_define(; kwargs...)\n",
    "    convert(x) = x\n",
    "    convert(x::DataFrames.AbstractDataFrame) = Tables.rows(x)\n",
    "    content = Dict(\"contents\" => [Dict(\"name\" => k, \"value\" => convert(v)) for (k, v) in kwargs])\n",
    "    tag = \"<script type='ojs-define'>$(JSON.json(content))</script>\"\n",
    "    IJulia.display(MIME(\"text/html\"), tag)\n",
    "  end\n",
    "elseif isinstalled(\"JSON\")\n",
    "  import JSON\n",
    "  global function ojs_define(; kwargs...)\n",
    "    content = Dict(\"contents\" => [Dict(\"name\" => k, \"value\" => v) for (k, v) in kwargs])\n",
    "    tag = \"<script type='ojs-define'>$(JSON.json(content))</script>\"\n",
    "    IJulia.display(MIME(\"text/html\"), tag)\n",
    "  end\n",
    "else\n",
    "  global function ojs_define(; kwargs...)\n",
    "    @warn \"JSON package not available. Please install the JSON.jl package to use ojs_define.\"\n",
    "  end\n",
    "end\n",
    "\n",
    "\n",
    "# don't return kernel dependencies (b/c Revise should take care of dependencies)\n",
    "nothing\n"
   ]
  },
  {
   "cell_type": "code",
   "execution_count": 2,
   "id": "714937cf",
   "metadata": {},
   "outputs": [
    {
     "name": "stderr",
     "output_type": "stream",
     "text": [
      "\u001b[32m\u001b[1m  Activating\u001b[22m\u001b[39m project at `~/local_repos/AGEC652_2024/slides/lecture_6_3`\n"
     ]
    }
   ],
   "source": [
    "#| include: false\n",
    "using Pkg\n",
    "Pkg.activate(\".\")\n",
    "Pkg.instantiate()\n",
    "# Pkg.add(\"JuMP\")\n",
    "# Pkg.add(\"Ipopt\")\n",
    "# Pkg.add(\"Optim\")\n",
    "# Pkg.add(\"Statistics\")\n",
    "# Pkg.add(\"Plots\")\n",
    "# Pkg.add(\"ForwardDiff\")\n",
    "# Pkg.add(\"LinearAlgebra\")\n",
    "# Pkg.add(\"LaTeXStrings\")\n",
    "# Pkg.add(\"GLM\")\n",
    "# Pkg.add(\"DataFrames\")\n",
    "# Pkg.add(\"Distributions\")"
   ]
  },
  {
   "cell_type": "code",
   "execution_count": 3,
   "id": "3a722e6f",
   "metadata": {},
   "outputs": [],
   "source": [
    "using CSV, DataFrames\n",
    "df = CSV.read(\"transportation_mode_survey.csv\", DataFrame);"
   ]
  },
  {
   "cell_type": "code",
   "execution_count": 4,
   "id": "92c48e1f",
   "metadata": {},
   "outputs": [
    {
     "name": "stdout",
     "output_type": "stream",
     "text": [
      "\u001b[1m8×10 DataFrame\u001b[0m\n",
      "\u001b[1m Row \u001b[0m│\u001b[1m city    \u001b[0m\u001b[1m price_bus \u001b[0m\u001b[1m price_train \u001b[0m\u001b[1m stops_bus \u001b[0m\u001b[1m stops_train \u001b[0m\u001b[1m density \u001b[0m\u001b[1m hhsize \u001b[0m\u001b[1m homeown \u001b[0m\u001b[1m d_ib  \u001b[0m\u001b[1m d_it  \u001b[0m\n",
      "     │\u001b[90m String7 \u001b[0m\u001b[90m Float64   \u001b[0m\u001b[90m Float64     \u001b[0m\u001b[90m Int64     \u001b[0m\u001b[90m Int64       \u001b[0m\u001b[90m Float64 \u001b[0m\u001b[90m Int64  \u001b[0m\u001b[90m Int64   \u001b[0m\u001b[90m Int64 \u001b[0m\u001b[90m Int64 \u001b[0m\n",
      "─────┼─────────────────────────────────────────────────────────────────────────────────────────────────\n",
      "   1 │ nr_1          6.49          0.0         36            0     5.3        2        0      1      0\n",
      "   2 │ nr_2          8.44          0.0         49            0     7.7        2        1      0      0\n",
      "   3 │ nr_3          5.54          0.0         32            0     4.35       3        1      0      0\n",
      "   4 │ nr_4          7.99          0.0         44            0     6.29       4        0      0      0\n",
      "   5 │ nr_5          4.97          0.0         27            0     4.07       2        1      0      0\n",
      "   6 │ nr_6          3.23          0.0         18            0     2.43       3        1      0      0\n",
      "   7 │ nr_7          3.72          0.0         17            0     1.87       3        0      0      0\n",
      "   8 │ nr_8          8.16          0.0         50            0     7.32       3        0      0      0\n"
     ]
    }
   ],
   "source": [
    "println(df[1:8, :])"
   ]
  },
  {
   "cell_type": "code",
   "execution_count": 5,
   "id": "ce71c4f7",
   "metadata": {},
   "outputs": [],
   "source": [
    "df_r = filter(row -> startswith(row[:city], \"r_\"), df);"
   ]
  },
  {
   "cell_type": "code",
   "execution_count": 6,
   "id": "9de0a547",
   "metadata": {},
   "outputs": [],
   "source": [
    "N_r = nrow(df_r);\n",
    "ones_column = ones(N_r);"
   ]
  },
  {
   "cell_type": "code",
   "execution_count": 7,
   "id": "b2245415",
   "metadata": {},
   "outputs": [],
   "source": [
    "X_b = df_r[:, [:price_bus, :stops_bus, :density, :hhsize, :homeown]]\n",
    "X_b = Matrix(X_b) # This converts the DataFrame into a matrix\n",
    "X_b = hcat(ones_column, X_b); # This concatenates the vector of 1s and X_b horizontally"
   ]
  },
  {
   "cell_type": "code",
   "execution_count": 8,
   "id": "86a58fd5",
   "metadata": {},
   "outputs": [
    {
     "data": {
      "text/plain": [
       "5×6 Matrix{Float64}:\n",
       " 1.0  6.49  36.0  5.3   3.0  1.0\n",
       " 1.0  8.44  49.0  7.7   2.0  1.0\n",
       " 1.0  5.54  32.0  4.35  3.0  1.0\n",
       " 1.0  7.99  44.0  6.29  3.0  0.0\n",
       " 1.0  4.97  27.0  4.07  3.0  0.0"
      ]
     },
     "execution_count": 61,
     "metadata": {},
     "output_type": "execute_result"
    }
   ],
   "source": [
    "X_b[1:5, :]"
   ]
  },
  {
   "cell_type": "code",
   "execution_count": 9,
   "id": "71df5b91",
   "metadata": {},
   "outputs": [],
   "source": [
    "X_t = df_r[:, [:price_train, :stops_train, :density, :hhsize, :homeown]]\n",
    "X_t = Matrix(X_t)\n",
    "X_t = hcat(ones_column, X_t);"
   ]
  },
  {
   "cell_type": "code",
   "execution_count": 10,
   "id": "0913dd88",
   "metadata": {},
   "outputs": [],
   "source": [
    "d_b = Matrix(df_r[:, [:d_ib]]);\n",
    "d_t = Matrix(df_r[:, [:d_it]]);"
   ]
  },
  {
   "cell_type": "code",
   "execution_count": 11,
   "id": "9cd78440",
   "metadata": {},
   "outputs": [
    {
     "data": {
      "text/plain": [
       "neg_log_likelihood (generic function with 1 method)"
      ]
     },
     "execution_count": 64,
     "metadata": {},
     "output_type": "execute_result"
    }
   ],
   "source": [
    "function neg_log_likelihood(β; X_b = X_b, X_t = X_t, d_b = d_b, d_t = d_t)\n",
    "    # Unpack separate vector of parameters\n",
    "    β_b = β[1:6]\n",
    "    β_t = β[7:12]\n",
    "    # Calculate V_ik = X_ik * β_k\n",
    "    V_ib = X_b * β_b # Note that his is a matrix multiplication\n",
    "    V_it = X_t * β_t # And this one, too\n",
    "    # Calculate the denominator of the probabilities (the 2nd term in l)\n",
    "    log_denom = log.(1.0 .+ exp.(V_ib) .+ exp.(V_it))\n",
    "    # Calculate the whole l\n",
    "    neg_l = -sum(d_b .* V_ib .+ d_t .* V_it .- log_denom)\n",
    "    return neg_l\n",
    "end "
   ]
  },
  {
   "cell_type": "code",
   "execution_count": 12,
   "id": "669d5e16",
   "metadata": {},
   "outputs": [
    {
     "data": {
      "text/plain": [
       "-32662.007134423682"
      ]
     },
     "execution_count": 65,
     "metadata": {},
     "output_type": "execute_result"
    }
   ],
   "source": [
    "true_β_b = [-1.0, -0.8,  0.1,  0.3, -0.2, -0.3];\n",
    "true_β_t = [-0.6, -0.8,  0.2,  0.6, -0.1, -0.2];\n",
    "true_β = vcat(true_β_b, true_β_t);\n",
    "-neg_log_likelihood(true_β)"
   ]
  },
  {
   "cell_type": "code",
   "execution_count": 13,
   "id": "c50f2fb3",
   "metadata": {},
   "outputs": [
    {
     "data": {
      "text/plain": [
       "-65916.73732008654"
      ]
     },
     "execution_count": 66,
     "metadata": {},
     "output_type": "execute_result"
    }
   ],
   "source": [
    "-neg_log_likelihood(zeros(12))"
   ]
  },
  {
   "cell_type": "code",
   "execution_count": 14,
   "id": "11e27dc9",
   "metadata": {},
   "outputs": [
    {
     "data": {
      "text/plain": [
       " * Status: success\n",
       "\n",
       " * Candidate solution\n",
       "    Final objective value:     3.212633e+04\n",
       "\n",
       " * Found with\n",
       "    Algorithm:     BFGS\n",
       "\n",
       " * Convergence measures\n",
       "    |x - x'|               = 9.99e-10 ≰ 0.0e+00\n",
       "    |x - x'|/|x'|          = 7.97e-10 ≰ 0.0e+00\n",
       "    |f(x) - f(x')|         = 0.00e+00 ≤ 0.0e+00\n",
       "    |f(x) - f(x')|/|f(x')| = 0.00e+00 ≤ 0.0e+00\n",
       "    |g(x)|                 = 9.91e-06 ≰ 1.0e-08\n",
       "\n",
       " * Work counters\n",
       "    Seconds run:   6  (vs limit Inf)\n",
       "    Iterations:    24\n",
       "    f(x) calls:    115\n",
       "    ∇f(x) calls:   115\n"
      ]
     },
     "execution_count": 67,
     "metadata": {},
     "output_type": "execute_result"
    }
   ],
   "source": [
    "using Optim\n",
    "# Let's give it a vector of zeros for the initial guess\n",
    "res = optimize(neg_log_likelihood, zeros(12), BFGS())"
   ]
  },
  {
   "cell_type": "code",
   "execution_count": 15,
   "id": "d53c3a08",
   "metadata": {},
   "outputs": [
    {
     "data": {
      "text/plain": [
       "32126.33295639354"
      ]
     },
     "execution_count": 68,
     "metadata": {},
     "output_type": "execute_result"
    }
   ],
   "source": [
    "res.minimum"
   ]
  },
  {
   "cell_type": "code",
   "execution_count": 16,
   "id": "449359fe",
   "metadata": {},
   "outputs": [
    {
     "data": {
      "text/plain": [
       "32126.33295639354"
      ]
     },
     "execution_count": 69,
     "metadata": {},
     "output_type": "execute_result"
    }
   ],
   "source": [
    "res_1 = optimize(neg_log_likelihood, ones(12), BFGS());\n",
    "res_1.minimum"
   ]
  },
  {
   "cell_type": "code",
   "execution_count": 17,
   "id": "47e115b3",
   "metadata": {},
   "outputs": [
    {
     "data": {
      "text/plain": [
       "32126.332956393537"
      ]
     },
     "execution_count": 70,
     "metadata": {},
     "output_type": "execute_result"
    }
   ],
   "source": [
    "res_2 = optimize(neg_log_likelihood, 2*ones(12), BFGS());\n",
    "res_2.minimum"
   ]
  },
  {
   "cell_type": "code",
   "execution_count": 18,
   "id": "0acff9fd",
   "metadata": {},
   "outputs": [
    {
     "data": {
      "text/plain": [
       "1×12 adjoint(::Vector{Float64}) with eltype Float64:\n",
       " -1.25302  -0.981234  0.109963  0.486675  …  0.744581  -0.13079  -0.215491"
      ]
     },
     "execution_count": 71,
     "metadata": {},
     "output_type": "execute_result"
    }
   ],
   "source": [
    "β_MLE = res.minimizer;\n",
    "β_MLE'"
   ]
  },
  {
   "cell_type": "code",
   "execution_count": 19,
   "id": "84c901d9",
   "metadata": {},
   "outputs": [
    {
     "data": {
      "text/plain": [
       "-0.9812342431109393"
      ]
     },
     "execution_count": 72,
     "metadata": {},
     "output_type": "execute_result"
    }
   ],
   "source": [
    "β_MLE[2]"
   ]
  },
  {
   "cell_type": "code",
   "execution_count": 20,
   "id": "0184393e",
   "metadata": {},
   "outputs": [
    {
     "data": {
      "text/plain": [
       "-0.9591216015843176"
      ]
     },
     "execution_count": 73,
     "metadata": {},
     "output_type": "execute_result"
    }
   ],
   "source": [
    "β_MLE[8]"
   ]
  },
  {
   "cell_type": "code",
   "execution_count": 21,
   "id": "0df475cd",
   "metadata": {},
   "outputs": [
    {
     "data": {
      "text/plain": [
       "restr_neg_log_likelihood (generic function with 1 method)"
      ]
     },
     "execution_count": 74,
     "metadata": {},
     "output_type": "execute_result"
    }
   ],
   "source": [
    "function restr_neg_log_likelihood(β; X_b = X_b, X_t = X_t, d_b = d_b, d_t = d_t)\n",
    "    # We just take element 2 in β and insert it again between elements 7 and 8\n",
    "    β_b = β[1:6] # The usual\n",
    "    β_t = vcat(β[7], β[2], β[8:11]) # Repeat the price coefficient\n",
    "    # Stack it again\n",
    "    β_restricted = vcat(β_b, β_t) \n",
    "    # The rest is like the previous one, so we can just call our other function!\n",
    "    neg_l = neg_log_likelihood(β_restricted; X_b = X_b, X_t = X_t, d_b = d_b, d_t = d_t)\n",
    "    return neg_l\n",
    "end "
   ]
  },
  {
   "cell_type": "code",
   "execution_count": 22,
   "id": "d8469805",
   "metadata": {},
   "outputs": [
    {
     "data": {
      "text/plain": [
       " * Status: success\n",
       "\n",
       " * Candidate solution\n",
       "    Final objective value:     3.212641e+04\n",
       "\n",
       " * Found with\n",
       "    Algorithm:     BFGS\n",
       "\n",
       " * Convergence measures\n",
       "    |x - x'|               = 0.00e+00 ≤ 0.0e+00\n",
       "    |x - x'|/|x'|          = 0.00e+00 ≤ 0.0e+00\n",
       "    |f(x) - f(x')|         = 0.00e+00 ≤ 0.0e+00\n",
       "    |f(x) - f(x')|/|f(x')| = 0.00e+00 ≤ 0.0e+00\n",
       "    |g(x)|                 = 1.20e-06 ≰ 1.0e-08\n",
       "\n",
       " * Work counters\n",
       "    Seconds run:   7  (vs limit Inf)\n",
       "    Iterations:    35\n",
       "    f(x) calls:    136\n",
       "    ∇f(x) calls:   136\n"
      ]
     },
     "execution_count": 75,
     "metadata": {},
     "output_type": "execute_result"
    }
   ],
   "source": [
    "res_restr = optimize(restr_neg_log_likelihood, zeros(11), BFGS())"
   ]
  },
  {
   "cell_type": "code",
   "execution_count": 23,
   "id": "3692f7ce",
   "metadata": {},
   "outputs": [
    {
     "data": {
      "text/plain": [
       "1×11 adjoint(::Vector{Float64}) with eltype Float64:\n",
       " -1.26834  -0.962045  0.10644  0.49067  …  0.744867  -0.130826  -0.215556"
      ]
     },
     "execution_count": 76,
     "metadata": {},
     "output_type": "execute_result"
    }
   ],
   "source": [
    "β_MLE_restr = res_restr.minimizer;\n",
    "β_MLE_restr'"
   ]
  },
  {
   "cell_type": "code",
   "execution_count": 24,
   "id": "c461699d",
   "metadata": {},
   "outputs": [],
   "source": [
    "l_U = -res.minimum;\n",
    "l_R = -res_restr.minimum;"
   ]
  },
  {
   "cell_type": "code",
   "execution_count": 25,
   "id": "9fa28a13",
   "metadata": {},
   "outputs": [
    {
     "data": {
      "text/plain": [
       "0.15121039505902445"
      ]
     },
     "execution_count": 78,
     "metadata": {},
     "output_type": "execute_result"
    }
   ],
   "source": [
    "LR_stat = 2 * (l_U - l_R)"
   ]
  },
  {
   "cell_type": "code",
   "execution_count": 26,
   "id": "cca709f4",
   "metadata": {},
   "outputs": [
    {
     "name": "stdout",
     "output_type": "stream",
     "text": [
      "Critical value: 3.8414588206941245 . Test statistic: 0.15121039505902445\n"
     ]
    }
   ],
   "source": [
    "using Distributions\n",
    "crit_value = quantile(Chisq(1), 0.95);\n",
    "println(\"Critical value: $crit_value . Test statistic: $LR_stat\")"
   ]
  },
  {
   "cell_type": "code",
   "execution_count": 27,
   "id": "be5501cf",
   "metadata": {},
   "outputs": [],
   "source": [
    "β_b_hat = β_MLE_restr[1:6]; # The usual\n",
    "β_t_hat = vcat(β_MLE_restr[7], β_MLE_restr[2], β_MLE_restr[8:11]); # Repeat the price coefficient\n",
    "β_hat = vcat(β_b_hat, β_t_hat);"
   ]
  },
  {
   "cell_type": "code",
   "execution_count": 28,
   "id": "2183179a",
   "metadata": {},
   "outputs": [
    {
     "data": {
      "text/plain": [
       "1×12 adjoint(::Vector{Float64}) with eltype Float64:\n",
       " -1.0  -0.8  0.1  0.3  -0.2  -0.3  -0.6  -0.8  0.2  0.6  -0.1  -0.2"
      ]
     },
     "execution_count": 81,
     "metadata": {},
     "output_type": "execute_result"
    }
   ],
   "source": [
    "true_β'"
   ]
  },
  {
   "cell_type": "code",
   "execution_count": 29,
   "id": "81653425",
   "metadata": {},
   "outputs": [
    {
     "data": {
      "text/plain": [
       "1×12 adjoint(::Vector{Float64}) with eltype Float64:\n",
       " -1.26834  -0.962045  0.10644  0.49067  …  0.744867  -0.130826  -0.215556"
      ]
     },
     "execution_count": 82,
     "metadata": {},
     "output_type": "execute_result"
    }
   ],
   "source": [
    "β_hat'"
   ]
  },
  {
   "cell_type": "code",
   "execution_count": 30,
   "id": "ffaf79b7",
   "metadata": {},
   "outputs": [
    {
     "data": {
      "text/plain": [
       "1×12 Matrix{Float64}:\n",
       " -1.25  -1.0  0.125  0.375  -0.25  -0.375  …  -1.0  0.25  0.75  -0.125  -0.25"
      ]
     },
     "execution_count": 83,
     "metadata": {},
     "output_type": "execute_result"
    }
   ],
   "source": [
    "true_β'./0.8"
   ]
  },
  {
   "cell_type": "code",
   "execution_count": 31,
   "id": "d86cf878",
   "metadata": {},
   "outputs": [
    {
     "data": {
      "text/plain": [
       "1×12 adjoint(::Vector{Float64}) with eltype Float64:\n",
       " -1.26834  -0.962045  0.10644  0.49067  …  0.744867  -0.130826  -0.215556"
      ]
     },
     "execution_count": 84,
     "metadata": {},
     "output_type": "execute_result"
    }
   ],
   "source": [
    "β_hat'"
   ]
  },
  {
   "cell_type": "code",
   "execution_count": 32,
   "id": "00b0ec61",
   "metadata": {},
   "outputs": [],
   "source": [
    "using ForwardDiff, LinearAlgebra\n",
    "Im = -ForwardDiff.hessian(restr_neg_log_likelihood, β_MLE_restr) # Flip the signs\n",
    "V = inv(Im);\n",
    "SEs = sqrt.(diag(-V));"
   ]
  },
  {
   "cell_type": "code",
   "execution_count": 33,
   "id": "f484d512",
   "metadata": {},
   "outputs": [
    {
     "name": "stdout",
     "output_type": "stream",
     "text": [
      "\u001b[1m11×5 DataFrame\u001b[0m\n",
      "\u001b[1m Row \u001b[0m│\u001b[1m Coefficient \u001b[0m\u001b[1m Estimate  \u001b[0m\u001b[1m StdError   \u001b[0m\u001b[1m CI_lower   \u001b[0m\u001b[1m CI_upper  \u001b[0m\n",
      "     │\u001b[90m String      \u001b[0m\u001b[90m Float64   \u001b[0m\u001b[90m Float64    \u001b[0m\u001b[90m Float64    \u001b[0m\u001b[90m Float64   \u001b[0m\n",
      "─────┼───────────────────────────────────────────────────────────\n",
      "   1 │ β_b0         -1.26834   0.0649339   -1.3956     -1.14107\n",
      "   2 │ β_b1=β_t1    -0.962045  0.01838     -0.998069   -0.926021\n",
      "   3 │ β_b2          0.10644   0.00857776   0.0896282   0.123252\n",
      "   4 │ β_b3          0.49067   0.0473282    0.397908    0.583432\n",
      "   5 │ β_b4         -0.256119  0.012644    -0.280901   -0.231337\n",
      "   6 │ β_b5         -0.385548  0.0284063   -0.441223   -0.329873\n",
      "   7 │ β_t0         -0.741272  0.0818007   -0.901598   -0.580946\n",
      "   8 │ β_t2          0.236894  0.00857381   0.22009     0.253698\n",
      "   9 │ β_t3          0.744867  0.0096659    0.725923    0.763812\n",
      "  10 │ β_t4         -0.130826  0.0125632   -0.15545    -0.106203\n",
      "  11 │ β_t5         -0.215556  0.0301444   -0.274638   -0.156474\n"
     ]
    }
   ],
   "source": [
    "res_df = DataFrame(\n",
    "  Coefficient = [\"β_b0\", \"β_b1=β_t1\", \"β_b2\", \"β_b3\", \"β_b4\", \"β_b5\", \"β_t0\", \"β_t2\", \"β_t3\", \"β_t4\", \"β_t5\"],\n",
    "  Estimate = β_MLE_restr,\n",
    "  StdError = SEs,\n",
    "  CI_lower = β_MLE_restr .+ quantile(Normal(), 0.025) .* SEs,\n",
    "  CI_upper = β_MLE_restr .+ quantile(Normal(), 0.975) .* SEs\n",
    ")\n",
    "println(res_df)"
   ]
  },
  {
   "cell_type": "code",
   "execution_count": 34,
   "id": "0ee313dc",
   "metadata": {},
   "outputs": [],
   "source": [
    "# Predictions\n",
    "V_b_hat = X_b * β_hat[1:6];\n",
    "V_t_hat = X_t * β_hat[7:12];\n",
    "# The denominator is the same for all options\n",
    "denom_r = 1.0 .+ exp.(V_b_hat) .+ exp.(V_t_hat);"
   ]
  },
  {
   "cell_type": "code",
   "execution_count": 35,
   "id": "d655add6",
   "metadata": {},
   "outputs": [],
   "source": [
    "prob_b_r = exp.(V_b_hat) ./ denom_r;\n",
    "prob_t_r = exp.(V_t_hat) ./ denom_r;\n",
    "prob_c_r = 1.0 .- prob_b_r .- prob_t_r;"
   ]
  },
  {
   "cell_type": "code",
   "execution_count": 36,
   "id": "bf98435d",
   "metadata": {},
   "outputs": [
    {
     "data": {
      "text/plain": [
       "0.09985000000032383"
      ]
     },
     "execution_count": 89,
     "metadata": {},
     "output_type": "execute_result"
    }
   ],
   "source": [
    "using Statistics\n",
    "mean_prob_b_r = mean(prob_b_r)"
   ]
  },
  {
   "cell_type": "code",
   "execution_count": 37,
   "id": "377bd736",
   "metadata": {},
   "outputs": [
    {
     "data": {
      "text/plain": [
       "0.09985"
      ]
     },
     "execution_count": 90,
     "metadata": {},
     "output_type": "execute_result"
    }
   ],
   "source": [
    "sum(d_b)/N_r"
   ]
  },
  {
   "cell_type": "code",
   "execution_count": 38,
   "id": "8718eb13",
   "metadata": {},
   "outputs": [
    {
     "data": {
      "text/plain": [
       "0.13886666666597253"
      ]
     },
     "execution_count": 91,
     "metadata": {},
     "output_type": "execute_result"
    }
   ],
   "source": [
    "mean_prob_t_r = mean(prob_t_r)"
   ]
  },
  {
   "cell_type": "code",
   "execution_count": 39,
   "id": "9f0bb0a1",
   "metadata": {},
   "outputs": [
    {
     "data": {
      "text/plain": [
       "0.13886666666666667"
      ]
     },
     "execution_count": 92,
     "metadata": {},
     "output_type": "execute_result"
    }
   ],
   "source": [
    "sum(d_t)/N_r"
   ]
  },
  {
   "cell_type": "code",
   "execution_count": 40,
   "id": "226be610",
   "metadata": {},
   "outputs": [],
   "source": [
    "# Filter for nr cities\n",
    "df_nr = filter(row -> startswith(row[:city], \"nr_\"), df);\n",
    "N_nr = nrow(df_nr);"
   ]
  },
  {
   "cell_type": "code",
   "execution_count": 41,
   "id": "7b8dd715",
   "metadata": {},
   "outputs": [],
   "source": [
    "# Here we are combining a few steps at once\n",
    "X_b_nr = Matrix(df_nr[:, [:price_bus, :stops_bus, :density, :hhsize, :homeown]]);\n",
    "X_b_nr = hcat(ones(nrow(df_nr)), X_b_nr);"
   ]
  },
  {
   "cell_type": "code",
   "execution_count": 42,
   "id": "3d224d88",
   "metadata": {},
   "outputs": [],
   "source": [
    "X_t_nr = df_nr[:, [:price_bus, :stops_train, :density, :hhsize, :homeown]];\n",
    "X_t_nr.price_bus = 1.1 .* X_t_nr.price_bus; # 5% more expensive\n",
    "X_t_nr.stops_train = 10 .* ones(N_nr); # 10 stops\n",
    "X_t_nr = Matrix(X_t_nr);\n",
    "X_t_nr = hcat(ones(N_nr), X_t_nr);"
   ]
  },
  {
   "cell_type": "code",
   "execution_count": 43,
   "id": "47c06a4b",
   "metadata": {},
   "outputs": [],
   "source": [
    "# Predictions\n",
    "V_b_hat_nr = X_b_nr * β_hat[1:6];\n",
    "V_t_hat_nr = X_t_nr * β_hat[7:12];\n",
    "# The denominator is the same for all options\n",
    "denom_nr = 1.0 .+ exp.(V_b_hat_nr) .+ exp.(V_t_hat_nr);"
   ]
  },
  {
   "cell_type": "code",
   "execution_count": 44,
   "id": "a48ab65a",
   "metadata": {},
   "outputs": [],
   "source": [
    "prob_b_nr = exp.(V_b_hat_nr) ./ denom_nr;\n",
    "prob_t_nr = exp.(V_t_hat_nr) ./ denom_nr;\n",
    "prob_c_nr = 1.0 .- prob_b_nr .- prob_t_nr;"
   ]
  },
  {
   "cell_type": "code",
   "execution_count": 45,
   "id": "61c69bf0",
   "metadata": {},
   "outputs": [
    {
     "data": {
      "text/plain": [
       "0.09041621616633082"
      ]
     },
     "execution_count": 98,
     "metadata": {},
     "output_type": "execute_result"
    }
   ],
   "source": [
    "mean_prob_b_nr = mean(prob_b_nr)"
   ]
  },
  {
   "cell_type": "code",
   "execution_count": 46,
   "id": "d182db3e",
   "metadata": {},
   "outputs": [
    {
     "data": {
      "text/plain": [
       "0.14923985762722458"
      ]
     },
     "execution_count": 99,
     "metadata": {},
     "output_type": "execute_result"
    }
   ],
   "source": [
    "mean_prob_t_nr = mean(prob_t_nr)"
   ]
  },
  {
   "cell_type": "code",
   "execution_count": 47,
   "id": "ac4378cd",
   "metadata": {},
   "outputs": [
    {
     "data": {
      "text/plain": [
       "0.7603439262064445"
      ]
     },
     "execution_count": 100,
     "metadata": {},
     "output_type": "execute_result"
    }
   ],
   "source": [
    "mean_prob_c_nr = mean(prob_c_nr)"
   ]
  },
  {
   "cell_type": "code",
   "execution_count": 48,
   "id": "a5180953",
   "metadata": {},
   "outputs": [
    {
     "name": "stdout",
     "output_type": "stream",
     "text": [
      "AME of train stops on prob. of train: 0.028873530257323067.\n",
      " And on prob. of bus: -0.002914283110489992\n"
     ]
    }
   ],
   "source": [
    "mg_effect_t_trainstops = prob_t_nr .* (1.0 .- prob_t_nr) .* β_t_hat[3]; # Index 3 because we start from zero\n",
    "mg_effect_b_trainstops = -prob_b_nr .* prob_t_nr .* β_t_hat[3];\n",
    "println(\"AME of train stops on prob. of train: $(mean(mg_effect_t_trainstops)).\\n And on prob. of bus: $(mean(mg_effect_b_trainstops))\")"
   ]
  },
  {
   "cell_type": "code",
   "execution_count": 49,
   "id": "e236dc22",
   "metadata": {},
   "outputs": [
    {
     "name": "stdout",
     "output_type": "stream",
     "text": [
      "AME of train prices on prob. of train: -0.1172576271964368.\n",
      " And on prob. of bus: 0.011835127865185044\n"
     ]
    }
   ],
   "source": [
    "mg_effect_t_trainprice = prob_t_nr .* (1.0 .- prob_t_nr) .* β_t_hat[2]; # Index 2 because we start from zero\n",
    "mg_effect_b_trainprice = -prob_b_nr .* prob_t_nr .* β_t_hat[2];\n",
    "println(\"AME of train prices on prob. of train: $(mean(mg_effect_t_trainprice)).\\n And on prob. of bus: $(mean(mg_effect_b_trainprice))\")"
   ]
  },
  {
   "cell_type": "code",
   "execution_count": 50,
   "id": "66149438",
   "metadata": {},
   "outputs": [
    {
     "name": "stdout",
     "output_type": "stream",
     "text": [
      "The mean elasticity of train demand w.r.t. train prices is: -5.224014778997108.\n",
      " And for bus demand w.r.t. train prices is: 0.7967204616977237\n"
     ]
    }
   ],
   "source": [
    "trainprices = X_t_nr[:,2] # Second column in X_t \n",
    "elast_t_trainprice =  (1.0 .- prob_t_nr) .* β_t_hat[2] .* trainprices; # Since we divide by q, own probability drops out\n",
    "elast_b_trainprice = -prob_t_nr .* β_t_hat[2] .* trainprices;\n",
    "println(\"The mean elasticity of train demand w.r.t. train prices is: $(mean(elast_t_trainprice)).\\n And for bus demand w.r.t. train prices is: $(mean(elast_b_trainprice))\")"
   ]
  },
  {
   "cell_type": "code",
   "execution_count": 51,
   "id": "fd86b862",
   "metadata": {},
   "outputs": [
    {
     "name": "stdout",
     "output_type": "stream",
     "text": [
      "The mean WTP for an additional trainstop is 24.62 dollars/year per person.\n"
     ]
    }
   ],
   "source": [
    "α = -β_t_hat[2]\n",
    "WTP_trainstop = β_t_hat[3]/α;\n",
    "println(\"The mean WTP for an additional trainstop is $(round(WTP_trainstop*100, digits=2)) dollars/year per person.\")"
   ]
  },
  {
   "cell_type": "code",
   "execution_count": 52,
   "id": "dd6aafba",
   "metadata": {},
   "outputs": [
    {
     "name": "stdout",
     "output_type": "stream",
     "text": [
      "The mean change in individual surplus from adding the train system is 17.19 dollars/year per person.\n"
     ]
    }
   ],
   "source": [
    "denom_nr_withtrain = 1.0 .+ exp.(V_b_hat_nr) .+ exp.(V_t_hat_nr);\n",
    "denom_nr_notrain = 1.0 .+ exp.(V_b_hat_nr)\n",
    "\n",
    "ΔCS = 1/α * mean(log.(denom_nr_withtrain) - log.(denom_nr_notrain));\n",
    "println(\"The mean change in individual surplus from adding the train system is $(round(ΔCS*100, digits=2)) dollars/year per person.\")"
   ]
  }
 ],
 "metadata": {
  "kernelspec": {
   "display_name": "Julia 1.9.4",
   "language": "julia",
   "name": "julia-1.9"
  }
 },
 "nbformat": 4,
 "nbformat_minor": 5
}